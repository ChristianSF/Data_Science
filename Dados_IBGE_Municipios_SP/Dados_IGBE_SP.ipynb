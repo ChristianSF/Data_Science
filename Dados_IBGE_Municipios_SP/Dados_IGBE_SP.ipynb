{
  "nbformat": 4,
  "nbformat_minor": 0,
  "metadata": {
    "colab": {
      "name": "Dados_IGBE_SP",
      "provenance": []
    },
    "kernelspec": {
      "name": "python3",
      "display_name": "Python 3"
    }
  },
  "cells": [
    {
      "cell_type": "code",
      "metadata": {
        "id": "cu_eeNaXSXqz"
      },
      "source": [
        "import pandas as pd\r\n",
        "import matplotlib.pyplot as plt\r\n",
        "import seaborn as sns\r\n",
        "import numpy as np"
      ],
      "execution_count": 71,
      "outputs": []
    },
    {
      "cell_type": "code",
      "metadata": {
        "id": "i864ZADaSx9j"
      },
      "source": [
        "dados = pd.read_csv(\"Dados_IBGE_Municipios_SP.csv\", header=None , encoding=\"utf8\")"
      ],
      "execution_count": 73,
      "outputs": []
    },
    {
      "cell_type": "code",
      "metadata": {
        "colab": {
          "base_uri": "https://localhost:8080/",
          "height": 417
        },
        "id": "Uw_HLba0S8Dh",
        "outputId": "c7d7c1cb-18be-4ac3-a125-45603d084db2"
      },
      "source": [
        "dados.head()"
      ],
      "execution_count": 74,
      "outputs": [
        {
          "output_type": "execute_result",
          "data": {
            "text/html": [
              "<div>\n",
              "<style scoped>\n",
              "    .dataframe tbody tr th:only-of-type {\n",
              "        vertical-align: middle;\n",
              "    }\n",
              "\n",
              "    .dataframe tbody tr th {\n",
              "        vertical-align: top;\n",
              "    }\n",
              "\n",
              "    .dataframe thead th {\n",
              "        text-align: right;\n",
              "    }\n",
              "</style>\n",
              "<table border=\"1\" class=\"dataframe\">\n",
              "  <thead>\n",
              "    <tr style=\"text-align: right;\">\n",
              "      <th></th>\n",
              "      <th>0</th>\n",
              "      <th>1</th>\n",
              "      <th>2</th>\n",
              "      <th>3</th>\n",
              "      <th>4</th>\n",
              "      <th>5</th>\n",
              "      <th>6</th>\n",
              "      <th>7</th>\n",
              "      <th>8</th>\n",
              "      <th>9</th>\n",
              "      <th>10</th>\n",
              "      <th>11</th>\n",
              "      <th>12</th>\n",
              "    </tr>\n",
              "  </thead>\n",
              "  <tbody>\n",
              "    <tr>\n",
              "      <th>0</th>\n",
              "      <td>S&amp;atilde;o Paulo | Todos os Munic&amp;iacute;pios</td>\n",
              "      <td>NaN</td>\n",
              "      <td>NaN</td>\n",
              "      <td>NaN</td>\n",
              "      <td>NaN</td>\n",
              "      <td>NaN</td>\n",
              "      <td>NaN</td>\n",
              "      <td>NaN</td>\n",
              "      <td>NaN</td>\n",
              "      <td>NaN</td>\n",
              "      <td>NaN</td>\n",
              "      <td>NaN</td>\n",
              "      <td>NaN</td>\n",
              "    </tr>\n",
              "    <tr>\n",
              "      <th>1</th>\n",
              "      <td>Munic&amp;iacute;pio [-]</td>\n",
              "      <td>C&amp;oacute;digo [-]</td>\n",
              "      <td>Gent&amp;iacute;lico [-]</td>\n",
              "      <td>Prefeito [2021]</td>\n",
              "      <td>&amp;Aacute;rea Territorial - km&amp;sup2; [2020]</td>\n",
              "      <td>Popula&amp;ccedil;&amp;atilde;o estimada - pessoas [2020]</td>\n",
              "      <td>Densidade demogr&amp;aacute;fica - hab/km&amp;sup2; [2...</td>\n",
              "      <td>Escolariza&amp;ccedil;&amp;atilde;o &amp;lt;span&amp;gt;6 a 14...</td>\n",
              "      <td>IDHM &amp;lt;span&amp;gt;&amp;Iacute;ndice de desenvolvime...</td>\n",
              "      <td>Mortalidade infantil - &amp;oacute;bitos por mil n...</td>\n",
              "      <td>Receitas realizadas - R$ (&amp;times;1000) [2017]</td>\n",
              "      <td>Despesas empenhadas - R$ (&amp;times;1000) [2017]</td>\n",
              "      <td>PIB per capita - R$ [2018]</td>\n",
              "    </tr>\n",
              "    <tr>\n",
              "      <th>2</th>\n",
              "      <td>Adamantina</td>\n",
              "      <td>3500105</td>\n",
              "      <td>adamantinense</td>\n",
              "      <td>MARCIO CARDIM</td>\n",
              "      <td>411.987</td>\n",
              "      <td>35111</td>\n",
              "      <td>82.15</td>\n",
              "      <td>97.6</td>\n",
              "      <td>790</td>\n",
              "      <td>11.63</td>\n",
              "      <td>16.071.867.925</td>\n",
              "      <td>13.708.366.993</td>\n",
              "      <td>30962.66</td>\n",
              "    </tr>\n",
              "    <tr>\n",
              "      <th>3</th>\n",
              "      <td>Adolfo</td>\n",
              "      <td>3500204</td>\n",
              "      <td>adolfino</td>\n",
              "      <td>IZAEL ANTONIO FERNANDES</td>\n",
              "      <td>211.055</td>\n",
              "      <td>3554</td>\n",
              "      <td>16.85</td>\n",
              "      <td>98.6</td>\n",
              "      <td>730</td>\n",
              "      <td>19.23</td>\n",
              "      <td>2.733.374.731</td>\n",
              "      <td>2.010.387.713</td>\n",
              "      <td>25867.75</td>\n",
              "    </tr>\n",
              "    <tr>\n",
              "      <th>4</th>\n",
              "      <td>Agua&amp;iacute;</td>\n",
              "      <td>3500303</td>\n",
              "      <td>aguaiano</td>\n",
              "      <td>JOS&amp;Eacute; ALEXANDRE PEREIRA DE ARA&amp;Uacute;JO</td>\n",
              "      <td>474.554</td>\n",
              "      <td>36648</td>\n",
              "      <td>67.72</td>\n",
              "      <td>95.8</td>\n",
              "      <td>715</td>\n",
              "      <td>16.06</td>\n",
              "      <td>8.409.476.006</td>\n",
              "      <td>7.216.873.408</td>\n",
              "      <td>28041.03</td>\n",
              "    </tr>\n",
              "  </tbody>\n",
              "</table>\n",
              "</div>"
            ],
            "text/plain": [
              "                                              0   ...                          12\n",
              "0  S&atilde;o Paulo | Todos os Munic&iacute;pios  ...                         NaN\n",
              "1                           Munic&iacute;pio [-]  ...  PIB per capita - R$ [2018]\n",
              "2                                     Adamantina  ...                    30962.66\n",
              "3                                         Adolfo  ...                    25867.75\n",
              "4                                   Agua&iacute;  ...                    28041.03\n",
              "\n",
              "[5 rows x 13 columns]"
            ]
          },
          "metadata": {
            "tags": []
          },
          "execution_count": 74
        }
      ]
    },
    {
      "cell_type": "code",
      "metadata": {
        "id": "5TsfUeKnU8cZ"
      },
      "source": [
        "dados = dados.drop(0)"
      ],
      "execution_count": 75,
      "outputs": []
    },
    {
      "cell_type": "code",
      "metadata": {
        "colab": {
          "base_uri": "https://localhost:8080/"
        },
        "id": "7j7nHIjNVca2",
        "outputId": "b8ba962e-5a08-45a2-ccd8-651a2599c15f"
      },
      "source": [
        "dados.columns"
      ],
      "execution_count": 76,
      "outputs": [
        {
          "output_type": "execute_result",
          "data": {
            "text/plain": [
              "Int64Index([0, 1, 2, 3, 4, 5, 6, 7, 8, 9, 10, 11, 12], dtype='int64')"
            ]
          },
          "metadata": {
            "tags": []
          },
          "execution_count": 76
        }
      ]
    },
    {
      "cell_type": "code",
      "metadata": {
        "colab": {
          "base_uri": "https://localhost:8080/"
        },
        "id": "fNL3je7AVdu-",
        "outputId": "f6b6eaa1-6e6e-465f-83a0-9913154f77e8"
      },
      "source": [
        "dados.shape"
      ],
      "execution_count": 77,
      "outputs": [
        {
          "output_type": "execute_result",
          "data": {
            "text/plain": [
              "(646, 13)"
            ]
          },
          "metadata": {
            "tags": []
          },
          "execution_count": 77
        }
      ]
    },
    {
      "cell_type": "code",
      "metadata": {
        "colab": {
          "base_uri": "https://localhost:8080/",
          "height": 434
        },
        "id": "OaVX3ODYXvcs",
        "outputId": "2942ddb7-86ae-4246-d087-7b5c7c1d6430"
      },
      "source": [
        "dados.head()"
      ],
      "execution_count": 78,
      "outputs": [
        {
          "output_type": "execute_result",
          "data": {
            "text/html": [
              "<div>\n",
              "<style scoped>\n",
              "    .dataframe tbody tr th:only-of-type {\n",
              "        vertical-align: middle;\n",
              "    }\n",
              "\n",
              "    .dataframe tbody tr th {\n",
              "        vertical-align: top;\n",
              "    }\n",
              "\n",
              "    .dataframe thead th {\n",
              "        text-align: right;\n",
              "    }\n",
              "</style>\n",
              "<table border=\"1\" class=\"dataframe\">\n",
              "  <thead>\n",
              "    <tr style=\"text-align: right;\">\n",
              "      <th></th>\n",
              "      <th>0</th>\n",
              "      <th>1</th>\n",
              "      <th>2</th>\n",
              "      <th>3</th>\n",
              "      <th>4</th>\n",
              "      <th>5</th>\n",
              "      <th>6</th>\n",
              "      <th>7</th>\n",
              "      <th>8</th>\n",
              "      <th>9</th>\n",
              "      <th>10</th>\n",
              "      <th>11</th>\n",
              "      <th>12</th>\n",
              "    </tr>\n",
              "  </thead>\n",
              "  <tbody>\n",
              "    <tr>\n",
              "      <th>1</th>\n",
              "      <td>Munic&amp;iacute;pio [-]</td>\n",
              "      <td>C&amp;oacute;digo [-]</td>\n",
              "      <td>Gent&amp;iacute;lico [-]</td>\n",
              "      <td>Prefeito [2021]</td>\n",
              "      <td>&amp;Aacute;rea Territorial - km&amp;sup2; [2020]</td>\n",
              "      <td>Popula&amp;ccedil;&amp;atilde;o estimada - pessoas [2020]</td>\n",
              "      <td>Densidade demogr&amp;aacute;fica - hab/km&amp;sup2; [2...</td>\n",
              "      <td>Escolariza&amp;ccedil;&amp;atilde;o &amp;lt;span&amp;gt;6 a 14...</td>\n",
              "      <td>IDHM &amp;lt;span&amp;gt;&amp;Iacute;ndice de desenvolvime...</td>\n",
              "      <td>Mortalidade infantil - &amp;oacute;bitos por mil n...</td>\n",
              "      <td>Receitas realizadas - R$ (&amp;times;1000) [2017]</td>\n",
              "      <td>Despesas empenhadas - R$ (&amp;times;1000) [2017]</td>\n",
              "      <td>PIB per capita - R$ [2018]</td>\n",
              "    </tr>\n",
              "    <tr>\n",
              "      <th>2</th>\n",
              "      <td>Adamantina</td>\n",
              "      <td>3500105</td>\n",
              "      <td>adamantinense</td>\n",
              "      <td>MARCIO CARDIM</td>\n",
              "      <td>411.987</td>\n",
              "      <td>35111</td>\n",
              "      <td>82.15</td>\n",
              "      <td>97.6</td>\n",
              "      <td>790</td>\n",
              "      <td>11.63</td>\n",
              "      <td>16.071.867.925</td>\n",
              "      <td>13.708.366.993</td>\n",
              "      <td>30962.66</td>\n",
              "    </tr>\n",
              "    <tr>\n",
              "      <th>3</th>\n",
              "      <td>Adolfo</td>\n",
              "      <td>3500204</td>\n",
              "      <td>adolfino</td>\n",
              "      <td>IZAEL ANTONIO FERNANDES</td>\n",
              "      <td>211.055</td>\n",
              "      <td>3554</td>\n",
              "      <td>16.85</td>\n",
              "      <td>98.6</td>\n",
              "      <td>730</td>\n",
              "      <td>19.23</td>\n",
              "      <td>2.733.374.731</td>\n",
              "      <td>2.010.387.713</td>\n",
              "      <td>25867.75</td>\n",
              "    </tr>\n",
              "    <tr>\n",
              "      <th>4</th>\n",
              "      <td>Agua&amp;iacute;</td>\n",
              "      <td>3500303</td>\n",
              "      <td>aguaiano</td>\n",
              "      <td>JOS&amp;Eacute; ALEXANDRE PEREIRA DE ARA&amp;Uacute;JO</td>\n",
              "      <td>474.554</td>\n",
              "      <td>36648</td>\n",
              "      <td>67.72</td>\n",
              "      <td>95.8</td>\n",
              "      <td>715</td>\n",
              "      <td>16.06</td>\n",
              "      <td>8.409.476.006</td>\n",
              "      <td>7.216.873.408</td>\n",
              "      <td>28041.03</td>\n",
              "    </tr>\n",
              "    <tr>\n",
              "      <th>5</th>\n",
              "      <td>&amp;Aacute;guas da Prata</td>\n",
              "      <td>3500402</td>\n",
              "      <td>pratense</td>\n",
              "      <td>REGINA HELENA JANIZELO MORAES</td>\n",
              "      <td>142.673</td>\n",
              "      <td>8221</td>\n",
              "      <td>53.05</td>\n",
              "      <td>98.8</td>\n",
              "      <td>781</td>\n",
              "      <td>25.32</td>\n",
              "      <td>2.939.024.814</td>\n",
              "      <td>2.436.340.149</td>\n",
              "      <td>20683.88</td>\n",
              "    </tr>\n",
              "  </tbody>\n",
              "</table>\n",
              "</div>"
            ],
            "text/plain": [
              "                      0   ...                          12\n",
              "1   Munic&iacute;pio [-]  ...  PIB per capita - R$ [2018]\n",
              "2             Adamantina  ...                    30962.66\n",
              "3                 Adolfo  ...                    25867.75\n",
              "4           Agua&iacute;  ...                    28041.03\n",
              "5  &Aacute;guas da Prata  ...                    20683.88\n",
              "\n",
              "[5 rows x 13 columns]"
            ]
          },
          "metadata": {
            "tags": []
          },
          "execution_count": 78
        }
      ]
    },
    {
      "cell_type": "code",
      "metadata": {
        "id": "DvhvYmKvW52d"
      },
      "source": [
        "#df.rename(columns=df.iloc[0])\r\n",
        "dados = dados.rename(columns=dados.iloc[0])"
      ],
      "execution_count": 79,
      "outputs": []
    },
    {
      "cell_type": "code",
      "metadata": {
        "colab": {
          "base_uri": "https://localhost:8080/",
          "height": 517
        },
        "id": "IX6nVNg5X4RG",
        "outputId": "ed541be1-89ff-4af9-ca2d-1d3a92bb5a7e"
      },
      "source": [
        "dados.head()"
      ],
      "execution_count": 80,
      "outputs": [
        {
          "output_type": "execute_result",
          "data": {
            "text/html": [
              "<div>\n",
              "<style scoped>\n",
              "    .dataframe tbody tr th:only-of-type {\n",
              "        vertical-align: middle;\n",
              "    }\n",
              "\n",
              "    .dataframe tbody tr th {\n",
              "        vertical-align: top;\n",
              "    }\n",
              "\n",
              "    .dataframe thead th {\n",
              "        text-align: right;\n",
              "    }\n",
              "</style>\n",
              "<table border=\"1\" class=\"dataframe\">\n",
              "  <thead>\n",
              "    <tr style=\"text-align: right;\">\n",
              "      <th></th>\n",
              "      <th>Munic&amp;iacute;pio [-]</th>\n",
              "      <th>C&amp;oacute;digo [-]</th>\n",
              "      <th>Gent&amp;iacute;lico [-]</th>\n",
              "      <th>Prefeito [2021]</th>\n",
              "      <th>&amp;Aacute;rea Territorial - km&amp;sup2; [2020]</th>\n",
              "      <th>Popula&amp;ccedil;&amp;atilde;o estimada - pessoas [2020]</th>\n",
              "      <th>Densidade demogr&amp;aacute;fica - hab/km&amp;sup2; [2010]</th>\n",
              "      <th>Escolariza&amp;ccedil;&amp;atilde;o &amp;lt;span&amp;gt;6 a 14 anos&amp;lt;/span&amp;gt; - % [2010]</th>\n",
              "      <th>IDHM &amp;lt;span&amp;gt;&amp;Iacute;ndice de desenvolvimento humano municipal&amp;lt;/span&amp;gt; [2010]</th>\n",
              "      <th>Mortalidade infantil - &amp;oacute;bitos por mil nascidos vivos [2017]</th>\n",
              "      <th>Receitas realizadas - R$ (&amp;times;1000) [2017]</th>\n",
              "      <th>Despesas empenhadas - R$ (&amp;times;1000) [2017]</th>\n",
              "      <th>PIB per capita - R$ [2018]</th>\n",
              "    </tr>\n",
              "  </thead>\n",
              "  <tbody>\n",
              "    <tr>\n",
              "      <th>1</th>\n",
              "      <td>Munic&amp;iacute;pio [-]</td>\n",
              "      <td>C&amp;oacute;digo [-]</td>\n",
              "      <td>Gent&amp;iacute;lico [-]</td>\n",
              "      <td>Prefeito [2021]</td>\n",
              "      <td>&amp;Aacute;rea Territorial - km&amp;sup2; [2020]</td>\n",
              "      <td>Popula&amp;ccedil;&amp;atilde;o estimada - pessoas [2020]</td>\n",
              "      <td>Densidade demogr&amp;aacute;fica - hab/km&amp;sup2; [2...</td>\n",
              "      <td>Escolariza&amp;ccedil;&amp;atilde;o &amp;lt;span&amp;gt;6 a 14...</td>\n",
              "      <td>IDHM &amp;lt;span&amp;gt;&amp;Iacute;ndice de desenvolvime...</td>\n",
              "      <td>Mortalidade infantil - &amp;oacute;bitos por mil n...</td>\n",
              "      <td>Receitas realizadas - R$ (&amp;times;1000) [2017]</td>\n",
              "      <td>Despesas empenhadas - R$ (&amp;times;1000) [2017]</td>\n",
              "      <td>PIB per capita - R$ [2018]</td>\n",
              "    </tr>\n",
              "    <tr>\n",
              "      <th>2</th>\n",
              "      <td>Adamantina</td>\n",
              "      <td>3500105</td>\n",
              "      <td>adamantinense</td>\n",
              "      <td>MARCIO CARDIM</td>\n",
              "      <td>411.987</td>\n",
              "      <td>35111</td>\n",
              "      <td>82.15</td>\n",
              "      <td>97.6</td>\n",
              "      <td>790</td>\n",
              "      <td>11.63</td>\n",
              "      <td>16.071.867.925</td>\n",
              "      <td>13.708.366.993</td>\n",
              "      <td>30962.66</td>\n",
              "    </tr>\n",
              "    <tr>\n",
              "      <th>3</th>\n",
              "      <td>Adolfo</td>\n",
              "      <td>3500204</td>\n",
              "      <td>adolfino</td>\n",
              "      <td>IZAEL ANTONIO FERNANDES</td>\n",
              "      <td>211.055</td>\n",
              "      <td>3554</td>\n",
              "      <td>16.85</td>\n",
              "      <td>98.6</td>\n",
              "      <td>730</td>\n",
              "      <td>19.23</td>\n",
              "      <td>2.733.374.731</td>\n",
              "      <td>2.010.387.713</td>\n",
              "      <td>25867.75</td>\n",
              "    </tr>\n",
              "    <tr>\n",
              "      <th>4</th>\n",
              "      <td>Agua&amp;iacute;</td>\n",
              "      <td>3500303</td>\n",
              "      <td>aguaiano</td>\n",
              "      <td>JOS&amp;Eacute; ALEXANDRE PEREIRA DE ARA&amp;Uacute;JO</td>\n",
              "      <td>474.554</td>\n",
              "      <td>36648</td>\n",
              "      <td>67.72</td>\n",
              "      <td>95.8</td>\n",
              "      <td>715</td>\n",
              "      <td>16.06</td>\n",
              "      <td>8.409.476.006</td>\n",
              "      <td>7.216.873.408</td>\n",
              "      <td>28041.03</td>\n",
              "    </tr>\n",
              "    <tr>\n",
              "      <th>5</th>\n",
              "      <td>&amp;Aacute;guas da Prata</td>\n",
              "      <td>3500402</td>\n",
              "      <td>pratense</td>\n",
              "      <td>REGINA HELENA JANIZELO MORAES</td>\n",
              "      <td>142.673</td>\n",
              "      <td>8221</td>\n",
              "      <td>53.05</td>\n",
              "      <td>98.8</td>\n",
              "      <td>781</td>\n",
              "      <td>25.32</td>\n",
              "      <td>2.939.024.814</td>\n",
              "      <td>2.436.340.149</td>\n",
              "      <td>20683.88</td>\n",
              "    </tr>\n",
              "  </tbody>\n",
              "</table>\n",
              "</div>"
            ],
            "text/plain": [
              "    Munic&iacute;pio [-]  ...  PIB per capita - R$ [2018]\n",
              "1   Munic&iacute;pio [-]  ...  PIB per capita - R$ [2018]\n",
              "2             Adamantina  ...                    30962.66\n",
              "3                 Adolfo  ...                    25867.75\n",
              "4           Agua&iacute;  ...                    28041.03\n",
              "5  &Aacute;guas da Prata  ...                    20683.88\n",
              "\n",
              "[5 rows x 13 columns]"
            ]
          },
          "metadata": {
            "tags": []
          },
          "execution_count": 80
        }
      ]
    },
    {
      "cell_type": "code",
      "metadata": {
        "id": "LQaS4GL0X5iS"
      },
      "source": [
        "dados = dados.drop(1)"
      ],
      "execution_count": 81,
      "outputs": []
    },
    {
      "cell_type": "code",
      "metadata": {
        "colab": {
          "base_uri": "https://localhost:8080/",
          "height": 467
        },
        "id": "iDub5lk4YKYv",
        "outputId": "c89b974e-431e-4518-8507-44b362981a2f"
      },
      "source": [
        "dados.head()"
      ],
      "execution_count": 82,
      "outputs": [
        {
          "output_type": "execute_result",
          "data": {
            "text/html": [
              "<div>\n",
              "<style scoped>\n",
              "    .dataframe tbody tr th:only-of-type {\n",
              "        vertical-align: middle;\n",
              "    }\n",
              "\n",
              "    .dataframe tbody tr th {\n",
              "        vertical-align: top;\n",
              "    }\n",
              "\n",
              "    .dataframe thead th {\n",
              "        text-align: right;\n",
              "    }\n",
              "</style>\n",
              "<table border=\"1\" class=\"dataframe\">\n",
              "  <thead>\n",
              "    <tr style=\"text-align: right;\">\n",
              "      <th></th>\n",
              "      <th>Munic&amp;iacute;pio [-]</th>\n",
              "      <th>C&amp;oacute;digo [-]</th>\n",
              "      <th>Gent&amp;iacute;lico [-]</th>\n",
              "      <th>Prefeito [2021]</th>\n",
              "      <th>&amp;Aacute;rea Territorial - km&amp;sup2; [2020]</th>\n",
              "      <th>Popula&amp;ccedil;&amp;atilde;o estimada - pessoas [2020]</th>\n",
              "      <th>Densidade demogr&amp;aacute;fica - hab/km&amp;sup2; [2010]</th>\n",
              "      <th>Escolariza&amp;ccedil;&amp;atilde;o &amp;lt;span&amp;gt;6 a 14 anos&amp;lt;/span&amp;gt; - % [2010]</th>\n",
              "      <th>IDHM &amp;lt;span&amp;gt;&amp;Iacute;ndice de desenvolvimento humano municipal&amp;lt;/span&amp;gt; [2010]</th>\n",
              "      <th>Mortalidade infantil - &amp;oacute;bitos por mil nascidos vivos [2017]</th>\n",
              "      <th>Receitas realizadas - R$ (&amp;times;1000) [2017]</th>\n",
              "      <th>Despesas empenhadas - R$ (&amp;times;1000) [2017]</th>\n",
              "      <th>PIB per capita - R$ [2018]</th>\n",
              "    </tr>\n",
              "  </thead>\n",
              "  <tbody>\n",
              "    <tr>\n",
              "      <th>2</th>\n",
              "      <td>Adamantina</td>\n",
              "      <td>3500105</td>\n",
              "      <td>adamantinense</td>\n",
              "      <td>MARCIO CARDIM</td>\n",
              "      <td>411.987</td>\n",
              "      <td>35111</td>\n",
              "      <td>82.15</td>\n",
              "      <td>97.6</td>\n",
              "      <td>790</td>\n",
              "      <td>11.63</td>\n",
              "      <td>16.071.867.925</td>\n",
              "      <td>13.708.366.993</td>\n",
              "      <td>30962.66</td>\n",
              "    </tr>\n",
              "    <tr>\n",
              "      <th>3</th>\n",
              "      <td>Adolfo</td>\n",
              "      <td>3500204</td>\n",
              "      <td>adolfino</td>\n",
              "      <td>IZAEL ANTONIO FERNANDES</td>\n",
              "      <td>211.055</td>\n",
              "      <td>3554</td>\n",
              "      <td>16.85</td>\n",
              "      <td>98.6</td>\n",
              "      <td>730</td>\n",
              "      <td>19.23</td>\n",
              "      <td>2.733.374.731</td>\n",
              "      <td>2.010.387.713</td>\n",
              "      <td>25867.75</td>\n",
              "    </tr>\n",
              "    <tr>\n",
              "      <th>4</th>\n",
              "      <td>Agua&amp;iacute;</td>\n",
              "      <td>3500303</td>\n",
              "      <td>aguaiano</td>\n",
              "      <td>JOS&amp;Eacute; ALEXANDRE PEREIRA DE ARA&amp;Uacute;JO</td>\n",
              "      <td>474.554</td>\n",
              "      <td>36648</td>\n",
              "      <td>67.72</td>\n",
              "      <td>95.8</td>\n",
              "      <td>715</td>\n",
              "      <td>16.06</td>\n",
              "      <td>8.409.476.006</td>\n",
              "      <td>7.216.873.408</td>\n",
              "      <td>28041.03</td>\n",
              "    </tr>\n",
              "    <tr>\n",
              "      <th>5</th>\n",
              "      <td>&amp;Aacute;guas da Prata</td>\n",
              "      <td>3500402</td>\n",
              "      <td>pratense</td>\n",
              "      <td>REGINA HELENA JANIZELO MORAES</td>\n",
              "      <td>142.673</td>\n",
              "      <td>8221</td>\n",
              "      <td>53.05</td>\n",
              "      <td>98.8</td>\n",
              "      <td>781</td>\n",
              "      <td>25.32</td>\n",
              "      <td>2.939.024.814</td>\n",
              "      <td>2.436.340.149</td>\n",
              "      <td>20683.88</td>\n",
              "    </tr>\n",
              "    <tr>\n",
              "      <th>6</th>\n",
              "      <td>&amp;Aacute;guas de Lind&amp;oacute;ia</td>\n",
              "      <td>3500501</td>\n",
              "      <td>lindoiense</td>\n",
              "      <td>GILBERTO ABDOU HELOU</td>\n",
              "      <td>60.126</td>\n",
              "      <td>18808</td>\n",
              "      <td>287.16</td>\n",
              "      <td>96.2</td>\n",
              "      <td>745</td>\n",
              "      <td>8.37</td>\n",
              "      <td>8.694.922.213</td>\n",
              "      <td>7.520.147.793</td>\n",
              "      <td>26427.34</td>\n",
              "    </tr>\n",
              "  </tbody>\n",
              "</table>\n",
              "</div>"
            ],
            "text/plain": [
              "             Munic&iacute;pio [-]  ... PIB per capita - R$ [2018]\n",
              "2                      Adamantina  ...                   30962.66\n",
              "3                          Adolfo  ...                   25867.75\n",
              "4                    Agua&iacute;  ...                   28041.03\n",
              "5           &Aacute;guas da Prata  ...                   20683.88\n",
              "6  &Aacute;guas de Lind&oacute;ia  ...                   26427.34\n",
              "\n",
              "[5 rows x 13 columns]"
            ]
          },
          "metadata": {
            "tags": []
          },
          "execution_count": 82
        }
      ]
    },
    {
      "cell_type": "code",
      "metadata": {
        "colab": {
          "base_uri": "https://localhost:8080/"
        },
        "id": "GDA7jV_iYNFu",
        "outputId": "e5708535-d266-4779-9141-75b789a8a606"
      },
      "source": [
        "dados.isnull().sum()"
      ],
      "execution_count": 83,
      "outputs": [
        {
          "output_type": "execute_result",
          "data": {
            "text/plain": [
              "Munic&iacute;pio [-]                                                                      0\n",
              "C&oacute;digo [-]                                                                         0\n",
              "Gent&iacute;lico [-]                                                                      0\n",
              "Prefeito [2021]                                                                           0\n",
              "&Aacute;rea Territorial - km&sup2; [2020]                                                 0\n",
              "Popula&ccedil;&atilde;o estimada - pessoas [2020]                                         0\n",
              "Densidade demogr&aacute;fica - hab/km&sup2; [2010]                                        0\n",
              "Escolariza&ccedil;&atilde;o &lt;span&gt;6 a 14 anos&lt;/span&gt; - % [2010]               0\n",
              "IDHM &lt;span&gt;&Iacute;ndice de desenvolvimento humano municipal&lt;/span&gt; [2010]    0\n",
              "Mortalidade infantil - &oacute;bitos por mil nascidos vivos [2017]                        0\n",
              "Receitas realizadas - R$ (&times;1000) [2017]                                             0\n",
              "Despesas empenhadas - R$ (&times;1000) [2017]                                             0\n",
              "PIB per capita - R$ [2018]                                                                0\n",
              "dtype: int64"
            ]
          },
          "metadata": {
            "tags": []
          },
          "execution_count": 83
        }
      ]
    },
    {
      "cell_type": "code",
      "metadata": {
        "colab": {
          "base_uri": "https://localhost:8080/"
        },
        "id": "u9X8-SlMYSo2",
        "outputId": "3aa30153-1435-48dd-96fe-e8949fd50767"
      },
      "source": [
        "dados.columns"
      ],
      "execution_count": 84,
      "outputs": [
        {
          "output_type": "execute_result",
          "data": {
            "text/plain": [
              "Index(['Munic&iacute;pio [-]', 'C&oacute;digo [-]', 'Gent&iacute;lico [-]',\n",
              "       'Prefeito [2021]', '&Aacute;rea Territorial - km&sup2; [2020]',\n",
              "       'Popula&ccedil;&atilde;o estimada - pessoas [2020]',\n",
              "       'Densidade demogr&aacute;fica - hab/km&sup2; [2010]',\n",
              "       'Escolariza&ccedil;&atilde;o &lt;span&gt;6 a 14 anos&lt;/span&gt; - % [2010]',\n",
              "       'IDHM &lt;span&gt;&Iacute;ndice de desenvolvimento humano municipal&lt;/span&gt; [2010]',\n",
              "       'Mortalidade infantil - &oacute;bitos por mil nascidos vivos [2017]',\n",
              "       'Receitas realizadas - R$ (&times;1000) [2017]',\n",
              "       'Despesas empenhadas - R$ (&times;1000) [2017]',\n",
              "       'PIB per capita - R$ [2018]'],\n",
              "      dtype='object')"
            ]
          },
          "metadata": {
            "tags": []
          },
          "execution_count": 84
        }
      ]
    },
    {
      "cell_type": "code",
      "metadata": {
        "colab": {
          "base_uri": "https://localhost:8080/"
        },
        "id": "JthfWuwbYZJn",
        "outputId": "f3682256-b845-4fc3-be89-1412ef688394"
      },
      "source": [
        "dados['Densidade demogr&aacute;fica - hab/km&sup2; [2010]'].sort_values(ascending=False)"
      ],
      "execution_count": 115,
      "outputs": [
        {
          "output_type": "execute_result",
          "data": {
            "text/plain": [
              "189     980.95\n",
              "547    9736.03\n",
              "73       97.21\n",
              "441      96.38\n",
              "209      95.43\n",
              "        ...   \n",
              "320      10.27\n",
              "587      10.24\n",
              "176      10.09\n",
              "481      10.00\n",
              "364      08.01\n",
              "Name: Densidade demogr&aacute;fica - hab/km&sup2; [2010], Length: 645, dtype: object"
            ]
          },
          "metadata": {
            "tags": []
          },
          "execution_count": 115
        }
      ]
    },
    {
      "cell_type": "code",
      "metadata": {
        "id": "wSzGwvXideh8"
      },
      "source": [
        ""
      ],
      "execution_count": null,
      "outputs": []
    }
  ]
}