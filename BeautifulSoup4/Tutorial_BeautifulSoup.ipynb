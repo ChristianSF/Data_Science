{
  "nbformat": 4,
  "nbformat_minor": 0,
  "metadata": {
    "colab": {
      "name": "Tutorial_BeautifulSoup",
      "provenance": []
    },
    "kernelspec": {
      "name": "python3",
      "display_name": "Python 3"
    }
  },
  "cells": [
    {
      "cell_type": "markdown",
      "metadata": {
        "id": "rL_fOOWfLxlR"
      },
      "source": [
        "[Link do tutorial](https://www.digitalocean.com/community/tutorials/como-fazer-scraping-em-paginas-web-com-beautiful-soup-and-python-3-pt)"
      ]
    },
    {
      "cell_type": "code",
      "metadata": {
        "id": "HfP1fGdlHgbK"
      },
      "source": [
        "import requests\r\n",
        "from bs4 import BeautifulSoup as bsoup"
      ],
      "execution_count": 23,
      "outputs": []
    },
    {
      "cell_type": "code",
      "metadata": {
        "id": "Uo3uEuLeIjiu"
      },
      "source": [
        "page = requests.get('https://web.archive.org/web/20121007172955/https://www.nga.gov/collection/anZ1.htm')"
      ],
      "execution_count": 24,
      "outputs": []
    },
    {
      "cell_type": "code",
      "metadata": {
        "id": "YePm3cxbIpCD"
      },
      "source": [
        "soup = BeautifulSoup(page.text, 'html.parser')"
      ],
      "execution_count": 25,
      "outputs": []
    },
    {
      "cell_type": "code",
      "metadata": {
        "colab": {
          "base_uri": "https://localhost:8080/"
        },
        "id": "15eB_dUDJE1_",
        "outputId": "a8bfaf44-21b5-4153-fe3b-ea411e442bc1"
      },
      "source": [
        "soup.title"
      ],
      "execution_count": 26,
      "outputs": [
        {
          "output_type": "execute_result",
          "data": {
            "text/plain": [
              "<title>NGA - Artist List 'Z' / Page 1 of 4</title>"
            ]
          },
          "metadata": {
            "tags": []
          },
          "execution_count": 26
        }
      ]
    },
    {
      "cell_type": "code",
      "metadata": {
        "id": "_1JiteUIOIC6"
      },
      "source": [
        "last_links = soup.find(class_='AlphaNav')"
      ],
      "execution_count": 27,
      "outputs": []
    },
    {
      "cell_type": "code",
      "metadata": {
        "id": "nbHorguOOS3i"
      },
      "source": [
        "last_links.decompose()"
      ],
      "execution_count": 28,
      "outputs": []
    },
    {
      "cell_type": "code",
      "metadata": {
        "id": "MDQGaLD9JGZo"
      },
      "source": [
        "artist_name_list = soup.find(class_='BodyText')"
      ],
      "execution_count": 29,
      "outputs": []
    },
    {
      "cell_type": "code",
      "metadata": {
        "id": "u_WSCQiaKnVI"
      },
      "source": [
        "artist_name_list_items = artist_name_list.find_all('a')"
      ],
      "execution_count": 30,
      "outputs": []
    },
    {
      "cell_type": "code",
      "metadata": {
        "colab": {
          "base_uri": "https://localhost:8080/"
        },
        "id": "PtlN4hT5K0B2",
        "outputId": "066e4e21-f692-4761-f5aa-8b7369b91c93"
      },
      "source": [
        "for artist_name in artist_name_list_items: \r\n",
        "  print(artist_name.prettify())"
      ],
      "execution_count": 31,
      "outputs": [
        {
          "output_type": "stream",
          "text": [
            "<a href=\"/web/20121007172955/https://www.nga.gov/cgi-bin/tsearch?artistid=11630\">\n",
            " Zabaglia, Niccola\n",
            "</a>\n",
            "<a href=\"/web/20121007172955/https://www.nga.gov/cgi-bin/tsearch?artistid=34202\">\n",
            " Zaccone, Fabian\n",
            "</a>\n",
            "<a href=\"/web/20121007172955/https://www.nga.gov/cgi-bin/tsearch?artistid=3475\">\n",
            " Zadkine, Ossip\n",
            "</a>\n",
            "<a href=\"/web/20121007172955/https://www.nga.gov/cgi-bin/tsearch?artistid=25135\">\n",
            " Zaech, Bernhard\n",
            "</a>\n",
            "<a href=\"/web/20121007172955/https://www.nga.gov/cgi-bin/tsearch?artistid=2298\">\n",
            " Zagar, Jacob\n",
            "</a>\n",
            "<a href=\"/web/20121007172955/https://www.nga.gov/cgi-bin/tsearch?artistid=23988\">\n",
            " Zagroba, Idalia\n",
            "</a>\n",
            "<a href=\"/web/20121007172955/https://www.nga.gov/cgi-bin/tsearch?artistid=8232\">\n",
            " Zaidenberg, A.\n",
            "</a>\n",
            "<a href=\"/web/20121007172955/https://www.nga.gov/cgi-bin/tsearch?artistid=34154\">\n",
            " Zaidenberg, Arthur\n",
            "</a>\n",
            "<a href=\"/web/20121007172955/https://www.nga.gov/cgi-bin/tsearch?artistid=4910\">\n",
            " Zaisinger, Matthäus\n",
            "</a>\n",
            "<a href=\"/web/20121007172955/https://www.nga.gov/cgi-bin/tsearch?artistid=3450\">\n",
            " Zajac, Jack\n",
            "</a>\n",
            "<a href=\"/web/20121007172955/https://www.nga.gov/cgi-bin/tsearch?artistid=1986\">\n",
            " Zak, Eugène\n",
            "</a>\n",
            "<a href=\"/web/20121007172955/https://www.nga.gov/cgi-bin/tsearch?artistid=3451\">\n",
            " Zakharov, Gurii Fillipovich\n",
            "</a>\n",
            "<a href=\"/web/20121007172955/https://www.nga.gov/cgi-bin/tsearch?artistid=20099\">\n",
            " Zakowortny, Igor\n",
            "</a>\n",
            "<a href=\"/web/20121007172955/https://www.nga.gov/cgi-bin/tsearch?artistid=3452\">\n",
            " Zalce, Alfredo\n",
            "</a>\n",
            "<a href=\"/web/20121007172955/https://www.nga.gov/cgi-bin/tsearch?artistid=34309\">\n",
            " Zalopany, Michele\n",
            "</a>\n",
            "<a href=\"/web/20121007172955/https://www.nga.gov/cgi-bin/tsearch?artistid=27191\">\n",
            " Zammiello, Craig\n",
            "</a>\n",
            "<a href=\"/web/20121007172955/https://www.nga.gov/cgi-bin/tsearch?artistid=5846\">\n",
            " Zammitt, Norman\n",
            "</a>\n",
            "<a href=\"/web/20121007172955/https://www.nga.gov/cgi-bin/tsearch?artistid=3941\">\n",
            " Zampieri, Domenico\n",
            "</a>\n",
            "<a href=\"/web/20121007172955/https://www.nga.gov/cgi-bin/tsearch?artistid=3941\">\n",
            " Zampieri, called Domenichino, Domenico\n",
            "</a>\n",
            "<a href=\"/web/20121007172955/https://www.nga.gov/cgi-bin/tsearch?artistid=3453\">\n",
            " Zanartú, Enrique Antunez\n",
            "</a>\n",
            "<a href=\"/web/20121007172955/https://www.nga.gov/cgi-bin/tsearch?artistid=35173\">\n",
            " Zanchi, Antonio\n",
            "</a>\n",
            "<a href=\"/web/20121007172955/https://www.nga.gov/cgi-bin/tsearch?artistid=11133\">\n",
            " Zanetti, Anton Maria\n",
            "</a>\n",
            "<a href=\"/web/20121007172955/https://www.nga.gov/cgi-bin/tsearch?artistid=3455\">\n",
            " Zanetti Borzino, Leopoldina\n",
            "</a>\n",
            "<a href=\"/web/20121007172955/https://www.nga.gov/cgi-bin/tsearch?artistid=3454\">\n",
            " Zanetti I, Antonio Maria, conte\n",
            "</a>\n",
            "<a href=\"/web/20121007172955/https://www.nga.gov/cgi-bin/tsearch?artistid=961\">\n",
            " Zanguidi, Jacopo\n",
            "</a>\n",
            "<a href=\"/web/20121007172955/https://www.nga.gov/cgi-bin/tsearch?artistid=11597\">\n",
            " Zanini, Giuseppe\n",
            "</a>\n",
            "<a href=\"/web/20121007172955/https://www.nga.gov/cgi-bin/tsearch?artistid=11597\">\n",
            " Zanini-Viola, Giuseppe\n",
            "</a>\n",
            "<a href=\"/web/20121007172955/https://www.nga.gov/cgi-bin/tsearch?artistid=11631\">\n",
            " Zanotti, Giampietro\n",
            "</a>\n",
            "<a href=\"/web/20121007172955/https://www.nga.gov/cgi-bin/tsearch?artistid=3427\">\n",
            " Zao Wou-Ki\n",
            "</a>\n"
          ],
          "name": "stdout"
        }
      ]
    },
    {
      "cell_type": "code",
      "metadata": {
        "colab": {
          "base_uri": "https://localhost:8080/"
        },
        "id": "kGFHp_BBOa4L",
        "outputId": "65ac434a-cce6-4e22-e59e-1d9cdb2046a1"
      },
      "source": [
        "for artist_name in artist_name_list_items:\r\n",
        "  names = artist_name.contents[0]\r\n",
        "  links = 'https://web.archive.org' + artist_name.get('href')\r\n",
        "  print(names)\r\n",
        "  print(links)"
      ],
      "execution_count": 34,
      "outputs": [
        {
          "output_type": "stream",
          "text": [
            "Zabaglia, Niccola\n",
            "https://web.archive.org/web/20121007172955/https://www.nga.gov/cgi-bin/tsearch?artistid=11630\n",
            "Zaccone, Fabian\n",
            "https://web.archive.org/web/20121007172955/https://www.nga.gov/cgi-bin/tsearch?artistid=34202\n",
            "Zadkine, Ossip\n",
            "https://web.archive.org/web/20121007172955/https://www.nga.gov/cgi-bin/tsearch?artistid=3475\n",
            "Zaech, Bernhard\n",
            "https://web.archive.org/web/20121007172955/https://www.nga.gov/cgi-bin/tsearch?artistid=25135\n",
            "Zagar, Jacob\n",
            "https://web.archive.org/web/20121007172955/https://www.nga.gov/cgi-bin/tsearch?artistid=2298\n",
            "Zagroba, Idalia\n",
            "https://web.archive.org/web/20121007172955/https://www.nga.gov/cgi-bin/tsearch?artistid=23988\n",
            "Zaidenberg, A.\n",
            "https://web.archive.org/web/20121007172955/https://www.nga.gov/cgi-bin/tsearch?artistid=8232\n",
            "Zaidenberg, Arthur\n",
            "https://web.archive.org/web/20121007172955/https://www.nga.gov/cgi-bin/tsearch?artistid=34154\n",
            "Zaisinger, Matthäus\n",
            "https://web.archive.org/web/20121007172955/https://www.nga.gov/cgi-bin/tsearch?artistid=4910\n",
            "Zajac, Jack\n",
            "https://web.archive.org/web/20121007172955/https://www.nga.gov/cgi-bin/tsearch?artistid=3450\n",
            "Zak, Eugène\n",
            "https://web.archive.org/web/20121007172955/https://www.nga.gov/cgi-bin/tsearch?artistid=1986\n",
            "Zakharov, Gurii Fillipovich\n",
            "https://web.archive.org/web/20121007172955/https://www.nga.gov/cgi-bin/tsearch?artistid=3451\n",
            "Zakowortny, Igor\n",
            "https://web.archive.org/web/20121007172955/https://www.nga.gov/cgi-bin/tsearch?artistid=20099\n",
            "Zalce, Alfredo\n",
            "https://web.archive.org/web/20121007172955/https://www.nga.gov/cgi-bin/tsearch?artistid=3452\n",
            "Zalopany, Michele\n",
            "https://web.archive.org/web/20121007172955/https://www.nga.gov/cgi-bin/tsearch?artistid=34309\n",
            "Zammiello, Craig\n",
            "https://web.archive.org/web/20121007172955/https://www.nga.gov/cgi-bin/tsearch?artistid=27191\n",
            "Zammitt, Norman\n",
            "https://web.archive.org/web/20121007172955/https://www.nga.gov/cgi-bin/tsearch?artistid=5846\n",
            "Zampieri, Domenico\n",
            "https://web.archive.org/web/20121007172955/https://www.nga.gov/cgi-bin/tsearch?artistid=3941\n",
            "Zampieri, called Domenichino, Domenico\n",
            "https://web.archive.org/web/20121007172955/https://www.nga.gov/cgi-bin/tsearch?artistid=3941\n",
            "Zanartú, Enrique Antunez\n",
            "https://web.archive.org/web/20121007172955/https://www.nga.gov/cgi-bin/tsearch?artistid=3453\n",
            "Zanchi, Antonio\n",
            "https://web.archive.org/web/20121007172955/https://www.nga.gov/cgi-bin/tsearch?artistid=35173\n",
            "Zanetti, Anton Maria\n",
            "https://web.archive.org/web/20121007172955/https://www.nga.gov/cgi-bin/tsearch?artistid=11133\n",
            "Zanetti Borzino, Leopoldina\n",
            "https://web.archive.org/web/20121007172955/https://www.nga.gov/cgi-bin/tsearch?artistid=3455\n",
            "Zanetti I, Antonio Maria, conte\n",
            "https://web.archive.org/web/20121007172955/https://www.nga.gov/cgi-bin/tsearch?artistid=3454\n",
            "Zanguidi, Jacopo\n",
            "https://web.archive.org/web/20121007172955/https://www.nga.gov/cgi-bin/tsearch?artistid=961\n",
            "Zanini, Giuseppe\n",
            "https://web.archive.org/web/20121007172955/https://www.nga.gov/cgi-bin/tsearch?artistid=11597\n",
            "Zanini-Viola, Giuseppe\n",
            "https://web.archive.org/web/20121007172955/https://www.nga.gov/cgi-bin/tsearch?artistid=11597\n",
            "Zanotti, Giampietro\n",
            "https://web.archive.org/web/20121007172955/https://www.nga.gov/cgi-bin/tsearch?artistid=11631\n",
            "Zao Wou-Ki\n",
            "https://web.archive.org/web/20121007172955/https://www.nga.gov/cgi-bin/tsearch?artistid=3427\n"
          ],
          "name": "stdout"
        }
      ]
    },
    {
      "cell_type": "code",
      "metadata": {
        "id": "rvojI0u-P_oq"
      },
      "source": [
        ""
      ],
      "execution_count": 32,
      "outputs": []
    }
  ]
}