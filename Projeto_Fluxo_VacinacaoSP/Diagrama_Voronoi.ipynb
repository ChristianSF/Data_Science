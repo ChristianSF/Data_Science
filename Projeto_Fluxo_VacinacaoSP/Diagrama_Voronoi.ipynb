{
  "nbformat": 4,
  "nbformat_minor": 0,
  "metadata": {
    "colab": {
      "name": "Diagrama_Voronoi",
      "provenance": []
    },
    "kernelspec": {
      "name": "python3",
      "display_name": "Python 3"
    },
    "language_info": {
      "name": "python"
    }
  },
  "cells": [
    {
      "cell_type": "code",
      "metadata": {
        "colab": {
          "base_uri": "https://localhost:8080/"
        },
        "id": "Cl1ZoG4Tkp5N",
        "outputId": "21560b09-982b-4f1d-8629-160db2eb481e"
      },
      "source": [
        "!pip install geopandas"
      ],
      "execution_count": 1,
      "outputs": [
        {
          "output_type": "stream",
          "text": [
            "Collecting geopandas\n",
            "  Downloading geopandas-0.9.0-py2.py3-none-any.whl (994 kB)\n",
            "\u001b[?25l\r\u001b[K     |▎                               | 10 kB 23.0 MB/s eta 0:00:01\r\u001b[K     |▋                               | 20 kB 25.3 MB/s eta 0:00:01\r\u001b[K     |█                               | 30 kB 28.2 MB/s eta 0:00:01\r\u001b[K     |█▎                              | 40 kB 29.6 MB/s eta 0:00:01\r\u001b[K     |█▋                              | 51 kB 31.3 MB/s eta 0:00:01\r\u001b[K     |██                              | 61 kB 33.4 MB/s eta 0:00:01\r\u001b[K     |██▎                             | 71 kB 27.1 MB/s eta 0:00:01\r\u001b[K     |██▋                             | 81 kB 26.5 MB/s eta 0:00:01\r\u001b[K     |███                             | 92 kB 25.9 MB/s eta 0:00:01\r\u001b[K     |███▎                            | 102 kB 25.3 MB/s eta 0:00:01\r\u001b[K     |███▋                            | 112 kB 25.3 MB/s eta 0:00:01\r\u001b[K     |████                            | 122 kB 25.3 MB/s eta 0:00:01\r\u001b[K     |████▎                           | 133 kB 25.3 MB/s eta 0:00:01\r\u001b[K     |████▋                           | 143 kB 25.3 MB/s eta 0:00:01\r\u001b[K     |█████                           | 153 kB 25.3 MB/s eta 0:00:01\r\u001b[K     |█████▎                          | 163 kB 25.3 MB/s eta 0:00:01\r\u001b[K     |█████▋                          | 174 kB 25.3 MB/s eta 0:00:01\r\u001b[K     |██████                          | 184 kB 25.3 MB/s eta 0:00:01\r\u001b[K     |██████▎                         | 194 kB 25.3 MB/s eta 0:00:01\r\u001b[K     |██████▋                         | 204 kB 25.3 MB/s eta 0:00:01\r\u001b[K     |███████                         | 215 kB 25.3 MB/s eta 0:00:01\r\u001b[K     |███████▎                        | 225 kB 25.3 MB/s eta 0:00:01\r\u001b[K     |███████▋                        | 235 kB 25.3 MB/s eta 0:00:01\r\u001b[K     |████████                        | 245 kB 25.3 MB/s eta 0:00:01\r\u001b[K     |████████▎                       | 256 kB 25.3 MB/s eta 0:00:01\r\u001b[K     |████████▋                       | 266 kB 25.3 MB/s eta 0:00:01\r\u001b[K     |█████████                       | 276 kB 25.3 MB/s eta 0:00:01\r\u001b[K     |█████████▎                      | 286 kB 25.3 MB/s eta 0:00:01\r\u001b[K     |█████████▌                      | 296 kB 25.3 MB/s eta 0:00:01\r\u001b[K     |█████████▉                      | 307 kB 25.3 MB/s eta 0:00:01\r\u001b[K     |██████████▏                     | 317 kB 25.3 MB/s eta 0:00:01\r\u001b[K     |██████████▌                     | 327 kB 25.3 MB/s eta 0:00:01\r\u001b[K     |██████████▉                     | 337 kB 25.3 MB/s eta 0:00:01\r\u001b[K     |███████████▏                    | 348 kB 25.3 MB/s eta 0:00:01\r\u001b[K     |███████████▌                    | 358 kB 25.3 MB/s eta 0:00:01\r\u001b[K     |███████████▉                    | 368 kB 25.3 MB/s eta 0:00:01\r\u001b[K     |████████████▏                   | 378 kB 25.3 MB/s eta 0:00:01\r\u001b[K     |████████████▌                   | 389 kB 25.3 MB/s eta 0:00:01\r\u001b[K     |████████████▉                   | 399 kB 25.3 MB/s eta 0:00:01\r\u001b[K     |█████████████▏                  | 409 kB 25.3 MB/s eta 0:00:01\r\u001b[K     |█████████████▌                  | 419 kB 25.3 MB/s eta 0:00:01\r\u001b[K     |█████████████▉                  | 430 kB 25.3 MB/s eta 0:00:01\r\u001b[K     |██████████████▏                 | 440 kB 25.3 MB/s eta 0:00:01\r\u001b[K     |██████████████▌                 | 450 kB 25.3 MB/s eta 0:00:01\r\u001b[K     |██████████████▉                 | 460 kB 25.3 MB/s eta 0:00:01\r\u001b[K     |███████████████▏                | 471 kB 25.3 MB/s eta 0:00:01\r\u001b[K     |███████████████▌                | 481 kB 25.3 MB/s eta 0:00:01\r\u001b[K     |███████████████▉                | 491 kB 25.3 MB/s eta 0:00:01\r\u001b[K     |████████████████▏               | 501 kB 25.3 MB/s eta 0:00:01\r\u001b[K     |████████████████▌               | 512 kB 25.3 MB/s eta 0:00:01\r\u001b[K     |████████████████▉               | 522 kB 25.3 MB/s eta 0:00:01\r\u001b[K     |█████████████████▏              | 532 kB 25.3 MB/s eta 0:00:01\r\u001b[K     |█████████████████▌              | 542 kB 25.3 MB/s eta 0:00:01\r\u001b[K     |█████████████████▉              | 552 kB 25.3 MB/s eta 0:00:01\r\u001b[K     |██████████████████▏             | 563 kB 25.3 MB/s eta 0:00:01\r\u001b[K     |██████████████████▌             | 573 kB 25.3 MB/s eta 0:00:01\r\u001b[K     |██████████████████▊             | 583 kB 25.3 MB/s eta 0:00:01\r\u001b[K     |███████████████████             | 593 kB 25.3 MB/s eta 0:00:01\r\u001b[K     |███████████████████▍            | 604 kB 25.3 MB/s eta 0:00:01\r\u001b[K     |███████████████████▊            | 614 kB 25.3 MB/s eta 0:00:01\r\u001b[K     |████████████████████            | 624 kB 25.3 MB/s eta 0:00:01\r\u001b[K     |████████████████████▍           | 634 kB 25.3 MB/s eta 0:00:01\r\u001b[K     |████████████████████▊           | 645 kB 25.3 MB/s eta 0:00:01\r\u001b[K     |█████████████████████           | 655 kB 25.3 MB/s eta 0:00:01\r\u001b[K     |█████████████████████▍          | 665 kB 25.3 MB/s eta 0:00:01\r\u001b[K     |█████████████████████▊          | 675 kB 25.3 MB/s eta 0:00:01\r\u001b[K     |██████████████████████          | 686 kB 25.3 MB/s eta 0:00:01\r\u001b[K     |██████████████████████▍         | 696 kB 25.3 MB/s eta 0:00:01\r\u001b[K     |██████████████████████▊         | 706 kB 25.3 MB/s eta 0:00:01\r\u001b[K     |███████████████████████         | 716 kB 25.3 MB/s eta 0:00:01\r\u001b[K     |███████████████████████▍        | 727 kB 25.3 MB/s eta 0:00:01\r\u001b[K     |███████████████████████▊        | 737 kB 25.3 MB/s eta 0:00:01\r\u001b[K     |████████████████████████        | 747 kB 25.3 MB/s eta 0:00:01\r\u001b[K     |████████████████████████▍       | 757 kB 25.3 MB/s eta 0:00:01\r\u001b[K     |████████████████████████▊       | 768 kB 25.3 MB/s eta 0:00:01\r\u001b[K     |█████████████████████████       | 778 kB 25.3 MB/s eta 0:00:01\r\u001b[K     |█████████████████████████▍      | 788 kB 25.3 MB/s eta 0:00:01\r\u001b[K     |█████████████████████████▊      | 798 kB 25.3 MB/s eta 0:00:01\r\u001b[K     |██████████████████████████      | 808 kB 25.3 MB/s eta 0:00:01\r\u001b[K     |██████████████████████████▍     | 819 kB 25.3 MB/s eta 0:00:01\r\u001b[K     |██████████████████████████▊     | 829 kB 25.3 MB/s eta 0:00:01\r\u001b[K     |███████████████████████████     | 839 kB 25.3 MB/s eta 0:00:01\r\u001b[K     |███████████████████████████▍    | 849 kB 25.3 MB/s eta 0:00:01\r\u001b[K     |███████████████████████████▊    | 860 kB 25.3 MB/s eta 0:00:01\r\u001b[K     |████████████████████████████    | 870 kB 25.3 MB/s eta 0:00:01\r\u001b[K     |████████████████████████████▎   | 880 kB 25.3 MB/s eta 0:00:01\r\u001b[K     |████████████████████████████▋   | 890 kB 25.3 MB/s eta 0:00:01\r\u001b[K     |█████████████████████████████   | 901 kB 25.3 MB/s eta 0:00:01\r\u001b[K     |█████████████████████████████▎  | 911 kB 25.3 MB/s eta 0:00:01\r\u001b[K     |█████████████████████████████▋  | 921 kB 25.3 MB/s eta 0:00:01\r\u001b[K     |██████████████████████████████  | 931 kB 25.3 MB/s eta 0:00:01\r\u001b[K     |██████████████████████████████▎ | 942 kB 25.3 MB/s eta 0:00:01\r\u001b[K     |██████████████████████████████▋ | 952 kB 25.3 MB/s eta 0:00:01\r\u001b[K     |███████████████████████████████ | 962 kB 25.3 MB/s eta 0:00:01\r\u001b[K     |███████████████████████████████▎| 972 kB 25.3 MB/s eta 0:00:01\r\u001b[K     |███████████████████████████████▋| 983 kB 25.3 MB/s eta 0:00:01\r\u001b[K     |████████████████████████████████| 993 kB 25.3 MB/s eta 0:00:01\r\u001b[K     |████████████████████████████████| 994 kB 25.3 MB/s \n",
            "\u001b[?25hRequirement already satisfied: shapely>=1.6 in /usr/local/lib/python3.7/dist-packages (from geopandas) (1.7.1)\n",
            "Collecting fiona>=1.8\n",
            "  Downloading Fiona-1.8.20-cp37-cp37m-manylinux1_x86_64.whl (15.4 MB)\n",
            "\u001b[K     |████████████████████████████████| 15.4 MB 36 kB/s \n",
            "\u001b[?25hRequirement already satisfied: pandas>=0.24.0 in /usr/local/lib/python3.7/dist-packages (from geopandas) (1.1.5)\n",
            "Collecting pyproj>=2.2.0\n",
            "  Downloading pyproj-3.1.0-cp37-cp37m-manylinux2010_x86_64.whl (6.6 MB)\n",
            "\u001b[K     |████████████████████████████████| 6.6 MB 27.2 MB/s \n",
            "\u001b[?25hRequirement already satisfied: certifi in /usr/local/lib/python3.7/dist-packages (from fiona>=1.8->geopandas) (2021.5.30)\n",
            "Collecting cligj>=0.5\n",
            "  Downloading cligj-0.7.2-py3-none-any.whl (7.1 kB)\n",
            "Collecting munch\n",
            "  Downloading munch-2.5.0-py2.py3-none-any.whl (10 kB)\n",
            "Requirement already satisfied: click>=4.0 in /usr/local/lib/python3.7/dist-packages (from fiona>=1.8->geopandas) (7.1.2)\n",
            "Requirement already satisfied: setuptools in /usr/local/lib/python3.7/dist-packages (from fiona>=1.8->geopandas) (57.2.0)\n",
            "Requirement already satisfied: attrs>=17 in /usr/local/lib/python3.7/dist-packages (from fiona>=1.8->geopandas) (21.2.0)\n",
            "Collecting click-plugins>=1.0\n",
            "  Downloading click_plugins-1.1.1-py2.py3-none-any.whl (7.5 kB)\n",
            "Requirement already satisfied: six>=1.7 in /usr/local/lib/python3.7/dist-packages (from fiona>=1.8->geopandas) (1.15.0)\n",
            "Requirement already satisfied: python-dateutil>=2.7.3 in /usr/local/lib/python3.7/dist-packages (from pandas>=0.24.0->geopandas) (2.8.1)\n",
            "Requirement already satisfied: pytz>=2017.2 in /usr/local/lib/python3.7/dist-packages (from pandas>=0.24.0->geopandas) (2018.9)\n",
            "Requirement already satisfied: numpy>=1.15.4 in /usr/local/lib/python3.7/dist-packages (from pandas>=0.24.0->geopandas) (1.19.5)\n",
            "Installing collected packages: munch, cligj, click-plugins, pyproj, fiona, geopandas\n",
            "Successfully installed click-plugins-1.1.1 cligj-0.7.2 fiona-1.8.20 geopandas-0.9.0 munch-2.5.0 pyproj-3.1.0\n"
          ],
          "name": "stdout"
        }
      ]
    },
    {
      "cell_type": "code",
      "metadata": {
        "colab": {
          "base_uri": "https://localhost:8080/"
        },
        "id": "SD3fQOtpk4ox",
        "outputId": "10b3feea-5a13-4a20-fba1-234d2c52e81a"
      },
      "source": [
        "!pip install contextily"
      ],
      "execution_count": 2,
      "outputs": [
        {
          "output_type": "stream",
          "text": [
            "Collecting contextily\n",
            "  Downloading contextily-1.1.0-py3-none-any.whl (24 kB)\n",
            "Requirement already satisfied: geopy in /usr/local/lib/python3.7/dist-packages (from contextily) (1.17.0)\n",
            "Requirement already satisfied: pillow in /usr/local/lib/python3.7/dist-packages (from contextily) (7.1.2)\n",
            "Collecting rasterio\n",
            "  Downloading rasterio-1.2.6-cp37-cp37m-manylinux1_x86_64.whl (19.3 MB)\n",
            "\u001b[K     |████████████████████████████████| 19.3 MB 53.2 MB/s \n",
            "\u001b[?25hRequirement already satisfied: joblib in /usr/local/lib/python3.7/dist-packages (from contextily) (1.0.1)\n",
            "Requirement already satisfied: matplotlib in /usr/local/lib/python3.7/dist-packages (from contextily) (3.2.2)\n",
            "Collecting mercantile\n",
            "  Downloading mercantile-1.2.1-py3-none-any.whl (14 kB)\n",
            "Requirement already satisfied: requests in /usr/local/lib/python3.7/dist-packages (from contextily) (2.23.0)\n",
            "Requirement already satisfied: geographiclib<2,>=1.49 in /usr/local/lib/python3.7/dist-packages (from geopy->contextily) (1.52)\n",
            "Requirement already satisfied: numpy>=1.11 in /usr/local/lib/python3.7/dist-packages (from matplotlib->contextily) (1.19.5)\n",
            "Requirement already satisfied: pyparsing!=2.0.4,!=2.1.2,!=2.1.6,>=2.0.1 in /usr/local/lib/python3.7/dist-packages (from matplotlib->contextily) (2.4.7)\n",
            "Requirement already satisfied: cycler>=0.10 in /usr/local/lib/python3.7/dist-packages (from matplotlib->contextily) (0.10.0)\n",
            "Requirement already satisfied: kiwisolver>=1.0.1 in /usr/local/lib/python3.7/dist-packages (from matplotlib->contextily) (1.3.1)\n",
            "Requirement already satisfied: python-dateutil>=2.1 in /usr/local/lib/python3.7/dist-packages (from matplotlib->contextily) (2.8.1)\n",
            "Requirement already satisfied: six in /usr/local/lib/python3.7/dist-packages (from cycler>=0.10->matplotlib->contextily) (1.15.0)\n",
            "Requirement already satisfied: click>=3.0 in /usr/local/lib/python3.7/dist-packages (from mercantile->contextily) (7.1.2)\n",
            "Requirement already satisfied: cligj>=0.5 in /usr/local/lib/python3.7/dist-packages (from rasterio->contextily) (0.7.2)\n",
            "Collecting affine\n",
            "  Downloading affine-2.3.0-py2.py3-none-any.whl (15 kB)\n",
            "Collecting snuggs>=1.4.1\n",
            "  Downloading snuggs-1.4.7-py3-none-any.whl (5.4 kB)\n",
            "Requirement already satisfied: click-plugins in /usr/local/lib/python3.7/dist-packages (from rasterio->contextily) (1.1.1)\n",
            "Requirement already satisfied: certifi in /usr/local/lib/python3.7/dist-packages (from rasterio->contextily) (2021.5.30)\n",
            "Requirement already satisfied: setuptools in /usr/local/lib/python3.7/dist-packages (from rasterio->contextily) (57.2.0)\n",
            "Requirement already satisfied: attrs in /usr/local/lib/python3.7/dist-packages (from rasterio->contextily) (21.2.0)\n",
            "Requirement already satisfied: idna<3,>=2.5 in /usr/local/lib/python3.7/dist-packages (from requests->contextily) (2.10)\n",
            "Requirement already satisfied: urllib3!=1.25.0,!=1.25.1,<1.26,>=1.21.1 in /usr/local/lib/python3.7/dist-packages (from requests->contextily) (1.24.3)\n",
            "Requirement already satisfied: chardet<4,>=3.0.2 in /usr/local/lib/python3.7/dist-packages (from requests->contextily) (3.0.4)\n",
            "Installing collected packages: snuggs, affine, rasterio, mercantile, contextily\n",
            "Successfully installed affine-2.3.0 contextily-1.1.0 mercantile-1.2.1 rasterio-1.2.6 snuggs-1.4.7\n"
          ],
          "name": "stdout"
        }
      ]
    },
    {
      "cell_type": "code",
      "metadata": {
        "colab": {
          "base_uri": "https://localhost:8080/"
        },
        "id": "DeuMBj23lIKR",
        "outputId": "1b5ea98f-0d2a-471d-84bc-238a7f06a332"
      },
      "source": [
        "!pip install geovoronoi"
      ],
      "execution_count": 3,
      "outputs": [
        {
          "output_type": "stream",
          "text": [
            "Collecting geovoronoi\n",
            "  Downloading geovoronoi-0.3.0-py3-none-any.whl (21 kB)\n",
            "Collecting scipy<1.7,>=1.5.0\n",
            "  Downloading scipy-1.6.3-cp37-cp37m-manylinux1_x86_64.whl (27.4 MB)\n",
            "\u001b[K     |████████████████████████████████| 27.4 MB 99 kB/s \n",
            "\u001b[?25hRequirement already satisfied: shapely<1.8,>=1.7.0 in /usr/local/lib/python3.7/dist-packages (from geovoronoi) (1.7.1)\n",
            "Requirement already satisfied: numpy<2,>=1.19.0 in /usr/local/lib/python3.7/dist-packages (from geovoronoi) (1.19.5)\n",
            "Installing collected packages: scipy, geovoronoi\n",
            "  Attempting uninstall: scipy\n",
            "    Found existing installation: scipy 1.4.1\n",
            "    Uninstalling scipy-1.4.1:\n",
            "      Successfully uninstalled scipy-1.4.1\n",
            "\u001b[31mERROR: pip's dependency resolver does not currently take into account all the packages that are installed. This behaviour is the source of the following dependency conflicts.\n",
            "albumentations 0.1.12 requires imgaug<0.2.7,>=0.2.5, but you have imgaug 0.2.9 which is incompatible.\u001b[0m\n",
            "Successfully installed geovoronoi-0.3.0 scipy-1.6.3\n"
          ],
          "name": "stdout"
        }
      ]
    },
    {
      "cell_type": "code",
      "metadata": {
        "id": "twsZk556kTtr"
      },
      "source": [
        "import numpy as np\n",
        "import geopandas as gpd\n",
        "import pandas as pd\n",
        "from pandas import DataFrame\n",
        "import contextily as ctx\n",
        "import matplotlib.pyplot as plt\n",
        "from shapely.ops import cascaded_union\n",
        "from geovoronoi.plotting import subplot_for_map, plot_voronoi_polys_with_points_in_area\n",
        "from geovoronoi import voronoi_regions_from_coords, points_to_coords\n",
        "from scipy.spatial import Voronoi, voronoi_plot_2d"
      ],
      "execution_count": 4,
      "outputs": []
    },
    {
      "cell_type": "code",
      "metadata": {
        "colab": {
          "base_uri": "https://localhost:8080/"
        },
        "id": "XTu1A5udkeiK",
        "outputId": "03a39a4f-4f18-41f7-d67b-1423acdc5bd5"
      },
      "source": [
        "dados = pd.read_csv(\"/content/postos_itap - postos_itap.csv\")\n",
        "dados.shape"
      ],
      "execution_count": 5,
      "outputs": [
        {
          "output_type": "execute_result",
          "data": {
            "text/plain": [
              "(13, 4)"
            ]
          },
          "metadata": {
            "tags": []
          },
          "execution_count": 5
        }
      ]
    },
    {
      "cell_type": "code",
      "metadata": {
        "colab": {
          "base_uri": "https://localhost:8080/",
          "height": 204
        },
        "id": "uGUnx_tElrVN",
        "outputId": "1398371b-cc1d-4143-ca90-8832f5847665"
      },
      "source": [
        "dados.head()"
      ],
      "execution_count": 6,
      "outputs": [
        {
          "output_type": "execute_result",
          "data": {
            "text/html": [
              "<div>\n",
              "<style scoped>\n",
              "    .dataframe tbody tr th:only-of-type {\n",
              "        vertical-align: middle;\n",
              "    }\n",
              "\n",
              "    .dataframe tbody tr th {\n",
              "        vertical-align: top;\n",
              "    }\n",
              "\n",
              "    .dataframe thead th {\n",
              "        text-align: right;\n",
              "    }\n",
              "</style>\n",
              "<table border=\"1\" class=\"dataframe\">\n",
              "  <thead>\n",
              "    <tr style=\"text-align: right;\">\n",
              "      <th></th>\n",
              "      <th>Unnamed: 0</th>\n",
              "      <th>LATITUDE</th>\n",
              "      <th>LONGITUDE</th>\n",
              "      <th>NOME</th>\n",
              "    </tr>\n",
              "  </thead>\n",
              "  <tbody>\n",
              "    <tr>\n",
              "      <th>0</th>\n",
              "      <td>317</td>\n",
              "      <td>-23.760580</td>\n",
              "      <td>-46.814820</td>\n",
              "      <td>USF CRISPIM</td>\n",
              "    </tr>\n",
              "    <tr>\n",
              "      <th>1</th>\n",
              "      <td>1015</td>\n",
              "      <td>-23.684961</td>\n",
              "      <td>-46.826672</td>\n",
              "      <td>USF BRANCA FLOR</td>\n",
              "    </tr>\n",
              "    <tr>\n",
              "      <th>2</th>\n",
              "      <td>1165</td>\n",
              "      <td>-23.747577</td>\n",
              "      <td>-46.900990</td>\n",
              "      <td>USF POTUVERA</td>\n",
              "    </tr>\n",
              "    <tr>\n",
              "      <th>3</th>\n",
              "      <td>1314</td>\n",
              "      <td>-23.716320</td>\n",
              "      <td>-46.817250</td>\n",
              "      <td>USF SAO PEDRO</td>\n",
              "    </tr>\n",
              "    <tr>\n",
              "      <th>4</th>\n",
              "      <td>1524</td>\n",
              "      <td>-23.694630</td>\n",
              "      <td>-46.801610</td>\n",
              "      <td>USF VALO VELHO</td>\n",
              "    </tr>\n",
              "  </tbody>\n",
              "</table>\n",
              "</div>"
            ],
            "text/plain": [
              "   Unnamed: 0   LATITUDE  LONGITUDE             NOME\n",
              "0         317 -23.760580 -46.814820      USF CRISPIM\n",
              "1        1015 -23.684961 -46.826672  USF BRANCA FLOR\n",
              "2        1165 -23.747577 -46.900990     USF POTUVERA\n",
              "3        1314 -23.716320 -46.817250    USF SAO PEDRO\n",
              "4        1524 -23.694630 -46.801610   USF VALO VELHO"
            ]
          },
          "metadata": {
            "tags": []
          },
          "execution_count": 6
        }
      ]
    },
    {
      "cell_type": "code",
      "metadata": {
        "colab": {
          "base_uri": "https://localhost:8080/"
        },
        "id": "SK3_E_rcl4G8",
        "outputId": "5553dc72-c8b7-4b13-fab1-dfeffa507a9d"
      },
      "source": [
        "colunas = ['LATITUDE', 'LONGITUDE', 'NOME']\n",
        "postos = dados[colunas]\n",
        "postos.shape"
      ],
      "execution_count": 7,
      "outputs": [
        {
          "output_type": "execute_result",
          "data": {
            "text/plain": [
              "(13, 3)"
            ]
          },
          "metadata": {
            "tags": []
          },
          "execution_count": 7
        }
      ]
    },
    {
      "cell_type": "code",
      "metadata": {
        "colab": {
          "base_uri": "https://localhost:8080/"
        },
        "id": "QcCoUEE1nfLd",
        "outputId": "fa2d4586-c067-4273-963b-259e53fb9fb2"
      },
      "source": [
        "postos['LATITUDE'] = postos['LATITUDE'].astype(str)\n",
        "postos['LATITUDE'] = postos['LATITUDE'].str.replace(\",\", \".\")"
      ],
      "execution_count": 8,
      "outputs": [
        {
          "output_type": "stream",
          "text": [
            "/usr/local/lib/python3.7/dist-packages/ipykernel_launcher.py:1: SettingWithCopyWarning: \n",
            "A value is trying to be set on a copy of a slice from a DataFrame.\n",
            "Try using .loc[row_indexer,col_indexer] = value instead\n",
            "\n",
            "See the caveats in the documentation: https://pandas.pydata.org/pandas-docs/stable/user_guide/indexing.html#returning-a-view-versus-a-copy\n",
            "  \"\"\"Entry point for launching an IPython kernel.\n",
            "/usr/local/lib/python3.7/dist-packages/ipykernel_launcher.py:2: SettingWithCopyWarning: \n",
            "A value is trying to be set on a copy of a slice from a DataFrame.\n",
            "Try using .loc[row_indexer,col_indexer] = value instead\n",
            "\n",
            "See the caveats in the documentation: https://pandas.pydata.org/pandas-docs/stable/user_guide/indexing.html#returning-a-view-versus-a-copy\n",
            "  \n"
          ],
          "name": "stderr"
        }
      ]
    },
    {
      "cell_type": "code",
      "metadata": {
        "colab": {
          "base_uri": "https://localhost:8080/"
        },
        "id": "C5lO5EVvnhPX",
        "outputId": "88072b1f-5d2f-48ea-98e0-a608a4280a92"
      },
      "source": [
        "postos['LONGITUDE'] = postos['LONGITUDE'].astype(str)\n",
        "postos['LONGITUDE'] = postos['LONGITUDE'].str.replace(\",\", \".\")"
      ],
      "execution_count": 9,
      "outputs": [
        {
          "output_type": "stream",
          "text": [
            "/usr/local/lib/python3.7/dist-packages/ipykernel_launcher.py:1: SettingWithCopyWarning: \n",
            "A value is trying to be set on a copy of a slice from a DataFrame.\n",
            "Try using .loc[row_indexer,col_indexer] = value instead\n",
            "\n",
            "See the caveats in the documentation: https://pandas.pydata.org/pandas-docs/stable/user_guide/indexing.html#returning-a-view-versus-a-copy\n",
            "  \"\"\"Entry point for launching an IPython kernel.\n",
            "/usr/local/lib/python3.7/dist-packages/ipykernel_launcher.py:2: SettingWithCopyWarning: \n",
            "A value is trying to be set on a copy of a slice from a DataFrame.\n",
            "Try using .loc[row_indexer,col_indexer] = value instead\n",
            "\n",
            "See the caveats in the documentation: https://pandas.pydata.org/pandas-docs/stable/user_guide/indexing.html#returning-a-view-versus-a-copy\n",
            "  \n"
          ],
          "name": "stderr"
        }
      ]
    },
    {
      "cell_type": "code",
      "metadata": {
        "colab": {
          "base_uri": "https://localhost:8080/"
        },
        "id": "sKq_XTxsoF_J",
        "outputId": "94a3b97f-03f2-4472-f77e-18347999abed"
      },
      "source": [
        "postos['LONGITUDE'] = postos['LONGITUDE'].astype(float)\n",
        "postos['LATITUDE'] = postos['LATITUDE'].astype(float)"
      ],
      "execution_count": 10,
      "outputs": [
        {
          "output_type": "stream",
          "text": [
            "/usr/local/lib/python3.7/dist-packages/ipykernel_launcher.py:1: SettingWithCopyWarning: \n",
            "A value is trying to be set on a copy of a slice from a DataFrame.\n",
            "Try using .loc[row_indexer,col_indexer] = value instead\n",
            "\n",
            "See the caveats in the documentation: https://pandas.pydata.org/pandas-docs/stable/user_guide/indexing.html#returning-a-view-versus-a-copy\n",
            "  \"\"\"Entry point for launching an IPython kernel.\n",
            "/usr/local/lib/python3.7/dist-packages/ipykernel_launcher.py:2: SettingWithCopyWarning: \n",
            "A value is trying to be set on a copy of a slice from a DataFrame.\n",
            "Try using .loc[row_indexer,col_indexer] = value instead\n",
            "\n",
            "See the caveats in the documentation: https://pandas.pydata.org/pandas-docs/stable/user_guide/indexing.html#returning-a-view-versus-a-copy\n",
            "  \n"
          ],
          "name": "stderr"
        }
      ]
    },
    {
      "cell_type": "code",
      "metadata": {
        "colab": {
          "base_uri": "https://localhost:8080/",
          "height": 452
        },
        "id": "qkU6L0_dAscC",
        "outputId": "0c35d423-6c0e-4dab-acb9-15a7dcb2d97e"
      },
      "source": [
        "postos"
      ],
      "execution_count": 11,
      "outputs": [
        {
          "output_type": "execute_result",
          "data": {
            "text/html": [
              "<div>\n",
              "<style scoped>\n",
              "    .dataframe tbody tr th:only-of-type {\n",
              "        vertical-align: middle;\n",
              "    }\n",
              "\n",
              "    .dataframe tbody tr th {\n",
              "        vertical-align: top;\n",
              "    }\n",
              "\n",
              "    .dataframe thead th {\n",
              "        text-align: right;\n",
              "    }\n",
              "</style>\n",
              "<table border=\"1\" class=\"dataframe\">\n",
              "  <thead>\n",
              "    <tr style=\"text-align: right;\">\n",
              "      <th></th>\n",
              "      <th>LATITUDE</th>\n",
              "      <th>LONGITUDE</th>\n",
              "      <th>NOME</th>\n",
              "    </tr>\n",
              "  </thead>\n",
              "  <tbody>\n",
              "    <tr>\n",
              "      <th>0</th>\n",
              "      <td>-23.760580</td>\n",
              "      <td>-46.814820</td>\n",
              "      <td>USF CRISPIM</td>\n",
              "    </tr>\n",
              "    <tr>\n",
              "      <th>1</th>\n",
              "      <td>-23.684961</td>\n",
              "      <td>-46.826672</td>\n",
              "      <td>USF BRANCA FLOR</td>\n",
              "    </tr>\n",
              "    <tr>\n",
              "      <th>2</th>\n",
              "      <td>-23.747577</td>\n",
              "      <td>-46.900990</td>\n",
              "      <td>USF POTUVERA</td>\n",
              "    </tr>\n",
              "    <tr>\n",
              "      <th>3</th>\n",
              "      <td>-23.716320</td>\n",
              "      <td>-46.817250</td>\n",
              "      <td>USF SAO PEDRO</td>\n",
              "    </tr>\n",
              "    <tr>\n",
              "      <th>4</th>\n",
              "      <td>-23.694630</td>\n",
              "      <td>-46.801610</td>\n",
              "      <td>USF VALO VELHO</td>\n",
              "    </tr>\n",
              "    <tr>\n",
              "      <th>5</th>\n",
              "      <td>-23.709170</td>\n",
              "      <td>-46.850760</td>\n",
              "      <td>UBS SALVADOR DE LEONE</td>\n",
              "    </tr>\n",
              "    <tr>\n",
              "      <th>6</th>\n",
              "      <td>-23.741920</td>\n",
              "      <td>-46.800990</td>\n",
              "      <td>USF MOMBACA</td>\n",
              "    </tr>\n",
              "    <tr>\n",
              "      <th>7</th>\n",
              "      <td>-23.745220</td>\n",
              "      <td>-46.802180</td>\n",
              "      <td>UBS JARDIM JACIRA</td>\n",
              "    </tr>\n",
              "    <tr>\n",
              "      <th>8</th>\n",
              "      <td>-23.739310</td>\n",
              "      <td>-46.797060</td>\n",
              "      <td>USF ANALANDIA</td>\n",
              "    </tr>\n",
              "    <tr>\n",
              "      <th>9</th>\n",
              "      <td>-23.748740</td>\n",
              "      <td>-46.781970</td>\n",
              "      <td>USF HORIZONTE AZUL</td>\n",
              "    </tr>\n",
              "    <tr>\n",
              "      <th>10</th>\n",
              "      <td>-23.717738</td>\n",
              "      <td>-46.889414</td>\n",
              "      <td>CENTRO DE DETENCAO PROVISORIA DE ITAPECERICA D...</td>\n",
              "    </tr>\n",
              "    <tr>\n",
              "      <th>11</th>\n",
              "      <td>-23.688010</td>\n",
              "      <td>-46.850310</td>\n",
              "      <td>USF JARDIM MONTESANO</td>\n",
              "    </tr>\n",
              "    <tr>\n",
              "      <th>12</th>\n",
              "      <td>-23.704740</td>\n",
              "      <td>-46.860330</td>\n",
              "      <td>USF PARQUE PARAISO</td>\n",
              "    </tr>\n",
              "  </tbody>\n",
              "</table>\n",
              "</div>"
            ],
            "text/plain": [
              "     LATITUDE  LONGITUDE                                               NOME\n",
              "0  -23.760580 -46.814820                                        USF CRISPIM\n",
              "1  -23.684961 -46.826672                                    USF BRANCA FLOR\n",
              "2  -23.747577 -46.900990                                       USF POTUVERA\n",
              "3  -23.716320 -46.817250                                      USF SAO PEDRO\n",
              "4  -23.694630 -46.801610                                     USF VALO VELHO\n",
              "5  -23.709170 -46.850760                              UBS SALVADOR DE LEONE\n",
              "6  -23.741920 -46.800990                                        USF MOMBACA\n",
              "7  -23.745220 -46.802180                                  UBS JARDIM JACIRA\n",
              "8  -23.739310 -46.797060                                      USF ANALANDIA\n",
              "9  -23.748740 -46.781970                                 USF HORIZONTE AZUL\n",
              "10 -23.717738 -46.889414  CENTRO DE DETENCAO PROVISORIA DE ITAPECERICA D...\n",
              "11 -23.688010 -46.850310                               USF JARDIM MONTESANO\n",
              "12 -23.704740 -46.860330                                 USF PARQUE PARAISO"
            ]
          },
          "metadata": {
            "tags": []
          },
          "execution_count": 11
        }
      ]
    },
    {
      "cell_type": "code",
      "metadata": {
        "id": "XO66N_IQmXJA"
      },
      "source": [
        "postos_pandas = gpd.GeoDataFrame(postos, geometry=gpd.points_from_xy(postos['LATITUDE'], postos['LONGITUDE']))"
      ],
      "execution_count": 13,
      "outputs": []
    },
    {
      "cell_type": "code",
      "metadata": {
        "colab": {
          "base_uri": "https://localhost:8080/",
          "height": 204
        },
        "id": "FsuKGw5Om7zt",
        "outputId": "056060f4-fbcf-4b5a-fbda-dd4111d48c13"
      },
      "source": [
        "postos_pandas.head()"
      ],
      "execution_count": 14,
      "outputs": [
        {
          "output_type": "execute_result",
          "data": {
            "text/html": [
              "<div>\n",
              "<style scoped>\n",
              "    .dataframe tbody tr th:only-of-type {\n",
              "        vertical-align: middle;\n",
              "    }\n",
              "\n",
              "    .dataframe tbody tr th {\n",
              "        vertical-align: top;\n",
              "    }\n",
              "\n",
              "    .dataframe thead th {\n",
              "        text-align: right;\n",
              "    }\n",
              "</style>\n",
              "<table border=\"1\" class=\"dataframe\">\n",
              "  <thead>\n",
              "    <tr style=\"text-align: right;\">\n",
              "      <th></th>\n",
              "      <th>LATITUDE</th>\n",
              "      <th>LONGITUDE</th>\n",
              "      <th>NOME</th>\n",
              "      <th>geometry</th>\n",
              "    </tr>\n",
              "  </thead>\n",
              "  <tbody>\n",
              "    <tr>\n",
              "      <th>0</th>\n",
              "      <td>-23.760580</td>\n",
              "      <td>-46.814820</td>\n",
              "      <td>USF CRISPIM</td>\n",
              "      <td>POINT (-23.76058 -46.81482)</td>\n",
              "    </tr>\n",
              "    <tr>\n",
              "      <th>1</th>\n",
              "      <td>-23.684961</td>\n",
              "      <td>-46.826672</td>\n",
              "      <td>USF BRANCA FLOR</td>\n",
              "      <td>POINT (-23.68496 -46.82667)</td>\n",
              "    </tr>\n",
              "    <tr>\n",
              "      <th>2</th>\n",
              "      <td>-23.747577</td>\n",
              "      <td>-46.900990</td>\n",
              "      <td>USF POTUVERA</td>\n",
              "      <td>POINT (-23.74758 -46.90099)</td>\n",
              "    </tr>\n",
              "    <tr>\n",
              "      <th>3</th>\n",
              "      <td>-23.716320</td>\n",
              "      <td>-46.817250</td>\n",
              "      <td>USF SAO PEDRO</td>\n",
              "      <td>POINT (-23.71632 -46.81725)</td>\n",
              "    </tr>\n",
              "    <tr>\n",
              "      <th>4</th>\n",
              "      <td>-23.694630</td>\n",
              "      <td>-46.801610</td>\n",
              "      <td>USF VALO VELHO</td>\n",
              "      <td>POINT (-23.69463 -46.80161)</td>\n",
              "    </tr>\n",
              "  </tbody>\n",
              "</table>\n",
              "</div>"
            ],
            "text/plain": [
              "    LATITUDE  LONGITUDE             NOME                     geometry\n",
              "0 -23.760580 -46.814820      USF CRISPIM  POINT (-23.76058 -46.81482)\n",
              "1 -23.684961 -46.826672  USF BRANCA FLOR  POINT (-23.68496 -46.82667)\n",
              "2 -23.747577 -46.900990     USF POTUVERA  POINT (-23.74758 -46.90099)\n",
              "3 -23.716320 -46.817250    USF SAO PEDRO  POINT (-23.71632 -46.81725)\n",
              "4 -23.694630 -46.801610   USF VALO VELHO  POINT (-23.69463 -46.80161)"
            ]
          },
          "metadata": {
            "tags": []
          },
          "execution_count": 14
        }
      ]
    },
    {
      "cell_type": "code",
      "metadata": {
        "colab": {
          "base_uri": "https://localhost:8080/"
        },
        "id": "Dckv1GzfP6ZV",
        "outputId": "07809781-1f18-4736-ad43-b828f7cd0b8b"
      },
      "source": [
        "print(type(postos_pandas))"
      ],
      "execution_count": 15,
      "outputs": [
        {
          "output_type": "stream",
          "text": [
            "<class 'geopandas.geodataframe.GeoDataFrame'>\n"
          ],
          "name": "stdout"
        }
      ]
    },
    {
      "cell_type": "code",
      "metadata": {
        "id": "PGo2ZGndoq9V"
      },
      "source": [
        "postos_pandas.crs = \"EPSG:4326\""
      ],
      "execution_count": 16,
      "outputs": []
    },
    {
      "cell_type": "code",
      "metadata": {
        "id": "j3gRdkBto8IX"
      },
      "source": [
        "postos_itap = gpd.read_file(\"/content/polygons7.shp\")"
      ],
      "execution_count": 17,
      "outputs": []
    },
    {
      "cell_type": "code",
      "metadata": {
        "colab": {
          "base_uri": "https://localhost:8080/",
          "height": 80
        },
        "id": "W0D35lwWNW22",
        "outputId": "86747b38-3e84-44de-e7aa-d247f52aad1b"
      },
      "source": [
        "postos_itap"
      ],
      "execution_count": 18,
      "outputs": [
        {
          "output_type": "execute_result",
          "data": {
            "text/html": [
              "<div>\n",
              "<style scoped>\n",
              "    .dataframe tbody tr th:only-of-type {\n",
              "        vertical-align: middle;\n",
              "    }\n",
              "\n",
              "    .dataframe tbody tr th {\n",
              "        vertical-align: top;\n",
              "    }\n",
              "\n",
              "    .dataframe thead th {\n",
              "        text-align: right;\n",
              "    }\n",
              "</style>\n",
              "<table border=\"1\" class=\"dataframe\">\n",
              "  <thead>\n",
              "    <tr style=\"text-align: right;\">\n",
              "      <th></th>\n",
              "      <th>ZID</th>\n",
              "      <th>NAME</th>\n",
              "      <th>ELEV</th>\n",
              "      <th>ICON</th>\n",
              "      <th>geometry</th>\n",
              "    </tr>\n",
              "  </thead>\n",
              "  <tbody>\n",
              "    <tr>\n",
              "      <th>0</th>\n",
              "      <td>0</td>\n",
              "      <td>Poligono</td>\n",
              "      <td>0.0</td>\n",
              "      <td>81</td>\n",
              "      <td>POLYGON ((-46.90345 -23.75860, -46.81899 -23.7...</td>\n",
              "    </tr>\n",
              "  </tbody>\n",
              "</table>\n",
              "</div>"
            ],
            "text/plain": [
              "   ZID      NAME  ELEV  ICON                                           geometry\n",
              "0    0  Poligono   0.0    81  POLYGON ((-46.90345 -23.75860, -46.81899 -23.7..."
            ]
          },
          "metadata": {
            "tags": []
          },
          "execution_count": 18
        }
      ]
    },
    {
      "cell_type": "code",
      "metadata": {
        "colab": {
          "base_uri": "https://localhost:8080/",
          "height": 483
        },
        "id": "5BI0DBfqPylN",
        "outputId": "1aa19cb8-5ec5-420e-b70b-efb807098a3c"
      },
      "source": [
        "postos_pandas.plot(figsize=(20,8))\n",
        "plt.show()"
      ],
      "execution_count": 28,
      "outputs": [
        {
          "output_type": "display_data",
          "data": {
            "image/png": "[encoded data removed]",
            "text/plain": [
              "<Figure size 1440x576 with 1 Axes>"
            ]
          },
          "metadata": {
            "tags": [],
            "needs_background": "light"
          }
        }
      ]
    },
    {
      "cell_type": "code",
      "metadata": {
        "id": "OXRkHtyAddDL"
      },
      "source": [
        "coolunas = ['LATITUDE', 'LONGITUDE']\n",
        "diagrama = postos_pandas[coolunas]"
      ],
      "execution_count": 31,
      "outputs": []
    },
    {
      "cell_type": "code",
      "metadata": {
        "id": "YAx3-6V-dH2C"
      },
      "source": [
        "vor = Voronoi(diagrama)"
      ],
      "execution_count": 32,
      "outputs": []
    },
    {
      "cell_type": "code",
      "metadata": {
        "colab": {
          "base_uri": "https://localhost:8080/",
          "height": 513
        },
        "id": "6qo27ALYdNZy",
        "outputId": "52cf5e08-e278-43a9-f268-47337971e066"
      },
      "source": [
        "voronoi_plot_2d(vor)"
      ],
      "execution_count": 33,
      "outputs": [
        {
          "output_type": "execute_result",
          "data": {
            "image/png": "[encoded data removed]",
            "text/plain": [
              "<Figure size 432x288 with 1 Axes>"
            ]
          },
          "metadata": {
            "tags": []
          },
          "execution_count": 33
        },
        {
          "output_type": "display_data",
          "data": {
            "image/png": "[encoded data removed]",
            "text/plain": [
              "<Figure size 432x288 with 1 Axes>"
            ]
          },
          "metadata": {
            "tags": [],
            "needs_background": "light"
          }
        }
      ]
    },
    {
      "cell_type": "code",
      "metadata": {
        "colab": {
          "base_uri": "https://localhost:8080/",
          "height": 265
        },
        "id": "1F444lacdpUW",
        "outputId": "089a1739-b3b2-427b-a779-921794f6996e"
      },
      "source": [
        "def voronoi_finite_polygons_2d(vor, radius=None):\n",
        "    if vor.points.shape[1] != 2:\n",
        "        raise ValueError(\"Requires 2D input\")\n",
        "\n",
        "    new_regions = []\n",
        "    new_vertices = vor.vertices.tolist()\n",
        "\n",
        "    center = vor.points.mean(axis=0)\n",
        "    if radius is None:\n",
        "        radius = vor.points.ptp().max()\n",
        "\n",
        "    all_ridges = {}\n",
        "    for (p1, p2), (v1, v2) in zip(vor.ridge_points, vor.ridge_vertices):\n",
        "        all_ridges.setdefault(p1, []).append((p2, v1, v2))\n",
        "        all_ridges.setdefault(p2, []).append((p1, v1, v2))\n",
        "\n",
        "    for p1, region in enumerate(vor.point_region):\n",
        "        vertices = vor.regions[region]\n",
        "\n",
        "        if all(v >= 0 for v in vertices):\n",
        "            new_regions.append(vertices)\n",
        "            continue\n",
        "\n",
        "        ridges = all_ridges[p1]\n",
        "        new_region = [v for v in vertices if v >= 0]\n",
        "\n",
        "        for p2, v1, v2 in ridges:\n",
        "            if v2 < 0:\n",
        "                v1, v2 = v2, v1\n",
        "            if v1 >= 0:\n",
        "                continue\n",
        "\n",
        "            t = vor.points[p2] - vor.points[p1]\n",
        "            t /= np.linalg.norm(t)\n",
        "            n = np.array([-t[1], t[0]])  \n",
        "\n",
        "            midpoint = vor.points[[p1, p2]].mean(axis=0)\n",
        "            direction = np.sign(np.dot(midpoint - center, n)) * n\n",
        "            far_point = vor.vertices[v2] + direction * radius\n",
        "\n",
        "            new_region.append(len(new_vertices))\n",
        "            new_vertices.append(far_point.tolist())\n",
        "\n",
        "        vs = np.asarray([new_vertices[v] for v in new_region])\n",
        "        c = vs.mean(axis=0)\n",
        "        angles = np.arctan2(vs[:,1] - c[1], vs[:,0] - c[0])\n",
        "        new_region = np.array(new_region)[np.argsort(angles)]\n",
        "\n",
        "        new_regions.append(new_region.tolist())\n",
        "\n",
        "    return new_regions, np.asarray(new_vertices)\n",
        "\n",
        "vor = Voronoi(diagrama)\n",
        "\n",
        "regions, vertices = voronoi_finite_polygons_2d(vor)\n",
        "\n",
        "for region in regions:\n",
        "    polygon = vertices[region]\n",
        "    plt.fill(*zip(*polygon), alpha=0.4)\n",
        "\n",
        "plt.plot(diagrama['LATITUDE'], diagrama['LONGITUDE'], 'ko')\n",
        "plt.xlim(vor.min_bound[0] - 0.005, vor.max_bound[0] + 0.005)\n",
        "plt.ylim(vor.min_bound[1] - 0.05, vor.max_bound[1] + 0.05)\n",
        "\n",
        "plt.show()"
      ],
      "execution_count": 81,
      "outputs": [
        {
          "output_type": "display_data",
          "data": {
            "image/png": "[encoded data removed]",
            "text/plain": [
              "<Figure size 432x288 with 1 Axes>"
            ]
          },
          "metadata": {
            "tags": [],
            "needs_background": "light"
          }
        }
      ]
    },
    {
      "cell_type": "code",
      "metadata": {
        "colab": {
          "base_uri": "https://localhost:8080/",
          "height": 265
        },
        "id": "T23LJtCxuXeX",
        "outputId": "296cc473-8c23-45e1-8dc0-360c01f578a6"
      },
      "source": [
        "vor = Voronoi(diagrama)\n",
        "voronoi_plot_2d(vor)\n",
        "\n",
        "for region in vor.regions:\n",
        "    if not -1 in region:\n",
        "        polygon = [vor.vertices[i] for i in region]\n",
        "        plt.fill(*zip(*polygon))\n",
        "\n",
        "plt.xlim([-23.8, -23.65])\n",
        "\n",
        "plt.show()"
      ],
      "execution_count": 73,
      "outputs": [
        {
          "output_type": "display_data",
          "data": {
            "image/png": "[encoded data removed]",
            "text/plain": [
              "<Figure size 432x288 with 1 Axes>"
            ]
          },
          "metadata": {
            "tags": [],
            "needs_background": "light"
          }
        }
      ]
    }
  ]
}