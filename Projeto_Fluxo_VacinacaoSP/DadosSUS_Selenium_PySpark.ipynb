{
  "nbformat": 4,
  "nbformat_minor": 0,
  "metadata": {
    "colab": {
      "name": "DadosSUS_Selenium_PySpark",
      "provenance": [],
      "collapsed_sections": []
    },
    "kernelspec": {
      "name": "python3",
      "display_name": "Python 3"
    },
    "language_info": {
      "name": "python"
    },
    "accelerator": "TPU"
  },
  "cells": [
    {
      "cell_type": "markdown",
      "metadata": {
        "id": "S2wJRGI-IV2u"
      },
      "source": [
        "###Coletando e manipulando dados da vacinação da COVID-19 utilizando o  site OpenDataSUS, através da biblioteca Selenium e PySpark. "
      ]
    },
    {
      "cell_type": "markdown",
      "metadata": {
        "id": "dfc_GZwjawsQ"
      },
      "source": [
        "Importando e instalando algumas bibliotecas"
      ]
    },
    {
      "cell_type": "code",
      "metadata": {
        "colab": {
          "base_uri": "https://localhost:8080/"
        },
        "id": "Bsdr3Jz2UXg-",
        "outputId": "95995790-dc45-4cbf-91a4-1364c86db660"
      },
      "source": [
        "!pip install selenium\n",
        "!apt-get update\n",
        "!apt install chromium-chromedriver\n",
        "!cp /usr/lib/chromium-browser/chromedriver /usr/bin\n",
        "import sys\n",
        "sys.path.insert(0,'/usr/lib/chromium-browser/chromedriver')\n",
        "from selenium import webdriver\n",
        "import pandas as pd\n",
        "import numpy as np"
      ],
      "execution_count": 1,
      "outputs": [
        {
          "output_type": "stream",
          "text": [
            "Collecting selenium\n",
            "  Downloading selenium-3.141.0-py2.py3-none-any.whl (904 kB)\n",
            "\u001b[K     |████████████████████████████████| 904 kB 5.1 MB/s \n",
            "\u001b[?25hRequirement already satisfied: urllib3 in /usr/local/lib/python3.7/dist-packages (from selenium) (1.24.3)\n",
            "Installing collected packages: selenium\n",
            "Successfully installed selenium-3.141.0\n",
            "Ign:1 https://developer.download.nvidia.com/compute/cuda/repos/ubuntu1804/x86_64  InRelease\n",
            "Get:2 https://cloud.r-project.org/bin/linux/ubuntu bionic-cran40/ InRelease [3,626 B]\n",
            "Get:3 http://security.ubuntu.com/ubuntu bionic-security InRelease [88.7 kB]\n",
            "Ign:4 https://developer.download.nvidia.com/compute/machine-learning/repos/ubuntu1804/x86_64  InRelease\n",
            "Get:5 https://developer.download.nvidia.com/compute/cuda/repos/ubuntu1804/x86_64  Release [697 B]\n",
            "Get:6 http://ppa.launchpad.net/c2d4u.team/c2d4u4.0+/ubuntu bionic InRelease [15.9 kB]\n",
            "Hit:7 https://developer.download.nvidia.com/compute/machine-learning/repos/ubuntu1804/x86_64  Release\n",
            "Get:8 https://developer.download.nvidia.com/compute/cuda/repos/ubuntu1804/x86_64  Release.gpg [836 B]\n",
            "Hit:9 http://archive.ubuntu.com/ubuntu bionic InRelease\n",
            "Get:10 http://archive.ubuntu.com/ubuntu bionic-updates InRelease [88.7 kB]\n",
            "Hit:11 http://ppa.launchpad.net/cran/libgit2/ubuntu bionic InRelease\n",
            "Hit:13 http://ppa.launchpad.net/deadsnakes/ppa/ubuntu bionic InRelease\n",
            "Get:14 http://archive.ubuntu.com/ubuntu bionic-backports InRelease [74.6 kB]\n",
            "Get:15 http://ppa.launchpad.net/graphics-drivers/ppa/ubuntu bionic InRelease [21.3 kB]\n",
            "Ign:16 https://developer.download.nvidia.com/compute/cuda/repos/ubuntu1804/x86_64  Packages\n",
            "Get:16 https://developer.download.nvidia.com/compute/cuda/repos/ubuntu1804/x86_64  Packages [680 kB]\n",
            "Get:17 http://security.ubuntu.com/ubuntu bionic-security/universe amd64 Packages [1,420 kB]\n",
            "Get:18 http://security.ubuntu.com/ubuntu bionic-security/multiverse amd64 Packages [26.7 kB]\n",
            "Get:19 http://security.ubuntu.com/ubuntu bionic-security/main amd64 Packages [2,258 kB]\n",
            "Get:20 http://security.ubuntu.com/ubuntu bionic-security/restricted amd64 Packages [505 kB]\n",
            "Get:21 http://ppa.launchpad.net/c2d4u.team/c2d4u4.0+/ubuntu bionic/main Sources [1,785 kB]\n",
            "Get:22 http://ppa.launchpad.net/c2d4u.team/c2d4u4.0+/ubuntu bionic/main amd64 Packages [913 kB]\n",
            "Get:23 http://archive.ubuntu.com/ubuntu bionic-updates/multiverse amd64 Packages [33.6 kB]\n",
            "Get:24 http://archive.ubuntu.com/ubuntu bionic-updates/universe amd64 Packages [2,194 kB]\n",
            "Get:25 http://ppa.launchpad.net/graphics-drivers/ppa/ubuntu bionic/main amd64 Packages [44.1 kB]\n",
            "Get:26 http://archive.ubuntu.com/ubuntu bionic-updates/restricted amd64 Packages [537 kB]\n",
            "Get:27 http://archive.ubuntu.com/ubuntu bionic-updates/main amd64 Packages [2,694 kB]\n",
            "Fetched 13.4 MB in 4s (3,411 kB/s)\n",
            "Reading package lists... Done\n",
            "Reading package lists... Done\n",
            "Building dependency tree       \n",
            "Reading state information... Done\n",
            "The following additional packages will be installed:\n",
            "  chromium-browser chromium-browser-l10n chromium-codecs-ffmpeg-extra\n",
            "Suggested packages:\n",
            "  webaccounts-chromium-extension unity-chromium-extension\n",
            "The following NEW packages will be installed:\n",
            "  chromium-browser chromium-browser-l10n chromium-chromedriver\n",
            "  chromium-codecs-ffmpeg-extra\n",
            "0 upgraded, 4 newly installed, 0 to remove and 92 not upgraded.\n",
            "Need to get 86.0 MB of archives.\n",
            "After this operation, 298 MB of additional disk space will be used.\n",
            "Get:1 http://archive.ubuntu.com/ubuntu bionic-updates/universe amd64 chromium-codecs-ffmpeg-extra amd64 91.0.4472.101-0ubuntu0.18.04.1 [1,124 kB]\n",
            "Get:2 http://archive.ubuntu.com/ubuntu bionic-updates/universe amd64 chromium-browser amd64 91.0.4472.101-0ubuntu0.18.04.1 [76.1 MB]\n",
            "Get:3 http://archive.ubuntu.com/ubuntu bionic-updates/universe amd64 chromium-browser-l10n all 91.0.4472.101-0ubuntu0.18.04.1 [3,937 kB]\n",
            "Get:4 http://archive.ubuntu.com/ubuntu bionic-updates/universe amd64 chromium-chromedriver amd64 91.0.4472.101-0ubuntu0.18.04.1 [4,837 kB]\n",
            "Fetched 86.0 MB in 5s (19.0 MB/s)\n",
            "Selecting previously unselected package chromium-codecs-ffmpeg-extra.\n",
            "(Reading database ... 160837 files and directories currently installed.)\n",
            "Preparing to unpack .../chromium-codecs-ffmpeg-extra_91.0.4472.101-0ubuntu0.18.04.1_amd64.deb ...\n",
            "Unpacking chromium-codecs-ffmpeg-extra (91.0.4472.101-0ubuntu0.18.04.1) ...\n",
            "Selecting previously unselected package chromium-browser.\n",
            "Preparing to unpack .../chromium-browser_91.0.4472.101-0ubuntu0.18.04.1_amd64.deb ...\n",
            "Unpacking chromium-browser (91.0.4472.101-0ubuntu0.18.04.1) ...\n",
            "Selecting previously unselected package chromium-browser-l10n.\n",
            "Preparing to unpack .../chromium-browser-l10n_91.0.4472.101-0ubuntu0.18.04.1_all.deb ...\n",
            "Unpacking chromium-browser-l10n (91.0.4472.101-0ubuntu0.18.04.1) ...\n",
            "Selecting previously unselected package chromium-chromedriver.\n",
            "Preparing to unpack .../chromium-chromedriver_91.0.4472.101-0ubuntu0.18.04.1_amd64.deb ...\n",
            "Unpacking chromium-chromedriver (91.0.4472.101-0ubuntu0.18.04.1) ...\n",
            "Setting up chromium-codecs-ffmpeg-extra (91.0.4472.101-0ubuntu0.18.04.1) ...\n",
            "Setting up chromium-browser (91.0.4472.101-0ubuntu0.18.04.1) ...\n",
            "update-alternatives: using /usr/bin/chromium-browser to provide /usr/bin/x-www-browser (x-www-browser) in auto mode\n",
            "update-alternatives: using /usr/bin/chromium-browser to provide /usr/bin/gnome-www-browser (gnome-www-browser) in auto mode\n",
            "Setting up chromium-chromedriver (91.0.4472.101-0ubuntu0.18.04.1) ...\n",
            "Setting up chromium-browser-l10n (91.0.4472.101-0ubuntu0.18.04.1) ...\n",
            "Processing triggers for man-db (2.8.3-2ubuntu0.1) ...\n",
            "Processing triggers for hicolor-icon-theme (0.17-2) ...\n",
            "Processing triggers for mime-support (3.60ubuntu1) ...\n",
            "Processing triggers for libc-bin (2.27-3ubuntu1.2) ...\n",
            "/sbin/ldconfig.real: /usr/local/lib/python3.7/dist-packages/ideep4py/lib/libmkldnn.so.0 is not a symbolic link\n",
            "\n",
            "cp: '/usr/lib/chromium-browser/chromedriver' and '/usr/bin/chromedriver' are the same file\n"
          ],
          "name": "stdout"
        }
      ]
    },
    {
      "cell_type": "markdown",
      "metadata": {
        "id": "yDQCYTy9a2qY"
      },
      "source": [
        "Arrumando parametros para o Selenium"
      ]
    },
    {
      "cell_type": "code",
      "metadata": {
        "colab": {
          "base_uri": "https://localhost:8080/"
        },
        "id": "yKXpTr31Uj_N",
        "outputId": "5139065f-fbe6-47d1-e405-3ae772cf247a"
      },
      "source": [
        "chrome_options = webdriver.ChromeOptions()\n",
        "chrome_options.add_argument('--headless')\n",
        "chrome_options.add_argument('--no-sandbox')\n",
        "chrome_options.add_argument('--disable-dev-shm-usage')\n",
        "wd = webdriver.Chrome('chromedriver',chrome_options=chrome_options)"
      ],
      "execution_count": 2,
      "outputs": [
        {
          "output_type": "stream",
          "text": [
            "/usr/local/lib/python3.7/dist-packages/ipykernel_launcher.py:5: DeprecationWarning: use options instead of chrome_options\n",
            "  \"\"\"\n"
          ],
          "name": "stderr"
        }
      ]
    },
    {
      "cell_type": "markdown",
      "metadata": {
        "id": "QVB1Tw74a6pP"
      },
      "source": [
        "Instalando o PySpark"
      ]
    },
    {
      "cell_type": "code",
      "metadata": {
        "colab": {
          "base_uri": "https://localhost:8080/"
        },
        "id": "-lssbK4zUchY",
        "outputId": "80d275df-afe7-4f62-cab2-26d19973830e"
      },
      "source": [
        "!pip install pyspark"
      ],
      "execution_count": 3,
      "outputs": [
        {
          "output_type": "stream",
          "text": [
            "Collecting pyspark\n",
            "  Downloading pyspark-3.1.2.tar.gz (212.4 MB)\n",
            "\u001b[K     |████████████████████████████████| 212.4 MB 65 kB/s \n",
            "\u001b[?25hCollecting py4j==0.10.9\n",
            "  Downloading py4j-0.10.9-py2.py3-none-any.whl (198 kB)\n",
            "\u001b[K     |████████████████████████████████| 198 kB 53.3 MB/s \n",
            "\u001b[?25hBuilding wheels for collected packages: pyspark\n",
            "  Building wheel for pyspark (setup.py) ... \u001b[?25l\u001b[?25hdone\n",
            "  Created wheel for pyspark: filename=pyspark-3.1.2-py2.py3-none-any.whl size=212880768 sha256=60a81c6387138f398d1bbec731f549411430f326f67e43f62c5d07f5a563eba7\n",
            "  Stored in directory: /root/.cache/pip/wheels/a5/0a/c1/9561f6fecb759579a7d863dcd846daaa95f598744e71b02c77\n",
            "Successfully built pyspark\n",
            "Installing collected packages: py4j, pyspark\n",
            "Successfully installed py4j-0.10.9 pyspark-3.1.2\n"
          ],
          "name": "stdout"
        }
      ]
    },
    {
      "cell_type": "code",
      "metadata": {
        "id": "jcsftqBEmaIM"
      },
      "source": [
        "from pyspark.sql import SparkSession\n",
        "from pyspark.sql.types import *\n",
        "import pyspark.sql.functions"
      ],
      "execution_count": 4,
      "outputs": []
    },
    {
      "cell_type": "code",
      "metadata": {
        "id": "yWGKaGSSU2G-"
      },
      "source": [
        "wd.get(\"https://opendatasus.saude.gov.br/dataset/covid-19-vacinacao/resource/ef3bd0b8-b605-474b-9ae5-c97390c197a8\")"
      ],
      "execution_count": 5,
      "outputs": []
    },
    {
      "cell_type": "code",
      "metadata": {
        "id": "QTIDrqSLVQed"
      },
      "source": [
        "csv = wd.find_element_by_xpath('//*[@id=\"content\"]/div[3]/section/div/div[2]/ul/li[28]/a')\n",
        "csv.click()"
      ],
      "execution_count": null,
      "outputs": []
    },
    {
      "cell_type": "markdown",
      "metadata": {
        "id": "ONnn6atOa9rJ"
      },
      "source": [
        "Importando e Criando uma sessão do PySpark"
      ]
    },
    {
      "cell_type": "code",
      "metadata": {
        "id": "gU3AnATsVVUx"
      },
      "source": [
        "spark = SparkSession.builder.appName(\"SUS\").getOrCreate()"
      ],
      "execution_count": null,
      "outputs": []
    },
    {
      "cell_type": "markdown",
      "metadata": {
        "id": "QNwpZN8DbBgY"
      },
      "source": [
        "Lendo dados quando o arquivo ainda não foi baixado completamente"
      ]
    },
    {
      "cell_type": "code",
      "metadata": {
        "id": "f3zp9dzaaIUj"
      },
      "source": [
        "#dados = spark.read.csv(\"/content/part-00000-82c909ac-bd61-4712-a742-9ee4fa92068a.c000.csv.crdownload\", header=True, inferSchema=True)"
      ],
      "execution_count": null,
      "outputs": []
    },
    {
      "cell_type": "markdown",
      "metadata": {
        "id": "526oW4jubMTv"
      },
      "source": [
        "Lendo dados quando o arquivo já foi baixado"
      ]
    },
    {
      "cell_type": "code",
      "metadata": {
        "id": "-t2g_CUlVXxB"
      },
      "source": [
        "dados = spark.read.csv(\"/content/part-00000-9772d16f-da91-46da-8348-a23879553267.c000.csv\", header=True, inferSchema=True, sep=\";\")"
      ],
      "execution_count": null,
      "outputs": []
    },
    {
      "cell_type": "markdown",
      "metadata": {
        "id": "5_llnl045uJH"
      },
      "source": [
        "Convertendo para .parquet"
      ]
    },
    {
      "cell_type": "code",
      "metadata": {
        "id": "xF6Tz8Kn467Z"
      },
      "source": [
        "#dados.repartition(1).write.mode('overwrite').parquet('dados_sus')"
      ],
      "execution_count": null,
      "outputs": []
    },
    {
      "cell_type": "markdown",
      "metadata": {
        "id": "D4RWBL4UbQ_r"
      },
      "source": [
        "Exibindo as duas primeiras linhas do arquivo"
      ]
    },
    {
      "cell_type": "code",
      "metadata": {
        "colab": {
          "base_uri": "https://localhost:8080/"
        },
        "id": "g5cWxlgXVmBb",
        "outputId": "6145e9d6-d6e5-4f9c-e860-4e5221387598"
      },
      "source": [
        "dados.head(2)"
      ],
      "execution_count": null,
      "outputs": [
        {
          "output_type": "execute_result",
          "data": {
            "text/plain": [
              "[Row(document_id='e24e4551-41a9-4654-89fe-eb281970704b-i0b0', paciente_id='7d8eb839bbf8bd5b56dcb2481967f01d637311951026fed845c145438c028301', paciente_idade=62, paciente_datanascimento='1959-02-17', paciente_enumsexobiologico='F', paciente_racacor_codigo=99, paciente_racacor_valor='SEM INFORMACAO', paciente_endereco_coibgemunicipio=354990, paciente_endereco_copais=10, paciente_endereco_nmmunicipio='SAO JOSE DOS CAMPOS', paciente_endereco_nmpais='BRASIL', paciente_endereco_uf='SP', paciente_endereco_cep=12232, paciente_nacionalidade_enumnacionalidade='B', estabelecimento_valor=9172, estabelecimento_razaosocial='PREFEITURA MUNICIPAL DE SAO JOSE DOS CAMPOS', estalecimento_nofantasia='UBS JARDIM SATELITE', estabelecimento_municipio_codigo=354990, estabelecimento_municipio_nome='SAO JOSE DOS CAMPOS', estabelecimento_uf='SP', vacina_grupoatendimento_codigo=201, vacina_grupoatendimento_nome='Pessoas de 18 a 64 anos', vacina_categoria_codigo=2, vacina_categoria_nome='Faixa Etária', vacina_lote='210123', vacina_fabricante_nome='SINOVAC', vacina_fabricante_referencia=None, vacina_dataaplicacao='2021-04-19', vacina_descricao_dose='2ª\\xa0Dose', vacina_codigo=86, vacina_nome='Covid-19-Coronavac-Sinovac/Butantan', sistema_origem='VACIVIDA', data_importacao_rnds=datetime.datetime(2021, 4, 19, 3, 0), id_sistema_origem=18262),\n",
              " Row(document_id='8775003f-327d-4eea-a46a-26fe4be0acc6-i0b0', paciente_id='9a8dfd5f77a5d5856910283cdce4aa3eb4fd169dc0a831a975a2e1b642de29b1', paciente_idade=56, paciente_datanascimento='1964-10-23', paciente_enumsexobiologico='M', paciente_racacor_codigo=3, paciente_racacor_valor='PARDA', paciente_endereco_coibgemunicipio=354730, paciente_endereco_copais=10, paciente_endereco_nmmunicipio='SANTANA DE PARNAIBA', paciente_endereco_nmpais='BRASIL', paciente_endereco_uf='SP', paciente_endereco_cep=6501, paciente_nacionalidade_enumnacionalidade='B', estabelecimento_valor=2024047, estabelecimento_razaosocial='PREFEITURA MUNICIPAL DE BARUERI', estalecimento_nofantasia='UBS HELIO BERZAGHI', estabelecimento_municipio_codigo=350570, estabelecimento_municipio_nome='BARUERI', estabelecimento_uf='SP', vacina_grupoatendimento_codigo=201, vacina_grupoatendimento_nome='Pessoas de 18 a 64 anos', vacina_categoria_codigo=2, vacina_categoria_nome='Faixa Etária', vacina_lote='210270', vacina_fabricante_nome='SINOVAC', vacina_fabricante_referencia=None, vacina_dataaplicacao='2021-07-10', vacina_descricao_dose='2ª\\xa0Dose', vacina_codigo=86, vacina_nome='Covid-19-Coronavac-Sinovac/Butantan', sistema_origem='VACIVIDA', data_importacao_rnds=datetime.datetime(2021, 7, 10, 3, 0), id_sistema_origem=18262)]"
            ]
          },
          "metadata": {
            "tags": []
          },
          "execution_count": 9
        }
      ]
    },
    {
      "cell_type": "markdown",
      "metadata": {
        "id": "24JmXIWPbXUr"
      },
      "source": [
        "Exibindo o nome de todas as colunas do dataset"
      ]
    },
    {
      "cell_type": "code",
      "metadata": {
        "colab": {
          "base_uri": "https://localhost:8080/"
        },
        "id": "WwOkJenuVzH8",
        "outputId": "eea068cd-9ae7-47e4-c79f-65bda283697b"
      },
      "source": [
        "dados.columns"
      ],
      "execution_count": null,
      "outputs": [
        {
          "output_type": "execute_result",
          "data": {
            "text/plain": [
              "['document_id',\n",
              " 'paciente_id',\n",
              " 'paciente_idade',\n",
              " 'paciente_datanascimento',\n",
              " 'paciente_enumsexobiologico',\n",
              " 'paciente_racacor_codigo',\n",
              " 'paciente_racacor_valor',\n",
              " 'paciente_endereco_coibgemunicipio',\n",
              " 'paciente_endereco_copais',\n",
              " 'paciente_endereco_nmmunicipio',\n",
              " 'paciente_endereco_nmpais',\n",
              " 'paciente_endereco_uf',\n",
              " 'paciente_endereco_cep',\n",
              " 'paciente_nacionalidade_enumnacionalidade',\n",
              " 'estabelecimento_valor',\n",
              " 'estabelecimento_razaosocial',\n",
              " 'estalecimento_nofantasia',\n",
              " 'estabelecimento_municipio_codigo',\n",
              " 'estabelecimento_municipio_nome',\n",
              " 'estabelecimento_uf',\n",
              " 'vacina_grupoatendimento_codigo',\n",
              " 'vacina_grupoatendimento_nome',\n",
              " 'vacina_categoria_codigo',\n",
              " 'vacina_categoria_nome',\n",
              " 'vacina_lote',\n",
              " 'vacina_fabricante_nome',\n",
              " 'vacina_fabricante_referencia',\n",
              " 'vacina_dataaplicacao',\n",
              " 'vacina_descricao_dose',\n",
              " 'vacina_codigo',\n",
              " 'vacina_nome',\n",
              " 'sistema_origem',\n",
              " 'data_importacao_rnds',\n",
              " 'id_sistema_origem']"
            ]
          },
          "metadata": {
            "tags": []
          },
          "execution_count": 10
        }
      ]
    },
    {
      "cell_type": "markdown",
      "metadata": {
        "id": "75R9-NKlba9V"
      },
      "source": [
        "Exibindo o dataset"
      ]
    },
    {
      "cell_type": "code",
      "metadata": {
        "colab": {
          "base_uri": "https://localhost:8080/"
        },
        "id": "8zvjgsm7XIYX",
        "outputId": "7856f0e3-7a21-4129-8cc6-417a051212b2"
      },
      "source": [
        "dados.show()"
      ],
      "execution_count": null,
      "outputs": [
        {
          "output_type": "stream",
          "text": [
            "+--------------------+--------------------+--------------+-----------------------+--------------------------+-----------------------+----------------------+---------------------------------+------------------------+-----------------------------+------------------------+--------------------+---------------------+----------------------------------------+---------------------+---------------------------+------------------------+--------------------------------+------------------------------+------------------+------------------------------+----------------------------+-----------------------+---------------------+-----------+----------------------+----------------------------+--------------------+---------------------+-------------+--------------------+--------------+--------------------+-----------------+\n",
            "|         document_id|         paciente_id|paciente_idade|paciente_datanascimento|paciente_enumsexobiologico|paciente_racacor_codigo|paciente_racacor_valor|paciente_endereco_coibgemunicipio|paciente_endereco_copais|paciente_endereco_nmmunicipio|paciente_endereco_nmpais|paciente_endereco_uf|paciente_endereco_cep|paciente_nacionalidade_enumnacionalidade|estabelecimento_valor|estabelecimento_razaosocial|estalecimento_nofantasia|estabelecimento_municipio_codigo|estabelecimento_municipio_nome|estabelecimento_uf|vacina_grupoatendimento_codigo|vacina_grupoatendimento_nome|vacina_categoria_codigo|vacina_categoria_nome|vacina_lote|vacina_fabricante_nome|vacina_fabricante_referencia|vacina_dataaplicacao|vacina_descricao_dose|vacina_codigo|         vacina_nome|sistema_origem|data_importacao_rnds|id_sistema_origem|\n",
            "+--------------------+--------------------+--------------+-----------------------+--------------------------+-----------------------+----------------------+---------------------------------+------------------------+-----------------------------+------------------------+--------------------+---------------------+----------------------------------------+---------------------+---------------------------+------------------------+--------------------------------+------------------------------+------------------+------------------------------+----------------------------+-----------------------+---------------------+-----------+----------------------+----------------------------+--------------------+---------------------+-------------+--------------------+--------------+--------------------+-----------------+\n",
            "|9e496ee3-745a-419...|5d518350ac84124b8...|            44|             1976-12-07|                         F|                      1|                BRANCA|                           354580|                      10|         SANTA BARBARA D'O...|                  BRASIL|                  SP|                13450|                                       B|              2050900|       MUNICIPIO DE SANT...|    UNIDADE BASICA DE...|                          354580|          SANTA BARBARA D'O...|                SP|                           201|        Pessoas de 18 a 6...|                      2|         Faixa Etária| 215VCD171Z|    ASTRAZENECA/OXFORD|                        null|          2021-07-19|              1ª Dose|           85|Vacina Covid-19 -...|      VACIVIDA| 2021-07-19 03:00:00|            18262|\n",
            "|c755f54c-8d0f-410...|d09e6e171935e65f5...|            50|             1970-05-08|                         F|                     99|        SEM INFORMACAO|                           354850|                      10|                       SANTOS|                  BRASIL|                  SP|                11075|                                       B|              2085712|        MUNICIPIO DE SANTOS|    SEUB DE SAUDE DA ...|                          354850|                        SANTOS|                SP|                           801|               Ensino Básico|                      8| Trabalhadores da ...|     210109|               SINOVAC|                        null|          2021-04-10|              1ª Dose|           86|Covid-19-Coronava...|      VACIVIDA| 2021-04-10 03:00:00|            18262|\n",
            "|f7232803-33f6-431...|8a1132c752106fcfd...|            29|             1992-04-05|                         F|                      1|                BRANCA|                           350950|                      10|                     CAMPINAS|                  BRASIL|                  SP|                13070|                                       B|              2022672|       PREFEITURA MUNICI...|    CENTRO DE SAUDE J...|                          350950|                      CAMPINAS|                SP|                           201|        Pessoas de 18 a 6...|                      2|         Faixa Etária|     FC2495|                PFIZER|                        null|          2021-06-12|              1ª Dose|           87|Vacina covid-19 -...|      VACIVIDA| 2021-06-12 03:00:00|            18262|\n",
            "|9a85ba33-9c95-433...|038ba34bcffd7575b...|            55|             1966-02-24|                         F|                      1|                BRANCA|                           353470|                      10|                     OURINHOS|                  BRASIL|                  SP|                19911|                                       B|              2044617|       PREFEITURA MUNICI...|        CS I DE OURINHOS|                          353470|                      OURINHOS|                SP|                           201|        Pessoas de 18 a 6...|                      2|         Faixa Etária|    ABX0529|    ASTRAZENECA/OXFORD|                        null|          2021-06-07|              1ª Dose|           85|Vacina Covid-19 -...|      VACIVIDA| 2021-06-07 03:00:00|            18262|\n",
            "|1cf00c93-42de-434...|65551cb333fdb2f78...|            47|             1973-10-06|                         M|                      1|                BRANCA|                           353880|                      10|                       PIRAJU|                  BRASIL|                  SP|                18800|                                       B|              2029480|       PREFEITURA MUNICI...|    POLICLINICA DR LU...|                          353880|                        PIRAJU|                SP|                           103|           Diabetes Mellitus|                      1|         Comorbidades|    ABX0529|    ASTRAZENECA/OXFORD|                        null|          2021-05-21|              1ª Dose|           85|Vacina Covid-19 -...|      VACIVIDA| 2021-05-21 03:00:00|            18262|\n",
            "|76c3e2fe-5ea1-4af...|ba64dcf6a761646a6...|            52|             1968-08-10|                         M|                      1|                BRANCA|                           353300|                      10|                 NOVA GRANADA|                  BRASIL|                  SP|                15440|                                       B|              2038129|       PREFEITURA MUNICI...|      CS DE NOVA GRANADA|                          353300|                  NOVA GRANADA|                SP|                           201|        Pessoas de 18 a 6...|                      2|         Faixa Etária| 214VCD113Z|    ASTRAZENECA/OXFORD|                        null|          2021-06-21|              1ª Dose|           85|Vacina Covid-19 -...|      VACIVIDA| 2021-06-21 03:00:00|            18262|\n",
            "|75749be9-622e-46e...|9dd301fbb5aec77b7...|            64|             1956-07-22|                         M|                     99|        SEM INFORMACAO|                           355030|                      10|                    SAO PAULO|                  BRASIL|                  SP|                 3058|                                       B|              2078015|       FUNDACAO FACULDAD...|    HC DA FMUSP HOSPI...|                          355030|                     SAO PAULO|                SP|                           201|        Pessoas de 18 a 6...|                      2|         Faixa Etária| 213VCD019W|    ASTRAZENECA/OXFORD|                        null|          2021-04-23|              1ª Dose|           85|Vacina Covid-19 -...|      VACIVIDA| 2021-04-23 03:00:00|            18262|\n",
            "|bd9a3af6-4235-4db...|2082b95ea5eb38cde...|            28|             1993-02-21|                         M|                      4|               AMARELA|                           355030|                      10|                    SAO PAULO|                  BRASIL|                  SP|                 5762|                                       B|              2786842|       PREFEITURA DO MUN...|         UBS CAMPO LIMPO|                          355030|                     SAO PAULO|                SP|                           107|        Hipertensão de di...|                      1|         Comorbidades|     FC2495|                PFIZER|                        null|          2021-06-08|              1ª Dose|           87|Vacina covid-19 -...|      VACIVIDA| 2021-06-08 03:00:00|            18262|\n",
            "|c7e10416-d23d-4bc...|8139dab640d250b14...|            51|             1969-10-13|                         M|                     99|        SEM INFORMACAO|                           351060|                      10|                  CARAPICUIBA|                  BRASIL|                  SP|                 6381|                                       B|              7347103|       PREFEITURA MUNICI...|               CTA MOVEL|                          351060|                   CARAPICUIBA|                SP|                           201|        Pessoas de 18 a 6...|                      2|         Faixa Etária| 215VCD137Z|    ASTRAZENECA/OXFORD|                        null|          2021-07-03|              1ª Dose|           85|Vacina Covid-19 -...|      VACIVIDA| 2021-07-03 03:00:00|            18262|\n",
            "|a1174c69-01db-4e3...|ed574ccd034cf3473...|            37|             1984-05-13|                         F|                      4|               AMARELA|                           355030|                      10|                    SAO PAULO|                  BRASIL|                  SP|                 8180|                                       B|              2062658|       PREFEITURA DO MUN...|              UBS J MAIA|                          355030|                     SAO PAULO|                SP|                           109|        Obesidade Grave (...|                      1|         Comorbidades|     210217|               SINOVAC|                        null|          2021-06-03|              1ª Dose|           86|Covid-19-Coronava...|      VACIVIDA| 2021-06-03 03:00:00|            18262|\n",
            "|94cee53d-0741-461...|ad92959dcc77249d1...|            79|             1941-03-27|                         F|                     99|        SEM INFORMACAO|                           355030|                      10|                    SAO PAULO|                  BRASIL|                  SP|                 3090|                                       B|              2752360|       PREFEITURA DO MUN...|    UBS V NOVA MANCHE...|                          355030|                     SAO PAULO|                SP|                           204|        Pessoas de 75 a 7...|                      2|         Faixa Etária|     210041|               Sinovac|                        null|          2021-03-03|              1ª Dose|           86|Covid-19-Coronava...|      VACIVIDA| 2021-03-03 03:00:00|            18262|\n",
            "|31cfdde7-1513-493...|3f595153d0e938680...|            32|             1989-04-18|                         M|                      1|                BRANCA|                           351020|                      10|                 CAPAO BONITO|                  BRASIL|                  SP|                18302|                                       B|              2064308|       PREFEITURA MUNICI...|    UNIDADE PSF VILA ...|                          351020|                  CAPAO BONITO|                SP|                          1102|        Pessoas com Defic...|                     11| Pessoas com Defic...|     210276|               SINOVAC|                        null|          2021-06-24|              1ª Dose|           86|Covid-19-Coronava...|      VACIVIDA| 2021-06-24 03:00:00|            18262|\n",
            "|fb90817c-7f06-40c...|b2deaa1f1242a9df6...|            85|             1935-12-08|                         F|                      1|                BRANCA|                           354980|                      10|         SAO JOSE DO RIO P...|                  BRASIL|                  SP|                15057|                                       B|              3409740|       PREFEITURA MUNICI...|    UBSF JARDIM MARIA...|                          354980|          SAO JOSE DO RIO P...|                SP|                           205|        Pessoas de 80 ano...|                      2|         Faixa Etária|  202010033|               Sinovac|                        null|          2021-02-12|              1ª Dose|           86|Covid-19-Coronava...|      VACIVIDA| 2021-02-12 06:02:09|            18262|\n",
            "|e2e6a2dd-7339-434...|8fa299b04074570e7...|            37|             1984-03-14|                         F|                      1|                BRANCA|                           353190|                      10|                  MORRO AGUDO|                  BRASIL|                  SP|                14640|                                       B|              2057840|       PREFEITURA MUNICI...|    ESF II NILSON DE ...|                          353190|                   MORRO AGUDO|                SP|                           801|               Ensino Básico|                      8| Trabalhadores da ...|     EY0574|                PFIZER|                        null|          2021-06-14|              1ª Dose|           87|Vacina covid-19 -...|      VACIVIDA| 2021-06-14 03:00:00|            18262|\n",
            "|b97b0bdf-05f8-456...|e99af3601eaeb1683...|            61|             1959-10-03|                         F|                      3|                 PARDA|                           350700|                      10|                      BOITUVA|                  BRASIL|                  SP|                18550|                                       B|              2043246|       MUNICIPIO DE BOITUVA|    UNIDADE BASICA DE...|                          350700|                       BOITUVA|                SP|                           201|        Pessoas de 18 a 6...|                      2|         Faixa Etária| 214VCD049W|    ASTRAZENECA/OXFORD|                        null|          2021-05-05|              1ª Dose|           85|Vacina Covid-19 -...|      VACIVIDA| 2021-05-05 03:00:00|            18262|\n",
            "|827643c5-4557-405...|daa397457de152ff2...|            47|             1973-08-11|                         M|                      4|               AMARELA|                           352010|                      10|                    IGARAPAVA|                  BRASIL|                  SP|                14540|                                       B|              2745984|       PREFEITURA MUNICI...|    ESF EVARISTO RODR...|                          352010|                     IGARAPAVA|                SP|                           201|        Pessoas de 18 a 6...|                      2|         Faixa Etária|     EY0586|                PFIZER|                        null|          2021-07-06|              1ª Dose|           87|Vacina covid-19 -...|      VACIVIDA| 2021-07-06 03:00:00|            18262|\n",
            "|819cc735-962b-4d3...|edb95c67454ddc511...|            23|             1997-10-22|                         F|                     99|        SEM INFORMACAO|                           354990|                      10|          SAO JOSE DOS CAMPOS|                  BRASIL|                  SP|                12239|                                       B|                 9199|       PREFEITURA MUNICI...|    UBS JARDIM NOVA D...|                          354990|           SAO JOSE DOS CAMPOS|                SP|                           201|        Pessoas de 18 a 6...|                      2|         Faixa Etária|     210220|               SINOVAC|                        null|          2021-06-09|              1ª Dose|           86|Covid-19-Coronava...|      VACIVIDA| 2021-06-09 03:00:00|            18262|\n",
            "|0a85cda4-75b6-425...|b95fdb87e689c0ad2...|            46|             1975-04-11|                         M|                     99|        SEM INFORMACAO|                           354990|                      10|          SAO JOSE DOS CAMPOS|                  BRASIL|                  SP|                12220|                                       B|                 9377|       PREFEITURA MUNICI...|    UBS VILA INDUSTRI...|                          354990|           SAO JOSE DOS CAMPOS|                SP|                           106|        Doenças Cardiovas...|                      1|         Comorbidades|    ABX0529|    ASTRAZENECA/OXFORD|                        null|          2021-05-28|              1ª Dose|           85|Vacina Covid-19 -...|      VACIVIDA| 2021-05-28 03:00:00|            18262|\n",
            "|989df36a-0705-494...|61642fe801dec0d8c...|            42|             1979-01-19|                         F|                     99|        SEM INFORMACAO|                           355030|                      10|                    SAO PAULO|                  BRASIL|                  SP|                 5634|                                       B|              2068044|       PREFEITURA DO MUN...|     UBS HORTO FLORESTAL|                          355030|                     SAO PAULO|                SP|                           201|        Pessoas de 18 a 6...|                      2|         Faixa Etária| 215VCD132W|    ASTRAZENECA/OXFORD|                        null|          2021-06-30|              1ª Dose|           85|Vacina Covid-19 -...|      VACIVIDA| 2021-06-30 03:00:00|            18262|\n",
            "|0a2800f9-d2c5-4ad...|0a6dd69c34c43fda8...|            60|             1960-08-07|                         M|                     99|        SEM INFORMACAO|                           354870|                      10|         SAO BERNARDO DO C...|                  BRASIL|                  SP|                 9760|                                       B|              2037378|       PREFEITURA DO MUN...|           UBS SAO PEDRO|                          354870|          SAO BERNARDO DO C...|                SP|                           201|        Pessoas de 18 a 6...|                      2|         Faixa Etária| 213VCD026W|    ASTRAZENECA/OXFORD|                        null|          2021-05-07|              1ª Dose|           85|Vacina Covid-19 -...|      VACIVIDA| 2021-05-07 03:00:00|            18262|\n",
            "+--------------------+--------------------+--------------+-----------------------+--------------------------+-----------------------+----------------------+---------------------------------+------------------------+-----------------------------+------------------------+--------------------+---------------------+----------------------------------------+---------------------+---------------------------+------------------------+--------------------------------+------------------------------+------------------+------------------------------+----------------------------+-----------------------+---------------------+-----------+----------------------+----------------------------+--------------------+---------------------+-------------+--------------------+--------------+--------------------+-----------------+\n",
            "only showing top 20 rows\n",
            "\n"
          ],
          "name": "stdout"
        }
      ]
    },
    {
      "cell_type": "code",
      "metadata": {
        "colab": {
          "base_uri": "https://localhost:8080/"
        },
        "id": "t_2nt5CQaj5D",
        "outputId": "8648ac63-e623-49be-83c2-5c8f5105f997"
      },
      "source": [
        "dados.printSchema()"
      ],
      "execution_count": null,
      "outputs": [
        {
          "output_type": "stream",
          "text": [
            "root\n",
            " |-- document_id: string (nullable = true)\n",
            " |-- paciente_id: string (nullable = true)\n",
            " |-- paciente_idade: integer (nullable = true)\n",
            " |-- paciente_datanascimento: string (nullable = true)\n",
            " |-- paciente_enumsexobiologico: string (nullable = true)\n",
            " |-- paciente_racacor_codigo: integer (nullable = true)\n",
            " |-- paciente_racacor_valor: string (nullable = true)\n",
            " |-- paciente_endereco_coibgemunicipio: integer (nullable = true)\n",
            " |-- paciente_endereco_copais: integer (nullable = true)\n",
            " |-- paciente_endereco_nmmunicipio: string (nullable = true)\n",
            " |-- paciente_endereco_nmpais: string (nullable = true)\n",
            " |-- paciente_endereco_uf: string (nullable = true)\n",
            " |-- paciente_endereco_cep: integer (nullable = true)\n",
            " |-- paciente_nacionalidade_enumnacionalidade: string (nullable = true)\n",
            " |-- estabelecimento_valor: integer (nullable = true)\n",
            " |-- estabelecimento_razaosocial: string (nullable = true)\n",
            " |-- estalecimento_nofantasia: string (nullable = true)\n",
            " |-- estabelecimento_municipio_codigo: integer (nullable = true)\n",
            " |-- estabelecimento_municipio_nome: string (nullable = true)\n",
            " |-- estabelecimento_uf: string (nullable = true)\n",
            " |-- vacina_grupoatendimento_codigo: integer (nullable = true)\n",
            " |-- vacina_grupoatendimento_nome: string (nullable = true)\n",
            " |-- vacina_categoria_codigo: integer (nullable = true)\n",
            " |-- vacina_categoria_nome: string (nullable = true)\n",
            " |-- vacina_lote: string (nullable = true)\n",
            " |-- vacina_fabricante_nome: string (nullable = true)\n",
            " |-- vacina_fabricante_referencia: string (nullable = true)\n",
            " |-- vacina_dataaplicacao: string (nullable = true)\n",
            " |-- vacina_descricao_dose: string (nullable = true)\n",
            " |-- vacina_codigo: integer (nullable = true)\n",
            " |-- vacina_nome: string (nullable = true)\n",
            " |-- sistema_origem: string (nullable = true)\n",
            " |-- data_importacao_rnds: timestamp (nullable = true)\n",
            " |-- id_sistema_origem: integer (nullable = true)\n",
            "\n"
          ],
          "name": "stdout"
        }
      ]
    },
    {
      "cell_type": "markdown",
      "metadata": {
        "id": "vjEdjtuRs99V"
      },
      "source": [
        "#Dados São José"
      ]
    },
    {
      "cell_type": "code",
      "metadata": {
        "colab": {
          "base_uri": "https://localhost:8080/"
        },
        "id": "fClnbUUknVn5",
        "outputId": "f64bf903-bf76-44c5-94dc-01cb398146bf"
      },
      "source": [
        "dados.filter(dados['estabelecimento_municipio_nome'] == \"SAO JOSE DOS CAMPOS\").show()"
      ],
      "execution_count": null,
      "outputs": [
        {
          "output_type": "stream",
          "text": [
            "+--------------------+--------------------+--------------+-----------------------+--------------------------+-----------------------+----------------------+---------------------------------+------------------------+-----------------------------+------------------------+--------------------+---------------------+----------------------------------------+---------------------+---------------------------+------------------------+--------------------------------+------------------------------+------------------+------------------------------+----------------------------+-----------------------+---------------------+-----------+----------------------+----------------------------+--------------------+---------------------+-------------+--------------------+--------------------+--------------------+-----------------+\n",
            "|         document_id|         paciente_id|paciente_idade|paciente_datanascimento|paciente_enumsexobiologico|paciente_racacor_codigo|paciente_racacor_valor|paciente_endereco_coibgemunicipio|paciente_endereco_copais|paciente_endereco_nmmunicipio|paciente_endereco_nmpais|paciente_endereco_uf|paciente_endereco_cep|paciente_nacionalidade_enumnacionalidade|estabelecimento_valor|estabelecimento_razaosocial|estalecimento_nofantasia|estabelecimento_municipio_codigo|estabelecimento_municipio_nome|estabelecimento_uf|vacina_grupoatendimento_codigo|vacina_grupoatendimento_nome|vacina_categoria_codigo|vacina_categoria_nome|vacina_lote|vacina_fabricante_nome|vacina_fabricante_referencia|vacina_dataaplicacao|vacina_descricao_dose|vacina_codigo|         vacina_nome|      sistema_origem|data_importacao_rnds|id_sistema_origem|\n",
            "+--------------------+--------------------+--------------+-----------------------+--------------------------+-----------------------+----------------------+---------------------------------+------------------------+-----------------------------+------------------------+--------------------+---------------------+----------------------------------------+---------------------+---------------------------+------------------------+--------------------------------+------------------------------+------------------+------------------------------+----------------------------+-----------------------+---------------------+-----------+----------------------+----------------------------+--------------------+---------------------+-------------+--------------------+--------------------+--------------------+-----------------+\n",
            "|ad5267b2-a086-436...|683eb28439a084c02...|            73|             1947-12-12|                         M|                     99|        SEM INFORMACAO|                           354990|                      10|          SAO JOSE DOS CAMPOS|                  BRASIL|                  SP|                12225|                                       B|                 9261|       PREFEITURA MUNICI...|    UBS JARDIM AMERICANO|                          354990|           SAO JOSE DOS CAMPOS|                SP|                           203|        Pessoas de 70 a 7...|                      2|         Faixa Etária|     210062|               Sinovac|                        null|          2021-03-22|              1ª Dose|           86|Covid-19-Coronava...|            VACIVIDA| 2021-03-22 03:00:00|            18262|\n",
            "|edd60aea-0b4d-497...|c4b60faccc4666a80...|            71|             1949-11-25|                         F|                     99|        SEM INFORMACAO|                           354990|                      10|          SAO JOSE DOS CAMPOS|                  BRASIL|                  SP|                12226|                                       B|                 9393|       PREFEITURA MUNICI...|    UBS PARQUE INDUST...|                          354990|           SAO JOSE DOS CAMPOS|                SP|                           203|        Pessoas de 70 a 7...|                      2|         Faixa Etária|     210212|               SINOVAC|                        null|          2021-06-07|              2ª Dose|           86|Covid-19-Coronava...|            VACIVIDA| 2021-06-07 03:00:00|            18262|\n",
            "|c856c2f7-4f0d-4be...|29876c7f74296e1b8...|            67|             1954-07-14|                         M|                     99|        SEM INFORMACAO|                           354990|                      10|          SAO JOSE DOS CAMPOS|                  BRASIL|                  SP|                12220|                                       B|                 8990|       PREFEITURA MUNICI...|             UBS SANTANA|                          354990|           SAO JOSE DOS CAMPOS|                SP|                           202|        Pessoas de 65 a 6...|                      2|         Faixa Etária| 216VCD181W|    ASTRAZENECA/OXFORD|                        null|          2021-07-19|              2ª Dose|           85|Vacina Covid-19 -...|            VACIVIDA| 2021-07-19 03:00:00|            18262|\n",
            "|67e32e3d-e8e3-49b...|3723fa2e8b877cd4f...|            40|             1980-10-05|                         M|                      2|                 PRETA|                           351050|                      10|                CARAGUATATUBA|                  BRASIL|                  SP|                11674|                                       B|                 9148|       PREFEITURA MUNICI...|     UBS JARDIM PAULISTA|                          354990|           SAO JOSE DOS CAMPOS|                SP|                           107|        Hipertensão de di...|                      1|         Comorbidades| 214VCD060Z|    ASTRAZENECA/OXFORD|                        null|          2021-05-31|              1ª Dose|           85|Vacina Covid-19 -...|            VACIVIDA| 2021-05-31 03:00:00|            18262|\n",
            "|463c9348-c29a-44b...|c18ea16982cebefff...|            44|             1976-09-21|                         M|                     99|        SEM INFORMACAO|                           354990|                      10|          SAO JOSE DOS CAMPOS|                  BRASIL|                  SP|                 null|                                       B|                 8990|       PREFEITURA MUNICI...|             UBS SANTANA|                          354990|           SAO JOSE DOS CAMPOS|                SP|                           201|        Pessoas de 18 a 6...|                      2|         Faixa Etária|     210277|      SINOVAC/BUTANTAN|                        null|          2021-07-16|              2ª Dose|           86|Covid-19-Coronava...|            VACIVIDA| 2021-07-16 03:00:00|            18262|\n",
            "|cc0a5aa6-9df3-42b...|d9fb2e4a2278bf3fc...|            34|             1986-05-04|                         F|                     99|        SEM INFORMACAO|                           354990|                      10|          SAO JOSE DOS CAMPOS|                  BRASIL|                  SP|                12211|                                       B|                 9024|       PREFEITURA MUNICI...|           UBS CENTRO II|                          354990|           SAO JOSE DOS CAMPOS|                SP|                           926|                      Outros|                      9| Trabalhadores de ...| 213VCD021W|    ASTRAZENECA/OXFORD|                        null|          2021-04-26|              2ª Dose|           85|Vacina Covid-19 -...|            VACIVIDA| 2021-04-26 03:00:00|            18262|\n",
            "|68abc61d-1f3c-409...|34d81b0772b014a82...|            52|             1968-07-20|                         M|                     99|        SEM INFORMACAO|                           354990|                      10|          SAO JOSE DOS CAMPOS|                  BRASIL|                  SP|                12211|                                       B|                 8990|       PREFEITURA MUNICI...|             UBS SANTANA|                          354990|           SAO JOSE DOS CAMPOS|                SP|                           201|        Pessoas de 18 a 6...|                      2|         Faixa Etária| 214VCD088W|    ASTRAZENECA/OXFORD|                        null|          2021-06-15|              1ª Dose|           85|Vacina Covid-19 -...|            VACIVIDA| 2021-06-15 03:00:00|            18262|\n",
            "|e9a91ab3-a9e0-4f9...|e43b2e4b1c1a7a5ce...|            36|             1985-02-01|                         F|                      1|                BRANCA|                           313130|                      10|                     IPATINGA|                  BRASIL|                  MG|                35160|                                       B|                 9210|       PREFEITURA MUNICI...|          UBS VILA MARIA|                          354990|           SAO JOSE DOS CAMPOS|                SP|                             0|                        null|                   null|                 null|     200278|  SERUM INSTITUTE O...|                        null|          2021-02-05|              1ª Dose|           86|Covid-19-Coronava...|ESUS APS - NACION...| 2021-02-22 14:21:08|            18602|\n",
            "|896b4601-3654-4ed...|567f642f3fbdbb36a...|            57|             1963-12-01|                         M|                     99|        SEM INFORMACAO|                           354990|                      10|          SAO JOSE DOS CAMPOS|                  BRASIL|                  SP|                12211|                                       B|                 8990|       PREFEITURA MUNICI...|             UBS SANTANA|                          354990|           SAO JOSE DOS CAMPOS|                SP|                           107|        Hipertensão de di...|                      1|         Comorbidades| 214VCD060Z|    ASTRAZENECA/OXFORD|                        null|          2021-05-17|              1ª Dose|           85|Vacina Covid-19 -...|            VACIVIDA| 2021-05-17 03:00:00|            18262|\n",
            "|514f0e71-6ff4-406...|619bd47b473e53ffe...|            57|             1964-03-25|                         M|                     99|        SEM INFORMACAO|                           354990|                      10|          SAO JOSE DOS CAMPOS|                  BRASIL|                  SP|                12228|                                       B|                 9105|       PREFEITURA MUNICI...|         UBS VISTA VERDE|                          354990|           SAO JOSE DOS CAMPOS|                SP|                           201|        Pessoas de 18 a 6...|                      2|         Faixa Etária| J202106031|      SINOVAC/BUTANTAN|                        null|          2021-07-17|              2ª Dose|           86|Covid-19-Coronava...|            VACIVIDA| 2021-07-17 03:00:00|            18262|\n",
            "|22d14a7c-02cc-4fd...|8caee4f97314dfdee...|            53|             1967-06-02|                         M|                     99|        SEM INFORMACAO|                           354990|                      10|          SAO JOSE DOS CAMPOS|                  BRASIL|                  SP|                12211|                                       B|                 8990|       PREFEITURA MUNICI...|             UBS SANTANA|                          354990|           SAO JOSE DOS CAMPOS|                SP|                           107|        Hipertensão de di...|                      1|         Comorbidades|    ABX0529|    ASTRAZENECA/OXFORD|                        null|          2021-05-18|              1ª Dose|           85|Vacina Covid-19 -...|            VACIVIDA| 2021-05-18 03:00:00|            18262|\n",
            "|4f49e64c-5e1f-475...|c5eadae96361d6002...|            20|             2000-03-25|                         F|                     99|        SEM INFORMACAO|                           354990|                      10|          SAO JOSE DOS CAMPOS|                  BRASIL|                  SP|                12220|                                       B|              2085569|       CENTRO DE VALORIZ...|     CVV FRANCISCA JULIA|                          354990|           SAO JOSE DOS CAMPOS|                SP|                           926|                      Outros|                      9| Trabalhadores de ...|   4120Z005|    AstraZeneca/Oxford|                        null|          2021-01-29|              1ª Dose|           85|Vacina Covid-19 -...|            VACIVIDA| 2021-01-29 03:00:00|            18262|\n",
            "|d5f141de-d31c-40d...|b1b3492c2b6d7b6c0...|            53|             1967-06-13|                         F|                     99|        SEM INFORMACAO|                           354990|                      10|          SAO JOSE DOS CAMPOS|                  BRASIL|                  SP|                12232|                                       B|                 9660|       PREFEITURA MUNICI...|         UBS DOM PEDRO I|                          354990|           SAO JOSE DOS CAMPOS|                SP|                           107|        Hipertensão de di...|                      1|         Comorbidades|    ABX0529|    ASTRAZENECA/OXFORD|                        null|          2021-05-14|              1ª Dose|           85|Vacina Covid-19 -...|            VACIVIDA| 2021-05-14 03:00:00|            18262|\n",
            "|27252dfe-1343-4cb...|71c63e47b8c7f9691...|            62|             1958-12-08|                         F|                     99|        SEM INFORMACAO|                           354990|                      10|          SAO JOSE DOS CAMPOS|                  BRASIL|                  SP|                12241|                                       B|                 9245|       PREFEITURA MUNICI...|            UBS LIMOEIRO|                          354990|           SAO JOSE DOS CAMPOS|                SP|                           201|        Pessoas de 18 a 6...|                      2|         Faixa Etária| 214VCD050W|    ASTRAZENECA/OXFORD|                        null|          2021-05-05|              1ª Dose|           85|Vacina Covid-19 -...|            VACIVIDA| 2021-05-05 03:00:00|            18262|\n",
            "|15296d1e-7774-45e...|b2bcc9988fbf59a68...|            31|             1989-10-03|                         M|                      1|                BRANCA|                           353800|                      10|              PINDAMONHANGABA|                  BRASIL|                  SP|                12440|                                       B|                 9024|       PREFEITURA MUNICI...|           UBS CENTRO II|                          354990|           SAO JOSE DOS CAMPOS|                SP|                           201|        Pessoas de 18 a 6...|                      2|         Faixa Etária| J202106031|      SINOVAC/BUTANTAN|                        null|          2021-07-19|              1ª Dose|           86|Covid-19-Coronava...|            VACIVIDA| 2021-07-19 03:00:00|            18262|\n",
            "|92379ac2-5ca7-445...|bffe49eaff44dc5da...|            68|             1953-04-15|                         M|                     99|        SEM INFORMACAO|                           354990|                      10|          SAO JOSE DOS CAMPOS|                  BRASIL|                  SP|                12231|                                       B|                 9172|       PREFEITURA MUNICI...|     UBS JARDIM SATELITE|                          354990|           SAO JOSE DOS CAMPOS|                SP|                           202|        Pessoas de 65 a 6...|                      2|         Faixa Etária| 214VCD113Z|    ASTRAZENECA/OXFORD|                        null|          2021-07-13|              2ª Dose|           85|Vacina Covid-19 -...|            VACIVIDA| 2021-07-13 03:00:00|            18262|\n",
            "|63813390-b856-4d0...|463f015b6852cf89c...|            44|             1977-01-16|                         M|                      1|                BRANCA|                           354990|                      10|          SAO JOSE DOS CAMPOS|                  BRASIL|                  SP|                12242|                                       B|              2748029|       IRMANDADE DA SANT...|    SANTA CASA DE MIS...|                          354990|           SAO JOSE DOS CAMPOS|                SP|                           926|                      Outros|                      9| Trabalhadores de ...|  202010026|               Sinovac|                        null|          2021-02-23|              2ª Dose|           86|Covid-19-Coronava...|            VACIVIDA| 2021-02-23 03:00:00|            18262|\n",
            "|44de3cbd-35b8-43a...|4bd036d236476730d...|            54|             1967-02-01|                         M|                     99|        SEM INFORMACAO|                           354990|                      10|          SAO JOSE DOS CAMPOS|                  BRASIL|                  SP|                12236|                                       B|                 9229|       PREFEITURA MUNICI...|      UBS JARDIM ORIENTE|                          354990|           SAO JOSE DOS CAMPOS|                SP|                           103|           Diabetes Mellitus|                      1|         Comorbidades| 214VCD050W|    ASTRAZENECA/OXFORD|                        null|          2021-05-25|              1ª Dose|           85|Vacina Covid-19 -...|            VACIVIDA| 2021-05-25 03:00:00|            18262|\n",
            "|8b9bb800-8186-440...|b4b8becf1d8449520...|            53|             1968-02-25|                         M|                     99|        SEM INFORMACAO|                           354990|                      10|          SAO JOSE DOS CAMPOS|                  BRASIL|                  SP|                12235|                                       B|                 9172|       PREFEITURA MUNICI...|     UBS JARDIM SATELITE|                          354990|           SAO JOSE DOS CAMPOS|                SP|                           201|        Pessoas de 18 a 6...|                      2|         Faixa Etária| J202106025|      SINOVAC/BUTANTAN|                        null|          2021-07-16|              2ª Dose|           86|Covid-19-Coronava...|            VACIVIDA| 2021-07-16 03:00:00|            18262|\n",
            "|e263313b-743c-44c...|e86b29e0671d50d05...|            32|             1988-08-18|                         F|                     99|        SEM INFORMACAO|                           354990|                      10|          SAO JOSE DOS CAMPOS|                  BRASIL|                  SP|                12239|                                       B|              3473759|       PREFEITURA MUNICI...|    UBS RESIDENCIAL U...|                          354990|           SAO JOSE DOS CAMPOS|                SP|                           201|        Pessoas de 18 a 6...|                      2|         Faixa Etária| J202106031|      SINOVAC/BUTANTAN|                        null|          2021-07-17|              1ª Dose|           86|Covid-19-Coronava...|            VACIVIDA| 2021-07-17 03:00:00|            18262|\n",
            "+--------------------+--------------------+--------------+-----------------------+--------------------------+-----------------------+----------------------+---------------------------------+------------------------+-----------------------------+------------------------+--------------------+---------------------+----------------------------------------+---------------------+---------------------------+------------------------+--------------------------------+------------------------------+------------------+------------------------------+----------------------------+-----------------------+---------------------+-----------+----------------------+----------------------------+--------------------+---------------------+-------------+--------------------+--------------------+--------------------+-----------------+\n",
            "only showing top 20 rows\n",
            "\n"
          ],
          "name": "stdout"
        }
      ]
    },
    {
      "cell_type": "code",
      "metadata": {
        "colab": {
          "base_uri": "https://localhost:8080/"
        },
        "id": "FuyqtwwRrvRS",
        "outputId": "75092f36-4403-42b2-bf77-76242cdc2a9f"
      },
      "source": [
        "sjc = dados.filter(dados['estabelecimento_municipio_nome'] == \"SAO JOSE DOS CAMPOS\")\n",
        "sjc.show()"
      ],
      "execution_count": null,
      "outputs": [
        {
          "output_type": "stream",
          "text": [
            "+--------------------+--------------------+--------------+-----------------------+--------------------------+-----------------------+----------------------+---------------------------------+------------------------+-----------------------------+------------------------+--------------------+---------------------+----------------------------------------+---------------------+---------------------------+------------------------+--------------------------------+------------------------------+------------------+------------------------------+----------------------------+-----------------------+---------------------+-----------+----------------------+----------------------------+--------------------+---------------------+-------------+--------------------+--------------------+--------------------+-----------------+\n",
            "|         document_id|         paciente_id|paciente_idade|paciente_datanascimento|paciente_enumsexobiologico|paciente_racacor_codigo|paciente_racacor_valor|paciente_endereco_coibgemunicipio|paciente_endereco_copais|paciente_endereco_nmmunicipio|paciente_endereco_nmpais|paciente_endereco_uf|paciente_endereco_cep|paciente_nacionalidade_enumnacionalidade|estabelecimento_valor|estabelecimento_razaosocial|estalecimento_nofantasia|estabelecimento_municipio_codigo|estabelecimento_municipio_nome|estabelecimento_uf|vacina_grupoatendimento_codigo|vacina_grupoatendimento_nome|vacina_categoria_codigo|vacina_categoria_nome|vacina_lote|vacina_fabricante_nome|vacina_fabricante_referencia|vacina_dataaplicacao|vacina_descricao_dose|vacina_codigo|         vacina_nome|      sistema_origem|data_importacao_rnds|id_sistema_origem|\n",
            "+--------------------+--------------------+--------------+-----------------------+--------------------------+-----------------------+----------------------+---------------------------------+------------------------+-----------------------------+------------------------+--------------------+---------------------+----------------------------------------+---------------------+---------------------------+------------------------+--------------------------------+------------------------------+------------------+------------------------------+----------------------------+-----------------------+---------------------+-----------+----------------------+----------------------------+--------------------+---------------------+-------------+--------------------+--------------------+--------------------+-----------------+\n",
            "|819cc735-962b-4d3...|edb95c67454ddc511...|            23|             1997-10-22|                         F|                     99|        SEM INFORMACAO|                           354990|                      10|          SAO JOSE DOS CAMPOS|                  BRASIL|                  SP|                12239|                                       B|                 9199|       PREFEITURA MUNICI...|    UBS JARDIM NOVA D...|                          354990|           SAO JOSE DOS CAMPOS|                SP|                           201|        Pessoas de 18 a 6...|                      2|         Faixa Etária|     210220|               SINOVAC|                        null|          2021-06-09|              1ª Dose|           86|Covid-19-Coronava...|            VACIVIDA| 2021-06-09 03:00:00|            18262|\n",
            "|0a85cda4-75b6-425...|b95fdb87e689c0ad2...|            46|             1975-04-11|                         M|                     99|        SEM INFORMACAO|                           354990|                      10|          SAO JOSE DOS CAMPOS|                  BRASIL|                  SP|                12220|                                       B|                 9377|       PREFEITURA MUNICI...|    UBS VILA INDUSTRI...|                          354990|           SAO JOSE DOS CAMPOS|                SP|                           106|        Doenças Cardiovas...|                      1|         Comorbidades|    ABX0529|    ASTRAZENECA/OXFORD|                        null|          2021-05-28|              1ª Dose|           85|Vacina Covid-19 -...|            VACIVIDA| 2021-05-28 03:00:00|            18262|\n",
            "|bf058d24-fca3-4d6...|6b2907fbec29f8e46...|            36|             1984-08-16|                         M|                     99|        SEM INFORMACAO|                           354990|                      10|          SAO JOSE DOS CAMPOS|                  BRASIL|                  SP|                12214|                                       B|                 8990|       PREFEITURA MUNICI...|             UBS SANTANA|                          354990|           SAO JOSE DOS CAMPOS|                SP|                           201|        Pessoas de 18 a 6...|                      2|         Faixa Etária|     FA9095|                PFIZER|                        null|          2021-07-14|              1ª Dose|           87|Vacina covid-19 -...|            VACIVIDA| 2021-07-14 03:00:00|            18262|\n",
            "|584630ce-84a2-43b...|c587299e204cbb454...|            40|             1980-05-09|                         F|                     99|        SEM INFORMACAO|                           354990|                      10|          SAO JOSE DOS CAMPOS|                  BRASIL|                  SP|                12225|                                       B|                 9040|       PREFEITURA MUNICI...|      UBS NOVO HORIZONTE|                          354990|           SAO JOSE DOS CAMPOS|                SP|                             0|                        null|                   null|                 null|     200278|  SERUM INSTITUTE O...|                        null|          2021-02-08|              1ª Dose|           86|Covid-19-Coronava...|ESUS APS - NACION...| 2021-02-22 14:19:13|            18602|\n",
            "|51aa1950-41b9-457...|08dc702cda40b1abe...|            39|             1981-10-26|                         M|                      1|                BRANCA|                           317010|                      10|                      UBERABA|                  BRASIL|                  MG|                38050|                                       B|                 9059|       PREFEITURA MUNICI...|        UBS VILA TESOURO|                          354990|           SAO JOSE DOS CAMPOS|                SP|                           201|        Pessoas de 18 a 6...|                      2|         Faixa Etária|     FA9095|                PFIZER|                        null|          2021-07-06|              1ª Dose|           87|Vacina covid-19 -...|            VACIVIDA| 2021-07-06 03:00:00|            18262|\n",
            "|703b1f17-63b7-4f0...|533f7b6a1160e8f92...|            40|             1980-09-16|                         F|                     99|        SEM INFORMACAO|                           354990|                      10|          SAO JOSE DOS CAMPOS|                  BRASIL|                  SP|                12224|                                       B|                 9105|       PREFEITURA MUNICI...|         UBS VISTA VERDE|                          354990|           SAO JOSE DOS CAMPOS|                SP|                           103|           Diabetes Mellitus|                      1|         Comorbidades|    ABX0529|    ASTRAZENECA/OXFORD|                        null|          2021-05-27|              1ª Dose|           85|Vacina Covid-19 -...|            VACIVIDA| 2021-05-27 03:00:00|            18262|\n",
            "|1c45dfd3-9b90-4e0...|40e9e9dadfd239c26...|            51|             1969-10-19|                         F|                     99|        SEM INFORMACAO|                           354990|                      10|          SAO JOSE DOS CAMPOS|                  BRASIL|                  SP|                12247|                                       B|                 9253|       PREFEITURA MUNICI...|     UBS EUGENIO DE MELO|                          354990|           SAO JOSE DOS CAMPOS|                SP|                           201|        Pessoas de 18 a 6...|                      2|         Faixa Etária| 214VCD102W|    ASTRAZENECA/OXFORD|                        null|          2021-06-16|              1ª Dose|           85|Vacina Covid-19 -...|            VACIVIDA| 2021-06-16 03:00:00|            18262|\n",
            "|aa040877-1d2b-4b2...|82068656e2d8527a9...|            37|             1983-12-16|                         M|                     99|        SEM INFORMACAO|                           354990|                      10|          SAO JOSE DOS CAMPOS|                  BRASIL|                  SP|                12211|                                       B|                 8990|       PREFEITURA MUNICI...|             UBS SANTANA|                          354990|           SAO JOSE DOS CAMPOS|                SP|                          1101|        Pessoas com Defic...|                     11| Pessoas com Defic...|    ABX0529|    ASTRAZENECA/OXFORD|                        null|          2021-06-10|              1ª Dose|           85|Vacina Covid-19 -...|            VACIVIDA| 2021-06-10 03:00:00|            18262|\n",
            "|7c1dad6d-b157-40e...|4ab27dcc3cdaba246...|            55|             1965-11-30|                         F|                     99|        SEM INFORMACAO|                           354990|                      10|          SAO JOSE DOS CAMPOS|                  BRASIL|                  SP|                12226|                                       B|                 9040|       PREFEITURA MUNICI...|      UBS NOVO HORIZONTE|                          354990|           SAO JOSE DOS CAMPOS|                SP|                           107|        Hipertensão de di...|                      1|         Comorbidades| 214VCD060Z|    ASTRAZENECA/OXFORD|                        null|          2021-05-13|              1ª Dose|           85|Vacina Covid-19 -...|            VACIVIDA| 2021-05-13 03:00:00|            18262|\n",
            "|9b1d4d84-5aaa-442...|a8710573b3a859a16...|            73|             1947-06-28|                         M|                     99|        SEM INFORMACAO|                           354990|                      10|          SAO JOSE DOS CAMPOS|                  BRASIL|                  SP|                12242|                                       B|                 9024|       PREFEITURA MUNICI...|           UBS CENTRO II|                          354990|           SAO JOSE DOS CAMPOS|                SP|                           203|        Pessoas de 70 a 7...|                      2|         Faixa Etária|     210062|               Sinovac|                        null|          2021-03-19|              1ª Dose|           86|Covid-19-Coronava...|            VACIVIDA| 2021-03-19 03:00:00|            18262|\n",
            "|b16eecf0-6219-46f...|a444a10cd927340dc...|            46|             1974-07-29|                         F|                     99|        SEM INFORMACAO|                           354990|                      10|          SAO JOSE DOS CAMPOS|                  BRASIL|                  SP|                12225|                                       B|                 9105|       PREFEITURA MUNICI...|         UBS VISTA VERDE|                          354990|           SAO JOSE DOS CAMPOS|                SP|                           201|        Pessoas de 18 a 6...|                      2|         Faixa Etária| 214VCD044W|    ASTRAZENECA/OXFORD|                        null|          2021-06-17|              1ª Dose|           85|Vacina Covid-19 -...|            VACIVIDA| 2021-06-17 03:00:00|            18262|\n",
            "|7eb9fb74-2b02-488...|7098a6c226426ae2c...|            51|             1970-04-29|                         M|                     99|        SEM INFORMACAO|                           354990|                      10|          SAO JOSE DOS CAMPOS|                  BRASIL|                  SP|                12215|                                       B|                 9032|       PREFEITURA MUNICI...|            UBS COLONIAL|                          354990|           SAO JOSE DOS CAMPOS|                SP|                           201|        Pessoas de 18 a 6...|                      2|         Faixa Etária|     210276|               SINOVAC|                        null|          2021-06-23|              1ª Dose|           86|Covid-19-Coronava...|            VACIVIDA| 2021-06-23 03:00:00|            18262|\n",
            "|4d10667e-4b07-41c...|5264f361c757fd71e...|            82|             1939-02-13|                         M|                     99|        SEM INFORMACAO|                           354990|                      10|          SAO JOSE DOS CAMPOS|                  BRASIL|                  SP|                12212|                                       B|                 8990|       PREFEITURA MUNICI...|             UBS SANTANA|                          354990|           SAO JOSE DOS CAMPOS|                SP|                           205|        Pessoas de 80 ano...|                      2|         Faixa Etária|   4120Z026|    AstraZeneca/Oxford|                        null|          2021-03-01|              1ª Dose|           85|Vacina Covid-19 -...|            VACIVIDA| 2021-03-01 03:00:00|            18262|\n",
            "|42c5a5fa-f801-442...|cdc6e3769b1966acc...|            57|             1964-01-22|                         F|                     99|        SEM INFORMACAO|                           354990|                      10|          SAO JOSE DOS CAMPOS|                  BRASIL|                  SP|                12246|                                       B|                 9423|       PREFEITURA MUNICI...|    UBS JARDIM DAS IN...|                          354990|           SAO JOSE DOS CAMPOS|                SP|                           926|                      Outros|                      9| Trabalhadores de ...|     200278|               Sinovac|                        null|          2021-02-04|              1ª Dose|           86|Covid-19-Coronava...|            VACIVIDA| 2021-02-04 15:02:00|            18262|\n",
            "|a663e439-403b-4bb...|60e6bf43c1e7c199e...|            54|             1967-01-28|                         F|                     99|        SEM INFORMACAO|                           354990|                      10|          SAO JOSE DOS CAMPOS|                  BRASIL|                  SP|                12245|                                       B|                 9229|       PREFEITURA MUNICI...|      UBS JARDIM ORIENTE|                          354990|           SAO JOSE DOS CAMPOS|                SP|                           103|           Diabetes Mellitus|                      1|         Comorbidades|    ABX0529|    ASTRAZENECA/OXFORD|                        null|          2021-05-14|              1ª Dose|           85|Vacina Covid-19 -...|            VACIVIDA| 2021-05-14 03:00:00|            18262|\n",
            "|9aa89467-0349-493...|2a126b256529c8558...|            45|             1975-09-17|                         M|                     99|        SEM INFORMACAO|                           355030|                      10|                    SAO PAULO|                  BRASIL|                  SP|                 3729|                                       B|                 9105|       PREFEITURA MUNICI...|         UBS VISTA VERDE|                          354990|           SAO JOSE DOS CAMPOS|                SP|                           201|        Pessoas de 18 a 6...|                      2|         Faixa Etária| 215VCD142W|    ASTRAZENECA/OXFORD|                        null|          2021-06-30|              1ª Dose|           85|Vacina Covid-19 -...|            VACIVIDA| 2021-06-30 03:00:00|            18262|\n",
            "|1efda113-4894-42c...|59b180a487a592b72...|            69|             1951-06-30|                         F|                     99|        SEM INFORMACAO|                           354990|                      10|          SAO JOSE DOS CAMPOS|                  BRASIL|                  SP|                12234|                                       B|                 9172|       PREFEITURA MUNICI...|     UBS JARDIM SATELITE|                          354990|           SAO JOSE DOS CAMPOS|                SP|                             0|                        null|                   null|                 null|  202010033|  SINOVAC LIFE SCIE...|                        null|          2021-01-20|              1ª Dose|           85|Vacina Covid-19 -...|ESUS APS - NACION...| 2021-02-22 14:14:27|            18602|\n",
            "|81524fbe-825b-4b7...|575a84b6ef93ec66d...|            42|             1978-10-26|                         F|                      1|                BRANCA|                           352440|                      10|                      JACAREI|                  BRASIL|                  SP|                12324|                                       B|                 9024|       PREFEITURA MUNICI...|           UBS CENTRO II|                          354990|           SAO JOSE DOS CAMPOS|                SP|                             0|                        null|                   null|                 null|  202010033|  SERUM INSTITUTE O...|                        null|          2021-02-05|              1ª Dose|           86|Covid-19-Coronava...|ESUS APS - NACION...| 2021-02-22 14:17:21|            18602|\n",
            "|b4973149-3473-473...|cc59f3243e934e0ea...|            49|             1971-12-24|                         M|                     99|        SEM INFORMACAO|                           354990|                      10|          SAO JOSE DOS CAMPOS|                  BRASIL|                  SP|                 null|                                       B|                 8990|       PREFEITURA MUNICI...|             UBS SANTANA|                          354990|           SAO JOSE DOS CAMPOS|                SP|                           107|        Hipertensão de di...|                      1|         Comorbidades| 214VCD060Z|    ASTRAZENECA/OXFORD|                        null|          2021-05-26|              1ª Dose|           85|Vacina Covid-19 -...|            VACIVIDA| 2021-05-26 03:00:00|            18262|\n",
            "|c0801d0f-0ae3-4c0...|a6f20694ea51e7b89...|            52|             1969-01-30|                         F|                     99|        SEM INFORMACAO|                           354990|                      10|          SAO JOSE DOS CAMPOS|                  BRASIL|                  SP|                12228|                                       B|                 9105|       PREFEITURA MUNICI...|         UBS VISTA VERDE|                          354990|           SAO JOSE DOS CAMPOS|                SP|                           201|        Pessoas de 18 a 6...|                      2|         Faixa Etária|     210220|               SINOVAC|                        null|          2021-06-21|              1ª Dose|           86|Covid-19-Coronava...|            VACIVIDA| 2021-06-21 03:00:00|            18262|\n",
            "+--------------------+--------------------+--------------+-----------------------+--------------------------+-----------------------+----------------------+---------------------------------+------------------------+-----------------------------+------------------------+--------------------+---------------------+----------------------------------------+---------------------+---------------------------+------------------------+--------------------------------+------------------------------+------------------+------------------------------+----------------------------+-----------------------+---------------------+-----------+----------------------+----------------------------+--------------------+---------------------+-------------+--------------------+--------------------+--------------------+-----------------+\n",
            "only showing top 20 rows\n",
            "\n"
          ],
          "name": "stdout"
        }
      ]
    },
    {
      "cell_type": "code",
      "metadata": {
        "colab": {
          "base_uri": "https://localhost:8080/"
        },
        "id": "0wNS-hekXnew",
        "outputId": "0e39908f-3eca-428d-dc40-8d6e5b3eab52"
      },
      "source": [
        "print(\"Número de registros de São José dos Campos: {}\".format(sjc.count()))"
      ],
      "execution_count": null,
      "outputs": [
        {
          "output_type": "stream",
          "text": [
            "Número de registros de São José dos Campos: 575245\n"
          ],
          "name": "stdout"
        }
      ]
    },
    {
      "cell_type": "code",
      "metadata": {
        "colab": {
          "base_uri": "https://localhost:8080/"
        },
        "id": "4y63eedUr4sv",
        "outputId": "be5dec5b-9c75-492f-b752-77b74d0d423a"
      },
      "source": [
        "sjc.groupBy('estalecimento_nofantasia').count().orderBy('count').show()"
      ],
      "execution_count": null,
      "outputs": [
        {
          "output_type": "stream",
          "text": [
            "+------------------------+-----+\n",
            "|estalecimento_nofantasia|count|\n",
            "+------------------------+-----+\n",
            "|    UPA CAMPO DOS ALE...|   24|\n",
            "|    HOSPITAL ROYAL CA...|   39|\n",
            "|     UPA EUGENIO DE MELO|   41|\n",
            "|    COORD DE UNID PRI...|   42|\n",
            "|    CCZ CENTRO DE CON...|   54|\n",
            "|    UPA 24 HORAS ALTO...|   74|\n",
            "|      UPA NOVO HORIZONTE|  128|\n",
            "|    HOSPITAL PRO INFA...|  213|\n",
            "|        HOSPITAL PRONTIL|  228|\n",
            "|    CENTRO DE DETENCA...|  326|\n",
            "|    ASSOCIACAO INSTIT...|  379|\n",
            "|    ESQUADRAO DE SAUD...|  395|\n",
            "|    HOSPITAL E MATERN...|  396|\n",
            "|     CVV FRANCISCA JULIA|  579|\n",
            "|    HOSPITAL MATERNO ...|  615|\n",
            "|    HOSPITAL DE CLINI...|  702|\n",
            "|       HOSPITAL SAO JOSE| 1137|\n",
            "|        HOSPITAL PIO XII| 1186|\n",
            "|          UBS BONSUCESSO| 1217|\n",
            "|    CENTRO DE TRATAME...| 1305|\n",
            "+------------------------+-----+\n",
            "only showing top 20 rows\n",
            "\n"
          ],
          "name": "stdout"
        }
      ]
    },
    {
      "cell_type": "code",
      "metadata": {
        "colab": {
          "base_uri": "https://localhost:8080/"
        },
        "id": "FINdhaoetTIQ",
        "outputId": "e9d9c005-072a-4bdf-f965-94ac0bd93890"
      },
      "source": [
        "sjc.groupBy('estalecimento_nofantasia').count().orderBy('count', ascending=False).show()"
      ],
      "execution_count": null,
      "outputs": [
        {
          "output_type": "stream",
          "text": [
            "+------------------------+-----+\n",
            "|estalecimento_nofantasia|count|\n",
            "+------------------------+-----+\n",
            "|     UBS JARDIM SATELITE|83413|\n",
            "|            UBS CENTRO I|63006|\n",
            "|    UBS PARQUE INDUST...|51633|\n",
            "|         UBS VISTA VERDE|43633|\n",
            "|             UBS SANTANA|34252|\n",
            "|           UBS CENTRO II|19889|\n",
            "|    UBS VILA INDUSTRI...|17352|\n",
            "|    UBS JARDIM DAS IN...|14863|\n",
            "|     UBS JARDIM PAULISTA|13549|\n",
            "|      UBS NOVO HORIZONTE|13011|\n",
            "|     UBS EUGENIO DE MELO|11219|\n",
            "|      UBS JARDIM MORUMBI|10907|\n",
            "|      UBS JARDIM ORIENTE| 9559|\n",
            "|    UBS CAMPO DOS ALE...| 9399|\n",
            "|    UBS JARDIM DA GRANJA| 8964|\n",
            "|    UBS BOSQUE DOS EU...| 8808|\n",
            "|            UBS COLONIAL| 8505|\n",
            "|        UBS VILA TESOURO| 8359|\n",
            "|          UBS VILA MARIA| 8014|\n",
            "|               UBS PUTIM| 7904|\n",
            "+------------------------+-----+\n",
            "only showing top 20 rows\n",
            "\n"
          ],
          "name": "stdout"
        }
      ]
    },
    {
      "cell_type": "markdown",
      "metadata": {
        "id": "BUhTJT7EfaJI"
      },
      "source": [
        "#Itap"
      ]
    },
    {
      "cell_type": "code",
      "metadata": {
        "colab": {
          "base_uri": "https://localhost:8080/"
        },
        "id": "Xkn8056Wfc5n",
        "outputId": "f58ba545-c21f-4899-c5fe-5157e13c37e2"
      },
      "source": [
        "itap = dados.filter(dados['estabelecimento_municipio_nome'] == \"ITAPECERICA DA SERRA\")\n",
        "itap.show()"
      ],
      "execution_count": null,
      "outputs": [
        {
          "output_type": "stream",
          "text": [
            "+--------------------+--------------------+--------------+-----------------------+--------------------------+-----------------------+----------------------+---------------------------------+------------------------+-----------------------------+------------------------+--------------------+---------------------+----------------------------------------+---------------------+---------------------------+------------------------+--------------------------------+------------------------------+------------------+------------------------------+----------------------------+-----------------------+---------------------+------------+----------------------+----------------------------+--------------------+---------------------+-------------+--------------------+--------------+--------------------+-----------------+\n",
            "|         document_id|         paciente_id|paciente_idade|paciente_datanascimento|paciente_enumsexobiologico|paciente_racacor_codigo|paciente_racacor_valor|paciente_endereco_coibgemunicipio|paciente_endereco_copais|paciente_endereco_nmmunicipio|paciente_endereco_nmpais|paciente_endereco_uf|paciente_endereco_cep|paciente_nacionalidade_enumnacionalidade|estabelecimento_valor|estabelecimento_razaosocial|estalecimento_nofantasia|estabelecimento_municipio_codigo|estabelecimento_municipio_nome|estabelecimento_uf|vacina_grupoatendimento_codigo|vacina_grupoatendimento_nome|vacina_categoria_codigo|vacina_categoria_nome| vacina_lote|vacina_fabricante_nome|vacina_fabricante_referencia|vacina_dataaplicacao|vacina_descricao_dose|vacina_codigo|         vacina_nome|sistema_origem|data_importacao_rnds|id_sistema_origem|\n",
            "+--------------------+--------------------+--------------+-----------------------+--------------------------+-----------------------+----------------------+---------------------------------+------------------------+-----------------------------+------------------------+--------------------+---------------------+----------------------------------------+---------------------+---------------------------+------------------------+--------------------------------+------------------------------+------------------+------------------------------+----------------------------+-----------------------+---------------------+------------+----------------------+----------------------------+--------------------+---------------------+-------------+--------------------+--------------+--------------------+-----------------+\n",
            "|f92ba4d5-762f-4db...|a05aefa44ac930c85...|            32|             1988-07-02|                         M|                      1|                BRANCA|                           352220|                      10|         ITAPECERICA DA SERRA|                  BRASIL|                  SP|                 6872|                                       B|              2072335|                   SAUDE IS|    UBS SALVADOR DE L...|                          352220|          ITAPECERICA DA SERRA|                SP|                           926|                      Outros|                      9| Trabalhadores de ...|213VCD006ZVA|    ASTRAZENECA/OXFORD|                        null|          2021-05-05|              2ª Dose|           85|Vacina Covid-19 -...|      VACIVIDA| 2021-05-05 03:00:00|            18262|\n",
            "|a986c386-59c8-4c6...|dcb2c421e6df218d1...|            67|             1953-11-12|                         F|                      1|                BRANCA|                           352220|                      10|         ITAPECERICA DA SERRA|                  BRASIL|                  SP|                 6852|                                       B|              2039877|                   SAUDE IS|      USF PARQUE PARAISO|                          352220|          ITAPECERICA DA SERRA|                SP|                           202|        Pessoas de 65 a 6...|                      2|         Faixa Etária|  215VCD166Z|    ASTRAZENECA/OXFORD|                        null|          2021-07-14|              2ª Dose|           85|Vacina Covid-19 -...|      VACIVIDA| 2021-07-14 03:00:00|            18262|\n",
            "|e1111a38-60fa-48d...|56b34534345373c6c...|            61|             1959-05-22|                         F|                     99|        SEM INFORMACAO|                           352220|                      10|         ITAPECERICA DA SERRA|                  BRASIL|                  SP|                 6864|                                       B|              2072335|                   SAUDE IS|    UBS SALVADOR DE L...|                          352220|          ITAPECERICA DA SERRA|                SP|                           801|               Ensino Básico|                      8| Trabalhadores da ...|      210144|               SINOVAC|                        null|          2021-05-10|              2ª Dose|           86|Covid-19-Coronava...|      VACIVIDA| 2021-05-10 03:00:00|            18262|\n",
            "|10a1fae7-26f0-48b...|472e8465c2521a85e...|            65|             1955-09-20|                         M|                      1|                BRANCA|                           352220|                      10|         ITAPECERICA DA SERRA|                  BRASIL|                  SP|                 6874|                                       B|              2076772|                   SAUDE IS|             USF MOMBACA|                          352220|          ITAPECERICA DA SERRA|                SP|                           202|        Pessoas de 65 a 6...|                      2|         Faixa Etária|  215VCD137Z|    ASTRAZENECA/OXFORD|                        null|          2021-07-15|              2ª Dose|           85|Vacina Covid-19 -...|      VACIVIDA| 2021-07-15 03:00:00|            18262|\n",
            "|abfd69a7-3808-43f...|4db777cb69070f74b...|            70|             1951-03-28|                         F|                      4|               AMARELA|                           352220|                      10|         ITAPECERICA DA SERRA|                  BRASIL|                  SP|                 6850|                                       B|              2072335|                   SAUDE IS|    UBS SALVADOR DE L...|                          352220|          ITAPECERICA DA SERRA|                SP|                           203|        Pessoas de 70 a 7...|                      2|         Faixa Etária|      210135|               SINOVAC|                        null|          2021-04-20|              2ª Dose|           86|Covid-19-Coronava...|      VACIVIDA| 2021-04-20 03:00:00|            18262|\n",
            "|99c59a9f-937a-4dc...|e8eb4bae3f9a0c747...|            35|             1985-08-20|                         F|                      4|               AMARELA|                           352220|                      10|         ITAPECERICA DA SERRA|                  BRASIL|                  SP|                 6855|                                       B|              2048159|                   SAUDE IS|         USF BRANCA FLOR|                          352220|          ITAPECERICA DA SERRA|                SP|                           926|                      Outros|                      9| Trabalhadores de ...|      210135|               SINOVAC|                        null|          2021-04-26|              2ª Dose|           86|Covid-19-Coronava...|      VACIVIDA| 2021-04-26 03:00:00|            18262|\n",
            "|3db3cd04-b9ff-41a...|1a774c697c5588c29...|            39|             1981-10-23|                         F|                     99|        SEM INFORMACAO|                           352620|                      10|                    JUQUITIBA|                  BRASIL|                  SP|                 null|                                       B|              2792176|       SECRETARIA DE EST...|    HOSPITAL GERAL DE...|                          352220|          ITAPECERICA DA SERRA|                SP|                           926|                      Outros|                      9| Trabalhadores de ...|      210010|               SINOVAC|                        null|          2021-03-01|              2ª Dose|           86|Covid-19-Coronava...|      VACIVIDA| 2021-03-01 03:03:00|            18262|\n",
            "|397a8aba-f114-45e...|234f86e09fc95de45...|            44|             1976-08-31|                         F|                     99|        SEM INFORMACAO|                           352220|                      10|         ITAPECERICA DA SERRA|                  BRASIL|                  SP|                 6856|                                       B|              2048159|                   SAUDE IS|         USF BRANCA FLOR|                          352220|          ITAPECERICA DA SERRA|                SP|                           926|                      Outros|                      9| Trabalhadores de ...|      210135|               SINOVAC|                        null|          2021-04-15|              2ª Dose|           86|Covid-19-Coronava...|      VACIVIDA| 2021-04-15 03:00:00|            18262|\n",
            "|a3dda941-ec60-482...|8989fa2cdc859d125...|            40|             1980-06-11|                         F|                      1|                BRANCA|                           352220|                      10|         ITAPECERICA DA SERRA|                  BRASIL|                  SP|                 6852|                                       B|              7228163|                   SAUDE IS|    PRONTO SOCORRO CE...|                          352220|          ITAPECERICA DA SERRA|                SP|                           926|                      Outros|                      9| Trabalhadores de ...|   202010029|               Sinovac|                        null|          2021-02-15|              2ª Dose|           86|Covid-19-Coronava...|      VACIVIDA| 2021-02-15 03:00:00|            18262|\n",
            "|90b3faa7-edd5-4b1...|8470981e4b54dccc0...|            79|             1941-11-01|                         M|                      1|                BRANCA|                           260560|                      10|                       FLORES|                  BRASIL|                  PE|                56850|                                       B|              2039877|                   SAUDE IS|      USF PARQUE PARAISO|                          352220|          ITAPECERICA DA SERRA|                SP|                           204|        Pessoas de 75 a 7...|                      2|         Faixa Etária|  214VCD059W|    ASTRAZENECA/OXFORD|                        null|          2021-06-08|              2ª Dose|           85|Vacina Covid-19 -...|      VACIVIDA| 2021-06-08 03:00:00|            18262|\n",
            "|63f86147-9ba5-4ab...|9c276cd29050cd38c...|            85|             1935-10-08|                         M|                      1|                BRANCA|                           352220|                      10|         ITAPECERICA DA SERRA|                  BRASIL|                  SP|                 6874|                                       B|              2076772|                   SAUDE IS|             USF MOMBACA|                          352220|          ITAPECERICA DA SERRA|                SP|                           205|        Pessoas de 80 ano...|                      2|         Faixa Etária|      210088|               SINOVAC|                        null|          2021-03-31|              2ª Dose|           86|Covid-19-Coronava...|      VACIVIDA| 2021-03-31 03:00:00|            18262|\n",
            "|9cc8be0d-4a3d-4aa...|ca968ac22446b06e6...|            25|             1995-08-23|                         M|                      4|               AMARELA|                           150140|                      10|                        BELEM|                  BRASIL|                  PA|                66843|                                       B|              2792176|       SECRETARIA DE EST...|    HOSPITAL GERAL DE...|                          352220|          ITAPECERICA DA SERRA|                SP|                           926|                      Outros|                      9| Trabalhadores de ...|  213VCD026W|    ASTRAZENECA/OXFORD|                        null|          2021-05-11|              2ª Dose|           85|Vacina Covid-19 -...|      VACIVIDA| 2021-05-11 03:00:00|            18262|\n",
            "|75def61c-ac48-47a...|682adf47b60f590f4...|            67|             1953-08-01|                         M|                      3|                 PARDA|                           352220|                      10|         ITAPECERICA DA SERRA|                  BRASIL|                  SP|                 6856|                                       B|              2072335|                   SAUDE IS|    UBS SALVADOR DE L...|                          352220|          ITAPECERICA DA SERRA|                SP|                           202|        Pessoas de 65 a 6...|                      2|         Faixa Etária|  215VCD127W|    ASTRAZENECA/OXFORD|                        null|          2021-07-16|              2ª Dose|           85|Vacina Covid-19 -...|      VACIVIDA| 2021-07-16 03:00:00|            18262|\n",
            "|f05569a8-d72b-4ca...|4b0aaf613e49a1282...|            95|             1925-10-16|                         F|                      1|                BRANCA|                           355030|                      10|                    SAO PAULO|                  BRASIL|                  SP|                 5454|                                       B|              2053039|                   SAUDE IS|            USF POTUVERA|                          352220|          ITAPECERICA DA SERRA|                SP|                           301|        Pessoas de 60 ano...|                      3| Pessoas de 60 ano...|      210037|               Sinovac|                        null|          2021-03-04|              2ª Dose|           86|Covid-19-Coronava...|      VACIVIDA| 2021-03-04 03:00:00|            18262|\n",
            "|ffdcb1e9-47d2-422...|e2f367b7318bff3cd...|            77|             1944-01-20|                         F|                      3|                 PARDA|                           352220|                      10|         ITAPECERICA DA SERRA|                  BRASIL|                  SP|                 6864|                                       B|              2086298|                   SAUDE IS|       UBS JARDIM JACIRA|                          352220|          ITAPECERICA DA SERRA|                SP|                           204|        Pessoas de 75 a 7...|                      2|         Faixa Etária|      210088|               SINOVAC|                        null|          2021-04-09|              2ª Dose|           86|Covid-19-Coronava...|      VACIVIDA| 2021-04-09 03:00:00|            18262|\n",
            "|d933c032-ba38-4eb...|8c77310da71cbda0f...|            69|             1952-01-08|                         F|                      2|                 PRETA|                           355030|                      10|                    SAO PAULO|                  BRASIL|                  SP|                 5783|                                       B|              2023245|                   SAUDE IS|             USF CRISPIM|                          352220|          ITAPECERICA DA SERRA|                SP|                           202|        Pessoas de 65 a 6...|                      2|         Faixa Etária|      210121|               SINOVAC|                        null|          2021-04-27|              2ª Dose|           86|Covid-19-Coronava...|      VACIVIDA| 2021-04-27 03:00:00|            18262|\n",
            "|7c435b72-8f10-496...|8a4fa064087b8ae41...|            39|             1981-08-21|                         F|                     99|        SEM INFORMACAO|                           355030|                      10|                    SAO PAULO|                  BRASIL|                  SP|                 5013|                                       B|              2792176|       SECRETARIA DE EST...|    HOSPITAL GERAL DE...|                          352220|          ITAPECERICA DA SERRA|                SP|                           926|                      Outros|                      9| Trabalhadores de ...|   202010029|               SINOVAC|                        null|          2021-02-24|              2ª Dose|           86|Covid-19-Coronava...|      VACIVIDA| 2021-02-24 03:02:00|            18262|\n",
            "|9c5ac600-7c48-430...|6b783d90b6dcef814...|            77|             1943-03-23|                         F|                     99|        SEM INFORMACAO|                           431870|                      10|                 SAO LEOPOLDO|                  BRASIL|                  RS|                93115|                                       B|              2076772|                   SAUDE IS|             USF MOMBACA|                          352220|          ITAPECERICA DA SERRA|                SP|                           301|        Pessoas de 60 ano...|                      3| Pessoas de 60 ano...|   202010029|               Sinovac|                        null|          2021-02-26|              2ª Dose|           86|Covid-19-Coronava...|      VACIVIDA| 2021-02-26 03:00:00|            18262|\n",
            "|932cfe3a-36fe-4a9...|df9b471f171d7f115...|            81|             1939-11-10|                         M|                      1|                BRANCA|                           355030|                      10|                    SAO PAULO|                  BRASIL|                  SP|                 null|                                       B|              2066696|                   SAUDE IS|          USF VALO VELHO|                          352220|          ITAPECERICA DA SERRA|                SP|                           205|        Pessoas de 80 ano...|                      2|         Faixa Etária|  214VCD069W|    ASTRAZENECA/OXFORD|                        null|          2021-06-01|              2ª Dose|           85|Vacina Covid-19 -...|      VACIVIDA| 2021-06-01 03:00:00|            18262|\n",
            "|76455a6c-dd08-4da...|bbf6464b6cb6fe4c8...|            71|             1949-06-24|                         M|                     99|        SEM INFORMACAO|                           352220|                      10|         ITAPECERICA DA SERRA|                  BRASIL|                  SP|                 6864|                                       B|              2086298|                   SAUDE IS|       UBS JARDIM JACIRA|                          352220|          ITAPECERICA DA SERRA|                SP|                           203|        Pessoas de 70 a 7...|                      2|         Faixa Etária|      210135|               SINOVAC|                        null|          2021-04-19|              2ª Dose|           86|Covid-19-Coronava...|      VACIVIDA| 2021-04-19 03:00:00|            18262|\n",
            "+--------------------+--------------------+--------------+-----------------------+--------------------------+-----------------------+----------------------+---------------------------------+------------------------+-----------------------------+------------------------+--------------------+---------------------+----------------------------------------+---------------------+---------------------------+------------------------+--------------------------------+------------------------------+------------------+------------------------------+----------------------------+-----------------------+---------------------+------------+----------------------+----------------------------+--------------------+---------------------+-------------+--------------------+--------------+--------------------+-----------------+\n",
            "only showing top 20 rows\n",
            "\n"
          ],
          "name": "stdout"
        }
      ]
    },
    {
      "cell_type": "code",
      "metadata": {
        "colab": {
          "base_uri": "https://localhost:8080/"
        },
        "id": "NgDSf08xfk2z",
        "outputId": "f4c313fa-67e3-4ef8-ba2d-ad6c1bd317ab"
      },
      "source": [
        "print(\"Número de registros em Itapecerica da Serra: {}\".format(itap.count()))"
      ],
      "execution_count": null,
      "outputs": [
        {
          "output_type": "stream",
          "text": [
            "Número de registros em Itapecerica da Serra: 92842\n"
          ],
          "name": "stdout"
        }
      ]
    },
    {
      "cell_type": "code",
      "metadata": {
        "colab": {
          "base_uri": "https://localhost:8080/"
        },
        "id": "HBTgoL0vwf00",
        "outputId": "4239bf4b-e766-4555-f14f-14ee48e32f73"
      },
      "source": [
        "itap.groupBy('estalecimento_nofantasia').count().orderBy('count', ascending=False).show()"
      ],
      "execution_count": null,
      "outputs": [
        {
          "output_type": "stream",
          "text": [
            "+------------------------+-----+\n",
            "|estalecimento_nofantasia|count|\n",
            "+------------------------+-----+\n",
            "|    UBS SALVADOR DE L...|20447|\n",
            "|      USF PARQUE PARAISO|14206|\n",
            "|       UBS JARDIM JACIRA|10851|\n",
            "|          USF VALO VELHO| 9969|\n",
            "|             USF CRISPIM| 7090|\n",
            "|         USF BRANCA FLOR| 5998|\n",
            "|    USF JARDIM MONTESANO| 5531|\n",
            "|            USF POTUVERA| 4658|\n",
            "|           USF SAO PEDRO| 3451|\n",
            "|             USF MOMBACA| 3257|\n",
            "|           USF ANALANDIA| 2633|\n",
            "|    HOSPITAL GERAL DE...| 2202|\n",
            "|      USF HORIZONTE AZUL| 1720|\n",
            "|    CENTRO DE DETENCA...|  505|\n",
            "|    PRONTO SOCORRO CE...|  324|\n",
            "+------------------------+-----+\n",
            "\n"
          ],
          "name": "stdout"
        }
      ]
    },
    {
      "cell_type": "code",
      "metadata": {
        "id": "uW3-2HpSfkxF"
      },
      "source": [
        "itap_pandas = itap.toPandas()"
      ],
      "execution_count": null,
      "outputs": []
    },
    {
      "cell_type": "code",
      "metadata": {
        "id": "AqVP5KqJhFds"
      },
      "source": [
        "import pandas as pd\n",
        "import numpy as np\n",
        "import plotly.graph_objects as go"
      ],
      "execution_count": null,
      "outputs": []
    },
    {
      "cell_type": "code",
      "metadata": {
        "id": "t734LB30NNQ3",
        "colab": {
          "base_uri": "https://localhost:8080/"
        },
        "outputId": "2c4598bc-8cd0-4b65-fc0f-e11700e9df0d"
      },
      "source": [
        "print(type(itap_pandas))"
      ],
      "execution_count": null,
      "outputs": [
        {
          "output_type": "stream",
          "text": [
            "<class 'pandas.core.frame.DataFrame'>\n"
          ],
          "name": "stdout"
        }
      ]
    },
    {
      "cell_type": "code",
      "metadata": {
        "colab": {
          "base_uri": "https://localhost:8080/",
          "height": 513
        },
        "id": "cUS7-ph-imUO",
        "outputId": "6e3dee42-99f8-45b0-dafa-306c28c489f3"
      },
      "source": [
        "itap_pandas.head()"
      ],
      "execution_count": null,
      "outputs": [
        {
          "output_type": "execute_result",
          "data": {
            "text/html": [
              "<div>\n",
              "<style scoped>\n",
              "    .dataframe tbody tr th:only-of-type {\n",
              "        vertical-align: middle;\n",
              "    }\n",
              "\n",
              "    .dataframe tbody tr th {\n",
              "        vertical-align: top;\n",
              "    }\n",
              "\n",
              "    .dataframe thead th {\n",
              "        text-align: right;\n",
              "    }\n",
              "</style>\n",
              "<table border=\"1\" class=\"dataframe\">\n",
              "  <thead>\n",
              "    <tr style=\"text-align: right;\">\n",
              "      <th></th>\n",
              "      <th>document_id</th>\n",
              "      <th>paciente_id</th>\n",
              "      <th>paciente_idade</th>\n",
              "      <th>paciente_datanascimento</th>\n",
              "      <th>paciente_enumsexobiologico</th>\n",
              "      <th>paciente_racacor_codigo</th>\n",
              "      <th>paciente_racacor_valor</th>\n",
              "      <th>paciente_endereco_coibgemunicipio</th>\n",
              "      <th>paciente_endereco_copais</th>\n",
              "      <th>paciente_endereco_nmmunicipio</th>\n",
              "      <th>paciente_endereco_nmpais</th>\n",
              "      <th>paciente_endereco_uf</th>\n",
              "      <th>paciente_endereco_cep</th>\n",
              "      <th>paciente_nacionalidade_enumnacionalidade</th>\n",
              "      <th>estabelecimento_valor</th>\n",
              "      <th>estabelecimento_razaosocial</th>\n",
              "      <th>estalecimento_nofantasia</th>\n",
              "      <th>estabelecimento_municipio_codigo</th>\n",
              "      <th>estabelecimento_municipio_nome</th>\n",
              "      <th>estabelecimento_uf</th>\n",
              "      <th>vacina_grupoatendimento_codigo</th>\n",
              "      <th>vacina_grupoatendimento_nome</th>\n",
              "      <th>vacina_categoria_codigo</th>\n",
              "      <th>vacina_categoria_nome</th>\n",
              "      <th>vacina_lote</th>\n",
              "      <th>vacina_fabricante_nome</th>\n",
              "      <th>vacina_fabricante_referencia</th>\n",
              "      <th>vacina_dataaplicacao</th>\n",
              "      <th>vacina_descricao_dose</th>\n",
              "      <th>vacina_codigo</th>\n",
              "      <th>vacina_nome</th>\n",
              "      <th>sistema_origem</th>\n",
              "      <th>data_importacao_rnds</th>\n",
              "      <th>id_sistema_origem</th>\n",
              "    </tr>\n",
              "  </thead>\n",
              "  <tbody>\n",
              "    <tr>\n",
              "      <th>0</th>\n",
              "      <td>f92ba4d5-762f-4db7-aa54-66bb840f2e9d-i0b0</td>\n",
              "      <td>a05aefa44ac930c8569a6f3e9132e345c85f4627f3e508...</td>\n",
              "      <td>32</td>\n",
              "      <td>1988-07-02</td>\n",
              "      <td>M</td>\n",
              "      <td>1</td>\n",
              "      <td>BRANCA</td>\n",
              "      <td>352220.0</td>\n",
              "      <td>10.0</td>\n",
              "      <td>ITAPECERICA DA SERRA</td>\n",
              "      <td>BRASIL</td>\n",
              "      <td>SP</td>\n",
              "      <td>6872.0</td>\n",
              "      <td>B</td>\n",
              "      <td>2072335</td>\n",
              "      <td>SAUDE IS</td>\n",
              "      <td>UBS SALVADOR DE LEONE</td>\n",
              "      <td>352220</td>\n",
              "      <td>ITAPECERICA DA SERRA</td>\n",
              "      <td>SP</td>\n",
              "      <td>926</td>\n",
              "      <td>Outros</td>\n",
              "      <td>9</td>\n",
              "      <td>Trabalhadores de Saúde</td>\n",
              "      <td>213VCD006ZVA</td>\n",
              "      <td>ASTRAZENECA/OXFORD</td>\n",
              "      <td>None</td>\n",
              "      <td>2021-05-05</td>\n",
              "      <td>2ª Dose</td>\n",
              "      <td>85</td>\n",
              "      <td>Vacina Covid-19 - Covishield</td>\n",
              "      <td>VACIVIDA</td>\n",
              "      <td>2021-05-05 03:00:00</td>\n",
              "      <td>18262</td>\n",
              "    </tr>\n",
              "    <tr>\n",
              "      <th>1</th>\n",
              "      <td>a986c386-59c8-4c62-a985-f734e456dbfd-i0b0</td>\n",
              "      <td>dcb2c421e6df218d1622aaa746a95c743da339a214c914...</td>\n",
              "      <td>67</td>\n",
              "      <td>1953-11-12</td>\n",
              "      <td>F</td>\n",
              "      <td>1</td>\n",
              "      <td>BRANCA</td>\n",
              "      <td>352220.0</td>\n",
              "      <td>10.0</td>\n",
              "      <td>ITAPECERICA DA SERRA</td>\n",
              "      <td>BRASIL</td>\n",
              "      <td>SP</td>\n",
              "      <td>6852.0</td>\n",
              "      <td>B</td>\n",
              "      <td>2039877</td>\n",
              "      <td>SAUDE IS</td>\n",
              "      <td>USF PARQUE PARAISO</td>\n",
              "      <td>352220</td>\n",
              "      <td>ITAPECERICA DA SERRA</td>\n",
              "      <td>SP</td>\n",
              "      <td>202</td>\n",
              "      <td>Pessoas de 65 a 69 anos</td>\n",
              "      <td>2</td>\n",
              "      <td>Faixa Etária</td>\n",
              "      <td>215VCD166Z</td>\n",
              "      <td>ASTRAZENECA/OXFORD</td>\n",
              "      <td>None</td>\n",
              "      <td>2021-07-14</td>\n",
              "      <td>2ª Dose</td>\n",
              "      <td>85</td>\n",
              "      <td>Vacina Covid-19 - Covishield</td>\n",
              "      <td>VACIVIDA</td>\n",
              "      <td>2021-07-14 03:00:00</td>\n",
              "      <td>18262</td>\n",
              "    </tr>\n",
              "    <tr>\n",
              "      <th>2</th>\n",
              "      <td>e1111a38-60fa-48dd-8347-433fbdcee320-i0b0</td>\n",
              "      <td>56b34534345373c6c77b8d8ca9cfbda513537678c66219...</td>\n",
              "      <td>61</td>\n",
              "      <td>1959-05-22</td>\n",
              "      <td>F</td>\n",
              "      <td>99</td>\n",
              "      <td>SEM INFORMACAO</td>\n",
              "      <td>352220.0</td>\n",
              "      <td>10.0</td>\n",
              "      <td>ITAPECERICA DA SERRA</td>\n",
              "      <td>BRASIL</td>\n",
              "      <td>SP</td>\n",
              "      <td>6864.0</td>\n",
              "      <td>B</td>\n",
              "      <td>2072335</td>\n",
              "      <td>SAUDE IS</td>\n",
              "      <td>UBS SALVADOR DE LEONE</td>\n",
              "      <td>352220</td>\n",
              "      <td>ITAPECERICA DA SERRA</td>\n",
              "      <td>SP</td>\n",
              "      <td>801</td>\n",
              "      <td>Ensino Básico</td>\n",
              "      <td>8</td>\n",
              "      <td>Trabalhadores da Educação</td>\n",
              "      <td>210144</td>\n",
              "      <td>SINOVAC</td>\n",
              "      <td>None</td>\n",
              "      <td>2021-05-10</td>\n",
              "      <td>2ª Dose</td>\n",
              "      <td>86</td>\n",
              "      <td>Covid-19-Coronavac-Sinovac/Butantan</td>\n",
              "      <td>VACIVIDA</td>\n",
              "      <td>2021-05-10 03:00:00</td>\n",
              "      <td>18262</td>\n",
              "    </tr>\n",
              "    <tr>\n",
              "      <th>3</th>\n",
              "      <td>10a1fae7-26f0-48b9-9e86-d9c48c03720d-i0b0</td>\n",
              "      <td>472e8465c2521a85e101a214f759b230e2cf58ac51c94a...</td>\n",
              "      <td>65</td>\n",
              "      <td>1955-09-20</td>\n",
              "      <td>M</td>\n",
              "      <td>1</td>\n",
              "      <td>BRANCA</td>\n",
              "      <td>352220.0</td>\n",
              "      <td>10.0</td>\n",
              "      <td>ITAPECERICA DA SERRA</td>\n",
              "      <td>BRASIL</td>\n",
              "      <td>SP</td>\n",
              "      <td>6874.0</td>\n",
              "      <td>B</td>\n",
              "      <td>2076772</td>\n",
              "      <td>SAUDE IS</td>\n",
              "      <td>USF MOMBACA</td>\n",
              "      <td>352220</td>\n",
              "      <td>ITAPECERICA DA SERRA</td>\n",
              "      <td>SP</td>\n",
              "      <td>202</td>\n",
              "      <td>Pessoas de 65 a 69 anos</td>\n",
              "      <td>2</td>\n",
              "      <td>Faixa Etária</td>\n",
              "      <td>215VCD137Z</td>\n",
              "      <td>ASTRAZENECA/OXFORD</td>\n",
              "      <td>None</td>\n",
              "      <td>2021-07-15</td>\n",
              "      <td>2ª Dose</td>\n",
              "      <td>85</td>\n",
              "      <td>Vacina Covid-19 - Covishield</td>\n",
              "      <td>VACIVIDA</td>\n",
              "      <td>2021-07-15 03:00:00</td>\n",
              "      <td>18262</td>\n",
              "    </tr>\n",
              "    <tr>\n",
              "      <th>4</th>\n",
              "      <td>abfd69a7-3808-43f2-aac3-4501b73a9d09-i0b0</td>\n",
              "      <td>4db777cb69070f74b7626bb486f30cace242a67ccfcaa8...</td>\n",
              "      <td>70</td>\n",
              "      <td>1951-03-28</td>\n",
              "      <td>F</td>\n",
              "      <td>4</td>\n",
              "      <td>AMARELA</td>\n",
              "      <td>352220.0</td>\n",
              "      <td>10.0</td>\n",
              "      <td>ITAPECERICA DA SERRA</td>\n",
              "      <td>BRASIL</td>\n",
              "      <td>SP</td>\n",
              "      <td>6850.0</td>\n",
              "      <td>B</td>\n",
              "      <td>2072335</td>\n",
              "      <td>SAUDE IS</td>\n",
              "      <td>UBS SALVADOR DE LEONE</td>\n",
              "      <td>352220</td>\n",
              "      <td>ITAPECERICA DA SERRA</td>\n",
              "      <td>SP</td>\n",
              "      <td>203</td>\n",
              "      <td>Pessoas de 70 a 74 anos</td>\n",
              "      <td>2</td>\n",
              "      <td>Faixa Etária</td>\n",
              "      <td>210135</td>\n",
              "      <td>SINOVAC</td>\n",
              "      <td>None</td>\n",
              "      <td>2021-04-20</td>\n",
              "      <td>2ª Dose</td>\n",
              "      <td>86</td>\n",
              "      <td>Covid-19-Coronavac-Sinovac/Butantan</td>\n",
              "      <td>VACIVIDA</td>\n",
              "      <td>2021-04-20 03:00:00</td>\n",
              "      <td>18262</td>\n",
              "    </tr>\n",
              "  </tbody>\n",
              "</table>\n",
              "</div>"
            ],
            "text/plain": [
              "                                 document_id  ... id_sistema_origem\n",
              "0  f92ba4d5-762f-4db7-aa54-66bb840f2e9d-i0b0  ...             18262\n",
              "1  a986c386-59c8-4c62-a985-f734e456dbfd-i0b0  ...             18262\n",
              "2  e1111a38-60fa-48dd-8347-433fbdcee320-i0b0  ...             18262\n",
              "3  10a1fae7-26f0-48b9-9e86-d9c48c03720d-i0b0  ...             18262\n",
              "4  abfd69a7-3808-43f2-aac3-4501b73a9d09-i0b0  ...             18262\n",
              "\n",
              "[5 rows x 34 columns]"
            ]
          },
          "metadata": {
            "tags": []
          },
          "execution_count": 18
        }
      ]
    },
    {
      "cell_type": "code",
      "metadata": {
        "id": "3rcEqMPJjgyY"
      },
      "source": [
        "homens = itap_pandas[itap_pandas['paciente_enumsexobiologico'] == \"M\"]\n",
        "mulheres = itap_pandas[itap_pandas['paciente_enumsexobiologico'] == \"F\"]"
      ],
      "execution_count": null,
      "outputs": []
    },
    {
      "cell_type": "code",
      "metadata": {
        "colab": {
          "base_uri": "https://localhost:8080/"
        },
        "id": "bWYzsfLYlL2R",
        "outputId": "b7047a16-87c5-4c07-efc7-af49c4b16918"
      },
      "source": [
        "mulheres.shape"
      ],
      "execution_count": null,
      "outputs": [
        {
          "output_type": "execute_result",
          "data": {
            "text/plain": [
              "(51394, 34)"
            ]
          },
          "metadata": {
            "tags": []
          },
          "execution_count": 19
        }
      ]
    },
    {
      "cell_type": "code",
      "metadata": {
        "colab": {
          "base_uri": "https://localhost:8080/"
        },
        "id": "YB8yRxI5lNHq",
        "outputId": "c8ef0cc6-e131-4dbc-eb1f-6ecc3d244b9f"
      },
      "source": [
        "mulheres.shape[0]"
      ],
      "execution_count": null,
      "outputs": [
        {
          "output_type": "execute_result",
          "data": {
            "text/plain": [
              "51394"
            ]
          },
          "metadata": {
            "tags": []
          },
          "execution_count": 20
        }
      ]
    },
    {
      "cell_type": "code",
      "metadata": {
        "colab": {
          "base_uri": "https://localhost:8080/"
        },
        "id": "Kve_JMWTmbUl",
        "outputId": "d0ee357e-ef8c-4705-f293-613d810ae204"
      },
      "source": [
        "print(homens['paciente_idade'].value_counts())"
      ],
      "execution_count": null,
      "outputs": [
        {
          "output_type": "stream",
          "text": [
            "44    1271\n",
            "43    1258\n",
            "39    1212\n",
            "46    1205\n",
            "45    1205\n",
            "      ... \n",
            "97       1\n",
            "10       1\n",
            "14       1\n",
            "16       1\n",
            "0        1\n",
            "Name: paciente_idade, Length: 87, dtype: int64\n"
          ],
          "name": "stdout"
        }
      ]
    },
    {
      "cell_type": "code",
      "metadata": {
        "id": "JYPDOOzRmMPn"
      },
      "source": [
        "idade_homens = np.array(homens['paciente_idade'].value_counts())\n",
        "idade_mulheres = np.array(mulheres['paciente_idade'].value_counts())"
      ],
      "execution_count": null,
      "outputs": []
    },
    {
      "cell_type": "code",
      "metadata": {
        "colab": {
          "base_uri": "https://localhost:8080/"
        },
        "id": "nTCGiFMGnk0k",
        "outputId": "e51bed53-0597-4453-a55d-15baf3f00947"
      },
      "source": [
        "mulheres['paciente_idade'].unique()"
      ],
      "execution_count": null,
      "outputs": [
        {
          "output_type": "execute_result",
          "data": {
            "text/plain": [
              "array([ 67,  37,  42,  50,  41,  45,  73,  43,  76,  62,  61,  52,  36,\n",
              "        23,  58,  70,  40,  53,  63,  66,  69,  44,  86,  26,  35,  68,\n",
              "        46,  38,  57,  56,  21,  18,  49,  39,  47,  20,  55,  25,  22,\n",
              "        60,  51,  64,  33,  72,  54,  29,  34,  82,  77,  59,  31,  48,\n",
              "        24,  79,  65,  78,  74,  71,  85,  75,  19,  96,  32,  27,  84,\n",
              "        88,  30,  80,  28,  94,  91,  92,  87,  89,  81,  83,  90,  17,\n",
              "        93,  11,  13,  97,  98,  95, 100, 101,  15,  99,   0,  14, 106,\n",
              "       110, 105, 121,  12, 111], dtype=int32)"
            ]
          },
          "metadata": {
            "tags": []
          },
          "execution_count": 25
        }
      ]
    },
    {
      "cell_type": "code",
      "metadata": {
        "colab": {
          "base_uri": "https://localhost:8080/",
          "height": 542
        },
        "id": "hzbQlkhtin_O",
        "outputId": "c8b88d27-cb08-4180-e759-72184c4fe96a"
      },
      "source": [
        "layout = go.Layout(title=\"Número de Pessoas Vacinadas na cidade de Itapecerica da Serra\",\n",
        "                   yaxis=go.layout.YAxis(title='Idade'),\n",
        "                   xaxis=go.layout.XAxis(\n",
        "                       range=[-2000, 2000],\n",
        "                       tickvals=[-2000, -1000, -500, 0, 500, 1000, 2000],\n",
        "                       ticktext=[2000, 1000, 500, 0, 500, 1000, 2000],\n",
        "                       title='Número de Pessoas'),\n",
        "                   barmode='overlay',\n",
        "                   bargap=0.2)\n",
        "\n",
        "y = list(range(0, 100, 5))\n",
        "\n",
        "data = [go.Bar(y=y,\n",
        "               x=homens['paciente_idade'].value_counts(ascending=False),\n",
        "               orientation='h',\n",
        "               name='Homens',\n",
        "               hoverinfo='x',\n",
        "               marker=dict(color='#3CB371',\n",
        "                           colorscale='YlGnBu'),\n",
        "               text=homens['paciente_idade'].value_counts(ascending=False),\n",
        "               textposition='outside',textfont=dict(\n",
        "                                                  family=\"sans serif\",\n",
        "                                                  size=14,\n",
        "                                                  color=\"black\")\n",
        "               ),\n",
        "        go.Bar(y=y,\n",
        "               x=-1*mulheres['paciente_idade'].value_counts(ascending=False),\n",
        "               orientation='h',\n",
        "               name='Mulheres',\n",
        "               hoverinfo='x',\n",
        "               text=mulheres['paciente_idade'].value_counts(ascending=False),\n",
        "               marker=dict(color='#c34c8e',\n",
        "                           colorscale='purpor'),\n",
        "               textposition='outside',textfont=dict(\n",
        "                                                  family=\"sans serif\",\n",
        "                                                  size=14,\n",
        "                                                  color=\"black\")\n",
        "               )]\n",
        "fig = go.Figure(data=data, layout=layout)\n",
        "fig.show()"
      ],
      "execution_count": null,
      "outputs": [
        {
          "output_type": "display_data",
          "data": {
            "text/html": [
              "<html>\n",
              "<head><meta charset=\"utf-8\" /></head>\n",
              "<body>\n",
              "    <div>\n",
              "            <script src=\"https://cdnjs.cloudflare.com/ajax/libs/mathjax/2.7.5/MathJax.js?config=TeX-AMS-MML_SVG\"></script><script type=\"text/javascript\">if (window.MathJax) {MathJax.Hub.Config({SVG: {font: \"STIX-Web\"}});}</script>\n",
              "                <script type=\"text/javascript\">window.PlotlyConfig = {MathJaxConfig: 'local'};</script>\n",
              "        <script src=\"https://cdn.plot.ly/plotly-latest.min.js\"></script>    \n",
              "            <div id=\"f5ddde13-edf7-48e7-8db7-9ead23967452\" class=\"plotly-graph-div\" style=\"height:525px; width:100%;\"></div>\n",
              "            <script type=\"text/javascript\">\n",
              "                \n",
              "                    window.PLOTLYENV=window.PLOTLYENV || {};\n",
              "                    \n",
              "                if (document.getElementById(\"f5ddde13-edf7-48e7-8db7-9ead23967452\")) {\n",
              "                    Plotly.newPlot(\n",
              "                        'f5ddde13-edf7-48e7-8db7-9ead23967452',\n",
              "                        [{\"hoverinfo\": \"x\", \"marker\": {\"color\": \"#3CB371\", \"colorscale\": [[0.0, \"rgb(255,255,217)\"], [0.125, \"rgb(237,248,177)\"], [0.25, \"rgb(199,233,180)\"], [0.375, \"rgb(127,205,187)\"], [0.5, \"rgb(65,182,196)\"], [0.625, \"rgb(29,145,192)\"], [0.75, \"rgb(34,94,168)\"], [0.875, \"rgb(37,52,148)\"], [1.0, \"rgb(8,29,88)\"]]}, \"name\": \"Homens\", \"orientation\": \"h\", \"text\": [1271.0, 1258.0, 1212.0, 1205.0, 1205.0, 1169.0, 1149.0, 1077.0, 1069.0, 1064.0, 1038.0, 1028.0, 1013.0, 1000.0, 941.0, 912.0, 901.0, 888.0, 879.0, 876.0, 874.0, 863.0, 862.0, 831.0, 819.0, 797.0, 776.0, 736.0, 722.0, 716.0, 704.0, 693.0, 674.0, 664.0, 651.0, 650.0, 645.0, 608.0, 579.0, 542.0, 516.0, 432.0, 388.0, 383.0, 347.0, 257.0, 256.0, 227.0, 205.0, 199.0, 180.0, 178.0, 165.0, 157.0, 147.0, 135.0, 134.0, 130.0, 126.0, 123.0, 122.0, 113.0, 107.0, 105.0, 105.0, 97.0, 93.0, 91.0, 56.0, 56.0, 53.0, 51.0, 33.0, 33.0, 30.0, 17.0, 16.0, 10.0, 3.0, 3.0, 2.0, 1.0, 1.0, 1.0, 1.0, 1.0, 1.0], \"textfont\": {\"color\": \"black\", \"family\": \"sans serif\", \"size\": 14}, \"textposition\": \"outside\", \"type\": \"bar\", \"x\": [1271, 1258, 1212, 1205, 1205, 1169, 1149, 1077, 1069, 1064, 1038, 1028, 1013, 1000, 941, 912, 901, 888, 879, 876, 874, 863, 862, 831, 819, 797, 776, 736, 722, 716, 704, 693, 674, 664, 651, 650, 645, 608, 579, 542, 516, 432, 388, 383, 347, 257, 256, 227, 205, 199, 180, 178, 165, 157, 147, 135, 134, 130, 126, 123, 122, 113, 107, 105, 105, 97, 93, 91, 56, 56, 53, 51, 33, 33, 30, 17, 16, 10, 3, 3, 2, 1, 1, 1, 1, 1, 1], \"y\": [0, 5, 10, 15, 20, 25, 30, 35, 40, 45, 50, 55, 60, 65, 70, 75, 80, 85, 90, 95]}, {\"hoverinfo\": \"x\", \"marker\": {\"color\": \"#c34c8e\", \"colorscale\": [[0.0, \"rgb(249, 221, 218)\"], [0.16666666666666666, \"rgb(242, 185, 196)\"], [0.3333333333333333, \"rgb(229, 151, 185)\"], [0.5, \"rgb(206, 120, 179)\"], [0.6666666666666666, \"rgb(173, 95, 173)\"], [0.8333333333333334, \"rgb(131, 75, 160)\"], [1.0, \"rgb(87, 59, 136)\"]]}, \"name\": \"Mulheres\", \"orientation\": \"h\", \"text\": [1411.0, 1382.0, 1342.0, 1340.0, 1332.0, 1324.0, 1311.0, 1292.0, 1243.0, 1237.0, 1188.0, 1186.0, 1129.0, 1104.0, 1087.0, 1086.0, 1078.0, 1067.0, 1054.0, 1027.0, 1009.0, 998.0, 989.0, 973.0, 939.0, 925.0, 913.0, 894.0, 869.0, 857.0, 854.0, 852.0, 840.0, 805.0, 724.0, 723.0, 713.0, 712.0, 700.0, 687.0, 678.0, 639.0, 546.0, 504.0, 469.0, 451.0, 429.0, 356.0, 349.0, 341.0, 340.0, 329.0, 314.0, 299.0, 298.0, 294.0, 292.0, 286.0, 254.0, 247.0, 239.0, 237.0, 213.0, 192.0, 190.0, 185.0, 181.0, 159.0, 117.0, 115.0, 112.0, 105.0, 92.0, 85.0, 72.0, 41.0, 38.0, 29.0, 25.0, 9.0, 8.0, 7.0, 6.0, 4.0, 4.0, 4.0, 2.0, 2.0, 2.0, 2.0, 1.0, 1.0, 1.0, 1.0, 1.0, 1.0], \"textfont\": {\"color\": \"black\", \"family\": \"sans serif\", \"size\": 14}, \"textposition\": \"outside\", \"type\": \"bar\", \"x\": [-1411, -1382, -1342, -1340, -1332, -1324, -1311, -1292, -1243, -1237, -1188, -1186, -1129, -1104, -1087, -1086, -1078, -1067, -1054, -1027, -1009, -998, -989, -973, -939, -925, -913, -894, -869, -857, -854, -852, -840, -805, -724, -723, -713, -712, -700, -687, -678, -639, -546, -504, -469, -451, -429, -356, -349, -341, -340, -329, -314, -299, -298, -294, -292, -286, -254, -247, -239, -237, -213, -192, -190, -185, -181, -159, -117, -115, -112, -105, -92, -85, -72, -41, -38, -29, -25, -9, -8, -7, -6, -4, -4, -4, -2, -2, -2, -2, -1, -1, -1, -1, -1, -1], \"y\": [0, 5, 10, 15, 20, 25, 30, 35, 40, 45, 50, 55, 60, 65, 70, 75, 80, 85, 90, 95]}],\n",
              "                        {\"bargap\": 0.2, \"barmode\": \"overlay\", \"template\": {\"data\": {\"bar\": [{\"error_x\": {\"color\": \"#2a3f5f\"}, \"error_y\": {\"color\": \"#2a3f5f\"}, \"marker\": {\"line\": {\"color\": \"#E5ECF6\", \"width\": 0.5}}, \"type\": \"bar\"}], \"barpolar\": [{\"marker\": {\"line\": {\"color\": \"#E5ECF6\", \"width\": 0.5}}, \"type\": \"barpolar\"}], \"carpet\": [{\"aaxis\": {\"endlinecolor\": \"#2a3f5f\", \"gridcolor\": \"white\", \"linecolor\": \"white\", \"minorgridcolor\": \"white\", \"startlinecolor\": \"#2a3f5f\"}, \"baxis\": {\"endlinecolor\": \"#2a3f5f\", \"gridcolor\": \"white\", \"linecolor\": \"white\", \"minorgridcolor\": \"white\", \"startlinecolor\": \"#2a3f5f\"}, \"type\": \"carpet\"}], \"choropleth\": [{\"colorbar\": {\"outlinewidth\": 0, \"ticks\": \"\"}, \"type\": \"choropleth\"}], \"contour\": [{\"colorbar\": {\"outlinewidth\": 0, \"ticks\": \"\"}, \"colorscale\": [[0.0, \"#0d0887\"], [0.1111111111111111, \"#46039f\"], [0.2222222222222222, \"#7201a8\"], [0.3333333333333333, \"#9c179e\"], [0.4444444444444444, \"#bd3786\"], [0.5555555555555556, \"#d8576b\"], [0.6666666666666666, \"#ed7953\"], [0.7777777777777778, \"#fb9f3a\"], [0.8888888888888888, \"#fdca26\"], [1.0, \"#f0f921\"]], \"type\": \"contour\"}], \"contourcarpet\": [{\"colorbar\": {\"outlinewidth\": 0, \"ticks\": \"\"}, \"type\": \"contourcarpet\"}], \"heatmap\": [{\"colorbar\": {\"outlinewidth\": 0, \"ticks\": \"\"}, \"colorscale\": [[0.0, \"#0d0887\"], [0.1111111111111111, \"#46039f\"], [0.2222222222222222, \"#7201a8\"], [0.3333333333333333, \"#9c179e\"], [0.4444444444444444, \"#bd3786\"], [0.5555555555555556, \"#d8576b\"], [0.6666666666666666, \"#ed7953\"], [0.7777777777777778, \"#fb9f3a\"], [0.8888888888888888, \"#fdca26\"], [1.0, \"#f0f921\"]], \"type\": \"heatmap\"}], \"heatmapgl\": [{\"colorbar\": {\"outlinewidth\": 0, \"ticks\": \"\"}, \"colorscale\": [[0.0, \"#0d0887\"], [0.1111111111111111, \"#46039f\"], [0.2222222222222222, \"#7201a8\"], [0.3333333333333333, \"#9c179e\"], [0.4444444444444444, \"#bd3786\"], [0.5555555555555556, \"#d8576b\"], [0.6666666666666666, \"#ed7953\"], [0.7777777777777778, \"#fb9f3a\"], [0.8888888888888888, \"#fdca26\"], [1.0, \"#f0f921\"]], \"type\": \"heatmapgl\"}], \"histogram\": [{\"marker\": {\"colorbar\": {\"outlinewidth\": 0, \"ticks\": \"\"}}, \"type\": \"histogram\"}], \"histogram2d\": [{\"colorbar\": {\"outlinewidth\": 0, \"ticks\": \"\"}, \"colorscale\": [[0.0, \"#0d0887\"], [0.1111111111111111, \"#46039f\"], [0.2222222222222222, \"#7201a8\"], [0.3333333333333333, \"#9c179e\"], [0.4444444444444444, \"#bd3786\"], [0.5555555555555556, \"#d8576b\"], [0.6666666666666666, \"#ed7953\"], [0.7777777777777778, \"#fb9f3a\"], [0.8888888888888888, \"#fdca26\"], [1.0, \"#f0f921\"]], \"type\": \"histogram2d\"}], \"histogram2dcontour\": [{\"colorbar\": {\"outlinewidth\": 0, \"ticks\": \"\"}, \"colorscale\": [[0.0, \"#0d0887\"], [0.1111111111111111, \"#46039f\"], [0.2222222222222222, \"#7201a8\"], [0.3333333333333333, \"#9c179e\"], [0.4444444444444444, \"#bd3786\"], [0.5555555555555556, \"#d8576b\"], [0.6666666666666666, \"#ed7953\"], [0.7777777777777778, \"#fb9f3a\"], [0.8888888888888888, \"#fdca26\"], [1.0, \"#f0f921\"]], \"type\": \"histogram2dcontour\"}], \"mesh3d\": [{\"colorbar\": {\"outlinewidth\": 0, \"ticks\": \"\"}, \"type\": \"mesh3d\"}], \"parcoords\": [{\"line\": {\"colorbar\": {\"outlinewidth\": 0, \"ticks\": \"\"}}, \"type\": \"parcoords\"}], \"pie\": [{\"automargin\": true, \"type\": \"pie\"}], \"scatter\": [{\"marker\": {\"colorbar\": {\"outlinewidth\": 0, \"ticks\": \"\"}}, \"type\": \"scatter\"}], \"scatter3d\": [{\"line\": {\"colorbar\": {\"outlinewidth\": 0, \"ticks\": \"\"}}, \"marker\": {\"colorbar\": {\"outlinewidth\": 0, \"ticks\": \"\"}}, \"type\": \"scatter3d\"}], \"scattercarpet\": [{\"marker\": {\"colorbar\": {\"outlinewidth\": 0, \"ticks\": \"\"}}, \"type\": \"scattercarpet\"}], \"scattergeo\": [{\"marker\": {\"colorbar\": {\"outlinewidth\": 0, \"ticks\": \"\"}}, \"type\": \"scattergeo\"}], \"scattergl\": [{\"marker\": {\"colorbar\": {\"outlinewidth\": 0, \"ticks\": \"\"}}, \"type\": \"scattergl\"}], \"scattermapbox\": [{\"marker\": {\"colorbar\": {\"outlinewidth\": 0, \"ticks\": \"\"}}, \"type\": \"scattermapbox\"}], \"scatterpolar\": [{\"marker\": {\"colorbar\": {\"outlinewidth\": 0, \"ticks\": \"\"}}, \"type\": \"scatterpolar\"}], \"scatterpolargl\": [{\"marker\": {\"colorbar\": {\"outlinewidth\": 0, \"ticks\": \"\"}}, \"type\": \"scatterpolargl\"}], \"scatterternary\": [{\"marker\": {\"colorbar\": {\"outlinewidth\": 0, \"ticks\": \"\"}}, \"type\": \"scatterternary\"}], \"surface\": [{\"colorbar\": {\"outlinewidth\": 0, \"ticks\": \"\"}, \"colorscale\": [[0.0, \"#0d0887\"], [0.1111111111111111, \"#46039f\"], [0.2222222222222222, \"#7201a8\"], [0.3333333333333333, \"#9c179e\"], [0.4444444444444444, \"#bd3786\"], [0.5555555555555556, \"#d8576b\"], [0.6666666666666666, \"#ed7953\"], [0.7777777777777778, \"#fb9f3a\"], [0.8888888888888888, \"#fdca26\"], [1.0, \"#f0f921\"]], \"type\": \"surface\"}], \"table\": [{\"cells\": {\"fill\": {\"color\": \"#EBF0F8\"}, \"line\": {\"color\": \"white\"}}, \"header\": {\"fill\": {\"color\": \"#C8D4E3\"}, \"line\": {\"color\": \"white\"}}, \"type\": \"table\"}]}, \"layout\": {\"annotationdefaults\": {\"arrowcolor\": \"#2a3f5f\", \"arrowhead\": 0, \"arrowwidth\": 1}, \"coloraxis\": {\"colorbar\": {\"outlinewidth\": 0, \"ticks\": \"\"}}, \"colorscale\": {\"diverging\": [[0, \"#8e0152\"], [0.1, \"#c51b7d\"], [0.2, \"#de77ae\"], [0.3, \"#f1b6da\"], [0.4, \"#fde0ef\"], [0.5, \"#f7f7f7\"], [0.6, \"#e6f5d0\"], [0.7, \"#b8e186\"], [0.8, \"#7fbc41\"], [0.9, \"#4d9221\"], [1, \"#276419\"]], \"sequential\": [[0.0, \"#0d0887\"], [0.1111111111111111, \"#46039f\"], [0.2222222222222222, \"#7201a8\"], [0.3333333333333333, \"#9c179e\"], [0.4444444444444444, \"#bd3786\"], [0.5555555555555556, \"#d8576b\"], [0.6666666666666666, \"#ed7953\"], [0.7777777777777778, \"#fb9f3a\"], [0.8888888888888888, \"#fdca26\"], [1.0, \"#f0f921\"]], \"sequentialminus\": [[0.0, \"#0d0887\"], [0.1111111111111111, \"#46039f\"], [0.2222222222222222, \"#7201a8\"], [0.3333333333333333, \"#9c179e\"], [0.4444444444444444, \"#bd3786\"], [0.5555555555555556, \"#d8576b\"], [0.6666666666666666, \"#ed7953\"], [0.7777777777777778, \"#fb9f3a\"], [0.8888888888888888, \"#fdca26\"], [1.0, \"#f0f921\"]]}, \"colorway\": [\"#636efa\", \"#EF553B\", \"#00cc96\", \"#ab63fa\", \"#FFA15A\", \"#19d3f3\", \"#FF6692\", \"#B6E880\", \"#FF97FF\", \"#FECB52\"], \"font\": {\"color\": \"#2a3f5f\"}, \"geo\": {\"bgcolor\": \"white\", \"lakecolor\": \"white\", \"landcolor\": \"#E5ECF6\", \"showlakes\": true, \"showland\": true, \"subunitcolor\": \"white\"}, \"hoverlabel\": {\"align\": \"left\"}, \"hovermode\": \"closest\", \"mapbox\": {\"style\": \"light\"}, \"paper_bgcolor\": \"white\", \"plot_bgcolor\": \"#E5ECF6\", \"polar\": {\"angularaxis\": {\"gridcolor\": \"white\", \"linecolor\": \"white\", \"ticks\": \"\"}, \"bgcolor\": \"#E5ECF6\", \"radialaxis\": {\"gridcolor\": \"white\", \"linecolor\": \"white\", \"ticks\": \"\"}}, \"scene\": {\"xaxis\": {\"backgroundcolor\": \"#E5ECF6\", \"gridcolor\": \"white\", \"gridwidth\": 2, \"linecolor\": \"white\", \"showbackground\": true, \"ticks\": \"\", \"zerolinecolor\": \"white\"}, \"yaxis\": {\"backgroundcolor\": \"#E5ECF6\", \"gridcolor\": \"white\", \"gridwidth\": 2, \"linecolor\": \"white\", \"showbackground\": true, \"ticks\": \"\", \"zerolinecolor\": \"white\"}, \"zaxis\": {\"backgroundcolor\": \"#E5ECF6\", \"gridcolor\": \"white\", \"gridwidth\": 2, \"linecolor\": \"white\", \"showbackground\": true, \"ticks\": \"\", \"zerolinecolor\": \"white\"}}, \"shapedefaults\": {\"line\": {\"color\": \"#2a3f5f\"}}, \"ternary\": {\"aaxis\": {\"gridcolor\": \"white\", \"linecolor\": \"white\", \"ticks\": \"\"}, \"baxis\": {\"gridcolor\": \"white\", \"linecolor\": \"white\", \"ticks\": \"\"}, \"bgcolor\": \"#E5ECF6\", \"caxis\": {\"gridcolor\": \"white\", \"linecolor\": \"white\", \"ticks\": \"\"}}, \"title\": {\"x\": 0.05}, \"xaxis\": {\"automargin\": true, \"gridcolor\": \"white\", \"linecolor\": \"white\", \"ticks\": \"\", \"title\": {\"standoff\": 15}, \"zerolinecolor\": \"white\", \"zerolinewidth\": 2}, \"yaxis\": {\"automargin\": true, \"gridcolor\": \"white\", \"linecolor\": \"white\", \"ticks\": \"\", \"title\": {\"standoff\": 15}, \"zerolinecolor\": \"white\", \"zerolinewidth\": 2}}}, \"title\": {\"text\": \"N\\u00famero de Pessoas Vacinadas na cidade de Itapecerica da Serra\"}, \"xaxis\": {\"range\": [-2000, 2000], \"ticktext\": [2000, 1000, 500, 0, 500, 1000, 2000], \"tickvals\": [-2000, -1000, -500, 0, 500, 1000, 2000], \"title\": {\"text\": \"N\\u00famero de Pessoas\"}}, \"yaxis\": {\"title\": {\"text\": \"Idade\"}}},\n",
              "                        {\"responsive\": true}\n",
              "                    ).then(function(){\n",
              "                            \n",
              "var gd = document.getElementById('f5ddde13-edf7-48e7-8db7-9ead23967452');\n",
              "var x = new MutationObserver(function (mutations, observer) {{\n",
              "        var display = window.getComputedStyle(gd).display;\n",
              "        if (!display || display === 'none') {{\n",
              "            console.log([gd, 'removed!']);\n",
              "            Plotly.purge(gd);\n",
              "            observer.disconnect();\n",
              "        }}\n",
              "}});\n",
              "\n",
              "// Listen for the removal of the full notebook cells\n",
              "var notebookContainer = gd.closest('#notebook-container');\n",
              "if (notebookContainer) {{\n",
              "    x.observe(notebookContainer, {childList: true});\n",
              "}}\n",
              "\n",
              "// Listen for the clearing of the current output cell\n",
              "var outputEl = gd.closest('.output');\n",
              "if (outputEl) {{\n",
              "    x.observe(outputEl, {childList: true});\n",
              "}}\n",
              "\n",
              "                        })\n",
              "                };\n",
              "                \n",
              "            </script>\n",
              "        </div>\n",
              "</body>\n",
              "</html>"
            ]
          },
          "metadata": {
            "tags": []
          }
        }
      ]
    },
    {
      "cell_type": "code",
      "metadata": {
        "colab": {
          "base_uri": "https://localhost:8080/"
        },
        "id": "FnoarSRFMDuZ",
        "outputId": "21d307ef-42a2-470c-c642-70933134e3c5"
      },
      "source": [
        "itap_pandas_p1['vacina_descricao_dose'].value_counts()"
      ],
      "execution_count": null,
      "outputs": [
        {
          "output_type": "execute_result",
          "data": {
            "text/plain": [
              "1ª Dose            75633\n",
              "2ª Dose            20110\n",
              "Dose                 550\n",
              "Dose Adicional         4\n",
              "Name: vacina_descricao_dose, dtype: int64"
            ]
          },
          "metadata": {
            "tags": []
          },
          "execution_count": 29
        }
      ]
    },
    {
      "cell_type": "code",
      "metadata": {
        "colab": {
          "base_uri": "https://localhost:8080/",
          "height": 542
        },
        "id": "7OvUkC8vOV82",
        "outputId": "043ecc65-6815-4d96-e3dc-61c3beee51aa"
      },
      "source": [
        "nome = [\"UBS SALVADOR DE LEONE\", \"USF PARQUE PARAISO\", \"UBS JARDIM JACIRA\", \"USF VALO VELHO\", \"USF CRISPIM\"]\n",
        "y = [20447, 14206, 10851, 9969, 7090]\n",
        "\n",
        "layout = go.Layout(title=\"Postos de Vacinação com maior número de vacinas aplicadas em Itapecerica da Serra\", xaxis= {'title':'Postos'},\n",
        "                   yaxis=dict(title='N° de Vacinas Aplicadas'), hovermode='closest')\n",
        "\n",
        "fig = go.Figure([go.Bar(x=nome, y=y, marker={'color': '#c34c8e',\n",
        "                                               'colorscale': 'purpor'}, text=y, textposition='auto' ,textfont=dict(\n",
        "                                                                                  family=\"sans serif\",\n",
        "                                                                                  size=18,\n",
        "                                                                                  color=\"black\"))], layout=layout)\n",
        "\n",
        "fig.update_xaxes(\n",
        "        tickangle = 45,\n",
        "        title_standoff = 10)\n",
        "\n",
        "fig.show()"
      ],
      "execution_count": null,
      "outputs": [
        {
          "output_type": "display_data",
          "data": {
            "text/html": [
              "<html>\n",
              "<head><meta charset=\"utf-8\" /></head>\n",
              "<body>\n",
              "    <div>\n",
              "            <script src=\"https://cdnjs.cloudflare.com/ajax/libs/mathjax/2.7.5/MathJax.js?config=TeX-AMS-MML_SVG\"></script><script type=\"text/javascript\">if (window.MathJax) {MathJax.Hub.Config({SVG: {font: \"STIX-Web\"}});}</script>\n",
              "                <script type=\"text/javascript\">window.PlotlyConfig = {MathJaxConfig: 'local'};</script>\n",
              "        <script src=\"https://cdn.plot.ly/plotly-latest.min.js\"></script>    \n",
              "            <div id=\"e2471bac-37f7-4f82-bd7e-24616a6521c6\" class=\"plotly-graph-div\" style=\"height:525px; width:100%;\"></div>\n",
              "            <script type=\"text/javascript\">\n",
              "                \n",
              "                    window.PLOTLYENV=window.PLOTLYENV || {};\n",
              "                    \n",
              "                if (document.getElementById(\"e2471bac-37f7-4f82-bd7e-24616a6521c6\")) {\n",
              "                    Plotly.newPlot(\n",
              "                        'e2471bac-37f7-4f82-bd7e-24616a6521c6',\n",
              "                        [{\"marker\": {\"color\": \"#c34c8e\", \"colorscale\": [[0.0, \"rgb(249, 221, 218)\"], [0.16666666666666666, \"rgb(242, 185, 196)\"], [0.3333333333333333, \"rgb(229, 151, 185)\"], [0.5, \"rgb(206, 120, 179)\"], [0.6666666666666666, \"rgb(173, 95, 173)\"], [0.8333333333333334, \"rgb(131, 75, 160)\"], [1.0, \"rgb(87, 59, 136)\"]]}, \"text\": [\"20447\", \"14206\", \"10851\", \"9969\", \"7090\"], \"textfont\": {\"color\": \"black\", \"family\": \"sans serif\", \"size\": 18}, \"textposition\": \"auto\", \"type\": \"bar\", \"x\": [\"UBS SALVADOR DE LEONE\", \"USF PARQUE PARAISO\", \"UBS JARDIM JACIRA\", \"USF VALO VELHO\", \"USF CRISPIM\"], \"y\": [20447, 14206, 10851, 9969, 7090]}],\n",
              "                        {\"hovermode\": \"closest\", \"template\": {\"data\": {\"bar\": [{\"error_x\": {\"color\": \"#2a3f5f\"}, \"error_y\": {\"color\": \"#2a3f5f\"}, \"marker\": {\"line\": {\"color\": \"#E5ECF6\", \"width\": 0.5}}, \"type\": \"bar\"}], \"barpolar\": [{\"marker\": {\"line\": {\"color\": \"#E5ECF6\", \"width\": 0.5}}, \"type\": \"barpolar\"}], \"carpet\": [{\"aaxis\": {\"endlinecolor\": \"#2a3f5f\", \"gridcolor\": \"white\", \"linecolor\": \"white\", \"minorgridcolor\": \"white\", \"startlinecolor\": \"#2a3f5f\"}, \"baxis\": {\"endlinecolor\": \"#2a3f5f\", \"gridcolor\": \"white\", \"linecolor\": \"white\", \"minorgridcolor\": \"white\", \"startlinecolor\": \"#2a3f5f\"}, \"type\": \"carpet\"}], \"choropleth\": [{\"colorbar\": {\"outlinewidth\": 0, \"ticks\": \"\"}, \"type\": \"choropleth\"}], \"contour\": [{\"colorbar\": {\"outlinewidth\": 0, \"ticks\": \"\"}, \"colorscale\": [[0.0, \"#0d0887\"], [0.1111111111111111, \"#46039f\"], [0.2222222222222222, \"#7201a8\"], [0.3333333333333333, \"#9c179e\"], [0.4444444444444444, \"#bd3786\"], [0.5555555555555556, \"#d8576b\"], [0.6666666666666666, \"#ed7953\"], [0.7777777777777778, \"#fb9f3a\"], [0.8888888888888888, \"#fdca26\"], [1.0, \"#f0f921\"]], \"type\": \"contour\"}], \"contourcarpet\": [{\"colorbar\": {\"outlinewidth\": 0, \"ticks\": \"\"}, \"type\": \"contourcarpet\"}], \"heatmap\": [{\"colorbar\": {\"outlinewidth\": 0, \"ticks\": \"\"}, \"colorscale\": [[0.0, \"#0d0887\"], [0.1111111111111111, \"#46039f\"], [0.2222222222222222, \"#7201a8\"], [0.3333333333333333, \"#9c179e\"], [0.4444444444444444, \"#bd3786\"], [0.5555555555555556, \"#d8576b\"], [0.6666666666666666, \"#ed7953\"], [0.7777777777777778, \"#fb9f3a\"], [0.8888888888888888, \"#fdca26\"], [1.0, \"#f0f921\"]], \"type\": \"heatmap\"}], \"heatmapgl\": [{\"colorbar\": {\"outlinewidth\": 0, \"ticks\": \"\"}, \"colorscale\": [[0.0, \"#0d0887\"], [0.1111111111111111, \"#46039f\"], [0.2222222222222222, \"#7201a8\"], [0.3333333333333333, \"#9c179e\"], [0.4444444444444444, \"#bd3786\"], [0.5555555555555556, \"#d8576b\"], [0.6666666666666666, \"#ed7953\"], [0.7777777777777778, \"#fb9f3a\"], [0.8888888888888888, \"#fdca26\"], [1.0, \"#f0f921\"]], \"type\": \"heatmapgl\"}], \"histogram\": [{\"marker\": {\"colorbar\": {\"outlinewidth\": 0, \"ticks\": \"\"}}, \"type\": \"histogram\"}], \"histogram2d\": [{\"colorbar\": {\"outlinewidth\": 0, \"ticks\": \"\"}, \"colorscale\": [[0.0, \"#0d0887\"], [0.1111111111111111, \"#46039f\"], [0.2222222222222222, \"#7201a8\"], [0.3333333333333333, \"#9c179e\"], [0.4444444444444444, \"#bd3786\"], [0.5555555555555556, \"#d8576b\"], [0.6666666666666666, \"#ed7953\"], [0.7777777777777778, \"#fb9f3a\"], [0.8888888888888888, \"#fdca26\"], [1.0, \"#f0f921\"]], \"type\": \"histogram2d\"}], \"histogram2dcontour\": [{\"colorbar\": {\"outlinewidth\": 0, \"ticks\": \"\"}, \"colorscale\": [[0.0, \"#0d0887\"], [0.1111111111111111, \"#46039f\"], [0.2222222222222222, \"#7201a8\"], [0.3333333333333333, \"#9c179e\"], [0.4444444444444444, \"#bd3786\"], [0.5555555555555556, \"#d8576b\"], [0.6666666666666666, \"#ed7953\"], [0.7777777777777778, \"#fb9f3a\"], [0.8888888888888888, \"#fdca26\"], [1.0, \"#f0f921\"]], \"type\": \"histogram2dcontour\"}], \"mesh3d\": [{\"colorbar\": {\"outlinewidth\": 0, \"ticks\": \"\"}, \"type\": \"mesh3d\"}], \"parcoords\": [{\"line\": {\"colorbar\": {\"outlinewidth\": 0, \"ticks\": \"\"}}, \"type\": \"parcoords\"}], \"pie\": [{\"automargin\": true, \"type\": \"pie\"}], \"scatter\": [{\"marker\": {\"colorbar\": {\"outlinewidth\": 0, \"ticks\": \"\"}}, \"type\": \"scatter\"}], \"scatter3d\": [{\"line\": {\"colorbar\": {\"outlinewidth\": 0, \"ticks\": \"\"}}, \"marker\": {\"colorbar\": {\"outlinewidth\": 0, \"ticks\": \"\"}}, \"type\": \"scatter3d\"}], \"scattercarpet\": [{\"marker\": {\"colorbar\": {\"outlinewidth\": 0, \"ticks\": \"\"}}, \"type\": \"scattercarpet\"}], \"scattergeo\": [{\"marker\": {\"colorbar\": {\"outlinewidth\": 0, \"ticks\": \"\"}}, \"type\": \"scattergeo\"}], \"scattergl\": [{\"marker\": {\"colorbar\": {\"outlinewidth\": 0, \"ticks\": \"\"}}, \"type\": \"scattergl\"}], \"scattermapbox\": [{\"marker\": {\"colorbar\": {\"outlinewidth\": 0, \"ticks\": \"\"}}, \"type\": \"scattermapbox\"}], \"scatterpolar\": [{\"marker\": {\"colorbar\": {\"outlinewidth\": 0, \"ticks\": \"\"}}, \"type\": \"scatterpolar\"}], \"scatterpolargl\": [{\"marker\": {\"colorbar\": {\"outlinewidth\": 0, \"ticks\": \"\"}}, \"type\": \"scatterpolargl\"}], \"scatterternary\": [{\"marker\": {\"colorbar\": {\"outlinewidth\": 0, \"ticks\": \"\"}}, \"type\": \"scatterternary\"}], \"surface\": [{\"colorbar\": {\"outlinewidth\": 0, \"ticks\": \"\"}, \"colorscale\": [[0.0, \"#0d0887\"], [0.1111111111111111, \"#46039f\"], [0.2222222222222222, \"#7201a8\"], [0.3333333333333333, \"#9c179e\"], [0.4444444444444444, \"#bd3786\"], [0.5555555555555556, \"#d8576b\"], [0.6666666666666666, \"#ed7953\"], [0.7777777777777778, \"#fb9f3a\"], [0.8888888888888888, \"#fdca26\"], [1.0, \"#f0f921\"]], \"type\": \"surface\"}], \"table\": [{\"cells\": {\"fill\": {\"color\": \"#EBF0F8\"}, \"line\": {\"color\": \"white\"}}, \"header\": {\"fill\": {\"color\": \"#C8D4E3\"}, \"line\": {\"color\": \"white\"}}, \"type\": \"table\"}]}, \"layout\": {\"annotationdefaults\": {\"arrowcolor\": \"#2a3f5f\", \"arrowhead\": 0, \"arrowwidth\": 1}, \"coloraxis\": {\"colorbar\": {\"outlinewidth\": 0, \"ticks\": \"\"}}, \"colorscale\": {\"diverging\": [[0, \"#8e0152\"], [0.1, \"#c51b7d\"], [0.2, \"#de77ae\"], [0.3, \"#f1b6da\"], [0.4, \"#fde0ef\"], [0.5, \"#f7f7f7\"], [0.6, \"#e6f5d0\"], [0.7, \"#b8e186\"], [0.8, \"#7fbc41\"], [0.9, \"#4d9221\"], [1, \"#276419\"]], \"sequential\": [[0.0, \"#0d0887\"], [0.1111111111111111, \"#46039f\"], [0.2222222222222222, \"#7201a8\"], [0.3333333333333333, \"#9c179e\"], [0.4444444444444444, \"#bd3786\"], [0.5555555555555556, \"#d8576b\"], [0.6666666666666666, \"#ed7953\"], [0.7777777777777778, \"#fb9f3a\"], [0.8888888888888888, \"#fdca26\"], [1.0, \"#f0f921\"]], \"sequentialminus\": [[0.0, \"#0d0887\"], [0.1111111111111111, \"#46039f\"], [0.2222222222222222, \"#7201a8\"], [0.3333333333333333, \"#9c179e\"], [0.4444444444444444, \"#bd3786\"], [0.5555555555555556, \"#d8576b\"], [0.6666666666666666, \"#ed7953\"], [0.7777777777777778, \"#fb9f3a\"], [0.8888888888888888, \"#fdca26\"], [1.0, \"#f0f921\"]]}, \"colorway\": [\"#636efa\", \"#EF553B\", \"#00cc96\", \"#ab63fa\", \"#FFA15A\", \"#19d3f3\", \"#FF6692\", \"#B6E880\", \"#FF97FF\", \"#FECB52\"], \"font\": {\"color\": \"#2a3f5f\"}, \"geo\": {\"bgcolor\": \"white\", \"lakecolor\": \"white\", \"landcolor\": \"#E5ECF6\", \"showlakes\": true, \"showland\": true, \"subunitcolor\": \"white\"}, \"hoverlabel\": {\"align\": \"left\"}, \"hovermode\": \"closest\", \"mapbox\": {\"style\": \"light\"}, \"paper_bgcolor\": \"white\", \"plot_bgcolor\": \"#E5ECF6\", \"polar\": {\"angularaxis\": {\"gridcolor\": \"white\", \"linecolor\": \"white\", \"ticks\": \"\"}, \"bgcolor\": \"#E5ECF6\", \"radialaxis\": {\"gridcolor\": \"white\", \"linecolor\": \"white\", \"ticks\": \"\"}}, \"scene\": {\"xaxis\": {\"backgroundcolor\": \"#E5ECF6\", \"gridcolor\": \"white\", \"gridwidth\": 2, \"linecolor\": \"white\", \"showbackground\": true, \"ticks\": \"\", \"zerolinecolor\": \"white\"}, \"yaxis\": {\"backgroundcolor\": \"#E5ECF6\", \"gridcolor\": \"white\", \"gridwidth\": 2, \"linecolor\": \"white\", \"showbackground\": true, \"ticks\": \"\", \"zerolinecolor\": \"white\"}, \"zaxis\": {\"backgroundcolor\": \"#E5ECF6\", \"gridcolor\": \"white\", \"gridwidth\": 2, \"linecolor\": \"white\", \"showbackground\": true, \"ticks\": \"\", \"zerolinecolor\": \"white\"}}, \"shapedefaults\": {\"line\": {\"color\": \"#2a3f5f\"}}, \"ternary\": {\"aaxis\": {\"gridcolor\": \"white\", \"linecolor\": \"white\", \"ticks\": \"\"}, \"baxis\": {\"gridcolor\": \"white\", \"linecolor\": \"white\", \"ticks\": \"\"}, \"bgcolor\": \"#E5ECF6\", \"caxis\": {\"gridcolor\": \"white\", \"linecolor\": \"white\", \"ticks\": \"\"}}, \"title\": {\"x\": 0.05}, \"xaxis\": {\"automargin\": true, \"gridcolor\": \"white\", \"linecolor\": \"white\", \"ticks\": \"\", \"title\": {\"standoff\": 15}, \"zerolinecolor\": \"white\", \"zerolinewidth\": 2}, \"yaxis\": {\"automargin\": true, \"gridcolor\": \"white\", \"linecolor\": \"white\", \"ticks\": \"\", \"title\": {\"standoff\": 15}, \"zerolinecolor\": \"white\", \"zerolinewidth\": 2}}}, \"title\": {\"text\": \"Postos de Vacina\\u00e7\\u00e3o com maior n\\u00famero de vacinas aplicadas em Itapecerica da Serra\"}, \"xaxis\": {\"tickangle\": 45, \"title\": {\"standoff\": 10, \"text\": \"Postos\"}}, \"yaxis\": {\"title\": {\"text\": \"N\\u00b0 de Vacinas Aplicadas\"}}},\n",
              "                        {\"responsive\": true}\n",
              "                    ).then(function(){\n",
              "                            \n",
              "var gd = document.getElementById('e2471bac-37f7-4f82-bd7e-24616a6521c6');\n",
              "var x = new MutationObserver(function (mutations, observer) {{\n",
              "        var display = window.getComputedStyle(gd).display;\n",
              "        if (!display || display === 'none') {{\n",
              "            console.log([gd, 'removed!']);\n",
              "            Plotly.purge(gd);\n",
              "            observer.disconnect();\n",
              "        }}\n",
              "}});\n",
              "\n",
              "// Listen for the removal of the full notebook cells\n",
              "var notebookContainer = gd.closest('#notebook-container');\n",
              "if (notebookContainer) {{\n",
              "    x.observe(notebookContainer, {childList: true});\n",
              "}}\n",
              "\n",
              "// Listen for the clearing of the current output cell\n",
              "var outputEl = gd.closest('.output');\n",
              "if (outputEl) {{\n",
              "    x.observe(outputEl, {childList: true});\n",
              "}}\n",
              "\n",
              "                        })\n",
              "                };\n",
              "                \n",
              "            </script>\n",
              "        </div>\n",
              "</body>\n",
              "</html>"
            ]
          },
          "metadata": {
            "tags": []
          }
        }
      ]
    }
  ]
}