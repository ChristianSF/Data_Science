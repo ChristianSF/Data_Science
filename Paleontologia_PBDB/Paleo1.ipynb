{
  "nbformat": 4,
  "nbformat_minor": 0,
  "metadata": {
    "colab": {
      "name": "Paleo1",
      "provenance": [],
      "collapsed_sections": []
    },
    "kernelspec": {
      "name": "python3",
      "display_name": "Python 3"
    }
  },
  "cells": [
    {
      "cell_type": "markdown",
      "metadata": {
        "id": "dbMk0z1FnzeF"
      },
      "source": [
        "Fonte dos dados: http://fossilworks.org/\n"
      ]
    },
    {
      "cell_type": "markdown",
      "metadata": {
        "id": "XDS-A8X5E6KL"
      },
      "source": [
        "Para que façamos uma boa análise de dados, precisamos formular boas perguntas. Aqui estão algumas perguntas que pretendo responder com esse conjunto de dados: \n",
        "\n",
        " \n",
        "\n",
        "*   Periodos geológicos da amostra;\n",
        "*   Espécies mais abundantes;\n",
        "*   Generos mais abundantes;\n",
        "*   Laboratórios com mais fósseis registrados;\n",
        "*   \n",
        "\n"
      ]
    },
    {
      "cell_type": "code",
      "metadata": {
        "id": "IBtFQNu1KDWI"
      },
      "source": [
        "import pandas as pd\n",
        "import matplotlib.pyplot as plt\n",
        "import numpy as np\n",
        "import seaborn as sns"
      ],
      "execution_count": 65,
      "outputs": []
    },
    {
      "cell_type": "code",
      "metadata": {
        "id": "LLEqKeZwbsgx"
      },
      "source": [
        "sns.set_style(\"whitegrid\")"
      ],
      "execution_count": 66,
      "outputs": []
    },
    {
      "cell_type": "code",
      "metadata": {
        "id": "7hhicuuyKSi-"
      },
      "source": [
        "dados = pd.read_csv(\"/content/drive/My Drive/DataScience/Paleo/Dados_20_10/ChristianFreitas-occs.csv\", sep = \",\")"
      ],
      "execution_count": 67,
      "outputs": []
    },
    {
      "cell_type": "code",
      "metadata": {
        "id": "Mys9zBxYMON-",
        "outputId": "b1fdc498-93a6-461c-dfac-813a957917be",
        "colab": {
          "base_uri": "https://localhost:8080/",
          "height": 34
        }
      },
      "source": [
        "#Visualizando a quantidade de linhas e colunas\n",
        "dados.shape"
      ],
      "execution_count": 68,
      "outputs": [
        {
          "output_type": "execute_result",
          "data": {
            "text/plain": [
              "(5071, 13)"
            ]
          },
          "metadata": {
            "tags": []
          },
          "execution_count": 68
        }
      ]
    },
    {
      "cell_type": "code",
      "metadata": {
        "id": "LQKlYs1nKmEq",
        "outputId": "c0e94c06-4959-4b4b-9f81-d684013a8639",
        "colab": {
          "base_uri": "https://localhost:8080/",
          "height": 309
        }
      },
      "source": [
        "#Visualizando as 5 primeiras linhas\n",
        "dados.head()"
      ],
      "execution_count": 69,
      "outputs": [
        {
          "output_type": "execute_result",
          "data": {
            "text/html": [
              "<div>\n",
              "<style scoped>\n",
              "    .dataframe tbody tr th:only-of-type {\n",
              "        vertical-align: middle;\n",
              "    }\n",
              "\n",
              "    .dataframe tbody tr th {\n",
              "        vertical-align: top;\n",
              "    }\n",
              "\n",
              "    .dataframe thead th {\n",
              "        text-align: right;\n",
              "    }\n",
              "</style>\n",
              "<table border=\"1\" class=\"dataframe\">\n",
              "  <thead>\n",
              "    <tr style=\"text-align: right;\">\n",
              "      <th></th>\n",
              "      <th>collection_no</th>\n",
              "      <th>source_database</th>\n",
              "      <th>collection.authorizer</th>\n",
              "      <th>occurrence.genus_reso</th>\n",
              "      <th>occurrence.genus_name</th>\n",
              "      <th>occurrence.species_reso</th>\n",
              "      <th>occurrence.species_name</th>\n",
              "      <th>original.genus_reso</th>\n",
              "      <th>original.genus_name</th>\n",
              "      <th>original.species_reso</th>\n",
              "      <th>original.species_name</th>\n",
              "      <th>collection.reference_no</th>\n",
              "      <th>10_my_bin</th>\n",
              "    </tr>\n",
              "  </thead>\n",
              "  <tbody>\n",
              "    <tr>\n",
              "      <th>0</th>\n",
              "      <td>12855</td>\n",
              "      <td>PaleoDB</td>\n",
              "      <td>E. Fara</td>\n",
              "      <td>n. gen.</td>\n",
              "      <td>Noterpeton</td>\n",
              "      <td>n. sp.</td>\n",
              "      <td>bolivianum</td>\n",
              "      <td>NaN</td>\n",
              "      <td>NaN</td>\n",
              "      <td>NaN</td>\n",
              "      <td>NaN</td>\n",
              "      <td>39674</td>\n",
              "      <td>Cretaceous 8</td>\n",
              "    </tr>\n",
              "    <tr>\n",
              "      <th>1</th>\n",
              "      <td>12855</td>\n",
              "      <td>PaleoDB</td>\n",
              "      <td>E. Fara</td>\n",
              "      <td>NaN</td>\n",
              "      <td>Pucabatis</td>\n",
              "      <td>NaN</td>\n",
              "      <td>hoffstetteri</td>\n",
              "      <td>NaN</td>\n",
              "      <td>NaN</td>\n",
              "      <td>NaN</td>\n",
              "      <td>NaN</td>\n",
              "      <td>39674</td>\n",
              "      <td>Cretaceous 8</td>\n",
              "    </tr>\n",
              "    <tr>\n",
              "      <th>2</th>\n",
              "      <td>12855</td>\n",
              "      <td>PaleoDB</td>\n",
              "      <td>E. Fara</td>\n",
              "      <td>NaN</td>\n",
              "      <td>Pucapristis</td>\n",
              "      <td>NaN</td>\n",
              "      <td>branisi</td>\n",
              "      <td>NaN</td>\n",
              "      <td>NaN</td>\n",
              "      <td>NaN</td>\n",
              "      <td>NaN</td>\n",
              "      <td>39674</td>\n",
              "      <td>Cretaceous 8</td>\n",
              "    </tr>\n",
              "    <tr>\n",
              "      <th>3</th>\n",
              "      <td>12855</td>\n",
              "      <td>PaleoDB</td>\n",
              "      <td>E. Fara</td>\n",
              "      <td>NaN</td>\n",
              "      <td>Coelodus</td>\n",
              "      <td>NaN</td>\n",
              "      <td>toncoensis</td>\n",
              "      <td>NaN</td>\n",
              "      <td>NaN</td>\n",
              "      <td>NaN</td>\n",
              "      <td>NaN</td>\n",
              "      <td>39674</td>\n",
              "      <td>Cretaceous 8</td>\n",
              "    </tr>\n",
              "    <tr>\n",
              "      <th>4</th>\n",
              "      <td>12855</td>\n",
              "      <td>PaleoDB</td>\n",
              "      <td>E. Fara</td>\n",
              "      <td>NaN</td>\n",
              "      <td>Lepisosteus</td>\n",
              "      <td>NaN</td>\n",
              "      <td>sp.</td>\n",
              "      <td>NaN</td>\n",
              "      <td>NaN</td>\n",
              "      <td>NaN</td>\n",
              "      <td>NaN</td>\n",
              "      <td>39674</td>\n",
              "      <td>Cretaceous 8</td>\n",
              "    </tr>\n",
              "  </tbody>\n",
              "</table>\n",
              "</div>"
            ],
            "text/plain": [
              "   collection_no source_database  ... collection.reference_no     10_my_bin\n",
              "0          12855         PaleoDB  ...                   39674  Cretaceous 8\n",
              "1          12855         PaleoDB  ...                   39674  Cretaceous 8\n",
              "2          12855         PaleoDB  ...                   39674  Cretaceous 8\n",
              "3          12855         PaleoDB  ...                   39674  Cretaceous 8\n",
              "4          12855         PaleoDB  ...                   39674  Cretaceous 8\n",
              "\n",
              "[5 rows x 13 columns]"
            ]
          },
          "metadata": {
            "tags": []
          },
          "execution_count": 69
        }
      ]
    },
    {
      "cell_type": "code",
      "metadata": {
        "id": "o99z4TFVZk_T",
        "outputId": "8e33ad51-d82c-4ef7-f664-a8016fbf9f6a",
        "colab": {
          "base_uri": "https://localhost:8080/",
          "height": 309
        }
      },
      "source": [
        "#Visualizando as 5 últimas linhas\n",
        "dados.tail()"
      ],
      "execution_count": 70,
      "outputs": [
        {
          "output_type": "execute_result",
          "data": {
            "text/html": [
              "<div>\n",
              "<style scoped>\n",
              "    .dataframe tbody tr th:only-of-type {\n",
              "        vertical-align: middle;\n",
              "    }\n",
              "\n",
              "    .dataframe tbody tr th {\n",
              "        vertical-align: top;\n",
              "    }\n",
              "\n",
              "    .dataframe thead th {\n",
              "        text-align: right;\n",
              "    }\n",
              "</style>\n",
              "<table border=\"1\" class=\"dataframe\">\n",
              "  <thead>\n",
              "    <tr style=\"text-align: right;\">\n",
              "      <th></th>\n",
              "      <th>collection_no</th>\n",
              "      <th>source_database</th>\n",
              "      <th>collection.authorizer</th>\n",
              "      <th>occurrence.genus_reso</th>\n",
              "      <th>occurrence.genus_name</th>\n",
              "      <th>occurrence.species_reso</th>\n",
              "      <th>occurrence.species_name</th>\n",
              "      <th>original.genus_reso</th>\n",
              "      <th>original.genus_name</th>\n",
              "      <th>original.species_reso</th>\n",
              "      <th>original.species_name</th>\n",
              "      <th>collection.reference_no</th>\n",
              "      <th>10_my_bin</th>\n",
              "    </tr>\n",
              "  </thead>\n",
              "  <tbody>\n",
              "    <tr>\n",
              "      <th>5066</th>\n",
              "      <td>210982</td>\n",
              "      <td>NaN</td>\n",
              "      <td>P. Wagner</td>\n",
              "      <td>NaN</td>\n",
              "      <td>Sacabambaspis</td>\n",
              "      <td>NaN</td>\n",
              "      <td>janvieri</td>\n",
              "      <td>NaN</td>\n",
              "      <td>NaN</td>\n",
              "      <td>NaN</td>\n",
              "      <td>NaN</td>\n",
              "      <td>72844</td>\n",
              "      <td>Ordovician 4</td>\n",
              "    </tr>\n",
              "    <tr>\n",
              "      <th>5067</th>\n",
              "      <td>210982</td>\n",
              "      <td>NaN</td>\n",
              "      <td>P. Wagner</td>\n",
              "      <td>NaN</td>\n",
              "      <td>Dignomia</td>\n",
              "      <td>NaN</td>\n",
              "      <td>munsterii</td>\n",
              "      <td>NaN</td>\n",
              "      <td>Dignomia</td>\n",
              "      <td>NaN</td>\n",
              "      <td>boliviana</td>\n",
              "      <td>72844</td>\n",
              "      <td>Ordovician 4</td>\n",
              "    </tr>\n",
              "    <tr>\n",
              "      <th>5068</th>\n",
              "      <td>210982</td>\n",
              "      <td>NaN</td>\n",
              "      <td>P. Wagner</td>\n",
              "      <td>NaN</td>\n",
              "      <td>Bistramia</td>\n",
              "      <td>NaN</td>\n",
              "      <td>elegans</td>\n",
              "      <td>NaN</td>\n",
              "      <td>NaN</td>\n",
              "      <td>NaN</td>\n",
              "      <td>NaN</td>\n",
              "      <td>72844</td>\n",
              "      <td>Ordovician 4</td>\n",
              "    </tr>\n",
              "    <tr>\n",
              "      <th>5069</th>\n",
              "      <td>210982</td>\n",
              "      <td>NaN</td>\n",
              "      <td>P. Wagner</td>\n",
              "      <td>NaN</td>\n",
              "      <td>Homalonotus</td>\n",
              "      <td>NaN</td>\n",
              "      <td>bistrami</td>\n",
              "      <td>NaN</td>\n",
              "      <td>NaN</td>\n",
              "      <td>NaN</td>\n",
              "      <td>NaN</td>\n",
              "      <td>72844</td>\n",
              "      <td>Ordovician 4</td>\n",
              "    </tr>\n",
              "    <tr>\n",
              "      <th>5070</th>\n",
              "      <td>211282</td>\n",
              "      <td>NaN</td>\n",
              "      <td>P. Mannion</td>\n",
              "      <td>NaN</td>\n",
              "      <td>Psilopterus</td>\n",
              "      <td>NaN</td>\n",
              "      <td>sp.</td>\n",
              "      <td>NaN</td>\n",
              "      <td>NaN</td>\n",
              "      <td>NaN</td>\n",
              "      <td>NaN</td>\n",
              "      <td>72952</td>\n",
              "      <td>Cenozoic 6</td>\n",
              "    </tr>\n",
              "  </tbody>\n",
              "</table>\n",
              "</div>"
            ],
            "text/plain": [
              "      collection_no source_database  ... collection.reference_no     10_my_bin\n",
              "5066         210982             NaN  ...                   72844  Ordovician 4\n",
              "5067         210982             NaN  ...                   72844  Ordovician 4\n",
              "5068         210982             NaN  ...                   72844  Ordovician 4\n",
              "5069         210982             NaN  ...                   72844  Ordovician 4\n",
              "5070         211282             NaN  ...                   72952    Cenozoic 6\n",
              "\n",
              "[5 rows x 13 columns]"
            ]
          },
          "metadata": {
            "tags": []
          },
          "execution_count": 70
        }
      ]
    },
    {
      "cell_type": "code",
      "metadata": {
        "id": "aImLGDB1MzF1",
        "outputId": "a23ed11b-8014-4906-a387-4157c8c1435c",
        "colab": {
          "base_uri": "https://localhost:8080/",
          "height": 119
        }
      },
      "source": [
        "#Verificando o nome das colunas\n",
        "dados.columns"
      ],
      "execution_count": 71,
      "outputs": [
        {
          "output_type": "execute_result",
          "data": {
            "text/plain": [
              "Index(['collection_no', 'source_database', 'collection.authorizer',\n",
              "       'occurrence.genus_reso', 'occurrence.genus_name',\n",
              "       'occurrence.species_reso', 'occurrence.species_name',\n",
              "       'original.genus_reso', 'original.genus_name', 'original.species_reso',\n",
              "       'original.species_name', 'collection.reference_no', '10_my_bin'],\n",
              "      dtype='object')"
            ]
          },
          "metadata": {
            "tags": []
          },
          "execution_count": 71
        }
      ]
    },
    {
      "cell_type": "code",
      "metadata": {
        "id": "kGPUV7bcPY5Q",
        "outputId": "f59f4bc4-521a-4243-cb9a-329aa3166018",
        "colab": {
          "base_uri": "https://localhost:8080/",
          "height": 255
        }
      },
      "source": [
        "#Verificando a quantidade de valores que inexistentes\n",
        "dados.isnull().sum()"
      ],
      "execution_count": 72,
      "outputs": [
        {
          "output_type": "execute_result",
          "data": {
            "text/plain": [
              "collection_no                 0\n",
              "source_database            1157\n",
              "collection.authorizer         0\n",
              "occurrence.genus_reso      4285\n",
              "occurrence.genus_name         0\n",
              "occurrence.species_reso    3941\n",
              "occurrence.species_name       0\n",
              "original.genus_reso        5014\n",
              "original.genus_name        4296\n",
              "original.species_reso      4937\n",
              "original.species_name      4296\n",
              "collection.reference_no       0\n",
              "10_my_bin                  1030\n",
              "dtype: int64"
            ]
          },
          "metadata": {
            "tags": []
          },
          "execution_count": 72
        }
      ]
    },
    {
      "cell_type": "markdown",
      "metadata": {
        "id": "I0WU3tVzDKz8"
      },
      "source": [
        "Podemos ver, as espécies de muitos fósseis presentes neste conjunto de dados, ainda não foram identificadas. Sabemos disso porque é utilizado a abreviação \"sp\", para esses casos.\n",
        "\n",
        "Fonte: [Embrapa](https://www.embrapa.br/manual-de-editoracao/nomenclatura-cientifica/nomes-cientficos/-/journal_content/56_INSTANCE_HscRfKvOm1wj/1355746/28877098?p_p_state=pop_up&_56_INSTANCE_HscRfKvOm1wj_page=1&_56_INSTANCE_HscRfKvOm1wj_viewMode=print#:~:text=Quando%20a%20esp%C3%A9cie%20ainda%20n%C3%A3o,it%C3%A1lico%2C%20e%20as%20abreviaturas%20sp.)"
      ]
    },
    {
      "cell_type": "code",
      "metadata": {
        "id": "PfoXz4LuPrLY",
        "outputId": "94a2bbf5-ad8d-414c-82e9-817fa19e344e",
        "colab": {
          "base_uri": "https://localhost:8080/",
          "height": 221
        }
      },
      "source": [
        "dados['occurrence.species_name'].value_counts()"
      ],
      "execution_count": 73,
      "outputs": [
        {
          "output_type": "execute_result",
          "data": {
            "text/plain": [
              "sp.              1256\n",
              "paraensis          34\n",
              "brasiliensis       28\n",
              "colombianus        26\n",
              "pirabensis         23\n",
              "                 ... \n",
              "eurybathrodon       1\n",
              "amii                1\n",
              "yanei               1\n",
              "venezuelanum        1\n",
              "chenche             1\n",
              "Name: occurrence.species_name, Length: 1720, dtype: int64"
            ]
          },
          "metadata": {
            "tags": []
          },
          "execution_count": 73
        }
      ]
    },
    {
      "cell_type": "code",
      "metadata": {
        "id": "1tUxaiSXP929",
        "outputId": "b989c952-17eb-4f4c-f2ea-d5b7f46c8a8b",
        "colab": {
          "base_uri": "https://localhost:8080/",
          "height": 309
        }
      },
      "source": [
        "dados[dados['occurrence.species_name'] == \"sp.\"].head()"
      ],
      "execution_count": 74,
      "outputs": [
        {
          "output_type": "execute_result",
          "data": {
            "text/html": [
              "<div>\n",
              "<style scoped>\n",
              "    .dataframe tbody tr th:only-of-type {\n",
              "        vertical-align: middle;\n",
              "    }\n",
              "\n",
              "    .dataframe tbody tr th {\n",
              "        vertical-align: top;\n",
              "    }\n",
              "\n",
              "    .dataframe thead th {\n",
              "        text-align: right;\n",
              "    }\n",
              "</style>\n",
              "<table border=\"1\" class=\"dataframe\">\n",
              "  <thead>\n",
              "    <tr style=\"text-align: right;\">\n",
              "      <th></th>\n",
              "      <th>collection_no</th>\n",
              "      <th>source_database</th>\n",
              "      <th>collection.authorizer</th>\n",
              "      <th>occurrence.genus_reso</th>\n",
              "      <th>occurrence.genus_name</th>\n",
              "      <th>occurrence.species_reso</th>\n",
              "      <th>occurrence.species_name</th>\n",
              "      <th>original.genus_reso</th>\n",
              "      <th>original.genus_name</th>\n",
              "      <th>original.species_reso</th>\n",
              "      <th>original.species_name</th>\n",
              "      <th>collection.reference_no</th>\n",
              "      <th>10_my_bin</th>\n",
              "    </tr>\n",
              "  </thead>\n",
              "  <tbody>\n",
              "    <tr>\n",
              "      <th>4</th>\n",
              "      <td>12855</td>\n",
              "      <td>PaleoDB</td>\n",
              "      <td>E. Fara</td>\n",
              "      <td>NaN</td>\n",
              "      <td>Lepisosteus</td>\n",
              "      <td>NaN</td>\n",
              "      <td>sp.</td>\n",
              "      <td>NaN</td>\n",
              "      <td>NaN</td>\n",
              "      <td>NaN</td>\n",
              "      <td>NaN</td>\n",
              "      <td>39674</td>\n",
              "      <td>Cretaceous 8</td>\n",
              "    </tr>\n",
              "    <tr>\n",
              "      <th>6</th>\n",
              "      <td>12855</td>\n",
              "      <td>PaleoDB</td>\n",
              "      <td>E. Fara</td>\n",
              "      <td>NaN</td>\n",
              "      <td>Rhineastes</td>\n",
              "      <td>NaN</td>\n",
              "      <td>sp.</td>\n",
              "      <td>NaN</td>\n",
              "      <td>NaN</td>\n",
              "      <td>NaN</td>\n",
              "      <td>NaN</td>\n",
              "      <td>39674</td>\n",
              "      <td>Cretaceous 8</td>\n",
              "    </tr>\n",
              "    <tr>\n",
              "      <th>16</th>\n",
              "      <td>12855</td>\n",
              "      <td>PaleoDB</td>\n",
              "      <td>E. Fara</td>\n",
              "      <td>NaN</td>\n",
              "      <td>Andinichthys</td>\n",
              "      <td>NaN</td>\n",
              "      <td>sp.</td>\n",
              "      <td>NaN</td>\n",
              "      <td>NaN</td>\n",
              "      <td>NaN</td>\n",
              "      <td>NaN</td>\n",
              "      <td>39674</td>\n",
              "      <td>Cretaceous 8</td>\n",
              "    </tr>\n",
              "    <tr>\n",
              "      <th>18</th>\n",
              "      <td>12855</td>\n",
              "      <td>PaleoDB</td>\n",
              "      <td>E. Fara</td>\n",
              "      <td>NaN</td>\n",
              "      <td>Enchodus</td>\n",
              "      <td>NaN</td>\n",
              "      <td>sp.</td>\n",
              "      <td>NaN</td>\n",
              "      <td>NaN</td>\n",
              "      <td>NaN</td>\n",
              "      <td>NaN</td>\n",
              "      <td>39674</td>\n",
              "      <td>Cretaceous 8</td>\n",
              "    </tr>\n",
              "    <tr>\n",
              "      <th>19</th>\n",
              "      <td>12855</td>\n",
              "      <td>PaleoDB</td>\n",
              "      <td>E. Fara</td>\n",
              "      <td>NaN</td>\n",
              "      <td>Santosius</td>\n",
              "      <td>NaN</td>\n",
              "      <td>sp.</td>\n",
              "      <td>NaN</td>\n",
              "      <td>NaN</td>\n",
              "      <td>NaN</td>\n",
              "      <td>NaN</td>\n",
              "      <td>39674</td>\n",
              "      <td>Cretaceous 8</td>\n",
              "    </tr>\n",
              "  </tbody>\n",
              "</table>\n",
              "</div>"
            ],
            "text/plain": [
              "    collection_no source_database  ... collection.reference_no     10_my_bin\n",
              "4           12855         PaleoDB  ...                   39674  Cretaceous 8\n",
              "6           12855         PaleoDB  ...                   39674  Cretaceous 8\n",
              "16          12855         PaleoDB  ...                   39674  Cretaceous 8\n",
              "18          12855         PaleoDB  ...                   39674  Cretaceous 8\n",
              "19          12855         PaleoDB  ...                   39674  Cretaceous 8\n",
              "\n",
              "[5 rows x 13 columns]"
            ]
          },
          "metadata": {
            "tags": []
          },
          "execution_count": 74
        }
      ]
    },
    {
      "cell_type": "code",
      "metadata": {
        "id": "bli9i9ygQvDb",
        "outputId": "44c9904f-b768-4514-be99-f6087b47b589",
        "colab": {
          "base_uri": "https://localhost:8080/",
          "height": 241
        }
      },
      "source": [
        "dados[dados['occurrence.species_name'] == \"brasiliensis\"].head()"
      ],
      "execution_count": 75,
      "outputs": [
        {
          "output_type": "execute_result",
          "data": {
            "text/html": [
              "<div>\n",
              "<style scoped>\n",
              "    .dataframe tbody tr th:only-of-type {\n",
              "        vertical-align: middle;\n",
              "    }\n",
              "\n",
              "    .dataframe tbody tr th {\n",
              "        vertical-align: top;\n",
              "    }\n",
              "\n",
              "    .dataframe thead th {\n",
              "        text-align: right;\n",
              "    }\n",
              "</style>\n",
              "<table border=\"1\" class=\"dataframe\">\n",
              "  <thead>\n",
              "    <tr style=\"text-align: right;\">\n",
              "      <th></th>\n",
              "      <th>collection_no</th>\n",
              "      <th>source_database</th>\n",
              "      <th>collection.authorizer</th>\n",
              "      <th>occurrence.genus_reso</th>\n",
              "      <th>occurrence.genus_name</th>\n",
              "      <th>occurrence.species_reso</th>\n",
              "      <th>occurrence.species_name</th>\n",
              "      <th>original.genus_reso</th>\n",
              "      <th>original.genus_name</th>\n",
              "      <th>original.species_reso</th>\n",
              "      <th>original.species_name</th>\n",
              "      <th>collection.reference_no</th>\n",
              "      <th>10_my_bin</th>\n",
              "    </tr>\n",
              "  </thead>\n",
              "  <tbody>\n",
              "    <tr>\n",
              "      <th>88</th>\n",
              "      <td>13220</td>\n",
              "      <td>Fossilworks</td>\n",
              "      <td>J. Alroy</td>\n",
              "      <td>NaN</td>\n",
              "      <td>Prozostrodon</td>\n",
              "      <td>n. sp.</td>\n",
              "      <td>brasiliensis</td>\n",
              "      <td>NaN</td>\n",
              "      <td>Thrinaxodon</td>\n",
              "      <td>n. sp.</td>\n",
              "      <td>brasiliensis</td>\n",
              "      <td>4389</td>\n",
              "      <td>NaN</td>\n",
              "    </tr>\n",
              "    <tr>\n",
              "      <th>137</th>\n",
              "      <td>13501</td>\n",
              "      <td>Fossilworks</td>\n",
              "      <td>J. Alroy</td>\n",
              "      <td>NaN</td>\n",
              "      <td>Podocnemis</td>\n",
              "      <td>?</td>\n",
              "      <td>brasiliensis</td>\n",
              "      <td>NaN</td>\n",
              "      <td>NaN</td>\n",
              "      <td>NaN</td>\n",
              "      <td>NaN</td>\n",
              "      <td>6116</td>\n",
              "      <td>Cenozoic 1</td>\n",
              "    </tr>\n",
              "    <tr>\n",
              "      <th>543</th>\n",
              "      <td>48091</td>\n",
              "      <td>PaleoDB</td>\n",
              "      <td>J. Head</td>\n",
              "      <td>n. gen.</td>\n",
              "      <td>Hoffstetterella</td>\n",
              "      <td>n. sp.</td>\n",
              "      <td>brasiliensis</td>\n",
              "      <td>NaN</td>\n",
              "      <td>NaN</td>\n",
              "      <td>NaN</td>\n",
              "      <td>NaN</td>\n",
              "      <td>12895</td>\n",
              "      <td>NaN</td>\n",
              "    </tr>\n",
              "    <tr>\n",
              "      <th>544</th>\n",
              "      <td>48091</td>\n",
              "      <td>PaleoDB</td>\n",
              "      <td>J. Head</td>\n",
              "      <td>cf.</td>\n",
              "      <td>Hoffstetterella</td>\n",
              "      <td>NaN</td>\n",
              "      <td>brasiliensis</td>\n",
              "      <td>NaN</td>\n",
              "      <td>NaN</td>\n",
              "      <td>NaN</td>\n",
              "      <td>NaN</td>\n",
              "      <td>12895</td>\n",
              "      <td>NaN</td>\n",
              "    </tr>\n",
              "    <tr>\n",
              "      <th>563</th>\n",
              "      <td>51627</td>\n",
              "      <td>ETE</td>\n",
              "      <td>M. Carrano</td>\n",
              "      <td>NaN</td>\n",
              "      <td>Antarctosaurus</td>\n",
              "      <td>n. sp.</td>\n",
              "      <td>brasiliensis</td>\n",
              "      <td>NaN</td>\n",
              "      <td>NaN</td>\n",
              "      <td>NaN</td>\n",
              "      <td>NaN</td>\n",
              "      <td>13713</td>\n",
              "      <td>NaN</td>\n",
              "    </tr>\n",
              "  </tbody>\n",
              "</table>\n",
              "</div>"
            ],
            "text/plain": [
              "     collection_no source_database  ... collection.reference_no   10_my_bin\n",
              "88           13220     Fossilworks  ...                    4389         NaN\n",
              "137          13501     Fossilworks  ...                    6116  Cenozoic 1\n",
              "543          48091         PaleoDB  ...                   12895         NaN\n",
              "544          48091         PaleoDB  ...                   12895         NaN\n",
              "563          51627             ETE  ...                   13713         NaN\n",
              "\n",
              "[5 rows x 13 columns]"
            ]
          },
          "metadata": {
            "tags": []
          },
          "execution_count": 75
        }
      ]
    },
    {
      "cell_type": "code",
      "metadata": {
        "id": "4xEaHkR75qfb",
        "outputId": "549fc61d-8ae8-4c24-ebe6-03f8f70ec139",
        "colab": {
          "base_uri": "https://localhost:8080/",
          "height": 476
        }
      },
      "source": [
        "#Verificando os períodos geológicos do conjunto\n",
        "dados['10_my_bin'].value_counts()"
      ],
      "execution_count": 76,
      "outputs": [
        {
          "output_type": "execute_result",
          "data": {
            "text/plain": [
              "Cenozoic 6      1660\n",
              "Cenozoic 5      1527\n",
              "Cenozoic 3       140\n",
              "Cretaceous 8      92\n",
              "Cenozoic 1        80\n",
              "Jurassic 5        79\n",
              "Triassic 2        75\n",
              "Cenozoic 4        72\n",
              "Cretaceous 4      65\n",
              "Permian 2         45\n",
              "Cenozoic 2        39\n",
              "Triassic 4        37\n",
              "Cretaceous 2      29\n",
              "Cretaceous 3      27\n",
              "Cretaceous 7      11\n",
              "Cretaceous 6      11\n",
              "Triassic 1        10\n",
              "Permian 3         10\n",
              "Triassic 3        10\n",
              "Ordovician 2       6\n",
              "Ordovician 4       5\n",
              "Permian 1          4\n",
              "Cretaceous 5       3\n",
              "Cretaceous 1       2\n",
              "Jurassic 3         1\n",
              "Jurassic 1         1\n",
              "Name: 10_my_bin, dtype: int64"
            ]
          },
          "metadata": {
            "tags": []
          },
          "execution_count": 76
        }
      ]
    },
    {
      "cell_type": "code",
      "metadata": {
        "id": "470oxY7bB_Un",
        "outputId": "741208f2-8019-440b-b16e-3a5fa931c282",
        "colab": {
          "base_uri": "https://localhost:8080/",
          "height": 476
        }
      },
      "source": [
        "#Porcentagem de fósseis para cada período geológico presente no conjunto\n",
        "dados['10_my_bin'].value_counts(normalize=True)"
      ],
      "execution_count": 77,
      "outputs": [
        {
          "output_type": "execute_result",
          "data": {
            "text/plain": [
              "Cenozoic 6      0.410789\n",
              "Cenozoic 5      0.377877\n",
              "Cenozoic 3      0.034645\n",
              "Cretaceous 8    0.022767\n",
              "Cenozoic 1      0.019797\n",
              "Jurassic 5      0.019550\n",
              "Triassic 2      0.018560\n",
              "Cenozoic 4      0.017817\n",
              "Cretaceous 4    0.016085\n",
              "Permian 2       0.011136\n",
              "Cenozoic 2      0.009651\n",
              "Triassic 4      0.009156\n",
              "Cretaceous 2    0.007176\n",
              "Cretaceous 3    0.006682\n",
              "Cretaceous 7    0.002722\n",
              "Cretaceous 6    0.002722\n",
              "Triassic 1      0.002475\n",
              "Permian 3       0.002475\n",
              "Triassic 3      0.002475\n",
              "Ordovician 2    0.001485\n",
              "Ordovician 4    0.001237\n",
              "Permian 1       0.000990\n",
              "Cretaceous 5    0.000742\n",
              "Cretaceous 1    0.000495\n",
              "Jurassic 3      0.000247\n",
              "Jurassic 1      0.000247\n",
              "Name: 10_my_bin, dtype: float64"
            ]
          },
          "metadata": {
            "tags": []
          },
          "execution_count": 77
        }
      ]
    },
    {
      "cell_type": "code",
      "metadata": {
        "id": "5_BquklND6dI",
        "outputId": "f798bd3e-8e6f-48c8-de5d-c87d5ea7490c",
        "colab": {
          "base_uri": "https://localhost:8080/",
          "height": 566
        }
      },
      "source": [
        "plt.figure(figsize=(20,8))\n",
        "plt.xticks(rotation=45)\n",
        "plt.grid(True)\n",
        "plt.title(\"Quantidade de fósseis por periodo geológico\")\n",
        "plt.ylabel(\"Quantidade de fósseis\")\n",
        "plt.xlabel(\"Periodo Geológico\")\n",
        "plt.plot(dados['10_my_bin'].value_counts().head(15), marker=\"o\", linewidth=2, color='green')"
      ],
      "execution_count": 78,
      "outputs": [
        {
          "output_type": "execute_result",
          "data": {
            "text/plain": [
              "[<matplotlib.lines.Line2D at 0x7f06142618d0>]"
            ]
          },
          "metadata": {
            "tags": []
          },
          "execution_count": 78
        },
        {
          "output_type": "display_data",
          "data": {
            "image/png": "[encoded data removed]",
            "text/plain": [
              "<Figure size 1440x576 with 1 Axes>"
            ]
          },
          "metadata": {
            "tags": []
          }
        }
      ]
    },
    {
      "cell_type": "code",
      "metadata": {
        "id": "HtiK0ipi7R1F",
        "outputId": "4d8f2a3c-f0fd-453a-9c47-3989990b4b7c",
        "colab": {
          "base_uri": "https://localhost:8080/",
          "height": 221
        }
      },
      "source": [
        "#Verificando as espécies presentes no conjunto\n",
        "dados['occurrence.genus_name'].value_counts()"
      ],
      "execution_count": 79,
      "outputs": [
        {
          "output_type": "execute_result",
          "data": {
            "text/plain": [
              "Purussaurus        42\n",
              "Carcharhinus       40\n",
              "Equus              40\n",
              "Sula               39\n",
              "Megatherium        39\n",
              "                   ..\n",
              "Chukimys            1\n",
              "Taponichnus         1\n",
              "Barberenasuchus     1\n",
              "Luangwa             1\n",
              "Catoptrophorus      1\n",
              "Name: occurrence.genus_name, Length: 1856, dtype: int64"
            ]
          },
          "metadata": {
            "tags": []
          },
          "execution_count": 79
        }
      ]
    },
    {
      "cell_type": "markdown",
      "metadata": {
        "id": "CEC-W2c5fICp"
      },
      "source": [
        "Podemos ver que o gênero com maior número de registros, nesse conjunto de dados, é o Purussaurus, com 42 registros.\n",
        "\n",
        "![Giant_caiman_skull.jpg](data:image/jpeg;base64,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)\n",
        "\n",
        "Habitava a região da floresta amazônica, incluindo Brasil, Panamá, Peru, Colômbia e Venezuela, durante o periódo Mioceno.\n",
        "\n",
        "Fonte: \n",
        "*   https://dinopedia.fandom.com/wiki/Purussaurus\n",
        "*   https://journals.plos.org/plosone/article?id=10.1371/journal.pone.0117944\n"
      ]
    },
    {
      "cell_type": "code",
      "metadata": {
        "id": "b-mo7g0Y_r7A",
        "outputId": "fb4c924a-aa8a-4c49-deab-e613e0269612",
        "colab": {
          "base_uri": "https://localhost:8080/",
          "height": 289
        }
      },
      "source": [
        "dados['occurrence.genus_name'].value_counts().head(15)"
      ],
      "execution_count": 80,
      "outputs": [
        {
          "output_type": "execute_result",
          "data": {
            "text/plain": [
              "Purussaurus      42\n",
              "Carcharhinus     40\n",
              "Equus            40\n",
              "Sula             39\n",
              "Megatherium      39\n",
              "Glyptodon        37\n",
              "Turritella       33\n",
              "Glossotherium    27\n",
              "Mourasuchus      27\n",
              "Scleromys        27\n",
              "Eremotherium     25\n",
              "Hyperodapedon    25\n",
              "Gryposuchus      24\n",
              "Caiman           24\n",
              "Toxodon          24\n",
              "Name: occurrence.genus_name, dtype: int64"
            ]
          },
          "metadata": {
            "tags": []
          },
          "execution_count": 80
        }
      ]
    },
    {
      "cell_type": "code",
      "metadata": {
        "id": "rxboiqNICImI",
        "outputId": "7f155c98-7328-4012-c672-2320af9bdbcc",
        "colab": {
          "base_uri": "https://localhost:8080/",
          "height": 289
        }
      },
      "source": [
        "dados['occurrence.genus_name'].value_counts(normalize=True).head(15)"
      ],
      "execution_count": 81,
      "outputs": [
        {
          "output_type": "execute_result",
          "data": {
            "text/plain": [
              "Purussaurus      0.008282\n",
              "Carcharhinus     0.007888\n",
              "Equus            0.007888\n",
              "Sula             0.007691\n",
              "Megatherium      0.007691\n",
              "Glyptodon        0.007296\n",
              "Turritella       0.006508\n",
              "Glossotherium    0.005324\n",
              "Mourasuchus      0.005324\n",
              "Scleromys        0.005324\n",
              "Eremotherium     0.004930\n",
              "Hyperodapedon    0.004930\n",
              "Gryposuchus      0.004733\n",
              "Caiman           0.004733\n",
              "Toxodon          0.004733\n",
              "Name: occurrence.genus_name, dtype: float64"
            ]
          },
          "metadata": {
            "tags": []
          },
          "execution_count": 81
        }
      ]
    },
    {
      "cell_type": "code",
      "metadata": {
        "id": "OUv9Gk4D7p01",
        "outputId": "c584b24a-3ce0-4766-a86a-c6e033b80ef7",
        "colab": {
          "base_uri": "https://localhost:8080/",
          "height": 576
        }
      },
      "source": [
        "plt.figure(figsize=(20,8))\n",
        "plt.xticks(rotation=45)\n",
        "plt.grid(True)\n",
        "plt.title(\"Quantidade de fósseis por genêro\")\n",
        "plt.ylabel(\"Quantidade de fósseis\")\n",
        "plt.xlabel(\"Gênero\")\n",
        "plt.plot(dados['occurrence.genus_name'].value_counts().head(15), marker=\"o\", linewidth=2, color='cyan')"
      ],
      "execution_count": 82,
      "outputs": [
        {
          "output_type": "execute_result",
          "data": {
            "text/plain": [
              "[<matplotlib.lines.Line2D at 0x7f06142579e8>]"
            ]
          },
          "metadata": {
            "tags": []
          },
          "execution_count": 82
        },
        {
          "output_type": "display_data",
          "data": {
            "image/png": "[encoded data removed]",
            "text/plain": [
              "<Figure size 1440x576 with 1 Axes>"
            ]
          },
          "metadata": {
            "tags": []
          }
        }
      ]
    },
    {
      "cell_type": "code",
      "metadata": {
        "id": "SdF6ZcJyiT89",
        "outputId": "e6293015-7a29-4957-c629-e2f32a5974eb",
        "colab": {
          "base_uri": "https://localhost:8080/",
          "height": 102
        }
      },
      "source": [
        "dados[dados['occurrence.genus_name'] == \"Purussaurus\"]['occurrence.species_name'].value_counts()"
      ],
      "execution_count": 83,
      "outputs": [
        {
          "output_type": "execute_result",
          "data": {
            "text/plain": [
              "sp.             23\n",
              "neivensis        9\n",
              "mirandai         8\n",
              "brasiliensis     2\n",
              "Name: occurrence.species_name, dtype: int64"
            ]
          },
          "metadata": {
            "tags": []
          },
          "execution_count": 83
        }
      ]
    },
    {
      "cell_type": "code",
      "metadata": {
        "id": "hN0Ruq6jkOpt",
        "outputId": "3bd7e611-9d90-42a2-e1eb-fd134c8cd51a",
        "colab": {
          "base_uri": "https://localhost:8080/",
          "height": 350
        }
      },
      "source": [
        "plt.figure(figsize=(10,4))\n",
        "plt.xticks(rotation=45)\n",
        "plt.grid(True)\n",
        "plt.title(\"Quantidade de fósseis por Espécie\")\n",
        "plt.ylabel(\"Quantidade de fósseis\")\n",
        "plt.xlabel(\"Espécie\")\n",
        "plt.plot(dados[dados['occurrence.genus_name'] == \"Purussaurus\"]['occurrence.species_name'].value_counts(), marker=\"o\", linewidth=2, color='blue')"
      ],
      "execution_count": 84,
      "outputs": [
        {
          "output_type": "execute_result",
          "data": {
            "text/plain": [
              "[<matplotlib.lines.Line2D at 0x7f06141cfc50>]"
            ]
          },
          "metadata": {
            "tags": []
          },
          "execution_count": 84
        },
        {
          "output_type": "display_data",
          "data": {
            "image/png": "[encoded data removed]",
            "text/plain": [
              "<Figure size 720x288 with 1 Axes>"
            ]
          },
          "metadata": {
            "tags": []
          }
        }
      ]
    },
    {
      "cell_type": "code",
      "metadata": {
        "id": "mhfJDQM2p0Od",
        "outputId": "32b912ed-4224-4c1d-986f-e7cf93f7931e",
        "colab": {
          "base_uri": "https://localhost:8080/",
          "height": 272
        }
      },
      "source": [
        "dados[dados['occurrence.genus_name'] == \"Carcharhinus\"]['occurrence.species_name'].value_counts()"
      ],
      "execution_count": 85,
      "outputs": [
        {
          "output_type": "execute_result",
          "data": {
            "text/plain": [
              "sp.               14\n",
              "egertoni           5\n",
              "brachyurus         4\n",
              "priscus            3\n",
              "ackermanii         3\n",
              "ackermanni         2\n",
              "obscurus           2\n",
              "falciformis        1\n",
              "macloti            1\n",
              "ackermani          1\n",
              "albimarginatus     1\n",
              "priscusi           1\n",
              "porosus            1\n",
              "leucas             1\n",
              "Name: occurrence.species_name, dtype: int64"
            ]
          },
          "metadata": {
            "tags": []
          },
          "execution_count": 85
        }
      ]
    },
    {
      "cell_type": "code",
      "metadata": {
        "id": "bONs-qOXqLQX",
        "outputId": "9eff52f5-1fb9-45c7-9c6b-dd031ed424a4",
        "colab": {
          "base_uri": "https://localhost:8080/",
          "height": 363
        }
      },
      "source": [
        "plt.figure(figsize=(10,4))\n",
        "plt.xticks(rotation=45)\n",
        "plt.grid(True)\n",
        "plt.title(\"Quantidade de fósseis da espécie 'Carcharhinus' \")\n",
        "plt.ylabel(\"Quantidade de fósseis\")\n",
        "plt.xlabel(\"Espécie\")\n",
        "plt.plot(dados[dados['occurrence.genus_name'] == \"Carcharhinus\"]['occurrence.species_name'].value_counts(), marker=\"o\", linewidth=2, color='red')"
      ],
      "execution_count": 86,
      "outputs": [
        {
          "output_type": "execute_result",
          "data": {
            "text/plain": [
              "[<matplotlib.lines.Line2D at 0x7f0614128c50>]"
            ]
          },
          "metadata": {
            "tags": []
          },
          "execution_count": 86
        },
        {
          "output_type": "display_data",
          "data": {
            "image/png": "[encoded data removed]",
            "text/plain": [
              "<Figure size 720x288 with 1 Axes>"
            ]
          },
          "metadata": {
            "tags": []
          }
        }
      ]
    },
    {
      "cell_type": "code",
      "metadata": {
        "id": "UiMFeU-0q38b",
        "outputId": "99c9d220-130e-488e-86e7-5019bd034e8a",
        "colab": {
          "base_uri": "https://localhost:8080/",
          "height": 136
        }
      },
      "source": [
        "dados[dados['occurrence.genus_name'] == \"Equus\"]['occurrence.species_name'].value_counts()"
      ],
      "execution_count": 87,
      "outputs": [
        {
          "output_type": "execute_result",
          "data": {
            "text/plain": [
              "andium          11\n",
              "sp.             11\n",
              "caballus         9\n",
              "martinei         4\n",
              "santaeelenae     3\n",
              "insulatus        2\n",
              "Name: occurrence.species_name, dtype: int64"
            ]
          },
          "metadata": {
            "tags": []
          },
          "execution_count": 87
        }
      ]
    },
    {
      "cell_type": "code",
      "metadata": {
        "id": "u6mS9YpOq9Ta",
        "outputId": "b7ec264e-fe39-4430-d707-2023720bd2af",
        "colab": {
          "base_uri": "https://localhost:8080/",
          "height": 358
        }
      },
      "source": [
        "plt.figure(figsize=(10,4))\n",
        "plt.xticks(rotation=45)\n",
        "plt.grid(True)\n",
        "plt.title(\"Quantidade de fósseis da espécie 'Equus' \")\n",
        "plt.ylabel(\"Quantidade de fósseis\")\n",
        "plt.xlabel(\"Espécie\")\n",
        "plt.plot(dados[dados['occurrence.genus_name'] == \"Equus\"]['occurrence.species_name'].value_counts(), marker=\"o\", linewidth=2, color='orange')"
      ],
      "execution_count": 88,
      "outputs": [
        {
          "output_type": "execute_result",
          "data": {
            "text/plain": [
              "[<matplotlib.lines.Line2D at 0x7f0614116a20>]"
            ]
          },
          "metadata": {
            "tags": []
          },
          "execution_count": 88
        },
        {
          "output_type": "display_data",
          "data": {
            "image/png": "[encoded data removed]",
            "text/plain": [
              "<Figure size 720x288 with 1 Axes>"
            ]
          },
          "metadata": {
            "tags": []
          }
        }
      ]
    },
    {
      "cell_type": "code",
      "metadata": {
        "id": "zXIcNuy_srzU",
        "outputId": "501c8741-a50b-4153-c75f-8561003ba42e",
        "colab": {
          "base_uri": "https://localhost:8080/",
          "height": 187
        }
      },
      "source": [
        "dados[dados['occurrence.genus_name'] == \"Sula\"]['occurrence.species_name'].value_counts()"
      ],
      "execution_count": 89,
      "outputs": [
        {
          "output_type": "execute_result",
          "data": {
            "text/plain": [
              "sp.            17\n",
              "sula            8\n",
              "dactylatra      5\n",
              "magna           2\n",
              "leucogaster     2\n",
              "variegata       2\n",
              "sulita          1\n",
              "brandi          1\n",
              "figueroae       1\n",
              "Name: occurrence.species_name, dtype: int64"
            ]
          },
          "metadata": {
            "tags": []
          },
          "execution_count": 89
        }
      ]
    },
    {
      "cell_type": "code",
      "metadata": {
        "id": "AnRBbd4Ys1_N",
        "outputId": "c435b71e-84b2-410a-c195-d0b12c37b2c8",
        "colab": {
          "base_uri": "https://localhost:8080/",
          "height": 351
        }
      },
      "source": [
        "plt.figure(figsize=(12,4))\n",
        "plt.xticks(rotation=45)\n",
        "plt.grid(True)\n",
        "plt.title(\"Quantidade de fósseis da espécie 'Equus' \")\n",
        "plt.ylabel(\"Quantidade de fósseis\")\n",
        "plt.xlabel(\"Espécie\")\n",
        "plt.plot(dados[dados['occurrence.genus_name'] == \"Sula\"]['occurrence.species_name'].value_counts(), marker=\"o\", linewidth=2, color='pink')"
      ],
      "execution_count": 90,
      "outputs": [
        {
          "output_type": "execute_result",
          "data": {
            "text/plain": [
              "[<matplotlib.lines.Line2D at 0x7f0614076320>]"
            ]
          },
          "metadata": {
            "tags": []
          },
          "execution_count": 90
        },
        {
          "output_type": "display_data",
          "data": {
            "image/png": "[encoded data removed]",
            "text/plain": [
              "<Figure size 864x288 with 1 Axes>"
            ]
          },
          "metadata": {
            "tags": []
          }
        }
      ]
    },
    {
      "cell_type": "code",
      "metadata": {
        "id": "L54qUFnXtlOy",
        "outputId": "474819d0-5957-4a0c-d0f8-71b85329c99d",
        "colab": {
          "base_uri": "https://localhost:8080/",
          "height": 289
        }
      },
      "source": [
        "dados[dados['occurrence.genus_name'] == \"Megatherium\"]['occurrence.species_name'].value_counts()"
      ],
      "execution_count": 91,
      "outputs": [
        {
          "output_type": "execute_result",
          "data": {
            "text/plain": [
              "americanum      11\n",
              "sp.              7\n",
              "altiplanicum     4\n",
              "tarijense        3\n",
              "tarijensis       2\n",
              "medinae          2\n",
              "urbinai          2\n",
              "elenense         1\n",
              "americium        1\n",
              "sundti           1\n",
              "celendinense     1\n",
              "uquiensis        1\n",
              "sp. 3            1\n",
              "sp. 1            1\n",
              "sp. 2            1\n",
              "Name: occurrence.species_name, dtype: int64"
            ]
          },
          "metadata": {
            "tags": []
          },
          "execution_count": 91
        }
      ]
    },
    {
      "cell_type": "code",
      "metadata": {
        "id": "s0siZiLHtzym",
        "outputId": "4e2082c0-ebed-4df1-aa4f-dda16fbbf633",
        "colab": {
          "base_uri": "https://localhost:8080/",
          "height": 357
        }
      },
      "source": [
        "plt.figure(figsize=(12,4))\n",
        "plt.xticks(rotation=45)\n",
        "plt.grid(True)\n",
        "plt.title(\"Quantidade de fósseis da espécie 'Equus' \")\n",
        "plt.ylabel(\"Quantidade de fósseis\")\n",
        "plt.xlabel(\"Espécie\")\n",
        "plt.plot(dados[dados['occurrence.genus_name'] == \"Megatherium\"]['occurrence.species_name'].value_counts(), marker=\"o\", linewidth=2, color='purple')"
      ],
      "execution_count": 92,
      "outputs": [
        {
          "output_type": "execute_result",
          "data": {
            "text/plain": [
              "[<matplotlib.lines.Line2D at 0x7f0614469e10>]"
            ]
          },
          "metadata": {
            "tags": []
          },
          "execution_count": 92
        },
        {
          "output_type": "display_data",
          "data": {
            "image/png": "[encoded data removed]",
            "text/plain": [
              "<Figure size 864x288 with 1 Axes>"
            ]
          },
          "metadata": {
            "tags": []
          }
        }
      ]
    },
    {
      "cell_type": "code",
      "metadata": {
        "id": "6KWGrQhDd_D6",
        "outputId": "4b2ec4d7-d4b6-4418-aec7-8040644f8980",
        "colab": {
          "base_uri": "https://localhost:8080/",
          "height": 578
        }
      },
      "source": [
        "#Laboratórios com mais pesquisas, neste conjunto, em odem descrescente\n",
        "dados['collection.authorizer'].value_counts()"
      ],
      "execution_count": 93,
      "outputs": [
        {
          "output_type": "execute_result",
          "data": {
            "text/plain": [
              "M. Uhen         1874\n",
              "C. Jaramillo     868\n",
              "P. Mannion       411\n",
              "J. Alroy         404\n",
              "M. Carrano       314\n",
              "J. Zijlstra      271\n",
              "D. Croft         222\n",
              "R. Butler        198\n",
              "C. Bell          114\n",
              "M. Clapham        89\n",
              "P. Holroyd        70\n",
              "J. Mueller        50\n",
              "J. Head           31\n",
              "R. Benson         29\n",
              "E. Fara           22\n",
              "J. Hunter         18\n",
              "A. Cardenas       18\n",
              "M. Foote          14\n",
              "S. Peters          9\n",
              "A. Hendy           7\n",
              "A. Liparini        7\n",
              "W. Kiessling       5\n",
              "P. Wagner          5\n",
              "G. Lloyd           5\n",
              "T. Olszewski       3\n",
              "AD. Rincon         3\n",
              "M. Aberhan         3\n",
              "V. Fischer         2\n",
              "A. Stafford        2\n",
              "J. Marcot          1\n",
              "E. Vlachos         1\n",
              "A. Rincon          1\n",
              "Name: collection.authorizer, dtype: int64"
            ]
          },
          "metadata": {
            "tags": []
          },
          "execution_count": 93
        }
      ]
    },
    {
      "cell_type": "code",
      "metadata": {
        "id": "mgIbkbmWDnDb",
        "outputId": "7eda8d2b-f1d0-456c-eb2c-20e1db455489",
        "colab": {
          "base_uri": "https://localhost:8080/",
          "height": 578
        }
      },
      "source": [
        "#Porcentagem dos labs com mais pesquisas\n",
        "dados['collection.authorizer'].value_counts(normalize=True)"
      ],
      "execution_count": 94,
      "outputs": [
        {
          "output_type": "execute_result",
          "data": {
            "text/plain": [
              "M. Uhen         0.369552\n",
              "C. Jaramillo    0.171169\n",
              "P. Mannion      0.081049\n",
              "J. Alroy        0.079669\n",
              "M. Carrano      0.061921\n",
              "J. Zijlstra     0.053441\n",
              "D. Croft        0.043778\n",
              "R. Butler       0.039046\n",
              "C. Bell         0.022481\n",
              "M. Clapham      0.017551\n",
              "P. Holroyd      0.013804\n",
              "J. Mueller      0.009860\n",
              "J. Head         0.006113\n",
              "R. Benson       0.005719\n",
              "E. Fara         0.004338\n",
              "J. Hunter       0.003550\n",
              "A. Cardenas     0.003550\n",
              "M. Foote        0.002761\n",
              "S. Peters       0.001775\n",
              "A. Hendy        0.001380\n",
              "A. Liparini     0.001380\n",
              "W. Kiessling    0.000986\n",
              "P. Wagner       0.000986\n",
              "G. Lloyd        0.000986\n",
              "T. Olszewski    0.000592\n",
              "AD. Rincon      0.000592\n",
              "M. Aberhan      0.000592\n",
              "V. Fischer      0.000394\n",
              "A. Stafford     0.000394\n",
              "J. Marcot       0.000197\n",
              "E. Vlachos      0.000197\n",
              "A. Rincon       0.000197\n",
              "Name: collection.authorizer, dtype: float64"
            ]
          },
          "metadata": {
            "tags": []
          },
          "execution_count": 94
        }
      ]
    },
    {
      "cell_type": "markdown",
      "metadata": {
        "id": "0en79xRkmxoo"
      },
      "source": [
        "Laboratório Uhen da Universidade de George Mason, no estado da Virgínia, Estados Unidos: http://uhenlab.weebly.com/"
      ]
    },
    {
      "cell_type": "code",
      "metadata": {
        "id": "yJwGHrwkuJjW",
        "outputId": "69cf6c8a-f6e1-4649-c940-58ce596f426a",
        "colab": {
          "base_uri": "https://localhost:8080/",
          "height": 221
        }
      },
      "source": [
        "#Espécies pesquisadas pelo lab Uhen\n",
        "dados[dados['collection.authorizer'] == \"M. Uhen\"]['occurrence.genus_name'].value_counts()"
      ],
      "execution_count": 95,
      "outputs": [
        {
          "output_type": "execute_result",
          "data": {
            "text/plain": [
              "Carcharhinus      39\n",
              "Turritella        32\n",
              "Corbula           23\n",
              "Carcharodon       22\n",
              "Chama             20\n",
              "                  ..\n",
              "Trigodon           1\n",
              "Phosfictilis       1\n",
              "Notidanus          1\n",
              "Cervus             1\n",
              "Notopachyrucos     1\n",
              "Name: occurrence.genus_name, Length: 786, dtype: int64"
            ]
          },
          "metadata": {
            "tags": []
          },
          "execution_count": 95
        }
      ]
    },
    {
      "cell_type": "code",
      "metadata": {
        "id": "gITNL61cvwqw",
        "outputId": "e1802638-a57e-4986-c5e7-f1862949e444",
        "colab": {
          "base_uri": "https://localhost:8080/",
          "height": 34
        }
      },
      "source": [
        "#Quantidade fósseis\n",
        "len(dados[dados['collection.authorizer'] == \"M. Uhen\"]['occurrence.genus_name'].value_counts())"
      ],
      "execution_count": 96,
      "outputs": [
        {
          "output_type": "execute_result",
          "data": {
            "text/plain": [
              "786"
            ]
          },
          "metadata": {
            "tags": []
          },
          "execution_count": 96
        }
      ]
    },
    {
      "cell_type": "markdown",
      "metadata": {
        "id": "pUXKeGTnvn3D"
      },
      "source": [
        "Podemos ver que grande parte dos fósseis, neste conjunto, sobre o Lab Uhen são de espécies marinhas, mas também possuem mamíferos e insetos."
      ]
    },
    {
      "cell_type": "code",
      "metadata": {
        "id": "3LgpWzYrQh3e",
        "outputId": "e06d5b52-095f-477e-f584-c390087e307c",
        "colab": {
          "base_uri": "https://localhost:8080/",
          "height": 100
        }
      },
      "source": [
        "#Verificando o registo do Jurrásico\n",
        "dados[dados['10_my_bin'] == \"Jurassic 3\"]"
      ],
      "execution_count": 97,
      "outputs": [
        {
          "output_type": "execute_result",
          "data": {
            "text/html": [
              "<div>\n",
              "<style scoped>\n",
              "    .dataframe tbody tr th:only-of-type {\n",
              "        vertical-align: middle;\n",
              "    }\n",
              "\n",
              "    .dataframe tbody tr th {\n",
              "        vertical-align: top;\n",
              "    }\n",
              "\n",
              "    .dataframe thead th {\n",
              "        text-align: right;\n",
              "    }\n",
              "</style>\n",
              "<table border=\"1\" class=\"dataframe\">\n",
              "  <thead>\n",
              "    <tr style=\"text-align: right;\">\n",
              "      <th></th>\n",
              "      <th>collection_no</th>\n",
              "      <th>source_database</th>\n",
              "      <th>collection.authorizer</th>\n",
              "      <th>occurrence.genus_reso</th>\n",
              "      <th>occurrence.genus_name</th>\n",
              "      <th>occurrence.species_reso</th>\n",
              "      <th>occurrence.species_name</th>\n",
              "      <th>original.genus_reso</th>\n",
              "      <th>original.genus_name</th>\n",
              "      <th>original.species_reso</th>\n",
              "      <th>original.species_name</th>\n",
              "      <th>collection.reference_no</th>\n",
              "      <th>10_my_bin</th>\n",
              "    </tr>\n",
              "  </thead>\n",
              "  <tbody>\n",
              "    <tr>\n",
              "      <th>4218</th>\n",
              "      <td>172177</td>\n",
              "      <td>NaN</td>\n",
              "      <td>M. Carrano</td>\n",
              "      <td>NaN</td>\n",
              "      <td>Ichthyosaurus</td>\n",
              "      <td>NaN</td>\n",
              "      <td>sp.</td>\n",
              "      <td>NaN</td>\n",
              "      <td>NaN</td>\n",
              "      <td>NaN</td>\n",
              "      <td>NaN</td>\n",
              "      <td>55912</td>\n",
              "      <td>Jurassic 3</td>\n",
              "    </tr>\n",
              "  </tbody>\n",
              "</table>\n",
              "</div>"
            ],
            "text/plain": [
              "      collection_no source_database  ... collection.reference_no   10_my_bin\n",
              "4218         172177             NaN  ...                   55912  Jurassic 3\n",
              "\n",
              "[1 rows x 13 columns]"
            ]
          },
          "metadata": {
            "tags": []
          },
          "execution_count": 97
        }
      ]
    },
    {
      "cell_type": "code",
      "metadata": {
        "id": "mGVscdXx6Am1",
        "outputId": "d925f483-9930-4eb3-8aed-53e7d4090d2e",
        "colab": {
          "base_uri": "https://localhost:8080/",
          "height": 100
        }
      },
      "source": [
        "#Verificando o registo do Jurrásico\n",
        "dados[dados['10_my_bin'] == \"Jurassic 1\"]"
      ],
      "execution_count": 98,
      "outputs": [
        {
          "output_type": "execute_result",
          "data": {
            "text/html": [
              "<div>\n",
              "<style scoped>\n",
              "    .dataframe tbody tr th:only-of-type {\n",
              "        vertical-align: middle;\n",
              "    }\n",
              "\n",
              "    .dataframe tbody tr th {\n",
              "        vertical-align: top;\n",
              "    }\n",
              "\n",
              "    .dataframe thead th {\n",
              "        text-align: right;\n",
              "    }\n",
              "</style>\n",
              "<table border=\"1\" class=\"dataframe\">\n",
              "  <thead>\n",
              "    <tr style=\"text-align: right;\">\n",
              "      <th></th>\n",
              "      <th>collection_no</th>\n",
              "      <th>source_database</th>\n",
              "      <th>collection.authorizer</th>\n",
              "      <th>occurrence.genus_reso</th>\n",
              "      <th>occurrence.genus_name</th>\n",
              "      <th>occurrence.species_reso</th>\n",
              "      <th>occurrence.species_name</th>\n",
              "      <th>original.genus_reso</th>\n",
              "      <th>original.genus_name</th>\n",
              "      <th>original.species_reso</th>\n",
              "      <th>original.species_name</th>\n",
              "      <th>collection.reference_no</th>\n",
              "      <th>10_my_bin</th>\n",
              "    </tr>\n",
              "  </thead>\n",
              "  <tbody>\n",
              "    <tr>\n",
              "      <th>4038</th>\n",
              "      <td>159703</td>\n",
              "      <td>NaN</td>\n",
              "      <td>R. Benson</td>\n",
              "      <td>n. gen.</td>\n",
              "      <td>Laquintasaura</td>\n",
              "      <td>n. sp.</td>\n",
              "      <td>venezuelae</td>\n",
              "      <td>NaN</td>\n",
              "      <td>NaN</td>\n",
              "      <td>NaN</td>\n",
              "      <td>NaN</td>\n",
              "      <td>52146</td>\n",
              "      <td>Jurassic 1</td>\n",
              "    </tr>\n",
              "  </tbody>\n",
              "</table>\n",
              "</div>"
            ],
            "text/plain": [
              "      collection_no source_database  ... collection.reference_no   10_my_bin\n",
              "4038         159703             NaN  ...                   52146  Jurassic 1\n",
              "\n",
              "[1 rows x 13 columns]"
            ]
          },
          "metadata": {
            "tags": []
          },
          "execution_count": 98
        }
      ]
    }
  ]
}