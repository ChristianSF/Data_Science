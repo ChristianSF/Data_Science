{
  "nbformat": 4,
  "nbformat_minor": 0,
  "metadata": {
    "colab": {
      "name": "API_Spotify_The_Strokes",
      "provenance": [],
      "collapsed_sections": []
    },
    "kernelspec": {
      "name": "python3",
      "display_name": "Python 3"
    }
  },
  "cells": [
    {
      "cell_type": "code",
      "metadata": {
        "colab": {
          "base_uri": "https://localhost:8080/"
        },
        "id": "dKNv7CxWz3Tz",
        "outputId": "7016c0d4-eac3-4070-f49d-0c57e45a87ee"
      },
      "source": [
        "!pip install spotipy"
      ],
      "execution_count": null,
      "outputs": [
        {
          "output_type": "stream",
          "text": [
            "Collecting spotipy\n",
            "  Downloading https://files.pythonhosted.org/packages/7a/cd/e7d9a35216ea5bfb9234785f3d8fa7c96d0e33999c2cb72394128f6b4cce/spotipy-2.16.1-py3-none-any.whl\n",
            "Requirement already satisfied: six>=1.10.0 in /usr/local/lib/python3.6/dist-packages (from spotipy) (1.15.0)\n",
            "Requirement already satisfied: requests>=2.20.0 in /usr/local/lib/python3.6/dist-packages (from spotipy) (2.23.0)\n",
            "Requirement already satisfied: chardet<4,>=3.0.2 in /usr/local/lib/python3.6/dist-packages (from requests>=2.20.0->spotipy) (3.0.4)\n",
            "Requirement already satisfied: urllib3!=1.25.0,!=1.25.1,<1.26,>=1.21.1 in /usr/local/lib/python3.6/dist-packages (from requests>=2.20.0->spotipy) (1.24.3)\n",
            "Requirement already satisfied: certifi>=2017.4.17 in /usr/local/lib/python3.6/dist-packages (from requests>=2.20.0->spotipy) (2020.12.5)\n",
            "Requirement already satisfied: idna<3,>=2.5 in /usr/local/lib/python3.6/dist-packages (from requests>=2.20.0->spotipy) (2.10)\n",
            "Installing collected packages: spotipy\n",
            "Successfully installed spotipy-2.16.1\n"
          ],
          "name": "stdout"
        }
      ]
    },
    {
      "cell_type": "code",
      "metadata": {
        "id": "bYK80ZIa0GN7"
      },
      "source": [
        "import pandas as pd\r\n",
        "import numpy as np\r\n",
        "import matplotlib.pyplot as plt\r\n",
        "import seaborn as sns\r\n",
        "import spotipy\r\n",
        "import csv\r\n",
        "from spotipy.oauth2 import SpotifyClientCredentials"
      ],
      "execution_count": null,
      "outputs": []
    },
    {
      "cell_type": "code",
      "metadata": {
        "id": "YHcl_Opp0RmZ"
      },
      "source": [
        "sns.set_style(\"darkgrid\")"
      ],
      "execution_count": null,
      "outputs": []
    },
    {
      "cell_type": "code",
      "metadata": {
        "id": "mdUaLlIk0WvB"
      },
      "source": [
        "credenciais = spotipy.Spotify(client_credentials_manager=SpotifyClientCredentials(client_id=\"2c0e886a72e2461ea86869990bff09fc\", client_secret=\"88f528d22c9b45c29a023813f817e355\"))"
      ],
      "execution_count": null,
      "outputs": []
    },
    {
      "cell_type": "code",
      "metadata": {
        "id": "9I_7qnj80v09"
      },
      "source": [
        "def get_artista_por_nome(name):\r\n",
        "    busca = credenciais.search(name)\r\n",
        "    items = busca['tracks']['items']\r\n",
        "    if len(items) > 0:\r\n",
        "        return items[0]['artists'][0]\r\n",
        "    else:\r\n",
        "        return None\r\n",
        "\r\n",
        "def get_id_do_artista(artist):\r\n",
        "    return artist['id']\r\n",
        "\r\n",
        "def get_dados_do_artista(id):\r\n",
        " \r\n",
        "  #Retornar albuns do artista\r\n",
        "  albuns_do_artista = credenciais.artist_albums(id, country = 'BR', limit=10)\r\n",
        "  albuns = {}\r\n",
        "\r\n",
        "  for i in range(len(albuns_do_artista['items'])):\r\n",
        "    id = albuns_do_artista['items'][i]['id']\r\n",
        "    name = albuns_do_artista['items'][i]['name']\r\n",
        "    albuns[id] = name\r\n",
        " \r\n",
        "  return albuns\r\n",
        "\r\n",
        "#Função para retornar os dados das músicas dos álbuns\r\n",
        "\r\n",
        "def get_dados_dos_albuns(album_id, album_name):\r\n",
        "  spotify_album = {}\r\n",
        "  \r\n",
        "  #Recuperar as músicas dos álbuns\r\n",
        "  tracks = credenciais.album_tracks(album_id)\r\n",
        "  \r\n",
        "  for n in range(len(tracks['items'])):\r\n",
        "    id_track = tracks['items'][n]['id']\r\n",
        "    track = credenciais.track(id_track)\r\n",
        "    spotify_album[id_track] = {}\r\n",
        "    \r\n",
        "    #As variaveis (dados) que estou buscando das músicas\r\n",
        "    spotify_album[id_track]['album'] = album_name \r\n",
        "    spotify_album[id_track]['track_number'] = track['track_number'] \r\n",
        "    spotify_album[id_track]['name'] = track['name'] \r\n",
        "    spotify_album[id_track]['popularity'] = track['popularity'] \r\n",
        "    \r\n",
        "  return spotify_album\r\n",
        "\r\n",
        "#Função para retornar os dados de todos os albuns\r\n",
        "\r\n",
        "def get_dados_de_todos_albuns(albums_ids_names):\r\n",
        "  spotify_albums = []\r\n",
        "  albums_names = []\r\n",
        "  for id, name in albums_ids_names.items():\r\n",
        "    if name not in albums_names:\r\n",
        "      albums_names.append(name)\r\n",
        "      dados_dos_albuns = get_dados_dos_albuns(id,name) \r\n",
        "    for item in dados_dos_albuns.items():\r\n",
        "      spotify_albums.append(item[1]) \r\n",
        "  return spotify_albums\r\n",
        "\r\n",
        "#Para poder analisar os dados coletados, precisamos criar uma Func p/ transformar todos os dados coletados em um arquivo CSV\r\n",
        "\r\n",
        "def convert_to_csv(filepath, name):\r\n",
        "  keys = filepath[0].keys()\r\n",
        "  print(keys)\r\n",
        "  csv_name = ''+ name + '.csv'\r\n",
        "  with open(csv_name, 'w') as output_file:\r\n",
        "    dict_writer = csv.DictWriter(output_file, keys)\r\n",
        "    dict_writer.writeheader()\r\n",
        "    dict_writer.writerows(filepath)\r\n",
        "  return"
      ],
      "execution_count": null,
      "outputs": []
    },
    {
      "cell_type": "code",
      "metadata": {
        "id": "RLpJ54Ou0yzt",
        "colab": {
          "base_uri": "https://localhost:8080/"
        },
        "outputId": "a5eeba12-5adb-4210-e4d3-03735482f004"
      },
      "source": [
        "#Agora o mais importante, precisamos determinar de qual artista queremos coletar os dados e fazer a coleta\r\n",
        "\r\n",
        "name = \"The Strokes\"\r\n",
        "\r\n",
        "artista = get_artista_por_nome(name)    \r\n",
        "\r\n",
        "#Se encontrar o artista no spotify:\r\n",
        "if artista:\r\n",
        "  id_do_artista = get_id_do_artista(artista)\r\n",
        "  dados_do_artista = get_dados_do_artista(id_do_artista)\r\n",
        "  dados_dos_albuns = get_dados_de_todos_albuns(dados_do_artista)\r\n",
        "  convert_to_csv(dados_dos_albuns, 'The Strokes')   \r\n",
        "\r\n",
        "else:\r\n",
        "  logger.error(\"Can't find artist: %s\", artista)"
      ],
      "execution_count": null,
      "outputs": [
        {
          "output_type": "stream",
          "text": [
            "dict_keys(['album', 'track_number', 'name', 'popularity'])\n"
          ],
          "name": "stdout"
        }
      ]
    },
    {
      "cell_type": "code",
      "metadata": {
        "id": "MCODQ1w43nVA"
      },
      "source": [
        "dados = pd.read_csv(\"The Strokes.csv\")"
      ],
      "execution_count": null,
      "outputs": []
    },
    {
      "cell_type": "code",
      "metadata": {
        "colab": {
          "base_uri": "https://localhost:8080/",
          "height": 204
        },
        "id": "bwqMIwHL5Dc7",
        "outputId": "551f094f-ab42-4652-a01a-b5bdc77582c5"
      },
      "source": [
        "dados.head()"
      ],
      "execution_count": null,
      "outputs": [
        {
          "output_type": "execute_result",
          "data": {
            "text/html": [
              "<div>\n",
              "<style scoped>\n",
              "    .dataframe tbody tr th:only-of-type {\n",
              "        vertical-align: middle;\n",
              "    }\n",
              "\n",
              "    .dataframe tbody tr th {\n",
              "        vertical-align: top;\n",
              "    }\n",
              "\n",
              "    .dataframe thead th {\n",
              "        text-align: right;\n",
              "    }\n",
              "</style>\n",
              "<table border=\"1\" class=\"dataframe\">\n",
              "  <thead>\n",
              "    <tr style=\"text-align: right;\">\n",
              "      <th></th>\n",
              "      <th>album</th>\n",
              "      <th>track_number</th>\n",
              "      <th>name</th>\n",
              "      <th>popularity</th>\n",
              "    </tr>\n",
              "  </thead>\n",
              "  <tbody>\n",
              "    <tr>\n",
              "      <th>0</th>\n",
              "      <td>The New Abnormal</td>\n",
              "      <td>1</td>\n",
              "      <td>The Adults Are Talking</td>\n",
              "      <td>75</td>\n",
              "    </tr>\n",
              "    <tr>\n",
              "      <th>1</th>\n",
              "      <td>The New Abnormal</td>\n",
              "      <td>2</td>\n",
              "      <td>Selfless</td>\n",
              "      <td>71</td>\n",
              "    </tr>\n",
              "    <tr>\n",
              "      <th>2</th>\n",
              "      <td>The New Abnormal</td>\n",
              "      <td>3</td>\n",
              "      <td>Brooklyn Bridge To Chorus</td>\n",
              "      <td>68</td>\n",
              "    </tr>\n",
              "    <tr>\n",
              "      <th>3</th>\n",
              "      <td>The New Abnormal</td>\n",
              "      <td>4</td>\n",
              "      <td>Bad Decisions</td>\n",
              "      <td>69</td>\n",
              "    </tr>\n",
              "    <tr>\n",
              "      <th>4</th>\n",
              "      <td>The New Abnormal</td>\n",
              "      <td>5</td>\n",
              "      <td>Eternal Summer</td>\n",
              "      <td>67</td>\n",
              "    </tr>\n",
              "  </tbody>\n",
              "</table>\n",
              "</div>"
            ],
            "text/plain": [
              "              album  track_number                       name  popularity\n",
              "0  The New Abnormal             1     The Adults Are Talking          75\n",
              "1  The New Abnormal             2                   Selfless          71\n",
              "2  The New Abnormal             3  Brooklyn Bridge To Chorus          68\n",
              "3  The New Abnormal             4              Bad Decisions          69\n",
              "4  The New Abnormal             5             Eternal Summer          67"
            ]
          },
          "metadata": {
            "tags": []
          },
          "execution_count": 25
        }
      ]
    },
    {
      "cell_type": "code",
      "metadata": {
        "colab": {
          "base_uri": "https://localhost:8080/",
          "height": 204
        },
        "id": "b1u27j7_5GPy",
        "outputId": "b18f643e-18c7-457c-9871-92fe5c157bb4"
      },
      "source": [
        "dados.tail()"
      ],
      "execution_count": null,
      "outputs": [
        {
          "output_type": "execute_result",
          "data": {
            "text/html": [
              "<div>\n",
              "<style scoped>\n",
              "    .dataframe tbody tr th:only-of-type {\n",
              "        vertical-align: middle;\n",
              "    }\n",
              "\n",
              "    .dataframe tbody tr th {\n",
              "        vertical-align: top;\n",
              "    }\n",
              "\n",
              "    .dataframe thead th {\n",
              "        text-align: right;\n",
              "    }\n",
              "</style>\n",
              "<table border=\"1\" class=\"dataframe\">\n",
              "  <thead>\n",
              "    <tr style=\"text-align: right;\">\n",
              "      <th></th>\n",
              "      <th>album</th>\n",
              "      <th>track_number</th>\n",
              "      <th>name</th>\n",
              "      <th>popularity</th>\n",
              "    </tr>\n",
              "  </thead>\n",
              "  <tbody>\n",
              "    <tr>\n",
              "      <th>78</th>\n",
              "      <td>Is This It</td>\n",
              "      <td>10</td>\n",
              "      <td>Trying Your Luck</td>\n",
              "      <td>52</td>\n",
              "    </tr>\n",
              "    <tr>\n",
              "      <th>79</th>\n",
              "      <td>Is This It</td>\n",
              "      <td>11</td>\n",
              "      <td>Take It Or Leave It</td>\n",
              "      <td>54</td>\n",
              "    </tr>\n",
              "    <tr>\n",
              "      <th>80</th>\n",
              "      <td>Brooklyn Bridge To Chorus</td>\n",
              "      <td>1</td>\n",
              "      <td>Brooklyn Bridge To Chorus</td>\n",
              "      <td>58</td>\n",
              "    </tr>\n",
              "    <tr>\n",
              "      <th>81</th>\n",
              "      <td>Bad Decisions</td>\n",
              "      <td>1</td>\n",
              "      <td>Bad Decisions</td>\n",
              "      <td>60</td>\n",
              "    </tr>\n",
              "    <tr>\n",
              "      <th>82</th>\n",
              "      <td>At The Door</td>\n",
              "      <td>1</td>\n",
              "      <td>At The Door</td>\n",
              "      <td>58</td>\n",
              "    </tr>\n",
              "  </tbody>\n",
              "</table>\n",
              "</div>"
            ],
            "text/plain": [
              "                        album  ...  popularity\n",
              "78                 Is This It  ...          52\n",
              "79                 Is This It  ...          54\n",
              "80  Brooklyn Bridge To Chorus  ...          58\n",
              "81              Bad Decisions  ...          60\n",
              "82                At The Door  ...          58\n",
              "\n",
              "[5 rows x 4 columns]"
            ]
          },
          "metadata": {
            "tags": []
          },
          "execution_count": 26
        }
      ]
    },
    {
      "cell_type": "code",
      "metadata": {
        "colab": {
          "base_uri": "https://localhost:8080/"
        },
        "id": "SuZmU39m5J6i",
        "outputId": "e6efbc5b-f64d-48b7-c777-b97392092175"
      },
      "source": [
        "dados.shape"
      ],
      "execution_count": null,
      "outputs": [
        {
          "output_type": "execute_result",
          "data": {
            "text/plain": [
              "(83, 4)"
            ]
          },
          "metadata": {
            "tags": []
          },
          "execution_count": 27
        }
      ]
    },
    {
      "cell_type": "code",
      "metadata": {
        "colab": {
          "base_uri": "https://localhost:8080/"
        },
        "id": "_P3vLbhf5LUz",
        "outputId": "be51307d-93a6-402b-e263-18fd5f29ce70"
      },
      "source": [
        "dados.columns"
      ],
      "execution_count": null,
      "outputs": [
        {
          "output_type": "execute_result",
          "data": {
            "text/plain": [
              "Index(['album', 'track_number', 'name', 'popularity'], dtype='object')"
            ]
          },
          "metadata": {
            "tags": []
          },
          "execution_count": 28
        }
      ]
    },
    {
      "cell_type": "code",
      "metadata": {
        "id": "GRj29Xvi5Rpk"
      },
      "source": [
        "dados.columns = ['nome_do_album', 'posicao_da_faixa',  'nome_da_faixa', 'popularidade']"
      ],
      "execution_count": null,
      "outputs": []
    },
    {
      "cell_type": "code",
      "metadata": {
        "colab": {
          "base_uri": "https://localhost:8080/",
          "height": 359
        },
        "id": "EdstDNJC5Vh9",
        "outputId": "807d292f-5052-4410-e307-27c703924780"
      },
      "source": [
        "dados.head(10)"
      ],
      "execution_count": null,
      "outputs": [
        {
          "output_type": "execute_result",
          "data": {
            "text/html": [
              "<div>\n",
              "<style scoped>\n",
              "    .dataframe tbody tr th:only-of-type {\n",
              "        vertical-align: middle;\n",
              "    }\n",
              "\n",
              "    .dataframe tbody tr th {\n",
              "        vertical-align: top;\n",
              "    }\n",
              "\n",
              "    .dataframe thead th {\n",
              "        text-align: right;\n",
              "    }\n",
              "</style>\n",
              "<table border=\"1\" class=\"dataframe\">\n",
              "  <thead>\n",
              "    <tr style=\"text-align: right;\">\n",
              "      <th></th>\n",
              "      <th>nome_do_album</th>\n",
              "      <th>posicao_da_faixa</th>\n",
              "      <th>nome_da_faixa</th>\n",
              "      <th>popularidade</th>\n",
              "    </tr>\n",
              "  </thead>\n",
              "  <tbody>\n",
              "    <tr>\n",
              "      <th>0</th>\n",
              "      <td>The New Abnormal</td>\n",
              "      <td>1</td>\n",
              "      <td>The Adults Are Talking</td>\n",
              "      <td>75</td>\n",
              "    </tr>\n",
              "    <tr>\n",
              "      <th>1</th>\n",
              "      <td>The New Abnormal</td>\n",
              "      <td>2</td>\n",
              "      <td>Selfless</td>\n",
              "      <td>71</td>\n",
              "    </tr>\n",
              "    <tr>\n",
              "      <th>2</th>\n",
              "      <td>The New Abnormal</td>\n",
              "      <td>3</td>\n",
              "      <td>Brooklyn Bridge To Chorus</td>\n",
              "      <td>68</td>\n",
              "    </tr>\n",
              "    <tr>\n",
              "      <th>3</th>\n",
              "      <td>The New Abnormal</td>\n",
              "      <td>4</td>\n",
              "      <td>Bad Decisions</td>\n",
              "      <td>69</td>\n",
              "    </tr>\n",
              "    <tr>\n",
              "      <th>4</th>\n",
              "      <td>The New Abnormal</td>\n",
              "      <td>5</td>\n",
              "      <td>Eternal Summer</td>\n",
              "      <td>67</td>\n",
              "    </tr>\n",
              "    <tr>\n",
              "      <th>5</th>\n",
              "      <td>The New Abnormal</td>\n",
              "      <td>6</td>\n",
              "      <td>At The Door</td>\n",
              "      <td>65</td>\n",
              "    </tr>\n",
              "    <tr>\n",
              "      <th>6</th>\n",
              "      <td>The New Abnormal</td>\n",
              "      <td>7</td>\n",
              "      <td>Why Are Sundays So Depressing</td>\n",
              "      <td>67</td>\n",
              "    </tr>\n",
              "    <tr>\n",
              "      <th>7</th>\n",
              "      <td>The New Abnormal</td>\n",
              "      <td>8</td>\n",
              "      <td>Not The Same Anymore</td>\n",
              "      <td>64</td>\n",
              "    </tr>\n",
              "    <tr>\n",
              "      <th>8</th>\n",
              "      <td>The New Abnormal</td>\n",
              "      <td>9</td>\n",
              "      <td>Ode To The Mets</td>\n",
              "      <td>68</td>\n",
              "    </tr>\n",
              "    <tr>\n",
              "      <th>9</th>\n",
              "      <td>Comedown Machine</td>\n",
              "      <td>1</td>\n",
              "      <td>Tap Out</td>\n",
              "      <td>56</td>\n",
              "    </tr>\n",
              "  </tbody>\n",
              "</table>\n",
              "</div>"
            ],
            "text/plain": [
              "      nome_do_album  ...  popularidade\n",
              "0  The New Abnormal  ...            75\n",
              "1  The New Abnormal  ...            71\n",
              "2  The New Abnormal  ...            68\n",
              "3  The New Abnormal  ...            69\n",
              "4  The New Abnormal  ...            67\n",
              "5  The New Abnormal  ...            65\n",
              "6  The New Abnormal  ...            67\n",
              "7  The New Abnormal  ...            64\n",
              "8  The New Abnormal  ...            68\n",
              "9  Comedown Machine  ...            56\n",
              "\n",
              "[10 rows x 4 columns]"
            ]
          },
          "metadata": {
            "tags": []
          },
          "execution_count": 31
        }
      ]
    },
    {
      "cell_type": "code",
      "metadata": {
        "colab": {
          "base_uri": "https://localhost:8080/"
        },
        "id": "bWPZkyKa5Zs1",
        "outputId": "7a56e2b6-8363-4baf-936f-1a2e2cc27c13"
      },
      "source": [
        "dados.isnull().sum()"
      ],
      "execution_count": null,
      "outputs": [
        {
          "output_type": "execute_result",
          "data": {
            "text/plain": [
              "nome_do_album       0\n",
              "posicao_da_faixa    0\n",
              "nome_da_faixa       0\n",
              "popularidade        0\n",
              "dtype: int64"
            ]
          },
          "metadata": {
            "tags": []
          },
          "execution_count": 33
        }
      ]
    },
    {
      "cell_type": "code",
      "metadata": {
        "colab": {
          "base_uri": "https://localhost:8080/"
        },
        "id": "VviiGNo-5huN",
        "outputId": "0a91164a-d8b3-4ddf-b6f6-8e6bc550c97e"
      },
      "source": [
        "dados['nome_do_album'].value_counts()"
      ],
      "execution_count": null,
      "outputs": [
        {
          "output_type": "execute_result",
          "data": {
            "text/plain": [
              "First Impressions Of Earth    28\n",
              "Comedown Machine              11\n",
              "Is This It                    11\n",
              "Room On Fire                  11\n",
              "Angles                        10\n",
              "The New Abnormal               9\n",
              "Bad Decisions                  1\n",
              "Brooklyn Bridge To Chorus      1\n",
              "At The Door                    1\n",
              "Name: nome_do_album, dtype: int64"
            ]
          },
          "metadata": {
            "tags": []
          },
          "execution_count": 37
        }
      ]
    },
    {
      "cell_type": "code",
      "metadata": {
        "colab": {
          "base_uri": "https://localhost:8080/",
          "height": 584
        },
        "id": "GYE3mDob5rjG",
        "outputId": "b2c97e7e-8fc3-4d6d-e548-a31da9138a3e"
      },
      "source": [
        "plt.figure(figsize=(20,8))\r\n",
        "plt.xticks(rotation=45)\r\n",
        "plt.grid(True)\r\n",
        "x = dados['nome_do_album']\r\n",
        "y = dados['popularidade']\r\n",
        "sns.barplot(x=x, y=y, palette=\"ch:start=.2,rot=-.3\", data=dados)\r\n",
        "plt.show() "
      ],
      "execution_count": null,
      "outputs": [
        {
          "output_type": "display_data",
          "data": {
            "image/png": "[encoded data removed]",
            "text/plain": [
              "<Figure size 1440x576 with 1 Axes>"
            ]
          },
          "metadata": {
            "tags": []
          }
        }
      ]
    },
    {
      "cell_type": "code",
      "metadata": {
        "id": "VCF2Z2oO6Bny"
      },
      "source": [
        ""
      ],
      "execution_count": null,
      "outputs": []
    }
  ]
}