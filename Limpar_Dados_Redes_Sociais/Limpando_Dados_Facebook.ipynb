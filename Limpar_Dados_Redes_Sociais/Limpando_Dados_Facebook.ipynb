{
  "nbformat": 4,
  "nbformat_minor": 0,
  "metadata": {
    "colab": {
      "name": "Limpando_Dados_Facebook",
      "provenance": []
    },
    "kernelspec": {
      "name": "python3",
      "display_name": "Python 3"
    }
  },
  "cells": [
    {
      "cell_type": "code",
      "metadata": {
        "id": "_ERGhbGOE0TY"
      },
      "source": [
        "#Importando a biblioteca pandas, que será utilizada para limpar o arquivo\n",
        "import pandas as pd"
      ],
      "execution_count": null,
      "outputs": []
    },
    {
      "cell_type": "code",
      "metadata": {
        "id": "KWZF3lBIu3V_"
      },
      "source": [
        "dados = pd.read_csv(\"/content/julho_20.csv\")"
      ],
      "execution_count": null,
      "outputs": []
    },
    {
      "cell_type": "code",
      "metadata": {
        "id": "AYyFSjydvKE-",
        "outputId": "653bcc24-a7dc-4706-91a0-40ba8bc87149",
        "colab": {
          "base_uri": "https://localhost:8080/",
          "height": 34
        }
      },
      "source": [
        "#Verificando quantas linhas e colunas existem neste DataFrame\n",
        "dados.shape"
      ],
      "execution_count": null,
      "outputs": [
        {
          "output_type": "execute_result",
          "data": {
            "text/plain": [
              "(16, 23)"
            ]
          },
          "metadata": {
            "tags": []
          },
          "execution_count": 27
        }
      ]
    },
    {
      "cell_type": "code",
      "metadata": {
        "id": "FvAzVCn-vK59",
        "outputId": "df9aec0f-b27b-445e-c00d-a683a5da5bb9",
        "colab": {
          "base_uri": "https://localhost:8080/",
          "height": 717
        }
      },
      "source": [
        "#Visualizando os 5 registros do arquivo\n",
        "dados.head()"
      ],
      "execution_count": null,
      "outputs": [
        {
          "output_type": "execute_result",
          "data": {
            "text/html": [
              "<div>\n",
              "<style scoped>\n",
              "    .dataframe tbody tr th:only-of-type {\n",
              "        vertical-align: middle;\n",
              "    }\n",
              "\n",
              "    .dataframe tbody tr th {\n",
              "        vertical-align: top;\n",
              "    }\n",
              "\n",
              "    .dataframe thead th {\n",
              "        text-align: right;\n",
              "    }\n",
              "</style>\n",
              "<table border=\"1\" class=\"dataframe\">\n",
              "  <thead>\n",
              "    <tr style=\"text-align: right;\">\n",
              "      <th></th>\n",
              "      <th>Número de identificação da publicação</th>\n",
              "      <th>Link permanente</th>\n",
              "      <th>Publicar mensagem</th>\n",
              "      <th>Tipo</th>\n",
              "      <th>Países</th>\n",
              "      <th>Idiomas</th>\n",
              "      <th>Publicado</th>\n",
              "      <th>Direcionamento do público</th>\n",
              "      <th>Lifetime Post Total Reach</th>\n",
              "      <th>Lifetime Post organic reach</th>\n",
              "      <th>Lifetime Post Paid Reach</th>\n",
              "      <th>Lifetime Post Total Impressions</th>\n",
              "      <th>Lifetime Post Paid Impressions</th>\n",
              "      <th>Lifetime Post Organic Impressions</th>\n",
              "      <th>Lifetime Matched Audience Targeting Consumers on Post</th>\n",
              "      <th>Lifetime Matched Audience Targeting Consumptions on Post</th>\n",
              "      <th>Lifetime Post Impressions by people who have liked your Page</th>\n",
              "      <th>Lifetime Post reach by people who like your Page</th>\n",
              "      <th>Lifetime Post Paid Impressions by people who have liked your Page</th>\n",
              "      <th>Lifetime Paid reach of a post by people who like your Page</th>\n",
              "      <th>Lifetime People who have liked your Page and engaged with your post</th>\n",
              "      <th>Lifetime Organic Video Views</th>\n",
              "      <th>Lifetime Organic Video Views.1</th>\n",
              "    </tr>\n",
              "  </thead>\n",
              "  <tbody>\n",
              "    <tr>\n",
              "      <th>0</th>\n",
              "      <td>NaN</td>\n",
              "      <td>NaN</td>\n",
              "      <td>NaN</td>\n",
              "      <td>NaN</td>\n",
              "      <td>NaN</td>\n",
              "      <td>NaN</td>\n",
              "      <td>NaN</td>\n",
              "      <td>NaN</td>\n",
              "      <td>Lifetime: The number of people who had your Pa...</td>\n",
              "      <td>Lifetime: The number of people who had your Pa...</td>\n",
              "      <td>Lifetime: The number of people who had your Pa...</td>\n",
              "      <td>Lifetime: The number of times your Page's post...</td>\n",
              "      <td>Lifetime: The number of times your Page's post...</td>\n",
              "      <td>Lifetime: The number of times your Page's post...</td>\n",
              "      <td>Lifetime: The number of people who matched the...</td>\n",
              "      <td>Lifetime: The number of clicks anywhere in you...</td>\n",
              "      <td>Lifetime: The number of impressions of your Pa...</td>\n",
              "      <td>Lifetime: The number of people who saw your Pa...</td>\n",
              "      <td>Lifetime: The number of paid impressions of yo...</td>\n",
              "      <td>Lifetime: The number of people who like your P...</td>\n",
              "      <td>Lifetime: The number of people who have liked ...</td>\n",
              "      <td>Lifetime: Number of times your video was viewe...</td>\n",
              "      <td>Lifetime: Number of times your video was viewe...</td>\n",
              "    </tr>\n",
              "    <tr>\n",
              "      <th>1</th>\n",
              "      <td>360281688034804_683091522420484</td>\n",
              "      <td>https://www.facebook.com/biotecnologiaunifesp/...</td>\n",
              "      <td>Hoje o post é sobre engenharia genética! 🧬⚙️⁣⁣...</td>\n",
              "      <td>Photo</td>\n",
              "      <td>NaN</td>\n",
              "      <td>NaN</td>\n",
              "      <td>07/31/2020 03:40:04 PM</td>\n",
              "      <td></td>\n",
              "      <td>155</td>\n",
              "      <td>155</td>\n",
              "      <td>0</td>\n",
              "      <td>175</td>\n",
              "      <td>0</td>\n",
              "      <td>175</td>\n",
              "      <td>7</td>\n",
              "      <td>8</td>\n",
              "      <td>139</td>\n",
              "      <td>124</td>\n",
              "      <td>0</td>\n",
              "      <td>0</td>\n",
              "      <td>18</td>\n",
              "      <td>0</td>\n",
              "      <td>0</td>\n",
              "    </tr>\n",
              "    <tr>\n",
              "      <th>2</th>\n",
              "      <td>360281688034804_681175909278712</td>\n",
              "      <td>https://www.facebook.com/biotecnologiaunifesp/...</td>\n",
              "      <td>Biotecnologia Unifesp</td>\n",
              "      <td>SharedVideo</td>\n",
              "      <td>NaN</td>\n",
              "      <td>NaN</td>\n",
              "      <td>07/28/2020 03:45:54 PM</td>\n",
              "      <td></td>\n",
              "      <td>80</td>\n",
              "      <td>80</td>\n",
              "      <td>0</td>\n",
              "      <td>84</td>\n",
              "      <td>0</td>\n",
              "      <td>84</td>\n",
              "      <td>2</td>\n",
              "      <td>2</td>\n",
              "      <td>79</td>\n",
              "      <td>74</td>\n",
              "      <td>0</td>\n",
              "      <td>0</td>\n",
              "      <td>4</td>\n",
              "      <td>17</td>\n",
              "      <td>17</td>\n",
              "    </tr>\n",
              "    <tr>\n",
              "      <th>3</th>\n",
              "      <td>360281688034804_681174262612210</td>\n",
              "      <td>https://www.facebook.com/biotecnologiaunifesp/...</td>\n",
              "      <td>Você sabia que desde 2015 a LiNAbiotec organiz...</td>\n",
              "      <td>Photo</td>\n",
              "      <td>NaN</td>\n",
              "      <td>NaN</td>\n",
              "      <td>07/28/2020 03:42:48 PM</td>\n",
              "      <td></td>\n",
              "      <td>116</td>\n",
              "      <td>116</td>\n",
              "      <td>0</td>\n",
              "      <td>127</td>\n",
              "      <td>0</td>\n",
              "      <td>127</td>\n",
              "      <td>5</td>\n",
              "      <td>5</td>\n",
              "      <td>118</td>\n",
              "      <td>110</td>\n",
              "      <td>0</td>\n",
              "      <td>0</td>\n",
              "      <td>13</td>\n",
              "      <td>0</td>\n",
              "      <td>0</td>\n",
              "    </tr>\n",
              "    <tr>\n",
              "      <th>4</th>\n",
              "      <td>360281688034804_679250992804537</td>\n",
              "      <td>https://www.facebook.com/biotecnologiaunifesp/...</td>\n",
              "      <td>A biotecnologia está presente na indústria far...</td>\n",
              "      <td>Photo</td>\n",
              "      <td>NaN</td>\n",
              "      <td>NaN</td>\n",
              "      <td>07/25/2020 03:02:47 PM</td>\n",
              "      <td></td>\n",
              "      <td>348</td>\n",
              "      <td>348</td>\n",
              "      <td>0</td>\n",
              "      <td>392</td>\n",
              "      <td>0</td>\n",
              "      <td>392</td>\n",
              "      <td>23</td>\n",
              "      <td>25</td>\n",
              "      <td>141</td>\n",
              "      <td>117</td>\n",
              "      <td>0</td>\n",
              "      <td>0</td>\n",
              "      <td>23</td>\n",
              "      <td>0</td>\n",
              "      <td>0</td>\n",
              "    </tr>\n",
              "  </tbody>\n",
              "</table>\n",
              "</div>"
            ],
            "text/plain": [
              "  Número de identificação da publicação  ...                     Lifetime Organic Video Views.1\n",
              "0                                   NaN  ...  Lifetime: Number of times your video was viewe...\n",
              "1       360281688034804_683091522420484  ...                                                  0\n",
              "2       360281688034804_681175909278712  ...                                                 17\n",
              "3       360281688034804_681174262612210  ...                                                  0\n",
              "4       360281688034804_679250992804537  ...                                                  0\n",
              "\n",
              "[5 rows x 23 columns]"
            ]
          },
          "metadata": {
            "tags": []
          },
          "execution_count": 28
        }
      ]
    },
    {
      "cell_type": "code",
      "metadata": {
        "id": "DZMN54d6vyya"
      },
      "source": [
        "#Removendo a primeira linha do arquivo, que não será utlizada\n",
        "dados = dados.drop(0)"
      ],
      "execution_count": null,
      "outputs": []
    },
    {
      "cell_type": "code",
      "metadata": {
        "id": "QPxyR5Cmv3-i"
      },
      "source": [
        "#Removendo algumas colunas\n",
        "dados = dados.drop(columns=['Número de identificação da publicação'])"
      ],
      "execution_count": null,
      "outputs": []
    },
    {
      "cell_type": "code",
      "metadata": {
        "id": "C8SgRuTfwZ41"
      },
      "source": [
        "#Excluindo a coluna \"Países\"\n",
        "dados = dados.drop(columns=['Países'])"
      ],
      "execution_count": null,
      "outputs": []
    },
    {
      "cell_type": "code",
      "metadata": {
        "id": "kdYJKsm7wca_"
      },
      "source": [
        "#Excluindo a coluna \"Idiomas\"\n",
        "dados = dados.drop(columns=['Idiomas'])"
      ],
      "execution_count": null,
      "outputs": []
    },
    {
      "cell_type": "code",
      "metadata": {
        "id": "sxczx2KewgBQ"
      },
      "source": [
        "#Excluindo a coluna \"Direcionamento do público\"\n",
        "dados = dados.drop(columns=['Direcionamento do público'])"
      ],
      "execution_count": null,
      "outputs": []
    },
    {
      "cell_type": "code",
      "metadata": {
        "id": "GDXVDtpWwjUg",
        "outputId": "868f2f6a-5587-4b65-a3d1-8ce815053b46",
        "colab": {
          "base_uri": "https://localhost:8080/",
          "height": 34
        }
      },
      "source": [
        "#Verificando mais uma vez, quantas colunas e linhas existem, o arquivo deve conter apenas 19 colunas\n",
        "dados.shape"
      ],
      "execution_count": null,
      "outputs": [
        {
          "output_type": "execute_result",
          "data": {
            "text/plain": [
              "(15, 19)"
            ]
          },
          "metadata": {
            "tags": []
          },
          "execution_count": 34
        }
      ]
    },
    {
      "cell_type": "code",
      "metadata": {
        "id": "EBc2z6oMwlup",
        "outputId": "256b625e-4dd7-4426-eb22-7608db59a34a",
        "colab": {
          "base_uri": "https://localhost:8080/",
          "height": 238
        }
      },
      "source": [
        "#Verificando as colunas que ele possui\n",
        "dados.columns"
      ],
      "execution_count": null,
      "outputs": [
        {
          "output_type": "execute_result",
          "data": {
            "text/plain": [
              "Index(['Link permanente', 'Publicar mensagem', 'Tipo', 'Publicado',\n",
              "       'Lifetime Post Total Reach', 'Lifetime Post organic reach',\n",
              "       'Lifetime Post Paid Reach', 'Lifetime Post Total Impressions',\n",
              "       'Lifetime Post Paid Impressions', 'Lifetime Post Organic Impressions',\n",
              "       'Lifetime Matched Audience Targeting Consumers on Post',\n",
              "       'Lifetime Matched Audience Targeting Consumptions on Post',\n",
              "       'Lifetime Post Impressions by people who have liked your Page',\n",
              "       'Lifetime Post reach by people who like your Page',\n",
              "       'Lifetime Post Paid Impressions by people who have liked your Page',\n",
              "       'Lifetime Paid reach of a post by people who like your Page',\n",
              "       'Lifetime People who have liked your Page and engaged with your post',\n",
              "       'Lifetime Organic Video Views', 'Lifetime Organic Video Views.1'],\n",
              "      dtype='object')"
            ]
          },
          "metadata": {
            "tags": []
          },
          "execution_count": 35
        }
      ]
    },
    {
      "cell_type": "code",
      "metadata": {
        "id": "46Jv0Xs3wp-h"
      },
      "source": [
        "#Traduzindo o nome das colunas\n",
        "dados.columns = ['Link permanente', 'Publicar mensagem', 'Tipo',  'Publicado', 'Alcance Total', 'Alcance Orgânico', 'Alcance Pago', 'Impressões Totais', 'Impressões Pagas', 'Impressões Orgânicas', 'Público-alvo segmentado para consumidores na publicação', 'Consumo de segmentação por público-alvo correspondente na publicação', 'Impressões vitalícias de pessoas que gostaram da sua página', 'Alcance de pessoas que gostam da sua página', 'Impressões pagas de pessoas que gostaram da sua página', 'Alcance Pago de uma postagem por pessoas que gostam da sua página', 'Pessoas que gostaram da sua página e se envolveram com a postagem', 'Visualizações orgânicas de vídeos (Total)', 'Visualizações orgânicas de vídeos ( Usuários únicos)']"
      ],
      "execution_count": null,
      "outputs": []
    },
    {
      "cell_type": "code",
      "metadata": {
        "id": "4wLBG_wqyYVM",
        "outputId": "92281fb2-78d0-4f62-844d-566e2e73c8ae",
        "colab": {
          "base_uri": "https://localhost:8080/",
          "height": 238
        }
      },
      "source": [
        "#Verificando se todos os nomes estão corretos\n",
        "dados.columns"
      ],
      "execution_count": null,
      "outputs": [
        {
          "output_type": "execute_result",
          "data": {
            "text/plain": [
              "Index(['Link permanente', 'Publicar mensagem', 'Tipo', 'Publicado',\n",
              "       'Alcance Total', 'Alcance Orgânico', 'Alcance Pago',\n",
              "       'Impressões Totais', 'Impressões Pagas', 'Impressões Orgânicas',\n",
              "       'Público-alvo segmentado para consumidores na publicação',\n",
              "       'Consumo de segmentação por público-alvo correspondente na publicação',\n",
              "       'Impressões vitalícias de pessoas que gostaram da sua página',\n",
              "       'Alcance de pessoas que gostam da sua página',\n",
              "       'Impressões pagas de pessoas que gostaram da sua página',\n",
              "       'Alcance Pago de uma postagem por pessoas que gostam da sua página',\n",
              "       'Pessoas que gostaram da sua página e se envolveram com a postagem',\n",
              "       'Visualizações orgânicas de vídeos (Total)',\n",
              "       'Visualizações orgânicas de vídeos ( Usuários únicos)'],\n",
              "      dtype='object')"
            ]
          },
          "metadata": {
            "tags": []
          },
          "execution_count": 37
        }
      ]
    },
    {
      "cell_type": "code",
      "metadata": {
        "id": "gX0isDnl0Bgz",
        "outputId": "62b7df0c-b7ae-44f8-d73f-3bd279d046f0",
        "colab": {
          "base_uri": "https://localhost:8080/",
          "height": 357
        }
      },
      "source": [
        "#Conferindo se existe algum \"NaN\"\n",
        "dados.isnull().sum()"
      ],
      "execution_count": null,
      "outputs": [
        {
          "output_type": "execute_result",
          "data": {
            "text/plain": [
              "Link permanente                                                         0\n",
              "Publicar mensagem                                                       2\n",
              "Tipo                                                                    0\n",
              "Publicado                                                               0\n",
              "Alcance Total                                                           0\n",
              "Alcance Orgânico                                                        0\n",
              "Alcance Pago                                                            0\n",
              "Impressões Totais                                                       0\n",
              "Impressões Pagas                                                        0\n",
              "Impressões Orgânicas                                                    0\n",
              "Público-alvo segmentado para consumidores na publicação                 0\n",
              "Consumo de segmentação por público-alvo correspondente na publicação    0\n",
              "Impressões vitalícias de pessoas que gostaram da sua página             0\n",
              "Alcance de pessoas que gostam da sua página                             0\n",
              "Impressões pagas de pessoas que gostaram da sua página                  0\n",
              "Alcance Pago de uma postagem por pessoas que gostam da sua página       0\n",
              "Pessoas que gostaram da sua página e se envolveram com a postagem       0\n",
              "Visualizações orgânicas de vídeos (Total)                               0\n",
              "Visualizações orgânicas de vídeos ( Usuários únicos)                    0\n",
              "dtype: int64"
            ]
          },
          "metadata": {
            "tags": []
          },
          "execution_count": 38
        }
      ]
    },
    {
      "cell_type": "code",
      "metadata": {
        "id": "VdpK7kSM0Dxn"
      },
      "source": [
        "#Colocando \"0\" no lugar de \"NaN\"\n",
        "dados = dados.fillna(0)"
      ],
      "execution_count": null,
      "outputs": []
    },
    {
      "cell_type": "code",
      "metadata": {
        "id": "WAVFH1P30HD6",
        "outputId": "185644e0-c187-4b27-fa9c-6db66008b402",
        "colab": {
          "base_uri": "https://localhost:8080/",
          "height": 357
        }
      },
      "source": [
        "#Verificando se todos os \"NaN\" foram excluidos \n",
        "dados.isnull().sum()"
      ],
      "execution_count": null,
      "outputs": [
        {
          "output_type": "execute_result",
          "data": {
            "text/plain": [
              "Link permanente                                                         0\n",
              "Publicar mensagem                                                       0\n",
              "Tipo                                                                    0\n",
              "Publicado                                                               0\n",
              "Alcance Total                                                           0\n",
              "Alcance Orgânico                                                        0\n",
              "Alcance Pago                                                            0\n",
              "Impressões Totais                                                       0\n",
              "Impressões Pagas                                                        0\n",
              "Impressões Orgânicas                                                    0\n",
              "Público-alvo segmentado para consumidores na publicação                 0\n",
              "Consumo de segmentação por público-alvo correspondente na publicação    0\n",
              "Impressões vitalícias de pessoas que gostaram da sua página             0\n",
              "Alcance de pessoas que gostam da sua página                             0\n",
              "Impressões pagas de pessoas que gostaram da sua página                  0\n",
              "Alcance Pago de uma postagem por pessoas que gostam da sua página       0\n",
              "Pessoas que gostaram da sua página e se envolveram com a postagem       0\n",
              "Visualizações orgânicas de vídeos (Total)                               0\n",
              "Visualizações orgânicas de vídeos ( Usuários únicos)                    0\n",
              "dtype: int64"
            ]
          },
          "metadata": {
            "tags": []
          },
          "execution_count": 40
        }
      ]
    },
    {
      "cell_type": "code",
      "metadata": {
        "id": "BvQz9fwAyy_l",
        "outputId": "f3a047bd-f7e4-4a9b-d400-8657070865e8",
        "colab": {
          "base_uri": "https://localhost:8080/",
          "height": 649
        }
      },
      "source": [
        " #Visualizando os primeiros registros do arquivo\n",
        " dados.head()"
      ],
      "execution_count": null,
      "outputs": [
        {
          "output_type": "execute_result",
          "data": {
            "text/html": [
              "<div>\n",
              "<style scoped>\n",
              "    .dataframe tbody tr th:only-of-type {\n",
              "        vertical-align: middle;\n",
              "    }\n",
              "\n",
              "    .dataframe tbody tr th {\n",
              "        vertical-align: top;\n",
              "    }\n",
              "\n",
              "    .dataframe thead th {\n",
              "        text-align: right;\n",
              "    }\n",
              "</style>\n",
              "<table border=\"1\" class=\"dataframe\">\n",
              "  <thead>\n",
              "    <tr style=\"text-align: right;\">\n",
              "      <th></th>\n",
              "      <th>Link permanente</th>\n",
              "      <th>Publicar mensagem</th>\n",
              "      <th>Tipo</th>\n",
              "      <th>Publicado</th>\n",
              "      <th>Alcance Total</th>\n",
              "      <th>Alcance Orgânico</th>\n",
              "      <th>Alcance Pago</th>\n",
              "      <th>Impressões Totais</th>\n",
              "      <th>Impressões Pagas</th>\n",
              "      <th>Impressões Orgânicas</th>\n",
              "      <th>Público-alvo segmentado para consumidores na publicação</th>\n",
              "      <th>Consumo de segmentação por público-alvo correspondente na publicação</th>\n",
              "      <th>Impressões vitalícias de pessoas que gostaram da sua página</th>\n",
              "      <th>Alcance de pessoas que gostam da sua página</th>\n",
              "      <th>Impressões pagas de pessoas que gostaram da sua página</th>\n",
              "      <th>Alcance Pago de uma postagem por pessoas que gostam da sua página</th>\n",
              "      <th>Pessoas que gostaram da sua página e se envolveram com a postagem</th>\n",
              "      <th>Visualizações orgânicas de vídeos (Total)</th>\n",
              "      <th>Visualizações orgânicas de vídeos ( Usuários únicos)</th>\n",
              "    </tr>\n",
              "  </thead>\n",
              "  <tbody>\n",
              "    <tr>\n",
              "      <th>1</th>\n",
              "      <td>https://www.facebook.com/biotecnologiaunifesp/...</td>\n",
              "      <td>Hoje o post é sobre engenharia genética! 🧬⚙️⁣⁣...</td>\n",
              "      <td>Photo</td>\n",
              "      <td>07/31/2020 03:40:04 PM</td>\n",
              "      <td>155</td>\n",
              "      <td>155</td>\n",
              "      <td>0</td>\n",
              "      <td>175</td>\n",
              "      <td>0</td>\n",
              "      <td>175</td>\n",
              "      <td>7</td>\n",
              "      <td>8</td>\n",
              "      <td>139</td>\n",
              "      <td>124</td>\n",
              "      <td>0</td>\n",
              "      <td>0</td>\n",
              "      <td>18</td>\n",
              "      <td>0</td>\n",
              "      <td>0</td>\n",
              "    </tr>\n",
              "    <tr>\n",
              "      <th>2</th>\n",
              "      <td>https://www.facebook.com/biotecnologiaunifesp/...</td>\n",
              "      <td>Biotecnologia Unifesp</td>\n",
              "      <td>SharedVideo</td>\n",
              "      <td>07/28/2020 03:45:54 PM</td>\n",
              "      <td>80</td>\n",
              "      <td>80</td>\n",
              "      <td>0</td>\n",
              "      <td>84</td>\n",
              "      <td>0</td>\n",
              "      <td>84</td>\n",
              "      <td>2</td>\n",
              "      <td>2</td>\n",
              "      <td>79</td>\n",
              "      <td>74</td>\n",
              "      <td>0</td>\n",
              "      <td>0</td>\n",
              "      <td>4</td>\n",
              "      <td>17</td>\n",
              "      <td>17</td>\n",
              "    </tr>\n",
              "    <tr>\n",
              "      <th>3</th>\n",
              "      <td>https://www.facebook.com/biotecnologiaunifesp/...</td>\n",
              "      <td>Você sabia que desde 2015 a LiNAbiotec organiz...</td>\n",
              "      <td>Photo</td>\n",
              "      <td>07/28/2020 03:42:48 PM</td>\n",
              "      <td>116</td>\n",
              "      <td>116</td>\n",
              "      <td>0</td>\n",
              "      <td>127</td>\n",
              "      <td>0</td>\n",
              "      <td>127</td>\n",
              "      <td>5</td>\n",
              "      <td>5</td>\n",
              "      <td>118</td>\n",
              "      <td>110</td>\n",
              "      <td>0</td>\n",
              "      <td>0</td>\n",
              "      <td>13</td>\n",
              "      <td>0</td>\n",
              "      <td>0</td>\n",
              "    </tr>\n",
              "    <tr>\n",
              "      <th>4</th>\n",
              "      <td>https://www.facebook.com/biotecnologiaunifesp/...</td>\n",
              "      <td>A biotecnologia está presente na indústria far...</td>\n",
              "      <td>Photo</td>\n",
              "      <td>07/25/2020 03:02:47 PM</td>\n",
              "      <td>348</td>\n",
              "      <td>348</td>\n",
              "      <td>0</td>\n",
              "      <td>392</td>\n",
              "      <td>0</td>\n",
              "      <td>392</td>\n",
              "      <td>23</td>\n",
              "      <td>25</td>\n",
              "      <td>141</td>\n",
              "      <td>117</td>\n",
              "      <td>0</td>\n",
              "      <td>0</td>\n",
              "      <td>23</td>\n",
              "      <td>0</td>\n",
              "      <td>0</td>\n",
              "    </tr>\n",
              "    <tr>\n",
              "      <th>5</th>\n",
              "      <td>https://www.facebook.com/biotecnologiaunifesp/...</td>\n",
              "      <td>0</td>\n",
              "      <td>Photo</td>\n",
              "      <td>07/23/2020 02:52:51 PM</td>\n",
              "      <td>74</td>\n",
              "      <td>74</td>\n",
              "      <td>0</td>\n",
              "      <td>91</td>\n",
              "      <td>0</td>\n",
              "      <td>91</td>\n",
              "      <td>3</td>\n",
              "      <td>3</td>\n",
              "      <td>82</td>\n",
              "      <td>67</td>\n",
              "      <td>0</td>\n",
              "      <td>0</td>\n",
              "      <td>5</td>\n",
              "      <td>0</td>\n",
              "      <td>0</td>\n",
              "    </tr>\n",
              "  </tbody>\n",
              "</table>\n",
              "</div>"
            ],
            "text/plain": [
              "                                     Link permanente  ... Visualizações orgânicas de vídeos ( Usuários únicos)\n",
              "1  https://www.facebook.com/biotecnologiaunifesp/...  ...                                                  0  \n",
              "2  https://www.facebook.com/biotecnologiaunifesp/...  ...                                                 17  \n",
              "3  https://www.facebook.com/biotecnologiaunifesp/...  ...                                                  0  \n",
              "4  https://www.facebook.com/biotecnologiaunifesp/...  ...                                                  0  \n",
              "5  https://www.facebook.com/biotecnologiaunifesp/...  ...                                                  0  \n",
              "\n",
              "[5 rows x 19 columns]"
            ]
          },
          "metadata": {
            "tags": []
          },
          "execution_count": 41
        }
      ]
    },
    {
      "cell_type": "code",
      "metadata": {
        "id": "dcWho0Wry2rj"
      },
      "source": [
        "#Exportando o arquivo\n",
        "dados.to_csv(\"julho_editado_20.csv\", header=True)"
      ],
      "execution_count": null,
      "outputs": []
    }
  ]
}