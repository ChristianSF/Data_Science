{
  "nbformat": 4,
  "nbformat_minor": 0,
  "metadata": {
    "colab": {
      "name": "Shapely_Operacoes_Basicas",
      "provenance": []
    },
    "kernelspec": {
      "name": "python3",
      "display_name": "Python 3"
    },
    "language_info": {
      "name": "python"
    }
  },
  "cells": [
    {
      "cell_type": "code",
      "metadata": {
        "colab": {
          "base_uri": "https://localhost:8080/"
        },
        "id": "ws2_FLkM3ZCf",
        "outputId": "094ab1d7-ddb7-42f1-a0df-7cf742531d9d"
      },
      "source": [
        "!pip install geopandas"
      ],
      "execution_count": 1,
      "outputs": [
        {
          "output_type": "stream",
          "text": [
            "Collecting geopandas\n",
            "  Downloading geopandas-0.9.0-py2.py3-none-any.whl (994 kB)\n",
            "\u001b[K     |████████████████████████████████| 994 kB 5.5 MB/s \n",
            "\u001b[?25hCollecting fiona>=1.8\n",
            "  Downloading Fiona-1.8.20-cp37-cp37m-manylinux1_x86_64.whl (15.4 MB)\n",
            "\u001b[K     |████████████████████████████████| 15.4 MB 35 kB/s \n",
            "\u001b[?25hRequirement already satisfied: pandas>=0.24.0 in /usr/local/lib/python3.7/dist-packages (from geopandas) (1.1.5)\n",
            "Collecting pyproj>=2.2.0\n",
            "  Downloading pyproj-3.1.0-cp37-cp37m-manylinux2010_x86_64.whl (6.6 MB)\n",
            "\u001b[K     |████████████████████████████████| 6.6 MB 52.5 MB/s \n",
            "\u001b[?25hRequirement already satisfied: shapely>=1.6 in /usr/local/lib/python3.7/dist-packages (from geopandas) (1.7.1)\n",
            "Collecting munch\n",
            "  Downloading munch-2.5.0-py2.py3-none-any.whl (10 kB)\n",
            "Collecting click-plugins>=1.0\n",
            "  Downloading click_plugins-1.1.1-py2.py3-none-any.whl (7.5 kB)\n",
            "Requirement already satisfied: setuptools in /usr/local/lib/python3.7/dist-packages (from fiona>=1.8->geopandas) (57.2.0)\n",
            "Requirement already satisfied: click>=4.0 in /usr/local/lib/python3.7/dist-packages (from fiona>=1.8->geopandas) (7.1.2)\n",
            "Collecting cligj>=0.5\n",
            "  Downloading cligj-0.7.2-py3-none-any.whl (7.1 kB)\n",
            "Requirement already satisfied: attrs>=17 in /usr/local/lib/python3.7/dist-packages (from fiona>=1.8->geopandas) (21.2.0)\n",
            "Requirement already satisfied: six>=1.7 in /usr/local/lib/python3.7/dist-packages (from fiona>=1.8->geopandas) (1.15.0)\n",
            "Requirement already satisfied: certifi in /usr/local/lib/python3.7/dist-packages (from fiona>=1.8->geopandas) (2021.5.30)\n",
            "Requirement already satisfied: python-dateutil>=2.7.3 in /usr/local/lib/python3.7/dist-packages (from pandas>=0.24.0->geopandas) (2.8.1)\n",
            "Requirement already satisfied: numpy>=1.15.4 in /usr/local/lib/python3.7/dist-packages (from pandas>=0.24.0->geopandas) (1.19.5)\n",
            "Requirement already satisfied: pytz>=2017.2 in /usr/local/lib/python3.7/dist-packages (from pandas>=0.24.0->geopandas) (2018.9)\n",
            "Installing collected packages: munch, cligj, click-plugins, pyproj, fiona, geopandas\n",
            "Successfully installed click-plugins-1.1.1 cligj-0.7.2 fiona-1.8.20 geopandas-0.9.0 munch-2.5.0 pyproj-3.1.0\n"
          ],
          "name": "stdout"
        }
      ]
    },
    {
      "cell_type": "code",
      "metadata": {
        "id": "X1jw9IlC4K-T"
      },
      "source": [
        "import geopandas as gpd\n",
        "import matplotlib.pyplot as plt\n",
        "from shapely.geometry import Point, LineString, Polygon"
      ],
      "execution_count": 2,
      "outputs": []
    },
    {
      "cell_type": "markdown",
      "metadata": {
        "id": "N6skLQtl4YI8"
      },
      "source": [
        "#Criando Pontos"
      ]
    },
    {
      "cell_type": "code",
      "metadata": {
        "id": "W_Zuhi0o4QeR"
      },
      "source": [
        "ponto = Point(-23.73, -43.82)"
      ],
      "execution_count": 3,
      "outputs": []
    },
    {
      "cell_type": "code",
      "metadata": {
        "colab": {
          "base_uri": "https://localhost:8080/"
        },
        "id": "SH5BxwlY4S3R",
        "outputId": "6961a74b-88f8-47ae-b788-f5ebf0f74ae9"
      },
      "source": [
        "list(ponto.coords)"
      ],
      "execution_count": 4,
      "outputs": [
        {
          "output_type": "execute_result",
          "data": {
            "text/plain": [
              "[(-23.73, -43.82)]"
            ]
          },
          "metadata": {
            "tags": []
          },
          "execution_count": 4
        }
      ]
    },
    {
      "cell_type": "markdown",
      "metadata": {
        "id": "hsNIIs1V4bY8"
      },
      "source": [
        "##Distancia entre pontos"
      ]
    },
    {
      "cell_type": "code",
      "metadata": {
        "colab": {
          "base_uri": "https://localhost:8080/"
        },
        "id": "Y5bg3eIu4UDZ",
        "outputId": "a5e8534a-f25f-447f-d600-a6bafcc27169"
      },
      "source": [
        "ponto_1 = Point(2, 3)\n",
        "ponto_2 = Point(7, 4)\n",
        "\n",
        "print(ponto_1.distance(ponto_2))"
      ],
      "execution_count": 5,
      "outputs": [
        {
          "output_type": "stream",
          "text": [
            "5.0990195135927845\n"
          ],
          "name": "stdout"
        }
      ]
    },
    {
      "cell_type": "markdown",
      "metadata": {
        "id": "r2d1pP8B4eHN"
      },
      "source": [
        "##Linhas"
      ]
    },
    {
      "cell_type": "code",
      "metadata": {
        "colab": {
          "base_uri": "https://localhost:8080/",
          "height": 121
        },
        "id": "n45OFNam4VMa",
        "outputId": "898ac021-b771-42be-877f-4847482cbef7"
      },
      "source": [
        "ponto_1 = Point(2, 3)\n",
        "ponto_2 = Point(7, 4)\n",
        "ponto_3 = Point(4, 6)\n",
        "\n",
        "linha = LineString([ponto_1, ponto_2, ponto_3])\n",
        "linha"
      ],
      "execution_count": 6,
      "outputs": [
        {
          "output_type": "execute_result",
          "data": {
            "text/plain": [
              "<shapely.geometry.linestring.LineString at 0x7f078584f910>"
            ],
            "image/svg+xml": "<svg xmlns=\"http://www.w3.org/2000/svg\" xmlns:xlink=\"http://www.w3.org/1999/xlink\" width=\"100.0\" height=\"100.0\" viewBox=\"1.8 2.8 5.4 3.4000000000000004\" preserveAspectRatio=\"xMinYMin meet\"><g transform=\"matrix(1,0,0,-1,0,9.0)\"><polyline fill=\"none\" stroke=\"#66cc99\" stroke-width=\"0.10800000000000001\" points=\"2.0,3.0 7.0,4.0 4.0,6.0\" opacity=\"0.8\" /></g></svg>"
          },
          "metadata": {
            "tags": []
          },
          "execution_count": 6
        }
      ]
    },
    {
      "cell_type": "code",
      "metadata": {
        "colab": {
          "base_uri": "https://localhost:8080/"
        },
        "id": "rBzFcOZi4dbb",
        "outputId": "b062ea24-881c-4a7a-ebf9-7f05ab7286c7"
      },
      "source": [
        "list(linha.coords)"
      ],
      "execution_count": 7,
      "outputs": [
        {
          "output_type": "execute_result",
          "data": {
            "text/plain": [
              "[(2.0, 3.0), (7.0, 4.0), (4.0, 6.0)]"
            ]
          },
          "metadata": {
            "tags": []
          },
          "execution_count": 7
        }
      ]
    },
    {
      "cell_type": "code",
      "metadata": {
        "colab": {
          "base_uri": "https://localhost:8080/"
        },
        "id": "OG92AaRn4jsE",
        "outputId": "533ffd2f-5c3d-42f2-d085-5a5e75b7f9fc"
      },
      "source": [
        "linha.length"
      ],
      "execution_count": 8,
      "outputs": [
        {
          "output_type": "execute_result",
          "data": {
            "text/plain": [
              "8.704570789056774"
            ]
          },
          "metadata": {
            "tags": []
          },
          "execution_count": 8
        }
      ]
    },
    {
      "cell_type": "code",
      "metadata": {
        "colab": {
          "base_uri": "https://localhost:8080/"
        },
        "id": "8FJXispd4k1M",
        "outputId": "19705838-2938-4777-9b6a-1c88fd9459d7"
      },
      "source": [
        "print(linha.centroid)"
      ],
      "execution_count": 9,
      "outputs": [
        {
          "output_type": "stream",
          "text": [
            "POINT (4.914213562373095 4.121320343559643)\n"
          ],
          "name": "stdout"
        }
      ]
    },
    {
      "cell_type": "markdown",
      "metadata": {
        "id": "Is7mJXVo4mgn"
      },
      "source": [
        "##Poligonos"
      ]
    },
    {
      "cell_type": "code",
      "metadata": {
        "colab": {
          "base_uri": "https://localhost:8080/",
          "height": 121
        },
        "id": "YdZ9g3EP4l9d",
        "outputId": "3523e9dc-6bf9-4844-a1f7-1828b82d474a"
      },
      "source": [
        "poly = Polygon([(2,3) , (7, 4), (8, 6)])\n",
        "poly"
      ],
      "execution_count": 10,
      "outputs": [
        {
          "output_type": "execute_result",
          "data": {
            "text/plain": [
              "<shapely.geometry.polygon.Polygon at 0x7f07800b9110>"
            ],
            "image/svg+xml": "<svg xmlns=\"http://www.w3.org/2000/svg\" xmlns:xlink=\"http://www.w3.org/1999/xlink\" width=\"100.0\" height=\"100.0\" viewBox=\"1.76 2.76 6.48 3.4800000000000004\" preserveAspectRatio=\"xMinYMin meet\"><g transform=\"matrix(1,0,0,-1,0,9.0)\"><path fill-rule=\"evenodd\" fill=\"#66cc99\" stroke=\"#555555\" stroke-width=\"0.12960000000000002\" opacity=\"0.6\" d=\"M 2.0,3.0 L 7.0,4.0 L 8.0,6.0 L 2.0,3.0 z\" /></g></svg>"
          },
          "metadata": {
            "tags": []
          },
          "execution_count": 10
        }
      ]
    },
    {
      "cell_type": "code",
      "metadata": {
        "colab": {
          "base_uri": "https://localhost:8080/"
        },
        "id": "3zJrcKed4qr9",
        "outputId": "ee314ca4-57d1-42d6-8f46-b84f58000c8f"
      },
      "source": [
        "list(poly.exterior.coords)"
      ],
      "execution_count": 11,
      "outputs": [
        {
          "output_type": "execute_result",
          "data": {
            "text/plain": [
              "[(2.0, 3.0), (7.0, 4.0), (8.0, 6.0), (2.0, 3.0)]"
            ]
          },
          "metadata": {
            "tags": []
          },
          "execution_count": 11
        }
      ]
    },
    {
      "cell_type": "code",
      "metadata": {
        "colab": {
          "base_uri": "https://localhost:8080/"
        },
        "id": "6IoRqjbB4rqV",
        "outputId": "4e25cda2-46d1-4c87-b12f-2a9e6db00994"
      },
      "source": [
        "poly.area"
      ],
      "execution_count": 12,
      "outputs": [
        {
          "output_type": "execute_result",
          "data": {
            "text/plain": [
              "4.5"
            ]
          },
          "metadata": {
            "tags": []
          },
          "execution_count": 12
        }
      ]
    },
    {
      "cell_type": "code",
      "metadata": {
        "colab": {
          "base_uri": "https://localhost:8080/"
        },
        "id": "YMMRZuWK4svt",
        "outputId": "57c1e208-bbd0-4fa1-d70b-b5b8aa1b4112"
      },
      "source": [
        "print(poly.centroid)"
      ],
      "execution_count": 13,
      "outputs": [
        {
          "output_type": "stream",
          "text": [
            "POINT (5.666666666666667 4.333333333333333)\n"
          ],
          "name": "stdout"
        }
      ]
    },
    {
      "cell_type": "code",
      "metadata": {
        "colab": {
          "base_uri": "https://localhost:8080/"
        },
        "id": "90eKFFUJ4tq1",
        "outputId": "33ced29c-a6ed-42e5-9b91-1fc2a3ebc228"
      },
      "source": [
        "poly.bounds"
      ],
      "execution_count": 14,
      "outputs": [
        {
          "output_type": "execute_result",
          "data": {
            "text/plain": [
              "(2.0, 3.0, 8.0, 6.0)"
            ]
          },
          "metadata": {
            "tags": []
          },
          "execution_count": 14
        }
      ]
    },
    {
      "cell_type": "code",
      "metadata": {
        "colab": {
          "base_uri": "https://localhost:8080/",
          "height": 121
        },
        "id": "YHHcQLdv4uqV",
        "outputId": "429b8867-81b6-4275-cbdb-b6efd35a2bf7"
      },
      "source": [
        "poly.exterior"
      ],
      "execution_count": 15,
      "outputs": [
        {
          "output_type": "execute_result",
          "data": {
            "text/plain": [
              "<shapely.geometry.polygon.LinearRing at 0x7f07851bbe90>"
            ],
            "image/svg+xml": "<svg xmlns=\"http://www.w3.org/2000/svg\" xmlns:xlink=\"http://www.w3.org/1999/xlink\" width=\"100.0\" height=\"100.0\" viewBox=\"1.76 2.76 6.48 3.4800000000000004\" preserveAspectRatio=\"xMinYMin meet\"><g transform=\"matrix(1,0,0,-1,0,9.0)\"><polyline fill=\"none\" stroke=\"#66cc99\" stroke-width=\"0.12960000000000002\" points=\"2.0,3.0 7.0,4.0 8.0,6.0 2.0,3.0\" opacity=\"0.8\" /></g></svg>"
          },
          "metadata": {
            "tags": []
          },
          "execution_count": 15
        }
      ]
    },
    {
      "cell_type": "code",
      "metadata": {
        "colab": {
          "base_uri": "https://localhost:8080/"
        },
        "id": "0Eh5ECqY4vvV",
        "outputId": "4e805ae7-8c5c-4748-bcc1-17c912a67898"
      },
      "source": [
        "print(poly.exterior)"
      ],
      "execution_count": 16,
      "outputs": [
        {
          "output_type": "stream",
          "text": [
            "LINEARRING (2 3, 7 4, 8 6, 2 3)\n"
          ],
          "name": "stdout"
        }
      ]
    },
    {
      "cell_type": "code",
      "metadata": {
        "colab": {
          "base_uri": "https://localhost:8080/"
        },
        "id": "ct9lHwYc4xJu",
        "outputId": "8ab5b483-5a9e-4ecc-fc41-5d0bfe9c87eb"
      },
      "source": [
        "print(poly.exterior.length)"
      ],
      "execution_count": 17,
      "outputs": [
        {
          "output_type": "stream",
          "text": [
            "14.043291423591944\n"
          ],
          "name": "stdout"
        }
      ]
    },
    {
      "cell_type": "markdown",
      "metadata": {
        "id": "EAmdGHUP42Si"
      },
      "source": [
        "##Circulos"
      ]
    },
    {
      "cell_type": "code",
      "metadata": {
        "colab": {
          "base_uri": "https://localhost:8080/",
          "height": 121
        },
        "id": "NRchjQ604yO2",
        "outputId": "5017ac15-c679-4f9b-eeb7-18fc26984638"
      },
      "source": [
        "circulo_1 = Point(1,1).buffer(1)\n",
        "circulo_2 = Point(2,1).buffer(1)\n",
        "circulo_1"
      ],
      "execution_count": 19,
      "outputs": [
        {
          "output_type": "execute_result",
          "data": {
            "text/plain": [
              "<shapely.geometry.polygon.Polygon at 0x7f07800aea50>"
            ],
            "image/svg+xml": "<svg xmlns=\"http://www.w3.org/2000/svg\" xmlns:xlink=\"http://www.w3.org/1999/xlink\" width=\"100.0\" height=\"100.0\" viewBox=\"-0.08 -0.08 2.16 2.16\" preserveAspectRatio=\"xMinYMin meet\"><g transform=\"matrix(1,0,0,-1,0,2.0)\"><path fill-rule=\"evenodd\" fill=\"#66cc99\" stroke=\"#555555\" stroke-width=\"0.0432\" opacity=\"0.6\" d=\"M 2.0,1.0 L 1.995184726672197,0.9019828596704395 L 1.9807852804032304,0.8049096779838719 L 1.956940335732209,0.709715322745538 L 1.923879532511287,0.6173165676349106 L 1.8819212643483554,0.5286032631740027 L 1.8314696123025456,0.44442976698039827 L 1.7730104533627373,0.36560671583635507 L 1.7071067811865481,0.2928932188134531 L 1.6343932841636462,0.22698954663726367 L 1.555570233019603,0.16853038769745532 L 1.4713967368259986,0.1180787356516455 L 1.382683432365091,0.0761204674887137 L 1.2902846772544636,0.04305966426779151 L 1.1950903220161297,0.01921471959676979 L 1.098017140329562,0.004815273327803293 L 1.0000000000000016,0.0 L 0.9019828596704411,0.00481527332780296 L 0.8049096779838736,0.019214719596769236 L 0.7097153227455395,0.04305966426779062 L 0.6173165676349122,0.07612046748871248 L 0.5286032631740043,0.11807873565164395 L 0.4444297669803995,0.16853038769745365 L 0.36560671583635607,0.22698954663726179 L 0.29289321881345376,0.2928932188134512 L 0.22698954663726412,0.3656067158363532 L 0.16853038769745565,0.4444297669803964 L 0.11807873565164573,0.528603263174001 L 0.07612046748871382,0.6173165676349088 L 0.04305966426779151,0.7097153227455364 L 0.01921471959676979,0.8049096779838705 L 0.004815273327803182,0.9019828596704382 L 0.0,0.999999999999999 L 0.004815273327803071,1.0980171403295598 L 0.019214719596769347,1.1950903220161275 L 0.043059664267790954,1.2902846772544616 L 0.07612046748871304,1.3826834323650892 L 0.11807873565164473,1.4713967368259973 L 0.16853038769745454,1.555570233019602 L 0.2269895466372629,1.6343932841636453 L 0.2928932188134523,1.7071067811865475 L 0.36560671583635407,1.7730104533627367 L 0.44442976698039705,1.831469612302545 L 0.5286032631740013,1.8819212643483545 L 0.6173165676349088,1.923879532511286 L 0.709715322745536,1.9569403357322084 L 0.8049096779838696,1.98078528040323 L 0.9019828596704369,1.9951847266721967 L 0.9999999999999971,2.0 L 1.0980171403295573,1.9951847266721972 L 1.1950903220161249,1.980785280403231 L 1.2902846772544587,1.95694033573221 L 1.3826834323650858,1.9238795325112883 L 1.4713967368259937,1.8819212643483572 L 1.5555702330195982,1.831469612302548 L 1.6343932841636415,1.7730104533627402 L 1.7071067811865435,1.7071067811865515 L 1.7730104533627333,1.6343932841636502 L 1.8314696123025418,1.5555702330196075 L 1.8819212643483518,1.4713967368260035 L 1.923879532511284,1.3826834323650963 L 1.9569403357322068,1.2902846772544692 L 1.980785280403229,1.1950903220161357 L 1.9951847266721963,1.0980171403295684 L 2.0,1.0000000000000082 L 2.0,1.0 z\" /></g></svg>"
          },
          "metadata": {
            "tags": []
          },
          "execution_count": 19
        }
      ]
    },
    {
      "cell_type": "code",
      "metadata": {
        "colab": {
          "base_uri": "https://localhost:8080/",
          "height": 265
        },
        "id": "yfzf1aqw43ff",
        "outputId": "60534eb9-3d79-456c-dac5-bbc3732580c8"
      },
      "source": [
        "x,y = circulo_1.exterior.xy\n",
        "plt.plot(x,y)\n",
        "\n",
        "x,y = circulo_2.exterior.xy\n",
        "plt.plot(x,y)\n",
        "\n",
        "plt.show()"
      ],
      "execution_count": 20,
      "outputs": [
        {
          "output_type": "display_data",
          "data": {
            "image/png": "[encoded data removed]",
            "text/plain": [
              "<Figure size 432x288 with 1 Axes>"
            ]
          },
          "metadata": {
            "tags": [],
            "needs_background": "light"
          }
        }
      ]
    },
    {
      "cell_type": "code",
      "metadata": {
        "colab": {
          "base_uri": "https://localhost:8080/"
        },
        "id": "1pT6HqfV45ou",
        "outputId": "120cc0a1-4d40-4b5a-94d6-18c0e4b4640f"
      },
      "source": [
        "inter = circulo_1.intersection(circulo_2)\n",
        "print(inter)"
      ],
      "execution_count": 21,
      "outputs": [
        {
          "output_type": "stream",
          "text": [
            "POLYGON ((2 1, 1.995184726672197 0.9019828596704395, 1.98078528040323 0.8049096779838719, 1.956940335732209 0.7097153227455379, 1.923879532511287 0.6173165676349106, 1.881921264348355 0.5286032631740027, 1.831469612302546 0.4444297669803983, 1.773010453362737 0.3656067158363551, 1.707106781186548 0.2928932188134531, 1.634393284163646 0.2269895466372637, 1.555570233019603 0.1685303876974553, 1.5 0.1352228718261757, 1.4444297669804 0.1685303876974537, 1.365606715836356 0.2269895466372618, 1.292893218813454 0.2928932188134512, 1.226989546637264 0.3656067158363532, 1.168530387697456 0.4444297669803964, 1.118078735651646 0.528603263174001, 1.076120467488714 0.6173165676349088, 1.043059664267791 0.7097153227455364, 1.01921471959677 0.8049096779838705, 1.004815273327803 0.9019828596704382, 1 0.999999999999999, 1.004815273327803 1.09801714032956, 1.019214719596769 1.195090322016128, 1.043059664267791 1.290284677254462, 1.076120467488713 1.382683432365089, 1.118078735651645 1.471396736825997, 1.168530387697455 1.555570233019602, 1.226989546637263 1.634393284163645, 1.292893218813452 1.707106781186547, 1.365606715836354 1.773010453362737, 1.444429766980397 1.831469612302545, 1.5 1.864777128173825, 1.555570233019598 1.831469612302548, 1.634393284163641 1.77301045336274, 1.707106781186543 1.707106781186551, 1.773010453362733 1.63439328416365, 1.831469612302542 1.555570233019608, 1.881921264348352 1.471396736826003, 1.923879532511284 1.382683432365096, 1.956940335732207 1.290284677254469, 1.980785280403229 1.195090322016136, 1.995184726672196 1.098017140329568, 2 1.000000000000008, 2 1))\n"
          ],
          "name": "stdout"
        }
      ]
    },
    {
      "cell_type": "code",
      "metadata": {
        "colab": {
          "base_uri": "https://localhost:8080/",
          "height": 121
        },
        "id": "baVQJhBn469f",
        "outputId": "92831c4e-134d-4691-82c8-60df7d521ed7"
      },
      "source": [
        "inter"
      ],
      "execution_count": 22,
      "outputs": [
        {
          "output_type": "execute_result",
          "data": {
            "text/plain": [
              "<shapely.geometry.polygon.Polygon at 0x7f0785198e10>"
            ],
            "image/svg+xml": "<svg xmlns=\"http://www.w3.org/2000/svg\" xmlns:xlink=\"http://www.w3.org/1999/xlink\" width=\"100.0\" height=\"100.0\" viewBox=\"0.9308178297460941 0.0660407015722697 1.138364340507812 1.8679185968554608\" preserveAspectRatio=\"xMinYMin meet\"><g transform=\"matrix(1,0,0,-1,0,2.0)\"><path fill-rule=\"evenodd\" fill=\"#66cc99\" stroke=\"#555555\" stroke-width=\"0.03735837193710922\" opacity=\"0.6\" d=\"M 2.0,1.0 L 1.995184726672197,0.9019828596704395 L 1.9807852804032304,0.8049096779838719 L 1.956940335732209,0.709715322745538 L 1.923879532511287,0.6173165676349106 L 1.8819212643483554,0.5286032631740027 L 1.8314696123025456,0.44442976698039827 L 1.7730104533627373,0.36560671583635507 L 1.7071067811865481,0.2928932188134531 L 1.6343932841636462,0.22698954663726367 L 1.555570233019603,0.16853038769745532 L 1.5,0.13522287182617565 L 1.4444297669803996,0.16853038769745365 L 1.365606715836356,0.22698954663726179 L 1.2928932188134539,0.2928932188134512 L 1.226989546637264,0.3656067158363532 L 1.1685303876974555,0.4444297669803964 L 1.1180787356516457,0.528603263174001 L 1.076120467488714,0.6173165676349088 L 1.0430596642677914,0.7097153227455364 L 1.0192147195967698,0.8049096779838705 L 1.0048152733278033,0.9019828596704382 L 1.0,0.999999999999999 L 1.004815273327803,1.0980171403295598 L 1.0192147195967693,1.1950903220161275 L 1.043059664267791,1.2902846772544616 L 1.076120467488713,1.3826834323650892 L 1.1180787356516446,1.4713967368259973 L 1.1685303876974547,1.555570233019602 L 1.226989546637263,1.6343932841636453 L 1.2928932188134523,1.7071067811865475 L 1.365606715836354,1.7730104533627367 L 1.444429766980397,1.831469612302545 L 1.4999999999999998,1.8647771281738246 L 1.5555702330195982,1.831469612302548 L 1.6343932841636415,1.7730104533627402 L 1.7071067811865435,1.7071067811865515 L 1.7730104533627333,1.6343932841636502 L 1.8314696123025418,1.5555702330196075 L 1.8819212643483518,1.4713967368260035 L 1.923879532511284,1.3826834323650963 L 1.9569403357322068,1.2902846772544692 L 1.980785280403229,1.1950903220161357 L 1.9951847266721963,1.0980171403295684 L 2.0,1.0000000000000082 L 2.0,1.0 z\" /></g></svg>"
          },
          "metadata": {
            "tags": []
          },
          "execution_count": 22
        }
      ]
    },
    {
      "cell_type": "code",
      "metadata": {
        "colab": {
          "base_uri": "https://localhost:8080/",
          "height": 121
        },
        "id": "077aHgjA48an",
        "outputId": "d8478800-e22a-4a1b-a3cb-6989fe21995f"
      },
      "source": [
        "union = circulo_1.union(circulo_2)\n",
        "union"
      ],
      "execution_count": 23,
      "outputs": [
        {
          "output_type": "execute_result",
          "data": {
            "text/plain": [
              "<shapely.geometry.polygon.Polygon at 0x7f077f72b290>"
            ],
            "image/svg+xml": "<svg xmlns=\"http://www.w3.org/2000/svg\" xmlns:xlink=\"http://www.w3.org/1999/xlink\" width=\"100.0\" height=\"100.0\" viewBox=\"-0.12 -0.12 3.24 2.24\" preserveAspectRatio=\"xMinYMin meet\"><g transform=\"matrix(1,0,0,-1,0,2.0)\"><path fill-rule=\"evenodd\" fill=\"#66cc99\" stroke=\"#555555\" stroke-width=\"0.06480000000000001\" opacity=\"0.6\" d=\"M 1.5,0.13522287182617565 L 1.4713967368259986,0.1180787356516455 L 1.382683432365091,0.0761204674887137 L 1.2902846772544636,0.04305966426779151 L 1.1950903220161297,0.01921471959676979 L 1.098017140329562,0.004815273327803293 L 1.0000000000000016,0.0 L 0.9019828596704411,0.00481527332780296 L 0.8049096779838736,0.019214719596769236 L 0.7097153227455395,0.04305966426779062 L 0.6173165676349122,0.07612046748871248 L 0.5286032631740043,0.11807873565164395 L 0.4444297669803995,0.16853038769745365 L 0.36560671583635607,0.22698954663726179 L 0.29289321881345376,0.2928932188134512 L 0.22698954663726412,0.3656067158363532 L 0.16853038769745565,0.4444297669803964 L 0.11807873565164573,0.528603263174001 L 0.07612046748871382,0.6173165676349088 L 0.04305966426779151,0.7097153227455364 L 0.01921471959676979,0.8049096779838705 L 0.004815273327803182,0.9019828596704382 L 0.0,0.999999999999999 L 0.004815273327803071,1.0980171403295598 L 0.019214719596769347,1.1950903220161275 L 0.043059664267790954,1.2902846772544616 L 0.07612046748871304,1.3826834323650892 L 0.11807873565164473,1.4713967368259973 L 0.16853038769745454,1.555570233019602 L 0.2269895466372629,1.6343932841636453 L 0.2928932188134523,1.7071067811865475 L 0.36560671583635407,1.7730104533627367 L 0.44442976698039705,1.831469612302545 L 0.5286032631740013,1.8819212643483545 L 0.6173165676349088,1.923879532511286 L 0.709715322745536,1.9569403357322084 L 0.8049096779838696,1.98078528040323 L 0.9019828596704369,1.9951847266721967 L 0.9999999999999971,2.0 L 1.0980171403295573,1.9951847266721972 L 1.1950903220161249,1.980785280403231 L 1.2902846772544587,1.95694033573221 L 1.3826834323650858,1.9238795325112883 L 1.4713967368259937,1.8819212643483572 L 1.4999999999999998,1.8647771281738246 L 1.5286032631740012,1.8819212643483545 L 1.6173165676349088,1.923879532511286 L 1.709715322745536,1.9569403357322084 L 1.8049096779838696,1.98078528040323 L 1.901982859670437,1.9951847266721967 L 1.9999999999999971,2.0 L 2.0980171403295573,1.9951847266721972 L 2.195090322016125,1.980785280403231 L 2.2902846772544585,1.95694033573221 L 2.382683432365086,1.9238795325112883 L 2.4713967368259935,1.8819212643483572 L 2.555570233019598,1.831469612302548 L 2.6343932841636413,1.7730104533627402 L 2.7071067811865435,1.7071067811865515 L 2.7730104533627333,1.6343932841636502 L 2.831469612302542,1.5555702330196075 L 2.881921264348352,1.4713967368260035 L 2.9238795325112843,1.3826834323650963 L 2.956940335732207,1.2902846772544692 L 2.980785280403229,1.1950903220161357 L 2.9951847266721963,1.0980171403295684 L 3.0,1.0000000000000082 L 3.0,1.0 L 2.995184726672197,0.9019828596704395 L 2.9807852804032304,0.8049096779838719 L 2.956940335732209,0.709715322745538 L 2.923879532511287,0.6173165676349106 L 2.8819212643483554,0.5286032631740027 L 2.831469612302546,0.44442976698039827 L 2.7730104533627373,0.36560671583635507 L 2.707106781186548,0.2928932188134531 L 2.634393284163646,0.22698954663726367 L 2.555570233019603,0.16853038769745532 L 2.471396736825999,0.1180787356516455 L 2.382683432365091,0.0761204674887137 L 2.290284677254464,0.04305966426779151 L 2.1950903220161297,0.01921471959676979 L 2.098017140329562,0.004815273327803293 L 2.0000000000000018,0.0 L 1.9019828596704411,0.00481527332780296 L 1.8049096779838736,0.019214719596769236 L 1.7097153227455395,0.04305966426779062 L 1.6173165676349122,0.07612046748871248 L 1.5286032631740043,0.11807873565164395 L 1.5,0.13522287182617565 z\" /></g></svg>"
          },
          "metadata": {
            "tags": []
          },
          "execution_count": 23
        }
      ]
    },
    {
      "cell_type": "code",
      "metadata": {
        "colab": {
          "base_uri": "https://localhost:8080/",
          "height": 121
        },
        "id": "cRB4FxyK4-WP",
        "outputId": "6ea87a83-0b49-45f1-cc88-fd683f825077"
      },
      "source": [
        "dife = circulo_1.difference(circulo_2)\n",
        "dife"
      ],
      "execution_count": 24,
      "outputs": [
        {
          "output_type": "execute_result",
          "data": {
            "text/plain": [
              "<shapely.geometry.polygon.Polygon at 0x7f077f72b490>"
            ],
            "image/svg+xml": "<svg xmlns=\"http://www.w3.org/2000/svg\" xmlns:xlink=\"http://www.w3.org/1999/xlink\" width=\"100.0\" height=\"100.0\" viewBox=\"-0.08 -0.08 1.6600000000000001 2.16\" preserveAspectRatio=\"xMinYMin meet\"><g transform=\"matrix(1,0,0,-1,0,2.0)\"><path fill-rule=\"evenodd\" fill=\"#66cc99\" stroke=\"#555555\" stroke-width=\"0.0432\" opacity=\"0.6\" d=\"M 1.5,0.13522287182617565 L 1.4713967368259986,0.1180787356516455 L 1.382683432365091,0.0761204674887137 L 1.2902846772544636,0.04305966426779151 L 1.1950903220161297,0.01921471959676979 L 1.098017140329562,0.004815273327803293 L 1.0000000000000016,0.0 L 0.9019828596704411,0.00481527332780296 L 0.8049096779838736,0.019214719596769236 L 0.7097153227455395,0.04305966426779062 L 0.6173165676349122,0.07612046748871248 L 0.5286032631740043,0.11807873565164395 L 0.4444297669803995,0.16853038769745365 L 0.36560671583635607,0.22698954663726179 L 0.29289321881345376,0.2928932188134512 L 0.22698954663726412,0.3656067158363532 L 0.16853038769745565,0.4444297669803964 L 0.11807873565164573,0.528603263174001 L 0.07612046748871382,0.6173165676349088 L 0.04305966426779151,0.7097153227455364 L 0.01921471959676979,0.8049096779838705 L 0.004815273327803182,0.9019828596704382 L 0.0,0.999999999999999 L 0.004815273327803071,1.0980171403295598 L 0.019214719596769347,1.1950903220161275 L 0.043059664267790954,1.2902846772544616 L 0.07612046748871304,1.3826834323650892 L 0.11807873565164473,1.4713967368259973 L 0.16853038769745454,1.555570233019602 L 0.2269895466372629,1.6343932841636453 L 0.2928932188134523,1.7071067811865475 L 0.36560671583635407,1.7730104533627367 L 0.44442976698039705,1.831469612302545 L 0.5286032631740013,1.8819212643483545 L 0.6173165676349088,1.923879532511286 L 0.709715322745536,1.9569403357322084 L 0.8049096779838696,1.98078528040323 L 0.9019828596704369,1.9951847266721967 L 0.9999999999999971,2.0 L 1.0980171403295573,1.9951847266721972 L 1.1950903220161249,1.980785280403231 L 1.2902846772544587,1.95694033573221 L 1.3826834323650858,1.9238795325112883 L 1.4713967368259937,1.8819212643483572 L 1.4999999999999998,1.8647771281738246 L 1.444429766980397,1.831469612302545 L 1.365606715836354,1.7730104533627367 L 1.2928932188134523,1.7071067811865475 L 1.226989546637263,1.6343932841636453 L 1.1685303876974547,1.555570233019602 L 1.1180787356516446,1.4713967368259973 L 1.076120467488713,1.3826834323650892 L 1.043059664267791,1.2902846772544616 L 1.0192147195967693,1.1950903220161275 L 1.004815273327803,1.0980171403295598 L 1.0,0.999999999999999 L 1.0048152733278033,0.9019828596704382 L 1.0192147195967698,0.8049096779838705 L 1.0430596642677914,0.7097153227455364 L 1.076120467488714,0.6173165676349088 L 1.1180787356516457,0.528603263174001 L 1.1685303876974555,0.4444297669803964 L 1.226989546637264,0.3656067158363532 L 1.2928932188134539,0.2928932188134512 L 1.365606715836356,0.22698954663726179 L 1.4444297669803996,0.16853038769745365 L 1.5,0.13522287182617565 z\" /></g></svg>"
          },
          "metadata": {
            "tags": []
          },
          "execution_count": 24
        }
      ]
    },
    {
      "cell_type": "code",
      "metadata": {
        "colab": {
          "base_uri": "https://localhost:8080/",
          "height": 121
        },
        "id": "wmlhnucs5AUv",
        "outputId": "4b628330-f550-4b6f-e5b8-dea3b300ea94"
      },
      "source": [
        "dife2 = circulo_2.difference(circulo_1)\n",
        "dife2"
      ],
      "execution_count": 25,
      "outputs": [
        {
          "output_type": "execute_result",
          "data": {
            "text/plain": [
              "<shapely.geometry.polygon.Polygon at 0x7f077f745410>"
            ],
            "image/svg+xml": "<svg xmlns=\"http://www.w3.org/2000/svg\" xmlns:xlink=\"http://www.w3.org/1999/xlink\" width=\"100.0\" height=\"100.0\" viewBox=\"1.4199999999999997 -0.08 1.6600000000000004 2.16\" preserveAspectRatio=\"xMinYMin meet\"><g transform=\"matrix(1,0,0,-1,0,2.0)\"><path fill-rule=\"evenodd\" fill=\"#66cc99\" stroke=\"#555555\" stroke-width=\"0.0432\" opacity=\"0.6\" d=\"M 3.0,1.0 L 2.995184726672197,0.9019828596704395 L 2.9807852804032304,0.8049096779838719 L 2.956940335732209,0.709715322745538 L 2.923879532511287,0.6173165676349106 L 2.8819212643483554,0.5286032631740027 L 2.831469612302546,0.44442976698039827 L 2.7730104533627373,0.36560671583635507 L 2.707106781186548,0.2928932188134531 L 2.634393284163646,0.22698954663726367 L 2.555570233019603,0.16853038769745532 L 2.471396736825999,0.1180787356516455 L 2.382683432365091,0.0761204674887137 L 2.290284677254464,0.04305966426779151 L 2.1950903220161297,0.01921471959676979 L 2.098017140329562,0.004815273327803293 L 2.0000000000000018,0.0 L 1.9019828596704411,0.00481527332780296 L 1.8049096779838736,0.019214719596769236 L 1.7097153227455395,0.04305966426779062 L 1.6173165676349122,0.07612046748871248 L 1.5286032631740043,0.11807873565164395 L 1.5,0.13522287182617565 L 1.555570233019603,0.16853038769745532 L 1.6343932841636462,0.22698954663726367 L 1.7071067811865481,0.2928932188134531 L 1.7730104533627373,0.36560671583635507 L 1.8314696123025456,0.44442976698039827 L 1.8819212643483554,0.5286032631740027 L 1.923879532511287,0.6173165676349106 L 1.956940335732209,0.709715322745538 L 1.9807852804032304,0.8049096779838719 L 1.995184726672197,0.9019828596704395 L 2.0,1.0 L 2.0,1.0000000000000082 L 1.9951847266721963,1.0980171403295684 L 1.980785280403229,1.1950903220161357 L 1.9569403357322068,1.2902846772544692 L 1.923879532511284,1.3826834323650963 L 1.8819212643483518,1.4713967368260035 L 1.8314696123025418,1.5555702330196075 L 1.7730104533627333,1.6343932841636502 L 1.7071067811865435,1.7071067811865515 L 1.6343932841636415,1.7730104533627402 L 1.5555702330195982,1.831469612302548 L 1.4999999999999998,1.8647771281738246 L 1.5286032631740012,1.8819212643483545 L 1.6173165676349088,1.923879532511286 L 1.709715322745536,1.9569403357322084 L 1.8049096779838696,1.98078528040323 L 1.901982859670437,1.9951847266721967 L 1.9999999999999971,2.0 L 2.0980171403295573,1.9951847266721972 L 2.195090322016125,1.980785280403231 L 2.2902846772544585,1.95694033573221 L 2.382683432365086,1.9238795325112883 L 2.4713967368259935,1.8819212643483572 L 2.555570233019598,1.831469612302548 L 2.6343932841636413,1.7730104533627402 L 2.7071067811865435,1.7071067811865515 L 2.7730104533627333,1.6343932841636502 L 2.831469612302542,1.5555702330196075 L 2.881921264348352,1.4713967368260035 L 2.9238795325112843,1.3826834323650963 L 2.956940335732207,1.2902846772544692 L 2.980785280403229,1.1950903220161357 L 2.9951847266721963,1.0980171403295684 L 3.0,1.0000000000000082 L 3.0,1.0 z\" /></g></svg>"
          },
          "metadata": {
            "tags": []
          },
          "execution_count": 25
        }
      ]
    },
    {
      "cell_type": "code",
      "metadata": {
        "colab": {
          "base_uri": "https://localhost:8080/",
          "height": 121
        },
        "id": "HaGVo3rQ5BVg",
        "outputId": "37682e25-d554-4618-97b2-c546ad217e03"
      },
      "source": [
        "circulo_1.symmetric_difference(circulo_2)"
      ],
      "execution_count": 26,
      "outputs": [
        {
          "output_type": "execute_result",
          "data": {
            "text/plain": [
              "<shapely.geometry.multipolygon.MultiPolygon at 0x7f077f740f50>"
            ],
            "image/svg+xml": "<svg xmlns=\"http://www.w3.org/2000/svg\" xmlns:xlink=\"http://www.w3.org/1999/xlink\" width=\"100.0\" height=\"100.0\" viewBox=\"-0.12 -0.12 3.24 2.24\" preserveAspectRatio=\"xMinYMin meet\"><g transform=\"matrix(1,0,0,-1,0,2.0)\"><g><path fill-rule=\"evenodd\" fill=\"#66cc99\" stroke=\"#555555\" stroke-width=\"0.06480000000000001\" opacity=\"0.6\" d=\"M 1.5,0.13522287182617565 L 1.555570233019603,0.16853038769745532 L 1.6343932841636462,0.22698954663726367 L 1.7071067811865481,0.2928932188134531 L 1.7730104533627373,0.36560671583635507 L 1.8314696123025456,0.44442976698039827 L 1.8819212643483554,0.5286032631740027 L 1.923879532511287,0.6173165676349106 L 1.956940335732209,0.709715322745538 L 1.9807852804032304,0.8049096779838719 L 1.995184726672197,0.9019828596704395 L 2.0,1.0 L 2.0,1.0000000000000082 L 1.9951847266721963,1.0980171403295684 L 1.980785280403229,1.1950903220161357 L 1.9569403357322068,1.2902846772544692 L 1.923879532511284,1.3826834323650963 L 1.8819212643483518,1.4713967368260035 L 1.8314696123025418,1.5555702330196075 L 1.7730104533627333,1.6343932841636502 L 1.7071067811865435,1.7071067811865515 L 1.6343932841636415,1.7730104533627402 L 1.5555702330195982,1.831469612302548 L 1.4999999999999998,1.8647771281738246 L 1.5286032631740012,1.8819212643483545 L 1.6173165676349088,1.923879532511286 L 1.709715322745536,1.9569403357322084 L 1.8049096779838696,1.98078528040323 L 1.901982859670437,1.9951847266721967 L 1.9999999999999971,2.0 L 2.0980171403295573,1.9951847266721972 L 2.195090322016125,1.980785280403231 L 2.2902846772544585,1.95694033573221 L 2.382683432365086,1.9238795325112883 L 2.4713967368259935,1.8819212643483572 L 2.555570233019598,1.831469612302548 L 2.6343932841636413,1.7730104533627402 L 2.7071067811865435,1.7071067811865515 L 2.7730104533627333,1.6343932841636502 L 2.831469612302542,1.5555702330196075 L 2.881921264348352,1.4713967368260035 L 2.9238795325112843,1.3826834323650963 L 2.956940335732207,1.2902846772544692 L 2.980785280403229,1.1950903220161357 L 2.9951847266721963,1.0980171403295684 L 3.0,1.0000000000000082 L 3.0,1.0 L 2.995184726672197,0.9019828596704395 L 2.9807852804032304,0.8049096779838719 L 2.956940335732209,0.709715322745538 L 2.923879532511287,0.6173165676349106 L 2.8819212643483554,0.5286032631740027 L 2.831469612302546,0.44442976698039827 L 2.7730104533627373,0.36560671583635507 L 2.707106781186548,0.2928932188134531 L 2.634393284163646,0.22698954663726367 L 2.555570233019603,0.16853038769745532 L 2.471396736825999,0.1180787356516455 L 2.382683432365091,0.0761204674887137 L 2.290284677254464,0.04305966426779151 L 2.1950903220161297,0.01921471959676979 L 2.098017140329562,0.004815273327803293 L 2.0000000000000018,0.0 L 1.9019828596704411,0.00481527332780296 L 1.8049096779838736,0.019214719596769236 L 1.7097153227455395,0.04305966426779062 L 1.6173165676349122,0.07612046748871248 L 1.5286032631740043,0.11807873565164395 L 1.5,0.13522287182617565 z\" /><path fill-rule=\"evenodd\" fill=\"#66cc99\" stroke=\"#555555\" stroke-width=\"0.06480000000000001\" opacity=\"0.6\" d=\"M 1.5,0.13522287182617565 L 1.4713967368259986,0.1180787356516455 L 1.382683432365091,0.0761204674887137 L 1.2902846772544636,0.04305966426779151 L 1.1950903220161297,0.01921471959676979 L 1.098017140329562,0.004815273327803293 L 1.0000000000000016,0.0 L 0.9019828596704411,0.00481527332780296 L 0.8049096779838736,0.019214719596769236 L 0.7097153227455395,0.04305966426779062 L 0.6173165676349122,0.07612046748871248 L 0.5286032631740043,0.11807873565164395 L 0.4444297669803995,0.16853038769745365 L 0.36560671583635607,0.22698954663726179 L 0.29289321881345376,0.2928932188134512 L 0.22698954663726412,0.3656067158363532 L 0.16853038769745565,0.4444297669803964 L 0.11807873565164573,0.528603263174001 L 0.07612046748871382,0.6173165676349088 L 0.04305966426779151,0.7097153227455364 L 0.01921471959676979,0.8049096779838705 L 0.004815273327803182,0.9019828596704382 L 0.0,0.999999999999999 L 0.004815273327803071,1.0980171403295598 L 0.019214719596769347,1.1950903220161275 L 0.043059664267790954,1.2902846772544616 L 0.07612046748871304,1.3826834323650892 L 0.11807873565164473,1.4713967368259973 L 0.16853038769745454,1.555570233019602 L 0.2269895466372629,1.6343932841636453 L 0.2928932188134523,1.7071067811865475 L 0.36560671583635407,1.7730104533627367 L 0.44442976698039705,1.831469612302545 L 0.5286032631740013,1.8819212643483545 L 0.6173165676349088,1.923879532511286 L 0.709715322745536,1.9569403357322084 L 0.8049096779838696,1.98078528040323 L 0.9019828596704369,1.9951847266721967 L 0.9999999999999971,2.0 L 1.0980171403295573,1.9951847266721972 L 1.1950903220161249,1.980785280403231 L 1.2902846772544587,1.95694033573221 L 1.3826834323650858,1.9238795325112883 L 1.4713967368259937,1.8819212643483572 L 1.4999999999999998,1.8647771281738246 L 1.444429766980397,1.831469612302545 L 1.365606715836354,1.7730104533627367 L 1.2928932188134523,1.7071067811865475 L 1.226989546637263,1.6343932841636453 L 1.1685303876974547,1.555570233019602 L 1.1180787356516446,1.4713967368259973 L 1.076120467488713,1.3826834323650892 L 1.043059664267791,1.2902846772544616 L 1.0192147195967693,1.1950903220161275 L 1.004815273327803,1.0980171403295598 L 1.0,0.999999999999999 L 1.0048152733278033,0.9019828596704382 L 1.0192147195967698,0.8049096779838705 L 1.0430596642677914,0.7097153227455364 L 1.076120467488714,0.6173165676349088 L 1.1180787356516457,0.528603263174001 L 1.1685303876974555,0.4444297669803964 L 1.226989546637264,0.3656067158363532 L 1.2928932188134539,0.2928932188134512 L 1.365606715836356,0.22698954663726179 L 1.4444297669803996,0.16853038769745365 L 1.5,0.13522287182617565 z\" /></g></g></svg>"
          },
          "metadata": {
            "tags": []
          },
          "execution_count": 26
        }
      ]
    }
  ]
}