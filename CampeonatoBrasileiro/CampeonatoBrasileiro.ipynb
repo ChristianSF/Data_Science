{
  "nbformat": 4,
  "nbformat_minor": 0,
  "metadata": {
    "colab": {
      "name": "CampeonatoBrasileiro",
      "provenance": [],
      "collapsed_sections": []
    },
    "kernelspec": {
      "name": "python3",
      "display_name": "Python 3"
    },
    "language_info": {
      "name": "python"
    }
  },
  "cells": [
    {
      "cell_type": "markdown",
      "metadata": {
        "id": "nSf5bffNrGbW"
      },
      "source": [
        "#Preparação e Análise Exploratória"
      ]
    },
    {
      "cell_type": "code",
      "metadata": {
        "id": "4qdKh97GEUYz"
      },
      "source": [
        "import pandas as pd\n",
        "import numpy as np\n",
        "from sklearn.model_selection import train_test_split, GridSearchCV, cross_val_score, KFold\n",
        "from sklearn.metrics import accuracy_score, f1_score, precision_score, recall_score, classification_report\n",
        "from sklearn.feature_selection import SelectKBest\n",
        "from sklearn.preprocessing import MinMaxScaler\n",
        "from sklearn.tree import DecisionTreeClassifier\n",
        "from sklearn.ensemble import RandomForestClassifier\n",
        "from yellowbrick.classifier import ConfusionMatrix\n",
        "import plotly.graph_objects as go\n",
        "from plotly.subplots import make_subplots"
      ],
      "execution_count": 100,
      "outputs": []
    },
    {
      "cell_type": "code",
      "metadata": {
        "colab": {
          "base_uri": "https://localhost:8080/"
        },
        "id": "F86ksHuuEefV",
        "outputId": "e720f0cb-88a9-4f63-c5ce-8bf3117de307"
      },
      "source": [
        "dados = pd.read_csv(\"/content/BRA.csv\")\n",
        "dados.shape"
      ],
      "execution_count": 38,
      "outputs": [
        {
          "output_type": "execute_result",
          "data": {
            "text/plain": [
              "(3466, 19)"
            ]
          },
          "metadata": {
            "tags": []
          },
          "execution_count": 38
        }
      ]
    },
    {
      "cell_type": "code",
      "metadata": {
        "colab": {
          "base_uri": "https://localhost:8080/"
        },
        "id": "rNuIMbUWGLUR",
        "outputId": "db48781e-24fb-4a33-c328-bb0bf3cd1c16"
      },
      "source": [
        "dados.columns"
      ],
      "execution_count": 39,
      "outputs": [
        {
          "output_type": "execute_result",
          "data": {
            "text/plain": [
              "Index(['Country', 'League', 'Season', 'Date', 'Time', 'Home', 'Away', 'HG',\n",
              "       'AG', 'Res', 'PH', 'PD', 'PA', 'MaxH', 'MaxD', 'MaxA', 'AvgH', 'AvgD',\n",
              "       'AvgA'],\n",
              "      dtype='object')"
            ]
          },
          "metadata": {
            "tags": []
          },
          "execution_count": 39
        }
      ]
    },
    {
      "cell_type": "code",
      "metadata": {
        "colab": {
          "base_uri": "https://localhost:8080/",
          "height": 205
        },
        "id": "_E4nYR5QGM3g",
        "outputId": "1b95a30d-88b9-43f9-9ed9-d3ac35e7e9d9"
      },
      "source": [
        "dados.head()"
      ],
      "execution_count": 40,
      "outputs": [
        {
          "output_type": "execute_result",
          "data": {
            "text/html": [
              "<div>\n",
              "<style scoped>\n",
              "    .dataframe tbody tr th:only-of-type {\n",
              "        vertical-align: middle;\n",
              "    }\n",
              "\n",
              "    .dataframe tbody tr th {\n",
              "        vertical-align: top;\n",
              "    }\n",
              "\n",
              "    .dataframe thead th {\n",
              "        text-align: right;\n",
              "    }\n",
              "</style>\n",
              "<table border=\"1\" class=\"dataframe\">\n",
              "  <thead>\n",
              "    <tr style=\"text-align: right;\">\n",
              "      <th></th>\n",
              "      <th>Country</th>\n",
              "      <th>League</th>\n",
              "      <th>Season</th>\n",
              "      <th>Date</th>\n",
              "      <th>Time</th>\n",
              "      <th>Home</th>\n",
              "      <th>Away</th>\n",
              "      <th>HG</th>\n",
              "      <th>AG</th>\n",
              "      <th>Res</th>\n",
              "      <th>PH</th>\n",
              "      <th>PD</th>\n",
              "      <th>PA</th>\n",
              "      <th>MaxH</th>\n",
              "      <th>MaxD</th>\n",
              "      <th>MaxA</th>\n",
              "      <th>AvgH</th>\n",
              "      <th>AvgD</th>\n",
              "      <th>AvgA</th>\n",
              "    </tr>\n",
              "  </thead>\n",
              "  <tbody>\n",
              "    <tr>\n",
              "      <th>0</th>\n",
              "      <td>Brazil</td>\n",
              "      <td>Serie A</td>\n",
              "      <td>2012</td>\n",
              "      <td>19/05/2012</td>\n",
              "      <td>22:30</td>\n",
              "      <td>Palmeiras</td>\n",
              "      <td>Portuguesa</td>\n",
              "      <td>1.0</td>\n",
              "      <td>1.0</td>\n",
              "      <td>D</td>\n",
              "      <td>1.75</td>\n",
              "      <td>3.86</td>\n",
              "      <td>5.25</td>\n",
              "      <td>1.76</td>\n",
              "      <td>3.87</td>\n",
              "      <td>5.31</td>\n",
              "      <td>1.69</td>\n",
              "      <td>3.50</td>\n",
              "      <td>4.90</td>\n",
              "    </tr>\n",
              "    <tr>\n",
              "      <th>1</th>\n",
              "      <td>Brazil</td>\n",
              "      <td>Serie A</td>\n",
              "      <td>2012</td>\n",
              "      <td>19/05/2012</td>\n",
              "      <td>22:30</td>\n",
              "      <td>Sport Recife</td>\n",
              "      <td>Flamengo RJ</td>\n",
              "      <td>1.0</td>\n",
              "      <td>1.0</td>\n",
              "      <td>D</td>\n",
              "      <td>2.83</td>\n",
              "      <td>3.39</td>\n",
              "      <td>2.68</td>\n",
              "      <td>2.83</td>\n",
              "      <td>3.42</td>\n",
              "      <td>2.70</td>\n",
              "      <td>2.59</td>\n",
              "      <td>3.23</td>\n",
              "      <td>2.58</td>\n",
              "    </tr>\n",
              "    <tr>\n",
              "      <th>2</th>\n",
              "      <td>Brazil</td>\n",
              "      <td>Serie A</td>\n",
              "      <td>2012</td>\n",
              "      <td>20/05/2012</td>\n",
              "      <td>01:00</td>\n",
              "      <td>Figueirense</td>\n",
              "      <td>Nautico</td>\n",
              "      <td>2.0</td>\n",
              "      <td>1.0</td>\n",
              "      <td>H</td>\n",
              "      <td>1.60</td>\n",
              "      <td>4.04</td>\n",
              "      <td>6.72</td>\n",
              "      <td>1.67</td>\n",
              "      <td>4.05</td>\n",
              "      <td>7.22</td>\n",
              "      <td>1.59</td>\n",
              "      <td>3.67</td>\n",
              "      <td>5.64</td>\n",
              "    </tr>\n",
              "    <tr>\n",
              "      <th>3</th>\n",
              "      <td>Brazil</td>\n",
              "      <td>Serie A</td>\n",
              "      <td>2012</td>\n",
              "      <td>20/05/2012</td>\n",
              "      <td>20:00</td>\n",
              "      <td>Botafogo RJ</td>\n",
              "      <td>Sao Paulo</td>\n",
              "      <td>4.0</td>\n",
              "      <td>2.0</td>\n",
              "      <td>H</td>\n",
              "      <td>2.49</td>\n",
              "      <td>3.35</td>\n",
              "      <td>3.15</td>\n",
              "      <td>2.49</td>\n",
              "      <td>3.39</td>\n",
              "      <td>3.15</td>\n",
              "      <td>2.35</td>\n",
              "      <td>3.26</td>\n",
              "      <td>2.84</td>\n",
              "    </tr>\n",
              "    <tr>\n",
              "      <th>4</th>\n",
              "      <td>Brazil</td>\n",
              "      <td>Serie A</td>\n",
              "      <td>2012</td>\n",
              "      <td>20/05/2012</td>\n",
              "      <td>20:00</td>\n",
              "      <td>Corinthians</td>\n",
              "      <td>Fluminense</td>\n",
              "      <td>0.0</td>\n",
              "      <td>1.0</td>\n",
              "      <td>A</td>\n",
              "      <td>1.96</td>\n",
              "      <td>3.53</td>\n",
              "      <td>4.41</td>\n",
              "      <td>1.96</td>\n",
              "      <td>3.53</td>\n",
              "      <td>4.41</td>\n",
              "      <td>1.89</td>\n",
              "      <td>3.33</td>\n",
              "      <td>3.89</td>\n",
              "    </tr>\n",
              "  </tbody>\n",
              "</table>\n",
              "</div>"
            ],
            "text/plain": [
              "  Country   League  Season        Date   Time  ...  MaxD  MaxA  AvgH  AvgD  AvgA\n",
              "0  Brazil  Serie A    2012  19/05/2012  22:30  ...  3.87  5.31  1.69  3.50  4.90\n",
              "1  Brazil  Serie A    2012  19/05/2012  22:30  ...  3.42  2.70  2.59  3.23  2.58\n",
              "2  Brazil  Serie A    2012  20/05/2012  01:00  ...  4.05  7.22  1.59  3.67  5.64\n",
              "3  Brazil  Serie A    2012  20/05/2012  20:00  ...  3.39  3.15  2.35  3.26  2.84\n",
              "4  Brazil  Serie A    2012  20/05/2012  20:00  ...  3.53  4.41  1.89  3.33  3.89\n",
              "\n",
              "[5 rows x 19 columns]"
            ]
          },
          "metadata": {
            "tags": []
          },
          "execution_count": 40
        }
      ]
    },
    {
      "cell_type": "code",
      "metadata": {
        "colab": {
          "base_uri": "https://localhost:8080/",
          "height": 260
        },
        "id": "y99rjmxjGQkR",
        "outputId": "ac30fc49-3bfd-4902-85b0-997f4d413200"
      },
      "source": [
        "dados.tail()"
      ],
      "execution_count": 41,
      "outputs": [
        {
          "output_type": "execute_result",
          "data": {
            "text/html": [
              "<div>\n",
              "<style scoped>\n",
              "    .dataframe tbody tr th:only-of-type {\n",
              "        vertical-align: middle;\n",
              "    }\n",
              "\n",
              "    .dataframe tbody tr th {\n",
              "        vertical-align: top;\n",
              "    }\n",
              "\n",
              "    .dataframe thead th {\n",
              "        text-align: right;\n",
              "    }\n",
              "</style>\n",
              "<table border=\"1\" class=\"dataframe\">\n",
              "  <thead>\n",
              "    <tr style=\"text-align: right;\">\n",
              "      <th></th>\n",
              "      <th>Country</th>\n",
              "      <th>League</th>\n",
              "      <th>Season</th>\n",
              "      <th>Date</th>\n",
              "      <th>Time</th>\n",
              "      <th>Home</th>\n",
              "      <th>Away</th>\n",
              "      <th>HG</th>\n",
              "      <th>AG</th>\n",
              "      <th>Res</th>\n",
              "      <th>PH</th>\n",
              "      <th>PD</th>\n",
              "      <th>PA</th>\n",
              "      <th>MaxH</th>\n",
              "      <th>MaxD</th>\n",
              "      <th>MaxA</th>\n",
              "      <th>AvgH</th>\n",
              "      <th>AvgD</th>\n",
              "      <th>AvgA</th>\n",
              "    </tr>\n",
              "  </thead>\n",
              "  <tbody>\n",
              "    <tr>\n",
              "      <th>3461</th>\n",
              "      <td>Brazil</td>\n",
              "      <td>Serie A</td>\n",
              "      <td>2021</td>\n",
              "      <td>20/06/2021</td>\n",
              "      <td>22:15</td>\n",
              "      <td>Athletico-PR</td>\n",
              "      <td>Atletico GO</td>\n",
              "      <td>2.0</td>\n",
              "      <td>1.0</td>\n",
              "      <td>H</td>\n",
              "      <td>2.04</td>\n",
              "      <td>3.12</td>\n",
              "      <td>4.47</td>\n",
              "      <td>2.07</td>\n",
              "      <td>3.25</td>\n",
              "      <td>4.58</td>\n",
              "      <td>2.02</td>\n",
              "      <td>2.99</td>\n",
              "      <td>4.29</td>\n",
              "    </tr>\n",
              "    <tr>\n",
              "      <th>3462</th>\n",
              "      <td>Brazil</td>\n",
              "      <td>Serie A</td>\n",
              "      <td>2021</td>\n",
              "      <td>20/06/2021</td>\n",
              "      <td>22:15</td>\n",
              "      <td>Fortaleza</td>\n",
              "      <td>Fluminense</td>\n",
              "      <td>1.0</td>\n",
              "      <td>1.0</td>\n",
              "      <td>D</td>\n",
              "      <td>2.39</td>\n",
              "      <td>2.97</td>\n",
              "      <td>3.59</td>\n",
              "      <td>2.40</td>\n",
              "      <td>3.08</td>\n",
              "      <td>3.70</td>\n",
              "      <td>2.33</td>\n",
              "      <td>2.94</td>\n",
              "      <td>3.40</td>\n",
              "    </tr>\n",
              "    <tr>\n",
              "      <th>3463</th>\n",
              "      <td>Brazil</td>\n",
              "      <td>Serie A</td>\n",
              "      <td>2021</td>\n",
              "      <td>20/06/2021</td>\n",
              "      <td>22:15</td>\n",
              "      <td>Santos</td>\n",
              "      <td>Sao Paulo</td>\n",
              "      <td>2.0</td>\n",
              "      <td>0.0</td>\n",
              "      <td>H</td>\n",
              "      <td>3.27</td>\n",
              "      <td>3.21</td>\n",
              "      <td>2.41</td>\n",
              "      <td>3.27</td>\n",
              "      <td>3.21</td>\n",
              "      <td>2.50</td>\n",
              "      <td>3.06</td>\n",
              "      <td>3.09</td>\n",
              "      <td>2.41</td>\n",
              "    </tr>\n",
              "    <tr>\n",
              "      <th>3464</th>\n",
              "      <td>Brazil</td>\n",
              "      <td>Serie A</td>\n",
              "      <td>2021</td>\n",
              "      <td>21/06/2021</td>\n",
              "      <td>00:30</td>\n",
              "      <td>Juventude</td>\n",
              "      <td>Sport Recife</td>\n",
              "      <td>1.0</td>\n",
              "      <td>0.0</td>\n",
              "      <td>H</td>\n",
              "      <td>2.48</td>\n",
              "      <td>2.97</td>\n",
              "      <td>3.41</td>\n",
              "      <td>2.55</td>\n",
              "      <td>3.10</td>\n",
              "      <td>3.49</td>\n",
              "      <td>2.42</td>\n",
              "      <td>2.93</td>\n",
              "      <td>3.21</td>\n",
              "    </tr>\n",
              "    <tr>\n",
              "      <th>3465</th>\n",
              "      <td>Brazil</td>\n",
              "      <td>Serie A</td>\n",
              "      <td>2021</td>\n",
              "      <td>22/06/2021</td>\n",
              "      <td>00:00</td>\n",
              "      <td>Atletico-MG</td>\n",
              "      <td>Chapecoense-SC</td>\n",
              "      <td>1.0</td>\n",
              "      <td>1.0</td>\n",
              "      <td>D</td>\n",
              "      <td>1.29</td>\n",
              "      <td>5.79</td>\n",
              "      <td>10.78</td>\n",
              "      <td>1.31</td>\n",
              "      <td>6.03</td>\n",
              "      <td>11.93</td>\n",
              "      <td>1.28</td>\n",
              "      <td>5.43</td>\n",
              "      <td>10.08</td>\n",
              "    </tr>\n",
              "  </tbody>\n",
              "</table>\n",
              "</div>"
            ],
            "text/plain": [
              "     Country   League  Season        Date  ...   MaxA  AvgH  AvgD   AvgA\n",
              "3461  Brazil  Serie A    2021  20/06/2021  ...   4.58  2.02  2.99   4.29\n",
              "3462  Brazil  Serie A    2021  20/06/2021  ...   3.70  2.33  2.94   3.40\n",
              "3463  Brazil  Serie A    2021  20/06/2021  ...   2.50  3.06  3.09   2.41\n",
              "3464  Brazil  Serie A    2021  21/06/2021  ...   3.49  2.42  2.93   3.21\n",
              "3465  Brazil  Serie A    2021  22/06/2021  ...  11.93  1.28  5.43  10.08\n",
              "\n",
              "[5 rows x 19 columns]"
            ]
          },
          "metadata": {
            "tags": []
          },
          "execution_count": 41
        }
      ]
    },
    {
      "cell_type": "code",
      "metadata": {
        "colab": {
          "base_uri": "https://localhost:8080/"
        },
        "id": "OnC3Lv_1GUfR",
        "outputId": "77d3bfbc-c485-41ee-d06d-f4722bc5070f"
      },
      "source": [
        "dados.isnull().sum()"
      ],
      "execution_count": 42,
      "outputs": [
        {
          "output_type": "execute_result",
          "data": {
            "text/plain": [
              "Country    0\n",
              "League     0\n",
              "Season     0\n",
              "Date       0\n",
              "Time       0\n",
              "Home       0\n",
              "Away       0\n",
              "HG         1\n",
              "AG         1\n",
              "Res        1\n",
              "PH         1\n",
              "PD         1\n",
              "PA         1\n",
              "MaxH       0\n",
              "MaxD       0\n",
              "MaxA       0\n",
              "AvgH       0\n",
              "AvgD       0\n",
              "AvgA       0\n",
              "dtype: int64"
            ]
          },
          "metadata": {
            "tags": []
          },
          "execution_count": 42
        }
      ]
    },
    {
      "cell_type": "code",
      "metadata": {
        "id": "8T99-1WNNqyq"
      },
      "source": [
        "dados = dados.fillna(0)"
      ],
      "execution_count": 43,
      "outputs": []
    },
    {
      "cell_type": "code",
      "metadata": {
        "colab": {
          "base_uri": "https://localhost:8080/"
        },
        "id": "BEqTDfWGqv9i",
        "outputId": "fc436aa9-7588-4b39-f3f8-a3f7f3a1c462"
      },
      "source": [
        "dados.isnull().sum()"
      ],
      "execution_count": 137,
      "outputs": [
        {
          "output_type": "execute_result",
          "data": {
            "text/plain": [
              "Country    0\n",
              "League     0\n",
              "Season     0\n",
              "Date       0\n",
              "Time       0\n",
              "Home       0\n",
              "Away       0\n",
              "HG         0\n",
              "AG         0\n",
              "Res        0\n",
              "PH         0\n",
              "PD         0\n",
              "PA         0\n",
              "MaxH       0\n",
              "MaxD       0\n",
              "MaxA       0\n",
              "AvgH       0\n",
              "AvgD       0\n",
              "AvgA       0\n",
              "id_jogo    0\n",
              "dtype: int64"
            ]
          },
          "metadata": {
            "tags": []
          },
          "execution_count": 137
        }
      ]
    },
    {
      "cell_type": "code",
      "metadata": {
        "colab": {
          "base_uri": "https://localhost:8080/"
        },
        "id": "qNLYBEEUGcLK",
        "outputId": "1c38c8da-d9f5-425f-a3f5-4f8ad1cf619b"
      },
      "source": [
        "dados.duplicated().sum()"
      ],
      "execution_count": 44,
      "outputs": [
        {
          "output_type": "execute_result",
          "data": {
            "text/plain": [
              "0"
            ]
          },
          "metadata": {
            "tags": []
          },
          "execution_count": 44
        }
      ]
    },
    {
      "cell_type": "code",
      "metadata": {
        "colab": {
          "base_uri": "https://localhost:8080/"
        },
        "id": "i5qsQGIbGesK",
        "outputId": "223b6dc4-8cb1-4b61-e1c4-32909a0c7d8a"
      },
      "source": [
        "dados['Res'].value_counts()"
      ],
      "execution_count": 45,
      "outputs": [
        {
          "output_type": "execute_result",
          "data": {
            "text/plain": [
              "H    1708\n",
              "D     924\n",
              "A     833\n",
              "0       1\n",
              "Name: Res, dtype: int64"
            ]
          },
          "metadata": {
            "tags": []
          },
          "execution_count": 45
        }
      ]
    },
    {
      "cell_type": "code",
      "metadata": {
        "colab": {
          "base_uri": "https://localhost:8080/",
          "height": 98
        },
        "id": "Van5b30OOBB4",
        "outputId": "581d2b03-7885-4808-9bfd-1499ebb7cc32"
      },
      "source": [
        "dados[dados['Res'] == 0]"
      ],
      "execution_count": 47,
      "outputs": [
        {
          "output_type": "execute_result",
          "data": {
            "text/html": [
              "<div>\n",
              "<style scoped>\n",
              "    .dataframe tbody tr th:only-of-type {\n",
              "        vertical-align: middle;\n",
              "    }\n",
              "\n",
              "    .dataframe tbody tr th {\n",
              "        vertical-align: top;\n",
              "    }\n",
              "\n",
              "    .dataframe thead th {\n",
              "        text-align: right;\n",
              "    }\n",
              "</style>\n",
              "<table border=\"1\" class=\"dataframe\">\n",
              "  <thead>\n",
              "    <tr style=\"text-align: right;\">\n",
              "      <th></th>\n",
              "      <th>Country</th>\n",
              "      <th>League</th>\n",
              "      <th>Season</th>\n",
              "      <th>Date</th>\n",
              "      <th>Time</th>\n",
              "      <th>Home</th>\n",
              "      <th>Away</th>\n",
              "      <th>HG</th>\n",
              "      <th>AG</th>\n",
              "      <th>Res</th>\n",
              "      <th>PH</th>\n",
              "      <th>PD</th>\n",
              "      <th>PA</th>\n",
              "      <th>MaxH</th>\n",
              "      <th>MaxD</th>\n",
              "      <th>MaxA</th>\n",
              "      <th>AvgH</th>\n",
              "      <th>AvgD</th>\n",
              "      <th>AvgA</th>\n",
              "    </tr>\n",
              "  </thead>\n",
              "  <tbody>\n",
              "    <tr>\n",
              "      <th>1891</th>\n",
              "      <td>Brazil</td>\n",
              "      <td>Serie A</td>\n",
              "      <td>2016</td>\n",
              "      <td>11/12/2016</td>\n",
              "      <td>19:00</td>\n",
              "      <td>Chapecoense-SC</td>\n",
              "      <td>Atletico-MG</td>\n",
              "      <td>0.0</td>\n",
              "      <td>0.0</td>\n",
              "      <td>0</td>\n",
              "      <td>0.0</td>\n",
              "      <td>0.0</td>\n",
              "      <td>0.0</td>\n",
              "      <td>2.85</td>\n",
              "      <td>3.3</td>\n",
              "      <td>2.68</td>\n",
              "      <td>2.85</td>\n",
              "      <td>3.3</td>\n",
              "      <td>2.67</td>\n",
              "    </tr>\n",
              "  </tbody>\n",
              "</table>\n",
              "</div>"
            ],
            "text/plain": [
              "     Country   League  Season        Date   Time  ... MaxD  MaxA  AvgH  AvgD  AvgA\n",
              "1891  Brazil  Serie A    2016  11/12/2016  19:00  ...  3.3  2.68  2.85   3.3  2.67\n",
              "\n",
              "[1 rows x 19 columns]"
            ]
          },
          "metadata": {
            "tags": []
          },
          "execution_count": 47
        }
      ]
    },
    {
      "cell_type": "code",
      "metadata": {
        "id": "2hfn8xiBOfFQ"
      },
      "source": [
        "dados[dados['Res'] == 0] = 1"
      ],
      "execution_count": 48,
      "outputs": []
    },
    {
      "cell_type": "code",
      "metadata": {
        "colab": {
          "base_uri": "https://localhost:8080/",
          "height": 542
        },
        "id": "vqp-ukUMLM_x",
        "outputId": "71cde4d6-a217-4e5f-b7af-fbd28369f82b"
      },
      "source": [
        "layout = go.Layout(title=\"Resultados das Partidas - H: Vitória time da casa, D: Empate, A: Vitória do visitante\", xaxis= {'title':'Resultados'},\n",
        "                   yaxis=dict(title='Nº de Partidas'), hovermode='closest')\n",
        "fig = go.Figure(data=[go.Histogram(x=dados['Res'], marker_color='#330C73')], layout=layout)\n",
        "\n",
        "fig.show()"
      ],
      "execution_count": 49,
      "outputs": [
        {
          "output_type": "display_data",
          "data": {
            "text/html": [
              "<html>\n",
              "<head><meta charset=\"utf-8\" /></head>\n",
              "<body>\n",
              "    <div>\n",
              "            <script src=\"https://cdnjs.cloudflare.com/ajax/libs/mathjax/2.7.5/MathJax.js?config=TeX-AMS-MML_SVG\"></script><script type=\"text/javascript\">if (window.MathJax) {MathJax.Hub.Config({SVG: {font: \"STIX-Web\"}});}</script>\n",
              "                <script type=\"text/javascript\">window.PlotlyConfig = {MathJaxConfig: 'local'};</script>\n",
              "        <script src=\"https://cdn.plot.ly/plotly-latest.min.js\"></script>    \n",
              "            <div id=\"335afe76-c25d-41b8-b5f0-82f8d05513f5\" class=\"plotly-graph-div\" style=\"height:525px; width:100%;\"></div>\n",
              "            <script type=\"text/javascript\">\n",
              "                \n",
              "                    window.PLOTLYENV=window.PLOTLYENV || {};\n",
              "                    \n",
              "                if (document.getElementById(\"335afe76-c25d-41b8-b5f0-82f8d05513f5\")) {\n",
              "                    Plotly.newPlot(\n",
              "                        '335afe76-c25d-41b8-b5f0-82f8d05513f5',\n",
              "                        [{\"marker\": {\"color\": \"#330C73\"}, \"type\": \"histogram\", \"x\": [\"D\", \"D\", \"H\", \"H\", \"A\", \"H\", \"A\", \"D\", \"D\", \"H\", \"D\", \"D\", \"A\", \"D\", \"H\", \"A\", \"D\", \"H\", \"D\", \"H\", \"A\", \"H\", \"D\", \"H\", \"H\", \"H\", \"D\", \"D\", \"A\", \"D\", \"H\", \"A\", \"H\", \"A\", \"D\", \"H\", \"H\", \"D\", \"H\", \"H\", \"H\", \"A\", \"H\", \"H\", \"H\", \"D\", \"H\", \"H\", \"H\", \"H\", \"H\", \"A\", \"H\", \"H\", \"D\", \"H\", \"A\", \"A\", \"D\", \"A\", \"A\", \"A\", \"H\", \"D\", \"A\", \"D\", \"H\", \"A\", \"H\", \"H\", \"H\", \"A\", \"D\", \"H\", \"H\", \"H\", \"H\", \"H\", \"D\", \"A\", \"H\", \"A\", \"H\", \"A\", \"D\", \"A\", \"D\", \"D\", \"H\", \"H\", \"H\", \"D\", \"H\", \"A\", \"H\", \"A\", \"A\", \"H\", \"D\", \"H\", \"A\", \"H\", \"D\", \"H\", \"A\", \"H\", \"H\", \"D\", \"A\", \"A\", \"A\", \"D\", \"A\", \"H\", \"H\", \"H\", \"H\", \"H\", \"D\", \"A\", \"H\", \"D\", \"H\", \"D\", \"D\", \"H\", \"D\", \"H\", \"H\", \"H\", \"A\", \"A\", \"H\", \"A\", \"H\", \"H\", \"D\", \"A\", \"H\", \"D\", \"A\", \"D\", \"D\", \"A\", \"A\", \"H\", \"H\", \"H\", \"D\", \"A\", \"D\", \"A\", \"H\", \"H\", \"A\", \"H\", \"A\", \"H\", \"D\", \"D\", \"A\", \"D\", \"A\", \"H\", \"H\", \"H\", \"H\", \"A\", \"D\", \"H\", \"H\", \"H\", \"H\", \"H\", \"H\", \"H\", \"H\", \"H\", \"D\", \"A\", \"A\", \"H\", \"D\", \"A\", \"H\", \"A\", \"D\", \"D\", \"D\", \"H\", \"A\", \"D\", \"H\", \"H\", \"A\", \"D\", \"H\", \"D\", \"H\", \"D\", \"D\", \"H\", \"H\", \"H\", \"H\", \"H\", \"H\", \"H\", \"H\", \"D\", \"A\", \"D\", \"H\", \"H\", \"A\", \"H\", \"D\", \"H\", \"H\", \"H\", \"D\", \"H\", \"H\", \"A\", \"D\", \"D\", \"H\", \"H\", \"A\", \"D\", \"H\", \"A\", \"A\", \"D\", \"H\", \"H\", \"H\", \"D\", \"H\", \"H\", \"A\", \"H\", \"A\", \"D\", \"H\", \"A\", \"D\", \"D\", \"D\", \"A\", \"H\", \"A\", \"A\", \"D\", \"D\", \"H\", \"D\", \"H\", \"H\", \"H\", \"D\", \"H\", \"D\", \"H\", \"H\", \"H\", \"H\", \"D\", \"A\", \"D\", \"H\", \"D\", \"H\", \"H\", \"A\", \"H\", \"D\", \"H\", \"H\", \"H\", \"A\", \"A\", \"H\", \"H\", \"H\", \"H\", \"H\", \"A\", \"A\", \"A\", \"H\", \"D\", \"D\", \"H\", \"H\", \"H\", \"H\", \"H\", \"H\", \"D\", \"A\", \"H\", \"D\", \"A\", \"H\", \"D\", \"D\", \"H\", \"H\", \"H\", \"D\", \"D\", \"H\", \"H\", \"H\", \"D\", \"A\", \"H\", \"A\", \"A\", \"H\", \"H\", \"D\", \"H\", \"H\", \"D\", \"H\", \"D\", \"A\", \"D\", \"A\", \"H\", \"H\", \"A\", \"D\", \"D\", \"A\", \"H\", \"H\", \"A\", \"H\", \"H\", \"H\", \"H\", \"A\", \"D\", \"H\", \"D\", \"A\", \"H\", \"A\", \"H\", \"D\", \"H\", \"D\", \"A\", \"H\", \"A\", \"D\", \"H\", \"D\", \"D\", \"D\", \"A\", \"H\", \"A\", \"A\", \"A\", \"D\", \"D\", \"D\", \"H\", \"A\", \"H\", \"H\", \"A\", \"D\", \"H\", \"D\", \"H\", \"H\", \"D\", \"D\", \"H\", \"H\", \"A\", \"D\", \"H\", \"H\", \"H\", \"D\", \"H\", \"H\", \"D\", \"A\", \"A\", \"D\", \"H\", \"D\", \"H\", \"D\", \"D\", \"H\", \"H\", \"D\", \"H\", \"A\", \"D\", \"H\", \"D\", \"A\", \"H\", \"A\", \"H\", \"H\", \"H\", \"A\", \"H\", \"A\", \"D\", \"D\", \"D\", \"A\", \"H\", \"H\", \"H\", \"H\", \"H\", \"D\", \"H\", \"D\", \"D\", \"A\", \"D\", \"A\", \"H\", \"H\", \"A\", \"H\", \"H\", \"A\", \"A\", \"H\", \"D\", \"A\", \"H\", \"H\", \"H\", \"D\", \"H\", \"A\", \"H\", \"H\", \"A\", \"D\", \"H\", \"D\", \"D\", \"A\", \"H\", \"A\", \"A\", \"H\", \"H\", \"D\", \"H\", \"H\", \"H\", \"H\", \"D\", \"D\", \"A\", \"H\", \"D\", \"H\", \"H\", \"H\", \"H\", \"D\", \"H\", \"H\", \"A\", \"H\", \"D\", \"D\", \"A\", \"H\", \"A\", \"D\", \"H\", \"D\", \"D\", \"H\", \"D\", \"A\", \"D\", \"D\", \"D\", \"H\", \"A\", \"D\", \"A\", \"A\", \"D\", \"H\", \"H\", \"H\", \"H\", \"D\", \"D\", \"H\", \"D\", \"D\", \"H\", \"D\", \"D\", \"H\", \"A\", \"A\", \"H\", \"D\", \"A\", \"A\", \"H\", \"D\", \"D\", \"A\", \"A\", \"H\", \"H\", \"H\", \"H\", \"H\", \"D\", \"H\", \"D\", \"D\", \"H\", \"A\", \"H\", \"A\", \"D\", \"H\", \"D\", \"A\", \"H\", \"H\", \"A\", \"H\", \"H\", \"H\", \"D\", \"A\", \"H\", \"H\", \"A\", \"A\", \"H\", \"A\", \"H\", \"D\", \"H\", \"D\", \"H\", \"H\", \"A\", \"D\", \"A\", \"D\", \"D\", \"A\", \"H\", \"A\", \"H\", \"D\", \"H\", \"H\", \"H\", \"H\", \"H\", \"A\", \"D\", \"A\", \"D\", \"A\", \"A\", \"A\", \"H\", \"D\", \"A\", \"D\", \"A\", \"H\", \"H\", \"H\", \"A\", \"H\", \"H\", \"D\", \"D\", \"A\", \"D\", \"H\", \"A\", \"D\", \"H\", \"H\", \"H\", \"D\", \"D\", \"A\", \"H\", \"A\", \"D\", \"H\", \"H\", \"A\", \"H\", \"A\", \"A\", \"A\", \"H\", \"H\", \"D\", \"H\", \"H\", \"A\", \"H\", \"H\", \"H\", \"A\", \"H\", \"D\", \"H\", \"D\", \"H\", \"A\", \"D\", \"D\", \"H\", \"H\", \"A\", \"H\", \"H\", \"D\", \"A\", \"A\", \"H\", \"A\", \"H\", \"D\", \"H\", \"H\", \"H\", \"H\", \"H\", \"D\", \"H\", \"H\", \"H\", \"H\", \"D\", \"A\", \"H\", \"H\", \"H\", \"H\", \"H\", \"A\", \"H\", \"D\", \"A\", \"H\", \"H\", \"A\", \"H\", \"D\", \"D\", \"H\", \"D\", \"H\", \"H\", \"D\", \"D\", \"A\", \"H\", \"D\", \"H\", \"A\", \"A\", \"H\", \"H\", \"H\", \"H\", \"D\", \"A\", \"D\", \"H\", \"D\", \"H\", \"D\", \"D\", \"D\", \"H\", \"H\", \"H\", \"A\", \"H\", \"A\", \"D\", \"H\", \"H\", \"D\", \"H\", \"A\", \"H\", \"A\", \"H\", \"H\", \"H\", \"H\", \"A\", \"D\", \"D\", \"H\", \"H\", \"H\", \"H\", \"A\", \"H\", \"D\", \"H\", \"H\", \"H\", \"H\", \"D\", \"H\", \"H\", \"D\", \"D\", \"D\", \"D\", \"H\", \"H\", \"A\", \"A\", \"H\", \"H\", \"H\", \"H\", \"D\", \"H\", \"D\", \"H\", \"A\", \"H\", \"A\", \"D\", \"D\", \"A\", \"H\", \"H\", \"D\", \"D\", \"H\", \"A\", \"H\", \"A\", \"D\", \"D\", \"D\", \"A\", \"D\", \"H\", \"D\", \"D\", \"A\", \"H\", \"H\", \"H\", \"A\", \"D\", \"D\", \"A\", \"H\", \"H\", \"H\", \"H\", \"A\", \"A\", \"H\", \"H\", \"H\", \"H\", \"A\", \"H\", \"D\", \"D\", \"A\", \"A\", \"H\", \"H\", \"D\", \"A\", \"A\", \"H\", \"D\", \"A\", \"A\", \"D\", \"D\", \"H\", \"H\", \"D\", \"H\", \"H\", \"D\", \"H\", \"A\", \"A\", \"H\", \"H\", \"A\", \"D\", \"A\", \"D\", \"D\", \"H\", \"A\", \"H\", \"A\", \"D\", \"D\", \"H\", \"H\", \"D\", \"H\", \"D\", \"A\", \"H\", \"H\", \"A\", \"H\", \"D\", \"H\", \"D\", \"A\", \"D\", \"H\", \"H\", \"A\", \"D\", \"H\", \"A\", \"H\", \"A\", \"H\", \"H\", \"H\", \"D\", \"A\", \"A\", \"H\", \"H\", \"A\", \"D\", \"H\", \"H\", \"D\", \"A\", \"H\", \"H\", \"A\", \"A\", \"H\", \"H\", \"H\", \"H\", \"A\", \"D\", \"D\", \"H\", \"H\", \"D\", \"H\", \"D\", \"H\", \"H\", \"H\", \"D\", \"H\", \"D\", \"D\", \"H\", \"H\", \"H\", \"A\", \"H\", \"A\", \"H\", \"A\", \"D\", \"A\", \"H\", \"H\", \"A\", \"D\", \"H\", \"D\", \"D\", \"H\", \"H\", \"H\", \"D\", \"H\", \"H\", \"H\", \"A\", \"H\", \"H\", \"H\", \"H\", \"H\", \"A\", \"H\", \"H\", \"H\", \"A\", \"D\", \"A\", \"H\", \"A\", \"H\", \"D\", \"D\", \"D\", \"H\", \"H\", \"H\", \"A\", \"A\", \"H\", \"D\", \"H\", \"D\", \"D\", \"H\", \"D\", \"D\", \"A\", \"D\", \"H\", \"H\", \"H\", \"H\", \"A\", \"H\", \"H\", \"H\", \"H\", \"H\", \"H\", \"H\", \"H\", \"H\", \"H\", \"H\", \"D\", \"H\", \"H\", \"H\", \"H\", \"D\", \"D\", \"A\", \"H\", \"D\", \"D\", \"A\", \"D\", \"A\", \"D\", \"H\", \"A\", \"D\", \"H\", \"H\", \"H\", \"H\", \"H\", \"A\", \"H\", \"H\", \"H\", \"H\", \"D\", \"D\", \"H\", \"H\", \"H\", \"D\", \"D\", \"A\", \"H\", \"H\", \"H\", \"A\", \"H\", \"H\", \"H\", \"H\", \"H\", \"A\", \"D\", \"A\", \"H\", \"H\", \"H\", \"H\", \"H\", \"A\", \"H\", \"H\", \"D\", \"A\", \"A\", \"H\", \"D\", \"H\", \"H\", \"H\", \"H\", \"H\", \"H\", \"A\", \"H\", \"H\", \"H\", \"H\", \"A\", \"H\", \"D\", \"H\", \"H\", \"H\", \"H\", \"A\", \"A\", \"D\", \"A\", \"D\", \"H\", \"A\", \"D\", \"H\", \"H\", \"H\", \"D\", \"A\", \"A\", \"D\", \"H\", \"D\", \"H\", \"D\", \"D\", \"H\", \"H\", \"H\", \"H\", \"A\", \"H\", \"D\", \"A\", \"H\", \"A\", \"H\", \"H\", \"H\", \"A\", \"H\", \"A\", \"A\", \"H\", \"H\", \"D\", \"A\", \"H\", \"H\", \"H\", \"D\", \"A\", \"H\", \"A\", \"A\", \"H\", \"H\", \"A\", \"D\", \"A\", \"H\", \"D\", \"A\", \"A\", \"A\", \"D\", \"H\", \"A\", \"A\", \"A\", \"H\", \"A\", \"H\", \"H\", \"D\", \"A\", \"D\", \"H\", \"H\", \"H\", \"D\", \"H\", \"H\", \"D\", \"H\", \"H\", \"D\", \"A\", \"H\", \"H\", \"H\", \"A\", \"D\", \"H\", \"H\", \"H\", \"D\", \"D\", \"H\", \"A\", \"H\", \"D\", \"H\", \"D\", \"H\", \"A\", \"H\", \"H\", \"D\", \"D\", \"H\", \"H\", \"H\", \"D\", \"H\", \"D\", \"H\", \"H\", \"D\", \"H\", \"H\", \"D\", \"H\", \"A\", \"H\", \"H\", \"H\", \"D\", \"D\", \"H\", \"A\", \"H\", \"A\", \"D\", \"H\", \"A\", \"D\", \"D\", \"H\", \"A\", \"H\", \"H\", \"A\", \"H\", \"A\", \"H\", \"H\", \"H\", \"D\", \"H\", \"A\", \"H\", \"D\", \"H\", \"A\", \"H\", \"H\", \"H\", \"D\", \"A\", \"D\", \"A\", \"H\", \"A\", \"H\", \"A\", \"D\", \"D\", \"H\", \"H\", \"D\", \"A\", \"H\", \"H\", \"H\", \"A\", \"D\", \"H\", \"D\", \"H\", \"A\", \"D\", \"H\", \"H\", \"H\", \"A\", \"H\", \"H\", \"H\", \"H\", \"H\", \"H\", \"H\", \"H\", \"H\", \"H\", \"A\", \"H\", \"H\", \"H\", \"D\", \"H\", \"H\", \"D\", \"D\", \"A\", \"D\", \"A\", \"A\", \"A\", \"H\", \"D\", \"H\", \"A\", \"H\", \"H\", \"A\", \"A\", \"H\", \"H\", \"H\", \"H\", \"A\", \"H\", \"A\", \"H\", \"A\", \"A\", \"H\", \"D\", \"H\", \"H\", \"H\", \"H\", \"D\", \"A\", \"H\", \"H\", \"D\", \"D\", \"A\", \"D\", \"H\", \"H\", \"H\", \"D\", \"A\", \"D\", \"H\", \"A\", \"H\", \"H\", \"H\", \"D\", \"A\", \"H\", \"D\", \"D\", \"H\", \"D\", \"H\", \"H\", \"D\", \"D\", \"H\", \"D\", \"H\", \"D\", \"D\", \"H\", \"H\", \"H\", \"D\", \"H\", \"H\", \"A\", \"H\", \"H\", \"A\", \"H\", \"D\", \"A\", \"A\", \"H\", \"A\", \"D\", \"H\", \"D\", \"H\", \"H\", \"H\", \"H\", \"H\", \"H\", \"D\", \"H\", \"H\", \"H\", \"H\", \"H\", \"A\", \"H\", \"H\", \"D\", \"A\", \"A\", \"H\", \"A\", \"H\", \"A\", \"H\", \"D\", \"A\", \"A\", \"H\", \"H\", \"D\", \"H\", \"H\", \"A\", \"H\", \"A\", \"D\", \"D\", \"H\", \"A\", \"A\", \"H\", \"D\", \"D\", \"H\", \"H\", \"A\", \"D\", \"D\", \"D\", \"H\", \"H\", \"H\", \"D\", \"A\", \"H\", \"H\", \"H\", \"A\", \"D\", \"A\", \"H\", \"H\", \"H\", \"A\", \"A\", \"D\", \"A\", \"A\", \"D\", \"H\", \"H\", \"D\", \"A\", \"D\", \"H\", \"H\", \"H\", \"H\", \"H\", \"H\", \"H\", \"A\", \"H\", \"H\", \"H\", \"A\", \"H\", \"A\", \"A\", \"D\", \"D\", \"H\", \"H\", \"A\", \"H\", \"H\", \"D\", \"H\", \"D\", \"A\", \"D\", \"H\", \"H\", \"H\", \"H\", \"H\", \"H\", \"A\", \"D\", \"H\", \"H\", \"D\", \"H\", \"A\", \"H\", \"H\", \"H\", \"A\", \"A\", \"D\", \"A\", \"H\", \"H\", \"A\", \"D\", \"H\", \"A\", \"D\", \"H\", \"A\", \"D\", \"A\", \"H\", \"H\", \"D\", \"H\", \"D\", \"A\", \"D\", \"H\", \"H\", \"A\", \"H\", \"H\", \"H\", \"H\", \"A\", \"H\", \"A\", \"H\", \"A\", \"D\", \"H\", \"H\", \"A\", \"D\", \"H\", \"A\", \"H\", \"H\", \"D\", \"H\", \"D\", \"D\", \"D\", \"H\", \"D\", \"H\", \"A\", \"D\", \"H\", \"H\", \"D\", \"H\", \"D\", \"H\", \"H\", \"H\", \"H\", \"A\", \"A\", \"H\", \"H\", \"H\", \"D\", \"D\", \"H\", \"A\", \"A\", \"H\", \"A\", \"A\", \"H\", \"H\", \"H\", \"H\", \"H\", \"A\", \"H\", \"A\", \"D\", \"D\", \"D\", \"H\", \"D\", \"D\", \"D\", \"H\", \"H\", \"H\", \"A\", \"H\", \"D\", \"H\", \"D\", \"D\", \"D\", \"D\", \"H\", \"H\", \"H\", \"H\", \"A\", \"D\", \"H\", \"D\", \"A\", \"A\", \"H\", \"H\", \"D\", \"H\", \"A\", \"H\", \"H\", \"A\", \"A\", \"D\", \"A\", \"H\", \"A\", \"H\", \"H\", \"H\", \"D\", \"H\", \"H\", \"H\", \"A\", \"H\", \"D\", \"H\", \"A\", \"H\", \"H\", \"D\", \"A\", \"D\", \"H\", \"A\", \"H\", \"H\", \"A\", \"D\", \"H\", \"H\", \"H\", \"H\", \"H\", \"D\", \"A\", \"H\", \"H\", \"H\", \"H\", \"H\", \"H\", \"A\", \"H\", \"H\", \"D\", \"H\", \"H\", \"H\", \"A\", \"D\", \"A\", \"H\", \"A\", \"D\", \"A\", \"D\", \"D\", \"H\", \"H\", \"A\", \"H\", \"A\", \"A\", \"H\", \"D\", \"D\", \"H\", \"H\", \"H\", \"H\", \"H\", \"H\", \"A\", \"H\", \"H\", \"A\", \"H\", \"D\", \"H\", \"D\", \"A\", \"H\", \"H\", \"H\", \"H\", \"D\", \"A\", \"A\", \"D\", \"H\", \"H\", \"H\", \"H\", \"H\", \"D\", \"A\", \"D\", \"D\", \"H\", \"A\", \"D\", \"D\", \"D\", \"H\", \"A\", \"H\", \"H\", \"D\", \"A\", \"A\", \"D\", \"H\", \"H\", \"A\", \"H\", \"A\", \"H\", \"H\", \"H\", \"H\", \"H\", \"D\", \"A\", \"A\", \"H\", \"D\", \"H\", \"D\", \"H\", \"H\", \"D\", \"H\", \"D\", \"A\", \"H\", \"D\", \"H\", \"H\", \"H\", \"H\", \"D\", \"A\", \"D\", \"H\", \"D\", \"H\", \"H\", \"H\", \"H\", \"D\", \"H\", \"D\", \"A\", \"A\", \"H\", \"A\", \"H\", \"H\", \"H\", \"D\", \"D\", \"A\", \"H\", \"A\", \"H\", \"H\", \"H\", \"A\", \"A\", \"A\", \"D\", \"D\", \"D\", \"H\", \"H\", \"H\", \"H\", \"H\", \"H\", \"D\", \"H\", \"H\", \"H\", \"H\", \"H\", \"A\", \"H\", \"A\", \"H\", \"H\", \"H\", \"A\", \"H\", \"H\", \"D\", \"D\", \"H\", \"A\", \"D\", \"H\", \"H\", \"D\", \"D\", \"H\", \"A\", \"A\", \"H\", \"A\", \"H\", \"H\", \"D\", \"D\", \"A\", \"A\", \"H\", \"A\", \"H\", \"H\", \"H\", \"H\", \"H\", \"H\", \"A\", \"H\", \"H\", \"H\", \"H\", \"H\", \"A\", \"H\", \"D\", \"H\", \"A\", \"H\", \"H\", \"A\", \"H\", \"H\", \"A\", \"D\", \"H\", \"D\", \"H\", \"H\", \"A\", \"A\", \"H\", \"H\", \"D\", \"H\", \"A\", \"H\", \"D\", \"H\", \"A\", \"H\", \"A\", \"H\", \"H\", \"D\", \"A\", \"H\", \"H\", \"H\", \"D\", \"H\", \"A\", \"A\", \"H\", \"D\", \"D\", \"H\", \"A\", \"D\", \"H\", \"A\", \"H\", \"H\", \"D\", \"D\", \"H\", \"D\", \"D\", \"D\", \"D\", \"H\", \"H\", \"D\", \"H\", \"A\", \"H\", \"H\", \"H\", \"H\", \"H\", \"H\", \"A\", \"D\", \"A\", \"H\", \"A\", \"D\", \"A\", \"H\", \"D\", \"D\", \"D\", \"H\", \"D\", \"H\", \"H\", \"H\", \"H\", \"H\", \"D\", \"D\", \"H\", \"D\", \"D\", \"D\", \"A\", \"H\", \"H\", \"H\", \"H\", \"H\", \"A\", \"D\", 1, \"H\", \"D\", \"A\", \"H\", \"H\", \"H\", \"H\", \"A\", \"D\", \"D\", \"H\", \"D\", \"H\", \"H\", \"H\", \"H\", \"H\", \"H\", \"H\", \"A\", \"H\", \"H\", \"A\", \"A\", \"A\", \"H\", \"D\", \"H\", \"H\", \"H\", \"A\", \"D\", \"A\", \"D\", \"A\", \"H\", \"H\", \"H\", \"H\", \"H\", \"H\", \"H\", \"D\", \"H\", \"D\", \"H\", \"A\", \"H\", \"D\", \"H\", \"H\", \"H\", \"H\", \"A\", \"H\", \"H\", \"A\", \"H\", \"H\", \"H\", \"D\", \"D\", \"H\", \"H\", \"H\", \"H\", \"A\", \"H\", \"H\", \"A\", \"D\", \"D\", \"H\", \"H\", \"H\", \"H\", \"D\", \"A\", \"A\", \"H\", \"D\", \"D\", \"A\", \"A\", \"D\", \"A\", \"A\", \"D\", \"A\", \"H\", \"H\", \"D\", \"H\", \"A\", \"H\", \"H\", \"H\", \"H\", \"A\", \"H\", \"H\", \"H\", \"A\", \"A\", \"D\", \"A\", \"A\", \"A\", \"H\", \"D\", \"H\", \"H\", \"H\", \"H\", \"D\", \"D\", \"D\", \"D\", \"A\", \"A\", \"H\", \"D\", \"D\", \"H\", \"A\", \"D\", \"H\", \"A\", \"A\", \"A\", \"A\", \"A\", \"A\", \"A\", \"A\", \"D\", \"H\", \"A\", \"D\", \"H\", \"A\", \"H\", \"D\", \"H\", \"D\", \"D\", \"A\", \"H\", \"H\", \"A\", \"D\", \"H\", \"A\", \"D\", \"H\", \"D\", \"H\", \"D\", \"A\", \"H\", \"H\", \"H\", \"A\", \"A\", \"D\", \"A\", \"A\", \"D\", \"A\", \"H\", \"A\", \"A\", \"D\", \"A\", \"D\", \"D\", \"A\", \"D\", \"D\", \"A\", \"H\", \"A\", \"A\", \"H\", \"H\", \"A\", \"A\", \"H\", \"H\", \"A\", \"H\", \"H\", \"D\", \"H\", \"A\", \"D\", \"D\", \"D\", \"H\", \"A\", \"H\", \"H\", \"D\", \"D\", \"H\", \"H\", \"D\", \"A\", \"H\", \"D\", \"D\", \"H\", \"H\", \"H\", \"D\", \"A\", \"H\", \"A\", \"A\", \"A\", \"A\", \"H\", \"H\", \"A\", \"H\", \"D\", \"A\", \"H\", \"D\", \"H\", \"D\", \"D\", \"H\", \"A\", \"D\", \"H\", \"A\", \"D\", \"H\", \"A\", \"D\", \"H\", \"H\", \"H\", \"A\", \"A\", \"H\", \"H\", \"D\", \"H\", \"D\", \"A\", \"H\", \"A\", \"A\", \"A\", \"H\", \"D\", \"D\", \"D\", \"A\", \"A\", \"A\", \"D\", \"H\", \"H\", \"A\", \"H\", \"H\", \"D\", \"H\", \"H\", \"H\", \"A\", \"A\", \"D\", \"D\", \"A\", \"D\", \"H\", \"H\", \"A\", \"A\", \"H\", \"D\", \"H\", \"A\", \"D\", \"A\", \"H\", \"A\", \"D\", \"D\", \"H\", \"H\", \"A\", \"H\", \"D\", \"D\", \"H\", \"H\", \"A\", \"A\", \"H\", \"H\", \"H\", \"A\", \"H\", \"H\", \"D\", \"D\", \"D\", \"D\", \"H\", \"A\", \"D\", \"D\", \"D\", \"H\", \"A\", \"A\", \"H\", \"H\", \"H\", \"H\", \"H\", \"D\", \"D\", \"A\", \"A\", \"A\", \"A\", \"H\", \"A\", \"H\", \"H\", \"D\", \"D\", \"A\", \"H\", \"H\", \"D\", \"H\", \"D\", \"D\", \"D\", \"H\", \"H\", \"H\", \"D\", \"H\", \"H\", \"D\", \"A\", \"H\", \"H\", \"H\", \"H\", \"D\", \"H\", \"D\", \"H\", \"D\", \"H\", \"H\", \"H\", \"H\", \"H\", \"A\", \"H\", \"D\", \"A\", \"A\", \"D\", \"A\", \"A\", \"A\", \"H\", \"D\", \"H\", \"H\", \"D\", \"H\", \"D\", \"D\", \"H\", \"H\", \"A\", \"A\", \"D\", \"H\", \"H\", \"H\", \"H\", \"H\", \"H\", \"D\", \"H\", \"H\", \"H\", \"A\", \"H\", \"D\", \"D\", \"H\", \"H\", \"D\", \"D\", \"H\", \"H\", \"D\", \"A\", \"D\", \"D\", \"A\", \"D\", \"H\", \"D\", \"H\", \"D\", \"A\", \"H\", \"H\", \"A\", \"H\", \"H\", \"D\", \"D\", \"H\", \"A\", \"D\", \"H\", \"H\", \"A\", \"H\", \"H\", \"D\", \"H\", \"D\", \"H\", \"H\", \"H\", \"D\", \"H\", \"D\", \"H\", \"H\", \"H\", \"A\", \"A\", \"D\", \"H\", \"D\", \"H\", \"A\", \"A\", \"A\", \"H\", \"H\", \"A\", \"H\", \"H\", \"H\", \"D\", \"H\", \"H\", \"H\", \"D\", \"D\", \"A\", \"H\", \"H\", \"A\", \"H\", \"H\", \"A\", \"H\", \"D\", \"D\", \"H\", \"D\", \"H\", \"D\", \"A\", \"A\", \"H\", \"A\", \"A\", \"H\", \"H\", \"D\", \"H\", \"D\", \"D\", \"H\", \"H\", \"A\", \"H\", \"D\", \"A\", \"D\", \"D\", \"H\", \"D\", \"H\", \"H\", \"H\", \"H\", \"H\", \"H\", \"A\", \"H\", \"D\", \"H\", \"D\", \"D\", \"D\", \"H\", \"H\", \"H\", \"H\", \"H\", \"A\", \"H\", \"D\", \"H\", \"H\", \"H\", \"H\", \"H\", \"D\", \"H\", \"H\", \"H\", \"H\", \"H\", \"H\", \"A\", \"H\", \"A\", \"H\", \"H\", \"D\", \"A\", \"D\", \"D\", \"H\", \"D\", \"D\", \"A\", \"H\", \"D\", \"D\", \"D\", \"A\", \"D\", \"D\", \"H\", \"H\", \"D\", \"H\", \"H\", \"A\", \"H\", \"H\", \"A\", \"H\", \"A\", \"H\", \"H\", \"A\", \"D\", \"A\", \"D\", \"H\", \"D\", \"A\", \"D\", \"H\", \"A\", \"H\", \"D\", \"H\", \"D\", \"H\", \"H\", \"H\", \"H\", \"H\", \"H\", \"D\", \"D\", \"H\", \"H\", \"H\", \"A\", \"H\", \"H\", \"A\", \"D\", \"A\", \"H\", \"D\", \"H\", \"A\", \"D\", \"H\", \"D\", \"H\", \"H\", \"D\", \"H\", \"H\", \"D\", \"D\", \"H\", \"D\", \"H\", \"H\", \"D\", \"H\", \"H\", \"H\", \"A\", \"H\", \"H\", \"H\", \"H\", \"H\", \"D\", \"H\", \"H\", \"D\", \"D\", \"D\", \"H\", \"H\", \"D\", \"H\", \"H\", \"D\", \"H\", \"A\", \"A\", \"H\", \"A\", \"H\", \"D\", \"A\", \"D\", \"D\", \"H\", \"H\", \"D\", \"H\", \"H\", \"H\", \"D\", \"H\", \"A\", \"A\", \"H\", \"H\", \"A\", \"D\", \"H\", \"D\", \"H\", \"H\", \"H\", \"A\", \"H\", \"H\", \"H\", \"D\", \"H\", \"D\", \"D\", \"A\", \"D\", \"H\", \"H\", \"H\", \"D\", \"H\", \"A\", \"D\", \"A\", \"A\", \"D\", \"A\", \"H\", \"H\", \"H\", \"D\", \"H\", \"H\", \"H\", \"A\", \"A\", \"H\", \"A\", \"H\", \"D\", \"D\", \"H\", \"H\", \"H\", \"A\", \"D\", \"H\", \"H\", \"D\", \"D\", \"H\", \"D\", \"D\", \"A\", \"D\", \"H\", \"A\", \"H\", \"H\", \"D\", \"A\", \"H\", \"D\", \"H\", \"H\", \"A\", \"H\", \"H\", \"H\", \"D\", \"A\", \"H\", \"H\", \"D\", \"A\", \"D\", \"H\", \"H\", \"H\", \"H\", \"H\", \"H\", \"H\", \"H\", \"H\", \"D\", \"A\", \"A\", \"D\", \"H\", \"D\", \"H\", \"H\", \"D\", \"H\", \"A\", \"D\", \"D\", \"H\", \"H\", \"H\", \"H\", \"D\", \"H\", \"H\", \"H\", \"H\", \"H\", \"A\", \"H\", \"H\", \"H\", \"A\", \"H\", \"H\", \"D\", \"H\", \"D\", \"H\", \"H\", \"A\", \"A\", \"H\", \"H\", \"H\", \"D\", \"A\", \"D\", \"H\", \"H\", \"D\", \"D\", \"H\", \"A\", \"A\", \"D\", \"H\", \"H\", \"A\", \"H\", \"H\", \"H\", \"D\", \"A\", \"H\", \"H\", \"H\", \"D\", \"A\", \"A\", \"H\", \"H\", \"H\", \"D\", \"A\", \"H\", \"H\", \"D\", \"H\", \"H\", \"A\", \"D\", \"A\", \"H\", \"H\", \"H\", \"H\", \"H\", \"A\", \"D\", \"H\", \"A\", \"H\", \"H\", \"H\", \"D\", \"H\", \"D\", \"D\", \"A\", \"D\", \"H\", \"H\", \"A\", \"H\", \"A\", \"H\", \"H\", \"H\", \"D\", \"D\", \"H\", \"H\", \"H\", \"H\", \"A\", \"D\", \"H\", \"H\", \"H\", \"D\", \"A\", \"D\", \"H\", \"D\", \"H\", \"A\", \"D\", \"A\", \"D\", \"D\", \"D\", \"H\", \"D\", \"A\", \"A\", \"H\", \"D\", \"H\", \"H\", \"A\", \"D\", \"D\", \"H\", \"H\", \"H\", \"A\", \"H\", \"H\", \"D\", \"D\", \"D\", \"H\", \"H\", \"H\", \"H\", \"H\", \"D\", \"D\", \"H\", \"D\", \"A\", \"A\", \"H\", \"A\", \"H\", \"A\", \"D\", \"D\", \"H\", \"A\", \"H\", \"H\", \"A\", \"A\", \"H\", \"H\", \"D\", \"H\", \"D\", \"A\", \"D\", \"D\", \"D\", \"H\", \"H\", \"A\", \"H\", \"H\", \"H\", \"H\", \"H\", \"A\", \"D\", \"A\", \"A\", \"A\", \"H\", \"A\", \"A\", \"H\", \"D\", \"H\", \"H\", \"H\", \"A\", \"H\", \"D\", \"A\", \"A\", \"D\", \"H\", \"H\", \"D\", \"A\", \"A\", \"H\", \"A\", \"H\", \"H\", \"A\", \"D\", \"H\", \"H\", \"D\", \"H\", \"H\", \"A\", \"H\", \"D\", \"H\", \"H\", \"D\", \"H\", \"H\", \"D\", \"H\", \"D\", \"H\", \"A\", \"H\", \"H\", \"A\", \"A\", \"H\", \"A\", \"A\", \"D\", \"D\", \"A\", \"A\", \"A\", \"D\", \"H\", \"H\", \"H\", \"H\", \"D\", \"H\", \"D\", \"H\", \"D\", \"D\", \"H\", \"H\", \"H\", \"H\", \"A\", \"H\", \"D\", \"H\", \"H\", \"A\", \"D\", \"D\", \"A\", \"A\", \"H\", \"H\", \"D\", \"H\", \"A\", \"H\", \"A\", \"H\", \"A\", \"H\", \"A\", \"H\", \"H\", \"D\", \"D\", \"A\", \"H\", \"D\", \"D\", \"A\", \"D\", \"D\", \"H\", \"H\", \"H\", \"A\", \"H\", \"A\", \"A\", \"H\", \"H\", \"H\", \"A\", \"H\", \"D\", \"A\", \"D\", \"D\", \"D\", \"H\", \"A\", \"H\", \"H\", \"H\", \"D\", \"H\", \"H\", \"H\", \"H\", \"A\", \"D\", \"D\", \"A\", \"H\", \"A\", \"A\", \"H\", \"A\", \"D\", \"D\", \"H\", \"A\", \"H\", \"A\", \"A\", \"H\", \"H\", \"D\", \"D\", \"D\", \"D\", \"A\", \"H\", \"H\", \"D\", \"H\", \"D\", \"D\", \"H\", \"A\", \"H\", \"A\", \"H\", \"A\", \"D\", \"D\", \"A\", \"A\", \"A\", \"D\", \"H\", \"H\", \"H\", \"H\", \"H\", \"H\", \"A\", \"A\", \"D\", \"D\", \"A\", \"A\", \"H\", \"A\", \"H\", \"H\", \"H\", \"H\", \"H\", \"A\", \"H\", \"D\", \"H\", \"D\", \"H\", \"H\", \"H\", \"D\", \"D\", \"A\", \"A\", \"A\", \"H\", \"H\", \"H\", \"H\", \"D\", \"A\", \"A\", \"H\", \"A\", \"D\", \"H\", \"H\", \"H\", \"D\", \"H\", \"H\", \"D\", \"D\", \"H\", \"H\", \"H\", \"D\", \"A\", \"D\", \"H\", \"H\", \"H\", \"H\", \"D\", \"D\", \"H\", \"H\", \"D\", \"A\", \"A\", \"H\", \"H\", \"H\", \"A\", \"A\", \"D\", \"A\", \"H\", \"H\", \"D\", \"A\", \"H\", \"D\", \"A\", \"H\", \"H\", \"D\", \"A\", \"D\", \"H\", \"H\", \"H\", \"H\", \"A\", \"A\", \"H\", \"D\", \"A\", \"D\", \"A\", \"D\", \"D\", \"D\", \"A\", \"H\", \"H\", \"D\", \"A\", \"A\", \"D\", \"H\", \"H\", \"D\", \"A\", \"H\", \"D\", \"H\", \"D\", \"D\", \"A\", \"H\", \"A\", \"A\", \"H\", \"A\", \"H\", \"D\", \"H\", \"D\", \"H\", \"A\", \"H\", \"H\", \"D\", \"A\", \"H\", \"H\", \"H\", \"A\", \"H\", \"D\", \"D\", \"H\", \"H\", \"H\", \"D\", \"H\", \"D\", \"D\", \"D\", \"D\", \"D\", \"H\", \"A\", \"D\", \"D\", \"H\", \"D\", \"D\", \"D\", \"H\", \"A\", \"D\", \"A\", \"H\", \"D\", \"H\", \"H\", \"H\", \"A\", \"H\", \"H\", \"H\", \"D\", \"A\", \"A\", \"D\", \"A\", \"H\", \"H\", \"H\", \"H\", \"A\", \"H\", \"H\", \"H\", \"A\", \"H\", \"A\", \"A\", \"D\", \"A\", \"D\", \"D\", \"D\", \"A\", \"D\", \"D\", \"A\", \"H\", \"H\", \"H\", \"H\", \"D\", \"A\", \"H\", \"H\", \"D\", \"A\", \"H\", \"A\", \"D\", \"D\", \"H\", \"H\", \"A\", \"A\", \"H\", \"H\", \"D\", \"H\", \"H\", \"H\", \"H\", \"D\", \"D\", \"A\", \"H\", \"H\", \"D\", \"D\", \"A\", \"H\", \"H\", \"A\", \"A\", \"A\", \"A\", \"H\", \"D\", \"H\", \"A\", \"A\", \"A\", \"D\", \"H\", \"H\", \"H\", \"H\", \"D\", \"D\", \"A\", \"A\", \"D\", \"A\", \"D\", \"H\", \"A\", \"D\", \"H\", \"H\", \"A\", \"D\", \"H\", \"A\", \"D\", \"D\", \"A\", \"A\", \"D\", \"A\", \"H\", \"D\", \"H\", \"H\", \"D\", \"A\", \"H\", \"A\", \"H\", \"H\", \"H\", \"A\", \"D\", \"H\", \"H\", \"H\", \"D\", \"H\", \"H\", \"D\", \"A\", \"H\", \"A\", \"H\", \"H\", \"A\", \"H\", \"H\", \"D\", \"H\", \"A\", \"A\", \"A\", \"H\", \"H\", \"D\", \"H\", \"A\", \"H\", \"A\", \"H\", \"H\", \"A\", \"A\", \"D\", \"D\", \"A\", \"D\", \"A\", \"A\", \"D\", \"H\", \"H\", \"D\", \"H\", \"D\", \"H\", \"A\", \"D\", \"H\", \"H\", \"A\", \"H\", \"H\", \"A\", \"A\", \"H\", \"D\", \"D\", \"H\", \"A\", \"H\", \"H\", \"A\", \"H\", \"D\", \"H\", \"H\", \"H\", \"H\", \"H\", \"A\", \"H\", \"H\", \"A\", \"H\", \"D\", \"H\", \"A\", \"H\", \"A\", \"D\", \"D\", \"H\", \"H\", \"H\", \"A\", \"D\", \"D\", \"H\", \"A\", \"H\", \"H\", \"H\", \"D\", \"H\", \"A\", \"D\", \"D\", \"D\", \"A\", \"A\", \"H\", \"D\", \"D\", \"D\", \"H\", \"D\", \"H\", \"H\", \"A\", \"H\", \"H\", \"A\", \"A\", \"D\", \"H\", \"H\", \"D\", \"A\", \"A\", \"D\", \"H\", \"A\", \"H\", \"D\", \"D\", \"D\", \"H\", \"H\", \"H\", \"H\", \"H\", \"H\", \"H\", \"H\", \"D\", \"H\", \"H\", \"D\", \"H\", \"D\", \"A\", \"H\", \"H\", \"H\", \"A\", \"A\", \"D\", \"H\", \"D\", \"H\", \"H\", \"A\", \"H\", \"A\", \"H\", \"A\", \"D\", \"D\", \"H\", \"H\", \"A\", \"A\", \"D\", \"D\", \"H\", \"A\", \"D\", \"A\", \"A\", \"D\", \"A\", \"D\", \"H\", \"H\", \"A\", \"H\", \"D\", \"D\", \"H\", \"D\", \"H\", \"H\", \"D\"]}],\n",
              "                        {\"hovermode\": \"closest\", \"template\": {\"data\": {\"bar\": [{\"error_x\": {\"color\": \"#2a3f5f\"}, \"error_y\": {\"color\": \"#2a3f5f\"}, \"marker\": {\"line\": {\"color\": \"#E5ECF6\", \"width\": 0.5}}, \"type\": \"bar\"}], \"barpolar\": [{\"marker\": {\"line\": {\"color\": \"#E5ECF6\", \"width\": 0.5}}, \"type\": \"barpolar\"}], \"carpet\": [{\"aaxis\": {\"endlinecolor\": \"#2a3f5f\", \"gridcolor\": \"white\", \"linecolor\": \"white\", \"minorgridcolor\": \"white\", \"startlinecolor\": \"#2a3f5f\"}, \"baxis\": {\"endlinecolor\": \"#2a3f5f\", \"gridcolor\": \"white\", \"linecolor\": \"white\", \"minorgridcolor\": \"white\", \"startlinecolor\": \"#2a3f5f\"}, \"type\": \"carpet\"}], \"choropleth\": [{\"colorbar\": {\"outlinewidth\": 0, \"ticks\": \"\"}, \"type\": \"choropleth\"}], \"contour\": [{\"colorbar\": {\"outlinewidth\": 0, \"ticks\": \"\"}, \"colorscale\": [[0.0, \"#0d0887\"], [0.1111111111111111, \"#46039f\"], [0.2222222222222222, \"#7201a8\"], [0.3333333333333333, \"#9c179e\"], [0.4444444444444444, \"#bd3786\"], [0.5555555555555556, \"#d8576b\"], [0.6666666666666666, \"#ed7953\"], [0.7777777777777778, \"#fb9f3a\"], [0.8888888888888888, \"#fdca26\"], [1.0, \"#f0f921\"]], \"type\": \"contour\"}], \"contourcarpet\": [{\"colorbar\": {\"outlinewidth\": 0, \"ticks\": \"\"}, \"type\": \"contourcarpet\"}], \"heatmap\": [{\"colorbar\": {\"outlinewidth\": 0, \"ticks\": \"\"}, \"colorscale\": [[0.0, \"#0d0887\"], [0.1111111111111111, \"#46039f\"], [0.2222222222222222, \"#7201a8\"], [0.3333333333333333, \"#9c179e\"], [0.4444444444444444, \"#bd3786\"], [0.5555555555555556, \"#d8576b\"], [0.6666666666666666, \"#ed7953\"], [0.7777777777777778, \"#fb9f3a\"], [0.8888888888888888, \"#fdca26\"], [1.0, \"#f0f921\"]], \"type\": \"heatmap\"}], \"heatmapgl\": [{\"colorbar\": {\"outlinewidth\": 0, \"ticks\": \"\"}, \"colorscale\": [[0.0, \"#0d0887\"], [0.1111111111111111, \"#46039f\"], [0.2222222222222222, \"#7201a8\"], [0.3333333333333333, \"#9c179e\"], [0.4444444444444444, \"#bd3786\"], [0.5555555555555556, \"#d8576b\"], [0.6666666666666666, \"#ed7953\"], [0.7777777777777778, \"#fb9f3a\"], [0.8888888888888888, \"#fdca26\"], [1.0, \"#f0f921\"]], \"type\": \"heatmapgl\"}], \"histogram\": [{\"marker\": {\"colorbar\": {\"outlinewidth\": 0, \"ticks\": \"\"}}, \"type\": \"histogram\"}], \"histogram2d\": [{\"colorbar\": {\"outlinewidth\": 0, \"ticks\": \"\"}, \"colorscale\": [[0.0, \"#0d0887\"], [0.1111111111111111, \"#46039f\"], [0.2222222222222222, \"#7201a8\"], [0.3333333333333333, \"#9c179e\"], [0.4444444444444444, \"#bd3786\"], [0.5555555555555556, \"#d8576b\"], [0.6666666666666666, \"#ed7953\"], [0.7777777777777778, \"#fb9f3a\"], [0.8888888888888888, \"#fdca26\"], [1.0, \"#f0f921\"]], \"type\": \"histogram2d\"}], \"histogram2dcontour\": [{\"colorbar\": {\"outlinewidth\": 0, \"ticks\": \"\"}, \"colorscale\": [[0.0, \"#0d0887\"], [0.1111111111111111, \"#46039f\"], [0.2222222222222222, \"#7201a8\"], [0.3333333333333333, \"#9c179e\"], [0.4444444444444444, \"#bd3786\"], [0.5555555555555556, \"#d8576b\"], [0.6666666666666666, \"#ed7953\"], [0.7777777777777778, \"#fb9f3a\"], [0.8888888888888888, \"#fdca26\"], [1.0, \"#f0f921\"]], \"type\": \"histogram2dcontour\"}], \"mesh3d\": [{\"colorbar\": {\"outlinewidth\": 0, \"ticks\": \"\"}, \"type\": \"mesh3d\"}], \"parcoords\": [{\"line\": {\"colorbar\": {\"outlinewidth\": 0, \"ticks\": \"\"}}, \"type\": \"parcoords\"}], \"pie\": [{\"automargin\": true, \"type\": \"pie\"}], \"scatter\": [{\"marker\": {\"colorbar\": {\"outlinewidth\": 0, \"ticks\": \"\"}}, \"type\": \"scatter\"}], \"scatter3d\": [{\"line\": {\"colorbar\": {\"outlinewidth\": 0, \"ticks\": \"\"}}, \"marker\": {\"colorbar\": {\"outlinewidth\": 0, \"ticks\": \"\"}}, \"type\": \"scatter3d\"}], \"scattercarpet\": [{\"marker\": {\"colorbar\": {\"outlinewidth\": 0, \"ticks\": \"\"}}, \"type\": \"scattercarpet\"}], \"scattergeo\": [{\"marker\": {\"colorbar\": {\"outlinewidth\": 0, \"ticks\": \"\"}}, \"type\": \"scattergeo\"}], \"scattergl\": [{\"marker\": {\"colorbar\": {\"outlinewidth\": 0, \"ticks\": \"\"}}, \"type\": \"scattergl\"}], \"scattermapbox\": [{\"marker\": {\"colorbar\": {\"outlinewidth\": 0, \"ticks\": \"\"}}, \"type\": \"scattermapbox\"}], \"scatterpolar\": [{\"marker\": {\"colorbar\": {\"outlinewidth\": 0, \"ticks\": \"\"}}, \"type\": \"scatterpolar\"}], \"scatterpolargl\": [{\"marker\": {\"colorbar\": {\"outlinewidth\": 0, \"ticks\": \"\"}}, \"type\": \"scatterpolargl\"}], \"scatterternary\": [{\"marker\": {\"colorbar\": {\"outlinewidth\": 0, \"ticks\": \"\"}}, \"type\": \"scatterternary\"}], \"surface\": [{\"colorbar\": {\"outlinewidth\": 0, \"ticks\": \"\"}, \"colorscale\": [[0.0, \"#0d0887\"], [0.1111111111111111, \"#46039f\"], [0.2222222222222222, \"#7201a8\"], [0.3333333333333333, \"#9c179e\"], [0.4444444444444444, \"#bd3786\"], [0.5555555555555556, \"#d8576b\"], [0.6666666666666666, \"#ed7953\"], [0.7777777777777778, \"#fb9f3a\"], [0.8888888888888888, \"#fdca26\"], [1.0, \"#f0f921\"]], \"type\": \"surface\"}], \"table\": [{\"cells\": {\"fill\": {\"color\": \"#EBF0F8\"}, \"line\": {\"color\": \"white\"}}, \"header\": {\"fill\": {\"color\": \"#C8D4E3\"}, \"line\": {\"color\": \"white\"}}, \"type\": \"table\"}]}, \"layout\": {\"annotationdefaults\": {\"arrowcolor\": \"#2a3f5f\", \"arrowhead\": 0, \"arrowwidth\": 1}, \"coloraxis\": {\"colorbar\": {\"outlinewidth\": 0, \"ticks\": \"\"}}, \"colorscale\": {\"diverging\": [[0, \"#8e0152\"], [0.1, \"#c51b7d\"], [0.2, \"#de77ae\"], [0.3, \"#f1b6da\"], [0.4, \"#fde0ef\"], [0.5, \"#f7f7f7\"], [0.6, \"#e6f5d0\"], [0.7, \"#b8e186\"], [0.8, \"#7fbc41\"], [0.9, \"#4d9221\"], [1, \"#276419\"]], \"sequential\": [[0.0, \"#0d0887\"], [0.1111111111111111, \"#46039f\"], [0.2222222222222222, \"#7201a8\"], [0.3333333333333333, \"#9c179e\"], [0.4444444444444444, \"#bd3786\"], [0.5555555555555556, \"#d8576b\"], [0.6666666666666666, \"#ed7953\"], [0.7777777777777778, \"#fb9f3a\"], [0.8888888888888888, \"#fdca26\"], [1.0, \"#f0f921\"]], \"sequentialminus\": [[0.0, \"#0d0887\"], [0.1111111111111111, \"#46039f\"], [0.2222222222222222, \"#7201a8\"], [0.3333333333333333, \"#9c179e\"], [0.4444444444444444, \"#bd3786\"], [0.5555555555555556, \"#d8576b\"], [0.6666666666666666, \"#ed7953\"], [0.7777777777777778, \"#fb9f3a\"], [0.8888888888888888, \"#fdca26\"], [1.0, \"#f0f921\"]]}, \"colorway\": [\"#636efa\", \"#EF553B\", \"#00cc96\", \"#ab63fa\", \"#FFA15A\", \"#19d3f3\", \"#FF6692\", \"#B6E880\", \"#FF97FF\", \"#FECB52\"], \"font\": {\"color\": \"#2a3f5f\"}, \"geo\": {\"bgcolor\": \"white\", \"lakecolor\": \"white\", \"landcolor\": \"#E5ECF6\", \"showlakes\": true, \"showland\": true, \"subunitcolor\": \"white\"}, \"hoverlabel\": {\"align\": \"left\"}, \"hovermode\": \"closest\", \"mapbox\": {\"style\": \"light\"}, \"paper_bgcolor\": \"white\", \"plot_bgcolor\": \"#E5ECF6\", \"polar\": {\"angularaxis\": {\"gridcolor\": \"white\", \"linecolor\": \"white\", \"ticks\": \"\"}, \"bgcolor\": \"#E5ECF6\", \"radialaxis\": {\"gridcolor\": \"white\", \"linecolor\": \"white\", \"ticks\": \"\"}}, \"scene\": {\"xaxis\": {\"backgroundcolor\": \"#E5ECF6\", \"gridcolor\": \"white\", \"gridwidth\": 2, \"linecolor\": \"white\", \"showbackground\": true, \"ticks\": \"\", \"zerolinecolor\": \"white\"}, \"yaxis\": {\"backgroundcolor\": \"#E5ECF6\", \"gridcolor\": \"white\", \"gridwidth\": 2, \"linecolor\": \"white\", \"showbackground\": true, \"ticks\": \"\", \"zerolinecolor\": \"white\"}, \"zaxis\": {\"backgroundcolor\": \"#E5ECF6\", \"gridcolor\": \"white\", \"gridwidth\": 2, \"linecolor\": \"white\", \"showbackground\": true, \"ticks\": \"\", \"zerolinecolor\": \"white\"}}, \"shapedefaults\": {\"line\": {\"color\": \"#2a3f5f\"}}, \"ternary\": {\"aaxis\": {\"gridcolor\": \"white\", \"linecolor\": \"white\", \"ticks\": \"\"}, \"baxis\": {\"gridcolor\": \"white\", \"linecolor\": \"white\", \"ticks\": \"\"}, \"bgcolor\": \"#E5ECF6\", \"caxis\": {\"gridcolor\": \"white\", \"linecolor\": \"white\", \"ticks\": \"\"}}, \"title\": {\"x\": 0.05}, \"xaxis\": {\"automargin\": true, \"gridcolor\": \"white\", \"linecolor\": \"white\", \"ticks\": \"\", \"title\": {\"standoff\": 15}, \"zerolinecolor\": \"white\", \"zerolinewidth\": 2}, \"yaxis\": {\"automargin\": true, \"gridcolor\": \"white\", \"linecolor\": \"white\", \"ticks\": \"\", \"title\": {\"standoff\": 15}, \"zerolinecolor\": \"white\", \"zerolinewidth\": 2}}}, \"title\": {\"text\": \"Resultados das Partidas - H: Vit\\u00f3ria time da casa, D: Empate, A: Vit\\u00f3ria do visitante\"}, \"xaxis\": {\"title\": {\"text\": \"Resultados\"}}, \"yaxis\": {\"title\": {\"text\": \"N\\u00ba de Partidas\"}}},\n",
              "                        {\"responsive\": true}\n",
              "                    ).then(function(){\n",
              "                            \n",
              "var gd = document.getElementById('335afe76-c25d-41b8-b5f0-82f8d05513f5');\n",
              "var x = new MutationObserver(function (mutations, observer) {{\n",
              "        var display = window.getComputedStyle(gd).display;\n",
              "        if (!display || display === 'none') {{\n",
              "            console.log([gd, 'removed!']);\n",
              "            Plotly.purge(gd);\n",
              "            observer.disconnect();\n",
              "        }}\n",
              "}});\n",
              "\n",
              "// Listen for the removal of the full notebook cells\n",
              "var notebookContainer = gd.closest('#notebook-container');\n",
              "if (notebookContainer) {{\n",
              "    x.observe(notebookContainer, {childList: true});\n",
              "}}\n",
              "\n",
              "// Listen for the clearing of the current output cell\n",
              "var outputEl = gd.closest('.output');\n",
              "if (outputEl) {{\n",
              "    x.observe(outputEl, {childList: true});\n",
              "}}\n",
              "\n",
              "                        })\n",
              "                };\n",
              "                \n",
              "            </script>\n",
              "        </div>\n",
              "</body>\n",
              "</html>"
            ]
          },
          "metadata": {
            "tags": []
          }
        }
      ]
    },
    {
      "cell_type": "code",
      "metadata": {
        "id": "Xf7cInt9ImIc"
      },
      "source": [
        "def transforma_resultado(resultado):\n",
        "  if resultado == \"H\":\n",
        "    return 1\n",
        "  elif resultado == \"D\":\n",
        "    return 0 \n",
        "  elif resultado == 1:\n",
        "    return 1\n",
        "  else:\n",
        "    return 2"
      ],
      "execution_count": 51,
      "outputs": []
    },
    {
      "cell_type": "code",
      "metadata": {
        "colab": {
          "base_uri": "https://localhost:8080/",
          "height": 205
        },
        "id": "ISW_9w4BJuFl",
        "outputId": "a5a95749-11f6-4040-e10f-888f466f1265"
      },
      "source": [
        "dados['Res'] = dados['Res'].map(transforma_resultado)\n",
        "dados.head()"
      ],
      "execution_count": 52,
      "outputs": [
        {
          "output_type": "execute_result",
          "data": {
            "text/html": [
              "<div>\n",
              "<style scoped>\n",
              "    .dataframe tbody tr th:only-of-type {\n",
              "        vertical-align: middle;\n",
              "    }\n",
              "\n",
              "    .dataframe tbody tr th {\n",
              "        vertical-align: top;\n",
              "    }\n",
              "\n",
              "    .dataframe thead th {\n",
              "        text-align: right;\n",
              "    }\n",
              "</style>\n",
              "<table border=\"1\" class=\"dataframe\">\n",
              "  <thead>\n",
              "    <tr style=\"text-align: right;\">\n",
              "      <th></th>\n",
              "      <th>Country</th>\n",
              "      <th>League</th>\n",
              "      <th>Season</th>\n",
              "      <th>Date</th>\n",
              "      <th>Time</th>\n",
              "      <th>Home</th>\n",
              "      <th>Away</th>\n",
              "      <th>HG</th>\n",
              "      <th>AG</th>\n",
              "      <th>Res</th>\n",
              "      <th>PH</th>\n",
              "      <th>PD</th>\n",
              "      <th>PA</th>\n",
              "      <th>MaxH</th>\n",
              "      <th>MaxD</th>\n",
              "      <th>MaxA</th>\n",
              "      <th>AvgH</th>\n",
              "      <th>AvgD</th>\n",
              "      <th>AvgA</th>\n",
              "    </tr>\n",
              "  </thead>\n",
              "  <tbody>\n",
              "    <tr>\n",
              "      <th>0</th>\n",
              "      <td>Brazil</td>\n",
              "      <td>Serie A</td>\n",
              "      <td>2012</td>\n",
              "      <td>19/05/2012</td>\n",
              "      <td>22:30</td>\n",
              "      <td>Palmeiras</td>\n",
              "      <td>Portuguesa</td>\n",
              "      <td>1.0</td>\n",
              "      <td>1.0</td>\n",
              "      <td>0</td>\n",
              "      <td>1.75</td>\n",
              "      <td>3.86</td>\n",
              "      <td>5.25</td>\n",
              "      <td>1.76</td>\n",
              "      <td>3.87</td>\n",
              "      <td>5.31</td>\n",
              "      <td>1.69</td>\n",
              "      <td>3.50</td>\n",
              "      <td>4.90</td>\n",
              "    </tr>\n",
              "    <tr>\n",
              "      <th>1</th>\n",
              "      <td>Brazil</td>\n",
              "      <td>Serie A</td>\n",
              "      <td>2012</td>\n",
              "      <td>19/05/2012</td>\n",
              "      <td>22:30</td>\n",
              "      <td>Sport Recife</td>\n",
              "      <td>Flamengo RJ</td>\n",
              "      <td>1.0</td>\n",
              "      <td>1.0</td>\n",
              "      <td>0</td>\n",
              "      <td>2.83</td>\n",
              "      <td>3.39</td>\n",
              "      <td>2.68</td>\n",
              "      <td>2.83</td>\n",
              "      <td>3.42</td>\n",
              "      <td>2.70</td>\n",
              "      <td>2.59</td>\n",
              "      <td>3.23</td>\n",
              "      <td>2.58</td>\n",
              "    </tr>\n",
              "    <tr>\n",
              "      <th>2</th>\n",
              "      <td>Brazil</td>\n",
              "      <td>Serie A</td>\n",
              "      <td>2012</td>\n",
              "      <td>20/05/2012</td>\n",
              "      <td>01:00</td>\n",
              "      <td>Figueirense</td>\n",
              "      <td>Nautico</td>\n",
              "      <td>2.0</td>\n",
              "      <td>1.0</td>\n",
              "      <td>1</td>\n",
              "      <td>1.60</td>\n",
              "      <td>4.04</td>\n",
              "      <td>6.72</td>\n",
              "      <td>1.67</td>\n",
              "      <td>4.05</td>\n",
              "      <td>7.22</td>\n",
              "      <td>1.59</td>\n",
              "      <td>3.67</td>\n",
              "      <td>5.64</td>\n",
              "    </tr>\n",
              "    <tr>\n",
              "      <th>3</th>\n",
              "      <td>Brazil</td>\n",
              "      <td>Serie A</td>\n",
              "      <td>2012</td>\n",
              "      <td>20/05/2012</td>\n",
              "      <td>20:00</td>\n",
              "      <td>Botafogo RJ</td>\n",
              "      <td>Sao Paulo</td>\n",
              "      <td>4.0</td>\n",
              "      <td>2.0</td>\n",
              "      <td>1</td>\n",
              "      <td>2.49</td>\n",
              "      <td>3.35</td>\n",
              "      <td>3.15</td>\n",
              "      <td>2.49</td>\n",
              "      <td>3.39</td>\n",
              "      <td>3.15</td>\n",
              "      <td>2.35</td>\n",
              "      <td>3.26</td>\n",
              "      <td>2.84</td>\n",
              "    </tr>\n",
              "    <tr>\n",
              "      <th>4</th>\n",
              "      <td>Brazil</td>\n",
              "      <td>Serie A</td>\n",
              "      <td>2012</td>\n",
              "      <td>20/05/2012</td>\n",
              "      <td>20:00</td>\n",
              "      <td>Corinthians</td>\n",
              "      <td>Fluminense</td>\n",
              "      <td>0.0</td>\n",
              "      <td>1.0</td>\n",
              "      <td>2</td>\n",
              "      <td>1.96</td>\n",
              "      <td>3.53</td>\n",
              "      <td>4.41</td>\n",
              "      <td>1.96</td>\n",
              "      <td>3.53</td>\n",
              "      <td>4.41</td>\n",
              "      <td>1.89</td>\n",
              "      <td>3.33</td>\n",
              "      <td>3.89</td>\n",
              "    </tr>\n",
              "  </tbody>\n",
              "</table>\n",
              "</div>"
            ],
            "text/plain": [
              "  Country   League  Season        Date   Time  ...  MaxD  MaxA  AvgH  AvgD  AvgA\n",
              "0  Brazil  Serie A    2012  19/05/2012  22:30  ...  3.87  5.31  1.69  3.50  4.90\n",
              "1  Brazil  Serie A    2012  19/05/2012  22:30  ...  3.42  2.70  2.59  3.23  2.58\n",
              "2  Brazil  Serie A    2012  20/05/2012  01:00  ...  4.05  7.22  1.59  3.67  5.64\n",
              "3  Brazil  Serie A    2012  20/05/2012  20:00  ...  3.39  3.15  2.35  3.26  2.84\n",
              "4  Brazil  Serie A    2012  20/05/2012  20:00  ...  3.53  4.41  1.89  3.33  3.89\n",
              "\n",
              "[5 rows x 19 columns]"
            ]
          },
          "metadata": {
            "tags": []
          },
          "execution_count": 52
        }
      ]
    },
    {
      "cell_type": "code",
      "metadata": {
        "colab": {
          "base_uri": "https://localhost:8080/"
        },
        "id": "e2CVgZXGKSip",
        "outputId": "91b4ceb2-a358-43d5-8d68-b16a3aacd2dc"
      },
      "source": [
        "dados['Res'].value_counts(normalize=True)*100"
      ],
      "execution_count": 53,
      "outputs": [
        {
          "output_type": "execute_result",
          "data": {
            "text/plain": [
              "1    49.307559\n",
              "0    26.658973\n",
              "2    24.033468\n",
              "Name: Res, dtype: float64"
            ]
          },
          "metadata": {
            "tags": []
          },
          "execution_count": 53
        }
      ]
    },
    {
      "cell_type": "code",
      "metadata": {
        "colab": {
          "base_uri": "https://localhost:8080/",
          "height": 205
        },
        "id": "IlMKwYg-KfGk",
        "outputId": "eab659b2-f775-4c2b-dbac-65a1e4142219"
      },
      "source": [
        "novos_dados = dados.drop(columns=['Country', 'League', 'Season', 'Date',\n",
        "'Time', 'Home', 'Away'])\n",
        "\n",
        "novos_dados.head()"
      ],
      "execution_count": 54,
      "outputs": [
        {
          "output_type": "execute_result",
          "data": {
            "text/html": [
              "<div>\n",
              "<style scoped>\n",
              "    .dataframe tbody tr th:only-of-type {\n",
              "        vertical-align: middle;\n",
              "    }\n",
              "\n",
              "    .dataframe tbody tr th {\n",
              "        vertical-align: top;\n",
              "    }\n",
              "\n",
              "    .dataframe thead th {\n",
              "        text-align: right;\n",
              "    }\n",
              "</style>\n",
              "<table border=\"1\" class=\"dataframe\">\n",
              "  <thead>\n",
              "    <tr style=\"text-align: right;\">\n",
              "      <th></th>\n",
              "      <th>HG</th>\n",
              "      <th>AG</th>\n",
              "      <th>Res</th>\n",
              "      <th>PH</th>\n",
              "      <th>PD</th>\n",
              "      <th>PA</th>\n",
              "      <th>MaxH</th>\n",
              "      <th>MaxD</th>\n",
              "      <th>MaxA</th>\n",
              "      <th>AvgH</th>\n",
              "      <th>AvgD</th>\n",
              "      <th>AvgA</th>\n",
              "    </tr>\n",
              "  </thead>\n",
              "  <tbody>\n",
              "    <tr>\n",
              "      <th>0</th>\n",
              "      <td>1.0</td>\n",
              "      <td>1.0</td>\n",
              "      <td>0</td>\n",
              "      <td>1.75</td>\n",
              "      <td>3.86</td>\n",
              "      <td>5.25</td>\n",
              "      <td>1.76</td>\n",
              "      <td>3.87</td>\n",
              "      <td>5.31</td>\n",
              "      <td>1.69</td>\n",
              "      <td>3.50</td>\n",
              "      <td>4.90</td>\n",
              "    </tr>\n",
              "    <tr>\n",
              "      <th>1</th>\n",
              "      <td>1.0</td>\n",
              "      <td>1.0</td>\n",
              "      <td>0</td>\n",
              "      <td>2.83</td>\n",
              "      <td>3.39</td>\n",
              "      <td>2.68</td>\n",
              "      <td>2.83</td>\n",
              "      <td>3.42</td>\n",
              "      <td>2.70</td>\n",
              "      <td>2.59</td>\n",
              "      <td>3.23</td>\n",
              "      <td>2.58</td>\n",
              "    </tr>\n",
              "    <tr>\n",
              "      <th>2</th>\n",
              "      <td>2.0</td>\n",
              "      <td>1.0</td>\n",
              "      <td>1</td>\n",
              "      <td>1.60</td>\n",
              "      <td>4.04</td>\n",
              "      <td>6.72</td>\n",
              "      <td>1.67</td>\n",
              "      <td>4.05</td>\n",
              "      <td>7.22</td>\n",
              "      <td>1.59</td>\n",
              "      <td>3.67</td>\n",
              "      <td>5.64</td>\n",
              "    </tr>\n",
              "    <tr>\n",
              "      <th>3</th>\n",
              "      <td>4.0</td>\n",
              "      <td>2.0</td>\n",
              "      <td>1</td>\n",
              "      <td>2.49</td>\n",
              "      <td>3.35</td>\n",
              "      <td>3.15</td>\n",
              "      <td>2.49</td>\n",
              "      <td>3.39</td>\n",
              "      <td>3.15</td>\n",
              "      <td>2.35</td>\n",
              "      <td>3.26</td>\n",
              "      <td>2.84</td>\n",
              "    </tr>\n",
              "    <tr>\n",
              "      <th>4</th>\n",
              "      <td>0.0</td>\n",
              "      <td>1.0</td>\n",
              "      <td>2</td>\n",
              "      <td>1.96</td>\n",
              "      <td>3.53</td>\n",
              "      <td>4.41</td>\n",
              "      <td>1.96</td>\n",
              "      <td>3.53</td>\n",
              "      <td>4.41</td>\n",
              "      <td>1.89</td>\n",
              "      <td>3.33</td>\n",
              "      <td>3.89</td>\n",
              "    </tr>\n",
              "  </tbody>\n",
              "</table>\n",
              "</div>"
            ],
            "text/plain": [
              "    HG   AG  Res    PH    PD    PA  MaxH  MaxD  MaxA  AvgH  AvgD  AvgA\n",
              "0  1.0  1.0    0  1.75  3.86  5.25  1.76  3.87  5.31  1.69  3.50  4.90\n",
              "1  1.0  1.0    0  2.83  3.39  2.68  2.83  3.42  2.70  2.59  3.23  2.58\n",
              "2  2.0  1.0    1  1.60  4.04  6.72  1.67  4.05  7.22  1.59  3.67  5.64\n",
              "3  4.0  2.0    1  2.49  3.35  3.15  2.49  3.39  3.15  2.35  3.26  2.84\n",
              "4  0.0  1.0    2  1.96  3.53  4.41  1.96  3.53  4.41  1.89  3.33  3.89"
            ]
          },
          "metadata": {
            "tags": []
          },
          "execution_count": 54
        }
      ]
    },
    {
      "cell_type": "code",
      "metadata": {
        "colab": {
          "base_uri": "https://localhost:8080/"
        },
        "id": "eDxjnPtuLEob",
        "outputId": "69bb3e57-486c-4d03-d005-b2bef28aa232"
      },
      "source": [
        "x = novos_dados.drop(columns=['Res'])\n",
        "y = novos_dados['Res']\n",
        "\n",
        "print(x.shape)\n",
        "print(y.shape)"
      ],
      "execution_count": 55,
      "outputs": [
        {
          "output_type": "stream",
          "text": [
            "(3466, 11)\n",
            "(3466,)\n"
          ],
          "name": "stdout"
        }
      ]
    },
    {
      "cell_type": "code",
      "metadata": {
        "colab": {
          "base_uri": "https://localhost:8080/"
        },
        "id": "zFRJ54c2Mna1",
        "outputId": "b4b07bff-5016-43a9-9e2d-cded6b2ffc99"
      },
      "source": [
        "lista_features = ('HG', 'AG', 'PH', 'PD', 'PA', 'MaxH', 'MaxD', 'AvgH', 'AvgD', 'AvgA')\n",
        "\n",
        "best_features = SelectKBest(k='all')\n",
        "best_features.fit_transform(x,y)\n",
        "best_features_score = best_features.scores_\n",
        "#print(best_features_score)\n",
        "\n",
        "teste = zip(lista_features[1:], best_features_score)\n",
        "teste_arrumado = list(reversed(sorted(teste, key=lambda x: x[1])))\n",
        "\n",
        "final = dict(teste_arrumado[:15])\n",
        "melhores = final.keys()\n",
        "print(final)\n"
      ],
      "execution_count": 59,
      "outputs": [
        {
          "output_type": "stream",
          "text": [
            "{'AG': 1134.5211457592575, 'PH': 1111.101426807077, 'PD': 138.0469864123361, 'AvgA': 132.98661455422308, 'MaxH': 122.80448839697155, 'AvgD': 122.44715949541417, 'MaxD': 119.00167038292666, 'AvgH': 62.48760003014739, 'PA': 60.4808169815533}\n"
          ],
          "name": "stdout"
        }
      ]
    },
    {
      "cell_type": "code",
      "metadata": {
        "colab": {
          "base_uri": "https://localhost:8080/"
        },
        "id": "QHv84aykNIP6",
        "outputId": "c83667eb-627a-4db6-9408-9d6fa716ed04"
      },
      "source": [
        "x = novos_dados.drop(columns=['Res', 'AG', 'PD', 'PH'])\n",
        "print(x.shape)"
      ],
      "execution_count": 60,
      "outputs": [
        {
          "output_type": "stream",
          "text": [
            "(3466, 8)\n"
          ],
          "name": "stdout"
        }
      ]
    },
    {
      "cell_type": "code",
      "metadata": {
        "colab": {
          "base_uri": "https://localhost:8080/"
        },
        "id": "0QGclGrfSspn",
        "outputId": "37b1800d-00f9-45a3-89de-a35df71e5eaf"
      },
      "source": [
        "scaler = MinMaxScaler()\n",
        "x = scaler.fit_transform(x)\n",
        "\n",
        "print(x)"
      ],
      "execution_count": 62,
      "outputs": [
        {
          "output_type": "stream",
          "text": [
            "[[0.16666667 0.14870539 0.02714286 ... 0.03588144 0.25458248 0.15246286]\n",
            " [0.16666667 0.05878237 0.06535714 ... 0.08268331 0.22708758 0.06176701]\n",
            " [0.33333333 0.20013996 0.02392857 ... 0.03068123 0.27189409 0.18139171]\n",
            " ...\n",
            " [0.33333333 0.0493352  0.08107143 ... 0.10712428 0.21283096 0.05512119]\n",
            " [0.16666667 0.0843247  0.05535714 ... 0.07384295 0.19653768 0.08639562]\n",
            " [0.16666667 0.34219734 0.01107143 ... 0.01456058 0.45112016 0.35496482]]\n"
          ],
          "name": "stdout"
        }
      ]
    },
    {
      "cell_type": "code",
      "metadata": {
        "colab": {
          "base_uri": "https://localhost:8080/"
        },
        "id": "qmMhOZRAS_1g",
        "outputId": "073130f9-2185-422c-bc89-cce705fd09a9"
      },
      "source": [
        "x_treino = x[:2426]\n",
        "x_teste = x[2426:3460]\n",
        "y_treino = y[:2426]\n",
        "y_teste = y[2426:3460]\n",
        "\n",
        "print(len(x_treino))\n",
        "print(len(x_teste))"
      ],
      "execution_count": 65,
      "outputs": [
        {
          "output_type": "stream",
          "text": [
            "2426\n",
            "1034\n"
          ],
          "name": "stdout"
        }
      ]
    },
    {
      "cell_type": "markdown",
      "metadata": {
        "id": "LKm-c_PDrCDL"
      },
      "source": [
        "#Decision Tree"
      ]
    },
    {
      "cell_type": "code",
      "metadata": {
        "colab": {
          "base_uri": "https://localhost:8080/"
        },
        "id": "M3xQOT4gUbWZ",
        "outputId": "37ca7b52-f715-4956-9d62-0428290def32"
      },
      "source": [
        "resultados = []\n",
        "\n",
        "for i in range(30):\n",
        "  kfold = KFold(n_splits=10, shuffle=True, random_state=i)\n",
        "  arvore = DecisionTreeClassifier()\n",
        "  scores = cross_val_score(arvore.fit(x_treino, y_treino), x_treino, y_treino, cv=kfold)\n",
        "  #arvore.fit(x_treino, y_treino)\n",
        "  resultados.append(scores.mean())\n",
        "\n",
        "print(np.mean(resultados))"
      ],
      "execution_count": 79,
      "outputs": [
        {
          "output_type": "stream",
          "text": [
            "0.5413134147309232\n"
          ],
          "name": "stdout"
        }
      ]
    },
    {
      "cell_type": "code",
      "metadata": {
        "colab": {
          "base_uri": "https://localhost:8080/"
        },
        "id": "EVj5GaogU4nY",
        "outputId": "de49ae84-3bf8-4245-c695-d945197903c5"
      },
      "source": [
        "arvore.feature_importances_"
      ],
      "execution_count": 80,
      "outputs": [
        {
          "output_type": "execute_result",
          "data": {
            "text/plain": [
              "array([0.26648534, 0.13014769, 0.08081232, 0.11719729, 0.10773883,\n",
              "       0.0770479 , 0.10769631, 0.11287432])"
            ]
          },
          "metadata": {
            "tags": []
          },
          "execution_count": 80
        }
      ]
    },
    {
      "cell_type": "code",
      "metadata": {
        "colab": {
          "base_uri": "https://localhost:8080/"
        },
        "id": "lLoblevOU7ao",
        "outputId": "e0a79fee-1b25-4ea4-99a3-0e20d14d2716"
      },
      "source": [
        "previsao = arvore.predict(x_teste)\n",
        "previsao"
      ],
      "execution_count": 81,
      "outputs": [
        {
          "output_type": "execute_result",
          "data": {
            "text/plain": [
              "array([1, 1, 1, ..., 1, 1, 0])"
            ]
          },
          "metadata": {
            "tags": []
          },
          "execution_count": 81
        }
      ]
    },
    {
      "cell_type": "code",
      "metadata": {
        "colab": {
          "base_uri": "https://localhost:8080/"
        },
        "id": "bLEu98k8VAug",
        "outputId": "2253030e-fe53-4a94-f496-1082195f1538"
      },
      "source": [
        "acuracia = accuracy_score(y_teste, previsao)\n",
        "f1 = f1_score(y_teste, previsao, average='micro')\n",
        "print(\"Acurácia: {}\" .format(acuracia*100))\n",
        "print(\"F1-Score: {}\".format(f1*100))"
      ],
      "execution_count": 86,
      "outputs": [
        {
          "output_type": "stream",
          "text": [
            "Acurácia: 56.2862669245648\n",
            "F1-Score: 56.2862669245648\n"
          ],
          "name": "stdout"
        }
      ]
    },
    {
      "cell_type": "markdown",
      "metadata": {
        "id": "0SUSztQgcefi"
      },
      "source": [
        "Grid Search"
      ]
    },
    {
      "cell_type": "code",
      "metadata": {
        "colab": {
          "base_uri": "https://localhost:8080/"
        },
        "id": "S3oJDiO1cgnz",
        "outputId": "ebd101f2-c057-41d2-ebdc-f4b580180f7c"
      },
      "source": [
        "parametros = {\"criterion\":[\"gini\", \"entropy\"],\n",
        "              \"splitter\":['best', 'random'], \n",
        "              \"min_samples_split\":[2,4,10],\n",
        "              \"max_features\":[2,3],\n",
        "              \"min_samples_leaf\":[3,4,5],\n",
        "              \"max_depth\":[80,90,100,110]}\n",
        "\n",
        "gridS_arvore = GridSearchCV(arvore, parametros)\n",
        "gridS_arvore.fit(x_treino, y_treino)"
      ],
      "execution_count": 94,
      "outputs": [
        {
          "output_type": "execute_result",
          "data": {
            "text/plain": [
              "GridSearchCV(cv=None, error_score=nan,\n",
              "             estimator=DecisionTreeClassifier(ccp_alpha=0.0, class_weight=None,\n",
              "                                              criterion='gini', max_depth=None,\n",
              "                                              max_features=None,\n",
              "                                              max_leaf_nodes=None,\n",
              "                                              min_impurity_decrease=0.0,\n",
              "                                              min_impurity_split=None,\n",
              "                                              min_samples_leaf=1,\n",
              "                                              min_samples_split=2,\n",
              "                                              min_weight_fraction_leaf=0.0,\n",
              "                                              presort='deprecated',\n",
              "                                              random_state=None,\n",
              "                                              splitter='best'),\n",
              "             iid='deprecated', n_jobs=None,\n",
              "             param_grid={'criterion': ['gini', 'entropy'],\n",
              "                         'max_depth': [80, 90, 100, 110],\n",
              "                         'max_features': [2, 3], 'min_samples_leaf': [3, 4, 5],\n",
              "                         'min_samples_split': [2, 4, 10],\n",
              "                         'splitter': ['best', 'random']},\n",
              "             pre_dispatch='2*n_jobs', refit=True, return_train_score=False,\n",
              "             scoring=None, verbose=0)"
            ]
          },
          "metadata": {
            "tags": []
          },
          "execution_count": 94
        }
      ]
    },
    {
      "cell_type": "code",
      "metadata": {
        "colab": {
          "base_uri": "https://localhost:8080/"
        },
        "id": "WEjBkWgsdOYA",
        "outputId": "5cc8a752-52b9-4668-82b0-3bbf5f3ffdeb"
      },
      "source": [
        "gridS_arvore.best_estimator_"
      ],
      "execution_count": 95,
      "outputs": [
        {
          "output_type": "execute_result",
          "data": {
            "text/plain": [
              "DecisionTreeClassifier(ccp_alpha=0.0, class_weight=None, criterion='gini',\n",
              "                       max_depth=110, max_features=3, max_leaf_nodes=None,\n",
              "                       min_impurity_decrease=0.0, min_impurity_split=None,\n",
              "                       min_samples_leaf=5, min_samples_split=10,\n",
              "                       min_weight_fraction_leaf=0.0, presort='deprecated',\n",
              "                       random_state=None, splitter='random')"
            ]
          },
          "metadata": {
            "tags": []
          },
          "execution_count": 95
        }
      ]
    },
    {
      "cell_type": "code",
      "metadata": {
        "colab": {
          "base_uri": "https://localhost:8080/"
        },
        "id": "F__QDxQIerlT",
        "outputId": "ab58bbb1-7f67-4c62-dde1-5f8f0a4e3dd3"
      },
      "source": [
        "gridS_arvore.best_score_"
      ],
      "execution_count": 96,
      "outputs": [
        {
          "output_type": "execute_result",
          "data": {
            "text/plain": [
              "0.6170752195494463"
            ]
          },
          "metadata": {
            "tags": []
          },
          "execution_count": 96
        }
      ]
    },
    {
      "cell_type": "code",
      "metadata": {
        "colab": {
          "base_uri": "https://localhost:8080/"
        },
        "id": "3D72MC60dhXC",
        "outputId": "7444af56-51b5-4d63-abb3-c4fbe07ec9ac"
      },
      "source": [
        "nova_previsao = gridS_arvore.predict(x_teste)\n",
        "acuracia = accuracy_score(y_teste, nova_previsao)\n",
        "f1 = f1_score(y_teste, nova_previsao, average='micro')\n",
        "print(\"Acurácia: {}\" .format(acuracia*100))\n",
        "print(\"F1-Score: {}\".format(f1*100))"
      ],
      "execution_count": 98,
      "outputs": [
        {
          "output_type": "stream",
          "text": [
            "Acurácia: 54.73887814313346\n",
            "F1-Score: 54.73887814313346\n"
          ],
          "name": "stdout"
        }
      ]
    },
    {
      "cell_type": "code",
      "metadata": {
        "colab": {
          "base_uri": "https://localhost:8080/"
        },
        "id": "6p1tlr0kfWJo",
        "outputId": "8f921452-d3d8-4742-a818-7ad052484c44"
      },
      "source": [
        "print(classification_report(y_teste, nova_previsao))"
      ],
      "execution_count": 101,
      "outputs": [
        {
          "output_type": "stream",
          "text": [
            "              precision    recall  f1-score   support\n",
            "\n",
            "           0       0.34      0.08      0.13       287\n",
            "           1       0.55      0.94      0.70       492\n",
            "           2       0.61      0.31      0.41       255\n",
            "\n",
            "    accuracy                           0.55      1034\n",
            "   macro avg       0.50      0.44      0.41      1034\n",
            "weighted avg       0.51      0.55      0.47      1034\n",
            "\n"
          ],
          "name": "stdout"
        }
      ]
    },
    {
      "cell_type": "code",
      "metadata": {
        "colab": {
          "base_uri": "https://localhost:8080/",
          "height": 362
        },
        "id": "oBoqjTX_e2Cs",
        "outputId": "e1cb4fc1-db21-4131-d93d-b1b77be56bdf"
      },
      "source": [
        "cm = ConfusionMatrix(gridS_arvore)\n",
        "cm.fit(x_treino, y_treino)\n",
        "cm.score(x_teste, y_teste)"
      ],
      "execution_count": 99,
      "outputs": [
        {
          "output_type": "execute_result",
          "data": {
            "text/plain": [
              "0.5783365570599613"
            ]
          },
          "metadata": {
            "tags": []
          },
          "execution_count": 99
        },
        {
          "output_type": "display_data",
          "data": {
            "image/png": "[encoded data removed]",
            "text/plain": [
              "<Figure size 576x396 with 1 Axes>"
            ]
          },
          "metadata": {
            "tags": []
          }
        }
      ]
    },
    {
      "cell_type": "markdown",
      "metadata": {
        "id": "F-LJHj6UcEgn"
      },
      "source": [
        "#Random Forest"
      ]
    },
    {
      "cell_type": "code",
      "metadata": {
        "colab": {
          "base_uri": "https://localhost:8080/"
        },
        "id": "PCn1naNSVJdZ",
        "outputId": "d28d42ce-ee1a-4ca9-d324-79f68d2c2513"
      },
      "source": [
        "resultados = []\n",
        "\n",
        "for i in range(30):\n",
        "  kfold = KFold(n_splits=10, shuffle=True, random_state=i)\n",
        "  floresta = RandomForestClassifier()\n",
        "  scores = cross_val_score(floresta.fit(x_treino, y_treino), x_treino, y_treino, cv=kfold)\n",
        "  resultados.append(scores.mean())\n",
        "\n",
        "print(np.mean(resultados))"
      ],
      "execution_count": 139,
      "outputs": [
        {
          "output_type": "stream",
          "text": [
            "0.605974560419005\n"
          ],
          "name": "stdout"
        }
      ]
    },
    {
      "cell_type": "code",
      "metadata": {
        "colab": {
          "base_uri": "https://localhost:8080/"
        },
        "id": "MqGa0qOwrSg6",
        "outputId": "5de925bb-675d-4e46-f11a-f73a46aa17c0"
      },
      "source": [
        "floresta.feature_importances_"
      ],
      "execution_count": 140,
      "outputs": [
        {
          "output_type": "execute_result",
          "data": {
            "text/plain": [
              "array([0.23199435, 0.12477565, 0.09905504, 0.10003773, 0.11998085,\n",
              "       0.0985364 , 0.10602569, 0.11959428])"
            ]
          },
          "metadata": {
            "tags": []
          },
          "execution_count": 140
        }
      ]
    },
    {
      "cell_type": "code",
      "metadata": {
        "colab": {
          "base_uri": "https://localhost:8080/"
        },
        "id": "YDcbmM2Hf-vN",
        "outputId": "73b5f53d-2447-4893-fa71-0eb0a0b23f5a"
      },
      "source": [
        "parametros_floresta = {\"max_depth\": [3, 5, 10],\n",
        "              \"max_features\": [\"auto\", \"sqrt\", \"log2\"],\n",
        "              \"min_samples_split\": [2, 3, 5, 10],\n",
        "              \"criterion\": [\"gini\", \"entropy\"],\n",
        "              \"max_leaf_nodes\": [5, 10, 20]}\n",
        "\n",
        "gridS_floresta = GridSearchCV(floresta, parametros_floresta)\n",
        "gridS_floresta.fit(x_treino, y_treino)"
      ],
      "execution_count": 109,
      "outputs": [
        {
          "output_type": "execute_result",
          "data": {
            "text/plain": [
              "GridSearchCV(cv=None, error_score=nan,\n",
              "             estimator=RandomForestClassifier(bootstrap=True, ccp_alpha=0.0,\n",
              "                                              class_weight=None,\n",
              "                                              criterion='gini', max_depth=None,\n",
              "                                              max_features='auto',\n",
              "                                              max_leaf_nodes=None,\n",
              "                                              max_samples=None,\n",
              "                                              min_impurity_decrease=0.0,\n",
              "                                              min_impurity_split=None,\n",
              "                                              min_samples_leaf=1,\n",
              "                                              min_samples_split=2,\n",
              "                                              min_weight_fraction_leaf=0.0,\n",
              "                                              n_estimators=100, n_jobs=None,\n",
              "                                              oob_score=False,\n",
              "                                              random_state=None, verbose=0,\n",
              "                                              warm_start=False),\n",
              "             iid='deprecated', n_jobs=None,\n",
              "             param_grid={'criterion': ['gini', 'entropy'],\n",
              "                         'max_depth': [3, 5, 10],\n",
              "                         'max_features': ['auto', 'sqrt', 'log2'],\n",
              "                         'max_leaf_nodes': [5, 10, 20],\n",
              "                         'min_samples_split': [2, 3, 5, 10]},\n",
              "             pre_dispatch='2*n_jobs', refit=True, return_train_score=False,\n",
              "             scoring=None, verbose=0)"
            ]
          },
          "metadata": {
            "tags": []
          },
          "execution_count": 109
        }
      ]
    },
    {
      "cell_type": "code",
      "metadata": {
        "colab": {
          "base_uri": "https://localhost:8080/"
        },
        "id": "9vvVw2GYkBPo",
        "outputId": "714070d4-9389-4dc5-86d6-e31ef7993bbf"
      },
      "source": [
        "gridS_floresta.best_params_"
      ],
      "execution_count": 111,
      "outputs": [
        {
          "output_type": "execute_result",
          "data": {
            "text/plain": [
              "{'criterion': 'entropy',\n",
              " 'max_depth': 5,\n",
              " 'max_features': 'log2',\n",
              " 'max_leaf_nodes': 10,\n",
              " 'min_samples_split': 5}"
            ]
          },
          "metadata": {
            "tags": []
          },
          "execution_count": 111
        }
      ]
    },
    {
      "cell_type": "code",
      "metadata": {
        "colab": {
          "base_uri": "https://localhost:8080/"
        },
        "id": "Cr1vMv4-kFhf",
        "outputId": "0ebce40b-2e15-4471-f7f7-8f47eebba7f0"
      },
      "source": [
        "gridS_floresta.best_score_"
      ],
      "execution_count": 112,
      "outputs": [
        {
          "output_type": "execute_result",
          "data": {
            "text/plain": [
              "0.6405642526833821"
            ]
          },
          "metadata": {
            "tags": []
          },
          "execution_count": 112
        }
      ]
    },
    {
      "cell_type": "code",
      "metadata": {
        "colab": {
          "base_uri": "https://localhost:8080/"
        },
        "id": "qH6gTVgtkN0J",
        "outputId": "b9c0d9b8-3abb-4af2-a6bf-cc13caf3e165"
      },
      "source": [
        "nova_previsao = gridS_floresta.predict(x_teste)\n",
        "acuracia = accuracy_score(y_teste, nova_previsao)\n",
        "f1 = f1_score(y_teste, nova_previsao, average='micro')\n",
        "print(\"Acurácia: {}\" .format(acuracia*100))\n",
        "print(\"F1-Score: {}\".format(f1*100))"
      ],
      "execution_count": 113,
      "outputs": [
        {
          "output_type": "stream",
          "text": [
            "Acurácia: 62.5725338491296\n",
            "F1-Score: 62.5725338491296\n"
          ],
          "name": "stdout"
        }
      ]
    },
    {
      "cell_type": "code",
      "metadata": {
        "colab": {
          "base_uri": "https://localhost:8080/"
        },
        "id": "tzt4Nvh4kV2p",
        "outputId": "c2a5adeb-1506-410e-e54a-6dd1f20601a6"
      },
      "source": [
        "print(classification_report(y_teste, nova_previsao))"
      ],
      "execution_count": 114,
      "outputs": [
        {
          "output_type": "stream",
          "text": [
            "              precision    recall  f1-score   support\n",
            "\n",
            "           0       0.00      0.00      0.00       287\n",
            "           1       0.65      0.97      0.78       492\n",
            "           2       0.57      0.66      0.61       255\n",
            "\n",
            "    accuracy                           0.63      1034\n",
            "   macro avg       0.41      0.54      0.46      1034\n",
            "weighted avg       0.45      0.63      0.52      1034\n",
            "\n"
          ],
          "name": "stdout"
        },
        {
          "output_type": "stream",
          "text": [
            "/usr/local/lib/python3.7/dist-packages/sklearn/metrics/_classification.py:1272: UndefinedMetricWarning:\n",
            "\n",
            "Precision and F-score are ill-defined and being set to 0.0 in labels with no predicted samples. Use `zero_division` parameter to control this behavior.\n",
            "\n"
          ],
          "name": "stderr"
        }
      ]
    },
    {
      "cell_type": "code",
      "metadata": {
        "colab": {
          "base_uri": "https://localhost:8080/",
          "height": 362
        },
        "id": "rVx1SoK4kWuc",
        "outputId": "a69e8739-7366-4816-d5e1-5bcc4968c38b"
      },
      "source": [
        "cm = ConfusionMatrix(gridS_floresta)\n",
        "cm.fit(x_treino, y_treino)\n",
        "cm.score(x_teste, y_teste)"
      ],
      "execution_count": 115,
      "outputs": [
        {
          "output_type": "execute_result",
          "data": {
            "text/plain": [
              "0.6218568665377177"
            ]
          },
          "metadata": {
            "tags": []
          },
          "execution_count": 115
        },
        {
          "output_type": "display_data",
          "data": {
            "image/png": "[encoded data removed]",
            "text/plain": [
              "<Figure size 576x396 with 1 Axes>"
            ]
          },
          "metadata": {
            "tags": []
          }
        }
      ]
    },
    {
      "cell_type": "markdown",
      "metadata": {
        "id": "W5BBlMlPj1Xe"
      },
      "source": [
        "#Previsões"
      ]
    },
    {
      "cell_type": "code",
      "metadata": {
        "colab": {
          "base_uri": "https://localhost:8080/",
          "height": 260
        },
        "id": "ssFXYp9ZnT2p",
        "outputId": "613920e6-cf9e-4682-cff5-7598d5823df1"
      },
      "source": [
        "vetor = list(range(3466))\n",
        "dados['id_jogo'] = vetor\n",
        "dados.head()"
      ],
      "execution_count": 129,
      "outputs": [
        {
          "output_type": "execute_result",
          "data": {
            "text/html": [
              "<div>\n",
              "<style scoped>\n",
              "    .dataframe tbody tr th:only-of-type {\n",
              "        vertical-align: middle;\n",
              "    }\n",
              "\n",
              "    .dataframe tbody tr th {\n",
              "        vertical-align: top;\n",
              "    }\n",
              "\n",
              "    .dataframe thead th {\n",
              "        text-align: right;\n",
              "    }\n",
              "</style>\n",
              "<table border=\"1\" class=\"dataframe\">\n",
              "  <thead>\n",
              "    <tr style=\"text-align: right;\">\n",
              "      <th></th>\n",
              "      <th>Country</th>\n",
              "      <th>League</th>\n",
              "      <th>Season</th>\n",
              "      <th>Date</th>\n",
              "      <th>Time</th>\n",
              "      <th>Home</th>\n",
              "      <th>Away</th>\n",
              "      <th>HG</th>\n",
              "      <th>AG</th>\n",
              "      <th>Res</th>\n",
              "      <th>PH</th>\n",
              "      <th>PD</th>\n",
              "      <th>PA</th>\n",
              "      <th>MaxH</th>\n",
              "      <th>MaxD</th>\n",
              "      <th>MaxA</th>\n",
              "      <th>AvgH</th>\n",
              "      <th>AvgD</th>\n",
              "      <th>AvgA</th>\n",
              "      <th>id_jogo</th>\n",
              "    </tr>\n",
              "  </thead>\n",
              "  <tbody>\n",
              "    <tr>\n",
              "      <th>0</th>\n",
              "      <td>Brazil</td>\n",
              "      <td>Serie A</td>\n",
              "      <td>2012</td>\n",
              "      <td>19/05/2012</td>\n",
              "      <td>22:30</td>\n",
              "      <td>Palmeiras</td>\n",
              "      <td>Portuguesa</td>\n",
              "      <td>1.0</td>\n",
              "      <td>1.0</td>\n",
              "      <td>0</td>\n",
              "      <td>1.75</td>\n",
              "      <td>3.86</td>\n",
              "      <td>5.25</td>\n",
              "      <td>1.76</td>\n",
              "      <td>3.87</td>\n",
              "      <td>5.31</td>\n",
              "      <td>1.69</td>\n",
              "      <td>3.50</td>\n",
              "      <td>4.90</td>\n",
              "      <td>0</td>\n",
              "    </tr>\n",
              "    <tr>\n",
              "      <th>1</th>\n",
              "      <td>Brazil</td>\n",
              "      <td>Serie A</td>\n",
              "      <td>2012</td>\n",
              "      <td>19/05/2012</td>\n",
              "      <td>22:30</td>\n",
              "      <td>Sport Recife</td>\n",
              "      <td>Flamengo RJ</td>\n",
              "      <td>1.0</td>\n",
              "      <td>1.0</td>\n",
              "      <td>0</td>\n",
              "      <td>2.83</td>\n",
              "      <td>3.39</td>\n",
              "      <td>2.68</td>\n",
              "      <td>2.83</td>\n",
              "      <td>3.42</td>\n",
              "      <td>2.70</td>\n",
              "      <td>2.59</td>\n",
              "      <td>3.23</td>\n",
              "      <td>2.58</td>\n",
              "      <td>1</td>\n",
              "    </tr>\n",
              "    <tr>\n",
              "      <th>2</th>\n",
              "      <td>Brazil</td>\n",
              "      <td>Serie A</td>\n",
              "      <td>2012</td>\n",
              "      <td>20/05/2012</td>\n",
              "      <td>01:00</td>\n",
              "      <td>Figueirense</td>\n",
              "      <td>Nautico</td>\n",
              "      <td>2.0</td>\n",
              "      <td>1.0</td>\n",
              "      <td>1</td>\n",
              "      <td>1.60</td>\n",
              "      <td>4.04</td>\n",
              "      <td>6.72</td>\n",
              "      <td>1.67</td>\n",
              "      <td>4.05</td>\n",
              "      <td>7.22</td>\n",
              "      <td>1.59</td>\n",
              "      <td>3.67</td>\n",
              "      <td>5.64</td>\n",
              "      <td>2</td>\n",
              "    </tr>\n",
              "    <tr>\n",
              "      <th>3</th>\n",
              "      <td>Brazil</td>\n",
              "      <td>Serie A</td>\n",
              "      <td>2012</td>\n",
              "      <td>20/05/2012</td>\n",
              "      <td>20:00</td>\n",
              "      <td>Botafogo RJ</td>\n",
              "      <td>Sao Paulo</td>\n",
              "      <td>4.0</td>\n",
              "      <td>2.0</td>\n",
              "      <td>1</td>\n",
              "      <td>2.49</td>\n",
              "      <td>3.35</td>\n",
              "      <td>3.15</td>\n",
              "      <td>2.49</td>\n",
              "      <td>3.39</td>\n",
              "      <td>3.15</td>\n",
              "      <td>2.35</td>\n",
              "      <td>3.26</td>\n",
              "      <td>2.84</td>\n",
              "      <td>3</td>\n",
              "    </tr>\n",
              "    <tr>\n",
              "      <th>4</th>\n",
              "      <td>Brazil</td>\n",
              "      <td>Serie A</td>\n",
              "      <td>2012</td>\n",
              "      <td>20/05/2012</td>\n",
              "      <td>20:00</td>\n",
              "      <td>Corinthians</td>\n",
              "      <td>Fluminense</td>\n",
              "      <td>0.0</td>\n",
              "      <td>1.0</td>\n",
              "      <td>2</td>\n",
              "      <td>1.96</td>\n",
              "      <td>3.53</td>\n",
              "      <td>4.41</td>\n",
              "      <td>1.96</td>\n",
              "      <td>3.53</td>\n",
              "      <td>4.41</td>\n",
              "      <td>1.89</td>\n",
              "      <td>3.33</td>\n",
              "      <td>3.89</td>\n",
              "      <td>4</td>\n",
              "    </tr>\n",
              "  </tbody>\n",
              "</table>\n",
              "</div>"
            ],
            "text/plain": [
              "  Country   League  Season        Date   Time  ...  MaxA  AvgH  AvgD  AvgA  id_jogo\n",
              "0  Brazil  Serie A    2012  19/05/2012  22:30  ...  5.31  1.69  3.50  4.90        0\n",
              "1  Brazil  Serie A    2012  19/05/2012  22:30  ...  2.70  2.59  3.23  2.58        1\n",
              "2  Brazil  Serie A    2012  20/05/2012  01:00  ...  7.22  1.59  3.67  5.64        2\n",
              "3  Brazil  Serie A    2012  20/05/2012  20:00  ...  3.15  2.35  3.26  2.84        3\n",
              "4  Brazil  Serie A    2012  20/05/2012  20:00  ...  4.41  1.89  3.33  3.89        4\n",
              "\n",
              "[5 rows x 20 columns]"
            ]
          },
          "metadata": {
            "tags": []
          },
          "execution_count": 129
        }
      ]
    },
    {
      "cell_type": "code",
      "metadata": {
        "colab": {
          "base_uri": "https://localhost:8080/",
          "height": 260
        },
        "id": "sTpSiQd9pACs",
        "outputId": "8c17774d-1663-44b2-d4b3-0c02e4a5cd59"
      },
      "source": [
        "dados.tail()"
      ],
      "execution_count": 130,
      "outputs": [
        {
          "output_type": "execute_result",
          "data": {
            "text/html": [
              "<div>\n",
              "<style scoped>\n",
              "    .dataframe tbody tr th:only-of-type {\n",
              "        vertical-align: middle;\n",
              "    }\n",
              "\n",
              "    .dataframe tbody tr th {\n",
              "        vertical-align: top;\n",
              "    }\n",
              "\n",
              "    .dataframe thead th {\n",
              "        text-align: right;\n",
              "    }\n",
              "</style>\n",
              "<table border=\"1\" class=\"dataframe\">\n",
              "  <thead>\n",
              "    <tr style=\"text-align: right;\">\n",
              "      <th></th>\n",
              "      <th>Country</th>\n",
              "      <th>League</th>\n",
              "      <th>Season</th>\n",
              "      <th>Date</th>\n",
              "      <th>Time</th>\n",
              "      <th>Home</th>\n",
              "      <th>Away</th>\n",
              "      <th>HG</th>\n",
              "      <th>AG</th>\n",
              "      <th>Res</th>\n",
              "      <th>PH</th>\n",
              "      <th>PD</th>\n",
              "      <th>PA</th>\n",
              "      <th>MaxH</th>\n",
              "      <th>MaxD</th>\n",
              "      <th>MaxA</th>\n",
              "      <th>AvgH</th>\n",
              "      <th>AvgD</th>\n",
              "      <th>AvgA</th>\n",
              "      <th>id_jogo</th>\n",
              "    </tr>\n",
              "  </thead>\n",
              "  <tbody>\n",
              "    <tr>\n",
              "      <th>3461</th>\n",
              "      <td>Brazil</td>\n",
              "      <td>Serie A</td>\n",
              "      <td>2021</td>\n",
              "      <td>20/06/2021</td>\n",
              "      <td>22:15</td>\n",
              "      <td>Athletico-PR</td>\n",
              "      <td>Atletico GO</td>\n",
              "      <td>2.0</td>\n",
              "      <td>1.0</td>\n",
              "      <td>1</td>\n",
              "      <td>2.04</td>\n",
              "      <td>3.12</td>\n",
              "      <td>4.47</td>\n",
              "      <td>2.07</td>\n",
              "      <td>3.25</td>\n",
              "      <td>4.58</td>\n",
              "      <td>2.02</td>\n",
              "      <td>2.99</td>\n",
              "      <td>4.29</td>\n",
              "      <td>3461</td>\n",
              "    </tr>\n",
              "    <tr>\n",
              "      <th>3462</th>\n",
              "      <td>Brazil</td>\n",
              "      <td>Serie A</td>\n",
              "      <td>2021</td>\n",
              "      <td>20/06/2021</td>\n",
              "      <td>22:15</td>\n",
              "      <td>Fortaleza</td>\n",
              "      <td>Fluminense</td>\n",
              "      <td>1.0</td>\n",
              "      <td>1.0</td>\n",
              "      <td>0</td>\n",
              "      <td>2.39</td>\n",
              "      <td>2.97</td>\n",
              "      <td>3.59</td>\n",
              "      <td>2.40</td>\n",
              "      <td>3.08</td>\n",
              "      <td>3.70</td>\n",
              "      <td>2.33</td>\n",
              "      <td>2.94</td>\n",
              "      <td>3.40</td>\n",
              "      <td>3462</td>\n",
              "    </tr>\n",
              "    <tr>\n",
              "      <th>3463</th>\n",
              "      <td>Brazil</td>\n",
              "      <td>Serie A</td>\n",
              "      <td>2021</td>\n",
              "      <td>20/06/2021</td>\n",
              "      <td>22:15</td>\n",
              "      <td>Santos</td>\n",
              "      <td>Sao Paulo</td>\n",
              "      <td>2.0</td>\n",
              "      <td>0.0</td>\n",
              "      <td>1</td>\n",
              "      <td>3.27</td>\n",
              "      <td>3.21</td>\n",
              "      <td>2.41</td>\n",
              "      <td>3.27</td>\n",
              "      <td>3.21</td>\n",
              "      <td>2.50</td>\n",
              "      <td>3.06</td>\n",
              "      <td>3.09</td>\n",
              "      <td>2.41</td>\n",
              "      <td>3463</td>\n",
              "    </tr>\n",
              "    <tr>\n",
              "      <th>3464</th>\n",
              "      <td>Brazil</td>\n",
              "      <td>Serie A</td>\n",
              "      <td>2021</td>\n",
              "      <td>21/06/2021</td>\n",
              "      <td>00:30</td>\n",
              "      <td>Juventude</td>\n",
              "      <td>Sport Recife</td>\n",
              "      <td>1.0</td>\n",
              "      <td>0.0</td>\n",
              "      <td>1</td>\n",
              "      <td>2.48</td>\n",
              "      <td>2.97</td>\n",
              "      <td>3.41</td>\n",
              "      <td>2.55</td>\n",
              "      <td>3.10</td>\n",
              "      <td>3.49</td>\n",
              "      <td>2.42</td>\n",
              "      <td>2.93</td>\n",
              "      <td>3.21</td>\n",
              "      <td>3464</td>\n",
              "    </tr>\n",
              "    <tr>\n",
              "      <th>3465</th>\n",
              "      <td>Brazil</td>\n",
              "      <td>Serie A</td>\n",
              "      <td>2021</td>\n",
              "      <td>22/06/2021</td>\n",
              "      <td>00:00</td>\n",
              "      <td>Atletico-MG</td>\n",
              "      <td>Chapecoense-SC</td>\n",
              "      <td>1.0</td>\n",
              "      <td>1.0</td>\n",
              "      <td>0</td>\n",
              "      <td>1.29</td>\n",
              "      <td>5.79</td>\n",
              "      <td>10.78</td>\n",
              "      <td>1.31</td>\n",
              "      <td>6.03</td>\n",
              "      <td>11.93</td>\n",
              "      <td>1.28</td>\n",
              "      <td>5.43</td>\n",
              "      <td>10.08</td>\n",
              "      <td>3465</td>\n",
              "    </tr>\n",
              "  </tbody>\n",
              "</table>\n",
              "</div>"
            ],
            "text/plain": [
              "     Country   League  Season        Date  ...  AvgH  AvgD   AvgA  id_jogo\n",
              "3461  Brazil  Serie A    2021  20/06/2021  ...  2.02  2.99   4.29     3461\n",
              "3462  Brazil  Serie A    2021  20/06/2021  ...  2.33  2.94   3.40     3462\n",
              "3463  Brazil  Serie A    2021  20/06/2021  ...  3.06  3.09   2.41     3463\n",
              "3464  Brazil  Serie A    2021  21/06/2021  ...  2.42  2.93   3.21     3464\n",
              "3465  Brazil  Serie A    2021  22/06/2021  ...  1.28  5.43  10.08     3465\n",
              "\n",
              "[5 rows x 20 columns]"
            ]
          },
          "metadata": {
            "tags": []
          },
          "execution_count": 130
        }
      ]
    },
    {
      "cell_type": "code",
      "metadata": {
        "id": "3rLuNGZ1gvwq"
      },
      "source": [
        "previsoes = x[3460:]\n",
        "jogos = dados['id_jogo']\n",
        "id_jogo = jogos[3460:]\n",
        "\n",
        "resultado_cheio = dados['Res']\n",
        "resultado = resultado_cheio[3460:]\n",
        "\n",
        "pred = (gridS_floresta.predict(previsoes))\n",
        "novo = pd.DataFrame({'id_jogo':id_jogo, 'real':resultado, 'previsao':pred})"
      ],
      "execution_count": 131,
      "outputs": []
    },
    {
      "cell_type": "code",
      "metadata": {
        "colab": {
          "base_uri": "https://localhost:8080/",
          "height": 236
        },
        "id": "_dlkQn9sl0zy",
        "outputId": "8fe11f32-e0ca-4cde-fd8c-f64c79ecb732"
      },
      "source": [
        "novo"
      ],
      "execution_count": 133,
      "outputs": [
        {
          "output_type": "execute_result",
          "data": {
            "text/html": [
              "<div>\n",
              "<style scoped>\n",
              "    .dataframe tbody tr th:only-of-type {\n",
              "        vertical-align: middle;\n",
              "    }\n",
              "\n",
              "    .dataframe tbody tr th {\n",
              "        vertical-align: top;\n",
              "    }\n",
              "\n",
              "    .dataframe thead th {\n",
              "        text-align: right;\n",
              "    }\n",
              "</style>\n",
              "<table border=\"1\" class=\"dataframe\">\n",
              "  <thead>\n",
              "    <tr style=\"text-align: right;\">\n",
              "      <th></th>\n",
              "      <th>id_jogo</th>\n",
              "      <th>real</th>\n",
              "      <th>previsao</th>\n",
              "    </tr>\n",
              "  </thead>\n",
              "  <tbody>\n",
              "    <tr>\n",
              "      <th>3460</th>\n",
              "      <td>3460</td>\n",
              "      <td>0</td>\n",
              "      <td>1</td>\n",
              "    </tr>\n",
              "    <tr>\n",
              "      <th>3461</th>\n",
              "      <td>3461</td>\n",
              "      <td>1</td>\n",
              "      <td>1</td>\n",
              "    </tr>\n",
              "    <tr>\n",
              "      <th>3462</th>\n",
              "      <td>3462</td>\n",
              "      <td>0</td>\n",
              "      <td>1</td>\n",
              "    </tr>\n",
              "    <tr>\n",
              "      <th>3463</th>\n",
              "      <td>3463</td>\n",
              "      <td>1</td>\n",
              "      <td>1</td>\n",
              "    </tr>\n",
              "    <tr>\n",
              "      <th>3464</th>\n",
              "      <td>3464</td>\n",
              "      <td>1</td>\n",
              "      <td>1</td>\n",
              "    </tr>\n",
              "    <tr>\n",
              "      <th>3465</th>\n",
              "      <td>3465</td>\n",
              "      <td>0</td>\n",
              "      <td>1</td>\n",
              "    </tr>\n",
              "  </tbody>\n",
              "</table>\n",
              "</div>"
            ],
            "text/plain": [
              "      id_jogo  real  previsao\n",
              "3460     3460     0         1\n",
              "3461     3461     1         1\n",
              "3462     3462     0         1\n",
              "3463     3463     1         1\n",
              "3464     3464     1         1\n",
              "3465     3465     0         1"
            ]
          },
          "metadata": {
            "tags": []
          },
          "execution_count": 133
        }
      ]
    },
    {
      "cell_type": "code",
      "metadata": {
        "colab": {
          "base_uri": "https://localhost:8080/",
          "height": 362
        },
        "id": "NN_D-cSbosB4",
        "outputId": "1410194c-f142-49a0-81d6-886c4ee71eea"
      },
      "source": [
        "cm = ConfusionMatrix(gridS_arvore)\n",
        "cm.fit(x_treino, y_treino)\n",
        "cm.score(previsoes, resultado)"
      ],
      "execution_count": 136,
      "outputs": [
        {
          "output_type": "execute_result",
          "data": {
            "text/plain": [
              "0.8333333333333334"
            ]
          },
          "metadata": {
            "tags": []
          },
          "execution_count": 136
        },
        {
          "output_type": "display_data",
          "data": {
            "image/png": "[encoded data removed]",
            "text/plain": [
              "<Figure size 576x396 with 1 Axes>"
            ]
          },
          "metadata": {
            "tags": []
          }
        }
      ]
    }
  ]
}