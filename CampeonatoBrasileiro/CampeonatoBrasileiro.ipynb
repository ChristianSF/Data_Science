{
  "nbformat": 4,
  "nbformat_minor": 0,
  "metadata": {
    "colab": {
      "name": "CampeonatoBrasileiro",
      "provenance": [],
      "collapsed_sections": []
    },
    "kernelspec": {
      "name": "python3",
      "display_name": "Python 3"
    },
    "language_info": {
      "name": "python"
    }
  },
  "cells": [
    {
      "cell_type": "markdown",
      "metadata": {
        "id": "nSf5bffNrGbW"
      },
      "source": [
        "#Preparação e Análise Exploratória"
      ]
    },
    {
      "cell_type": "code",
      "source": [
        "!pip install scikit-plot"
      ],
      "metadata": {
        "colab": {
          "base_uri": "https://localhost:8080/"
        },
        "id": "hWaw6UIE53GV",
        "outputId": "6586f155-480a-4221-dac8-dd8739f28062"
      },
      "execution_count": 50,
      "outputs": [
        {
          "output_type": "stream",
          "name": "stdout",
          "text": [
            "Collecting scikit-plot\n",
            "  Downloading scikit_plot-0.3.7-py3-none-any.whl (33 kB)\n",
            "Requirement already satisfied: scipy>=0.9 in /usr/local/lib/python3.7/dist-packages (from scikit-plot) (1.4.1)\n",
            "Requirement already satisfied: joblib>=0.10 in /usr/local/lib/python3.7/dist-packages (from scikit-plot) (1.1.0)\n",
            "Requirement already satisfied: scikit-learn>=0.18 in /usr/local/lib/python3.7/dist-packages (from scikit-plot) (1.0.1)\n",
            "Requirement already satisfied: matplotlib>=1.4.0 in /usr/local/lib/python3.7/dist-packages (from scikit-plot) (3.2.2)\n",
            "Requirement already satisfied: python-dateutil>=2.1 in /usr/local/lib/python3.7/dist-packages (from matplotlib>=1.4.0->scikit-plot) (2.8.2)\n",
            "Requirement already satisfied: numpy>=1.11 in /usr/local/lib/python3.7/dist-packages (from matplotlib>=1.4.0->scikit-plot) (1.19.5)\n",
            "Requirement already satisfied: cycler>=0.10 in /usr/local/lib/python3.7/dist-packages (from matplotlib>=1.4.0->scikit-plot) (0.11.0)\n",
            "Requirement already satisfied: pyparsing!=2.0.4,!=2.1.2,!=2.1.6,>=2.0.1 in /usr/local/lib/python3.7/dist-packages (from matplotlib>=1.4.0->scikit-plot) (3.0.6)\n",
            "Requirement already satisfied: kiwisolver>=1.0.1 in /usr/local/lib/python3.7/dist-packages (from matplotlib>=1.4.0->scikit-plot) (1.3.2)\n",
            "Requirement already satisfied: six>=1.5 in /usr/local/lib/python3.7/dist-packages (from python-dateutil>=2.1->matplotlib>=1.4.0->scikit-plot) (1.15.0)\n",
            "Requirement already satisfied: threadpoolctl>=2.0.0 in /usr/local/lib/python3.7/dist-packages (from scikit-learn>=0.18->scikit-plot) (3.0.0)\n",
            "Installing collected packages: scikit-plot\n",
            "Successfully installed scikit-plot-0.3.7\n"
          ]
        }
      ]
    },
    {
      "cell_type": "code",
      "metadata": {
        "id": "4qdKh97GEUYz"
      },
      "source": [
        "import pandas as pd\n",
        "import numpy as np\n",
        "from sklearn.model_selection import train_test_split, GridSearchCV, cross_val_score, KFold\n",
        "from sklearn.metrics import accuracy_score, f1_score, precision_score, recall_score, classification_report, roc_auc_score, roc_curve, auc\n",
        "from sklearn.feature_selection import SelectKBest\n",
        "from sklearn.preprocessing import MinMaxScaler\n",
        "from sklearn.tree import DecisionTreeClassifier\n",
        "from sklearn.ensemble import RandomForestClassifier\n",
        "from yellowbrick.classifier import ConfusionMatrix\n",
        "import plotly.graph_objects as go\n",
        "from plotly.subplots import make_subplots\n",
        "import scikitplot as skplt"
      ],
      "execution_count": 51,
      "outputs": []
    },
    {
      "cell_type": "code",
      "metadata": {
        "colab": {
          "base_uri": "https://localhost:8080/"
        },
        "id": "F86ksHuuEefV",
        "outputId": "7bef5b72-006b-4a97-ce68-7946a4adb638"
      },
      "source": [
        "dados = pd.read_csv(\"https://raw.githubusercontent.com/ChristianSF/Data_Science/master/CampeonatoBrasileiro/BRA.csv\")\n",
        "dados.shape"
      ],
      "execution_count": 3,
      "outputs": [
        {
          "output_type": "execute_result",
          "data": {
            "text/plain": [
              "(3466, 19)"
            ]
          },
          "metadata": {},
          "execution_count": 3
        }
      ]
    },
    {
      "cell_type": "code",
      "metadata": {
        "colab": {
          "base_uri": "https://localhost:8080/"
        },
        "id": "rNuIMbUWGLUR",
        "outputId": "b5768875-fa8e-47a9-865d-78ca19105611"
      },
      "source": [
        "dados.columns"
      ],
      "execution_count": 4,
      "outputs": [
        {
          "output_type": "execute_result",
          "data": {
            "text/plain": [
              "Index(['Country', 'League', 'Season', 'Date', 'Time', 'Home', 'Away', 'HG',\n",
              "       'AG', 'Res', 'PH', 'PD', 'PA', 'MaxH', 'MaxD', 'MaxA', 'AvgH', 'AvgD',\n",
              "       'AvgA'],\n",
              "      dtype='object')"
            ]
          },
          "metadata": {},
          "execution_count": 4
        }
      ]
    },
    {
      "cell_type": "code",
      "metadata": {
        "colab": {
          "base_uri": "https://localhost:8080/",
          "height": 206
        },
        "id": "_E4nYR5QGM3g",
        "outputId": "02268047-4d83-40ed-f268-e92c3b5698de"
      },
      "source": [
        "dados.head()"
      ],
      "execution_count": 5,
      "outputs": [
        {
          "output_type": "execute_result",
          "data": {
            "text/html": [
              "\n",
              "  <div id=\"df-958abc94-6f53-4344-a489-f4376aea0f76\">\n",
              "    <div class=\"colab-df-container\">\n",
              "      <div>\n",
              "<style scoped>\n",
              "    .dataframe tbody tr th:only-of-type {\n",
              "        vertical-align: middle;\n",
              "    }\n",
              "\n",
              "    .dataframe tbody tr th {\n",
              "        vertical-align: top;\n",
              "    }\n",
              "\n",
              "    .dataframe thead th {\n",
              "        text-align: right;\n",
              "    }\n",
              "</style>\n",
              "<table border=\"1\" class=\"dataframe\">\n",
              "  <thead>\n",
              "    <tr style=\"text-align: right;\">\n",
              "      <th></th>\n",
              "      <th>Country</th>\n",
              "      <th>League</th>\n",
              "      <th>Season</th>\n",
              "      <th>Date</th>\n",
              "      <th>Time</th>\n",
              "      <th>Home</th>\n",
              "      <th>Away</th>\n",
              "      <th>HG</th>\n",
              "      <th>AG</th>\n",
              "      <th>Res</th>\n",
              "      <th>PH</th>\n",
              "      <th>PD</th>\n",
              "      <th>PA</th>\n",
              "      <th>MaxH</th>\n",
              "      <th>MaxD</th>\n",
              "      <th>MaxA</th>\n",
              "      <th>AvgH</th>\n",
              "      <th>AvgD</th>\n",
              "      <th>AvgA</th>\n",
              "    </tr>\n",
              "  </thead>\n",
              "  <tbody>\n",
              "    <tr>\n",
              "      <th>0</th>\n",
              "      <td>Brazil</td>\n",
              "      <td>Serie A</td>\n",
              "      <td>2012</td>\n",
              "      <td>19/05/2012</td>\n",
              "      <td>22:30</td>\n",
              "      <td>Palmeiras</td>\n",
              "      <td>Portuguesa</td>\n",
              "      <td>1.0</td>\n",
              "      <td>1.0</td>\n",
              "      <td>D</td>\n",
              "      <td>1.75</td>\n",
              "      <td>3.86</td>\n",
              "      <td>5.25</td>\n",
              "      <td>1.76</td>\n",
              "      <td>3.87</td>\n",
              "      <td>5.31</td>\n",
              "      <td>1.69</td>\n",
              "      <td>3.50</td>\n",
              "      <td>4.90</td>\n",
              "    </tr>\n",
              "    <tr>\n",
              "      <th>1</th>\n",
              "      <td>Brazil</td>\n",
              "      <td>Serie A</td>\n",
              "      <td>2012</td>\n",
              "      <td>19/05/2012</td>\n",
              "      <td>22:30</td>\n",
              "      <td>Sport Recife</td>\n",
              "      <td>Flamengo RJ</td>\n",
              "      <td>1.0</td>\n",
              "      <td>1.0</td>\n",
              "      <td>D</td>\n",
              "      <td>2.83</td>\n",
              "      <td>3.39</td>\n",
              "      <td>2.68</td>\n",
              "      <td>2.83</td>\n",
              "      <td>3.42</td>\n",
              "      <td>2.70</td>\n",
              "      <td>2.59</td>\n",
              "      <td>3.23</td>\n",
              "      <td>2.58</td>\n",
              "    </tr>\n",
              "    <tr>\n",
              "      <th>2</th>\n",
              "      <td>Brazil</td>\n",
              "      <td>Serie A</td>\n",
              "      <td>2012</td>\n",
              "      <td>20/05/2012</td>\n",
              "      <td>01:00</td>\n",
              "      <td>Figueirense</td>\n",
              "      <td>Nautico</td>\n",
              "      <td>2.0</td>\n",
              "      <td>1.0</td>\n",
              "      <td>H</td>\n",
              "      <td>1.60</td>\n",
              "      <td>4.04</td>\n",
              "      <td>6.72</td>\n",
              "      <td>1.67</td>\n",
              "      <td>4.05</td>\n",
              "      <td>7.22</td>\n",
              "      <td>1.59</td>\n",
              "      <td>3.67</td>\n",
              "      <td>5.64</td>\n",
              "    </tr>\n",
              "    <tr>\n",
              "      <th>3</th>\n",
              "      <td>Brazil</td>\n",
              "      <td>Serie A</td>\n",
              "      <td>2012</td>\n",
              "      <td>20/05/2012</td>\n",
              "      <td>20:00</td>\n",
              "      <td>Botafogo RJ</td>\n",
              "      <td>Sao Paulo</td>\n",
              "      <td>4.0</td>\n",
              "      <td>2.0</td>\n",
              "      <td>H</td>\n",
              "      <td>2.49</td>\n",
              "      <td>3.35</td>\n",
              "      <td>3.15</td>\n",
              "      <td>2.49</td>\n",
              "      <td>3.39</td>\n",
              "      <td>3.15</td>\n",
              "      <td>2.35</td>\n",
              "      <td>3.26</td>\n",
              "      <td>2.84</td>\n",
              "    </tr>\n",
              "    <tr>\n",
              "      <th>4</th>\n",
              "      <td>Brazil</td>\n",
              "      <td>Serie A</td>\n",
              "      <td>2012</td>\n",
              "      <td>20/05/2012</td>\n",
              "      <td>20:00</td>\n",
              "      <td>Corinthians</td>\n",
              "      <td>Fluminense</td>\n",
              "      <td>0.0</td>\n",
              "      <td>1.0</td>\n",
              "      <td>A</td>\n",
              "      <td>1.96</td>\n",
              "      <td>3.53</td>\n",
              "      <td>4.41</td>\n",
              "      <td>1.96</td>\n",
              "      <td>3.53</td>\n",
              "      <td>4.41</td>\n",
              "      <td>1.89</td>\n",
              "      <td>3.33</td>\n",
              "      <td>3.89</td>\n",
              "    </tr>\n",
              "  </tbody>\n",
              "</table>\n",
              "</div>\n",
              "      <button class=\"colab-df-convert\" onclick=\"convertToInteractive('df-958abc94-6f53-4344-a489-f4376aea0f76')\"\n",
              "              title=\"Convert this dataframe to an interactive table.\"\n",
              "              style=\"display:none;\">\n",
              "        \n",
              "  <svg xmlns=\"http://www.w3.org/2000/svg\" height=\"24px\"viewBox=\"0 0 24 24\"\n",
              "       width=\"24px\">\n",
              "    <path d=\"M0 0h24v24H0V0z\" fill=\"none\"/>\n",
              "    <path d=\"M18.56 5.44l.94 2.06.94-2.06 2.06-.94-2.06-.94-.94-2.06-.94 2.06-2.06.94zm-11 1L8.5 8.5l.94-2.06 2.06-.94-2.06-.94L8.5 2.5l-.94 2.06-2.06.94zm10 10l.94 2.06.94-2.06 2.06-.94-2.06-.94-.94-2.06-.94 2.06-2.06.94z\"/><path d=\"M17.41 7.96l-1.37-1.37c-.4-.4-.92-.59-1.43-.59-.52 0-1.04.2-1.43.59L10.3 9.45l-7.72 7.72c-.78.78-.78 2.05 0 2.83L4 21.41c.39.39.9.59 1.41.59.51 0 1.02-.2 1.41-.59l7.78-7.78 2.81-2.81c.8-.78.8-2.07 0-2.86zM5.41 20L4 18.59l7.72-7.72 1.47 1.35L5.41 20z\"/>\n",
              "  </svg>\n",
              "      </button>\n",
              "      \n",
              "  <style>\n",
              "    .colab-df-container {\n",
              "      display:flex;\n",
              "      flex-wrap:wrap;\n",
              "      gap: 12px;\n",
              "    }\n",
              "\n",
              "    .colab-df-convert {\n",
              "      background-color: #E8F0FE;\n",
              "      border: none;\n",
              "      border-radius: 50%;\n",
              "      cursor: pointer;\n",
              "      display: none;\n",
              "      fill: #1967D2;\n",
              "      height: 32px;\n",
              "      padding: 0 0 0 0;\n",
              "      width: 32px;\n",
              "    }\n",
              "\n",
              "    .colab-df-convert:hover {\n",
              "      background-color: #E2EBFA;\n",
              "      box-shadow: 0px 1px 2px rgba(60, 64, 67, 0.3), 0px 1px 3px 1px rgba(60, 64, 67, 0.15);\n",
              "      fill: #174EA6;\n",
              "    }\n",
              "\n",
              "    [theme=dark] .colab-df-convert {\n",
              "      background-color: #3B4455;\n",
              "      fill: #D2E3FC;\n",
              "    }\n",
              "\n",
              "    [theme=dark] .colab-df-convert:hover {\n",
              "      background-color: #434B5C;\n",
              "      box-shadow: 0px 1px 3px 1px rgba(0, 0, 0, 0.15);\n",
              "      filter: drop-shadow(0px 1px 2px rgba(0, 0, 0, 0.3));\n",
              "      fill: #FFFFFF;\n",
              "    }\n",
              "  </style>\n",
              "\n",
              "      <script>\n",
              "        const buttonEl =\n",
              "          document.querySelector('#df-958abc94-6f53-4344-a489-f4376aea0f76 button.colab-df-convert');\n",
              "        buttonEl.style.display =\n",
              "          google.colab.kernel.accessAllowed ? 'block' : 'none';\n",
              "\n",
              "        async function convertToInteractive(key) {\n",
              "          const element = document.querySelector('#df-958abc94-6f53-4344-a489-f4376aea0f76');\n",
              "          const dataTable =\n",
              "            await google.colab.kernel.invokeFunction('convertToInteractive',\n",
              "                                                     [key], {});\n",
              "          if (!dataTable) return;\n",
              "\n",
              "          const docLinkHtml = 'Like what you see? Visit the ' +\n",
              "            '<a target=\"_blank\" href=https://colab.research.google.com/notebooks/data_table.ipynb>data table notebook</a>'\n",
              "            + ' to learn more about interactive tables.';\n",
              "          element.innerHTML = '';\n",
              "          dataTable['output_type'] = 'display_data';\n",
              "          await google.colab.output.renderOutput(dataTable, element);\n",
              "          const docLink = document.createElement('div');\n",
              "          docLink.innerHTML = docLinkHtml;\n",
              "          element.appendChild(docLink);\n",
              "        }\n",
              "      </script>\n",
              "    </div>\n",
              "  </div>\n",
              "  "
            ],
            "text/plain": [
              "  Country   League  Season        Date   Time  ...  MaxD  MaxA  AvgH  AvgD  AvgA\n",
              "0  Brazil  Serie A    2012  19/05/2012  22:30  ...  3.87  5.31  1.69  3.50  4.90\n",
              "1  Brazil  Serie A    2012  19/05/2012  22:30  ...  3.42  2.70  2.59  3.23  2.58\n",
              "2  Brazil  Serie A    2012  20/05/2012  01:00  ...  4.05  7.22  1.59  3.67  5.64\n",
              "3  Brazil  Serie A    2012  20/05/2012  20:00  ...  3.39  3.15  2.35  3.26  2.84\n",
              "4  Brazil  Serie A    2012  20/05/2012  20:00  ...  3.53  4.41  1.89  3.33  3.89\n",
              "\n",
              "[5 rows x 19 columns]"
            ]
          },
          "metadata": {},
          "execution_count": 5
        }
      ]
    },
    {
      "cell_type": "code",
      "metadata": {
        "colab": {
          "base_uri": "https://localhost:8080/",
          "height": 206
        },
        "id": "y99rjmxjGQkR",
        "outputId": "2c1d9862-2e21-4f75-e311-0a9617c16122"
      },
      "source": [
        "dados.tail()"
      ],
      "execution_count": 6,
      "outputs": [
        {
          "output_type": "execute_result",
          "data": {
            "text/html": [
              "\n",
              "  <div id=\"df-30da7d75-e1a0-4f50-925d-c0859684febb\">\n",
              "    <div class=\"colab-df-container\">\n",
              "      <div>\n",
              "<style scoped>\n",
              "    .dataframe tbody tr th:only-of-type {\n",
              "        vertical-align: middle;\n",
              "    }\n",
              "\n",
              "    .dataframe tbody tr th {\n",
              "        vertical-align: top;\n",
              "    }\n",
              "\n",
              "    .dataframe thead th {\n",
              "        text-align: right;\n",
              "    }\n",
              "</style>\n",
              "<table border=\"1\" class=\"dataframe\">\n",
              "  <thead>\n",
              "    <tr style=\"text-align: right;\">\n",
              "      <th></th>\n",
              "      <th>Country</th>\n",
              "      <th>League</th>\n",
              "      <th>Season</th>\n",
              "      <th>Date</th>\n",
              "      <th>Time</th>\n",
              "      <th>Home</th>\n",
              "      <th>Away</th>\n",
              "      <th>HG</th>\n",
              "      <th>AG</th>\n",
              "      <th>Res</th>\n",
              "      <th>PH</th>\n",
              "      <th>PD</th>\n",
              "      <th>PA</th>\n",
              "      <th>MaxH</th>\n",
              "      <th>MaxD</th>\n",
              "      <th>MaxA</th>\n",
              "      <th>AvgH</th>\n",
              "      <th>AvgD</th>\n",
              "      <th>AvgA</th>\n",
              "    </tr>\n",
              "  </thead>\n",
              "  <tbody>\n",
              "    <tr>\n",
              "      <th>3461</th>\n",
              "      <td>Brazil</td>\n",
              "      <td>Serie A</td>\n",
              "      <td>2021</td>\n",
              "      <td>20/06/2021</td>\n",
              "      <td>22:15</td>\n",
              "      <td>Athletico-PR</td>\n",
              "      <td>Atletico GO</td>\n",
              "      <td>2.0</td>\n",
              "      <td>1.0</td>\n",
              "      <td>H</td>\n",
              "      <td>2.04</td>\n",
              "      <td>3.12</td>\n",
              "      <td>4.47</td>\n",
              "      <td>2.07</td>\n",
              "      <td>3.25</td>\n",
              "      <td>4.58</td>\n",
              "      <td>2.02</td>\n",
              "      <td>2.99</td>\n",
              "      <td>4.29</td>\n",
              "    </tr>\n",
              "    <tr>\n",
              "      <th>3462</th>\n",
              "      <td>Brazil</td>\n",
              "      <td>Serie A</td>\n",
              "      <td>2021</td>\n",
              "      <td>20/06/2021</td>\n",
              "      <td>22:15</td>\n",
              "      <td>Fortaleza</td>\n",
              "      <td>Fluminense</td>\n",
              "      <td>1.0</td>\n",
              "      <td>1.0</td>\n",
              "      <td>D</td>\n",
              "      <td>2.39</td>\n",
              "      <td>2.97</td>\n",
              "      <td>3.59</td>\n",
              "      <td>2.40</td>\n",
              "      <td>3.08</td>\n",
              "      <td>3.70</td>\n",
              "      <td>2.33</td>\n",
              "      <td>2.94</td>\n",
              "      <td>3.40</td>\n",
              "    </tr>\n",
              "    <tr>\n",
              "      <th>3463</th>\n",
              "      <td>Brazil</td>\n",
              "      <td>Serie A</td>\n",
              "      <td>2021</td>\n",
              "      <td>20/06/2021</td>\n",
              "      <td>22:15</td>\n",
              "      <td>Santos</td>\n",
              "      <td>Sao Paulo</td>\n",
              "      <td>2.0</td>\n",
              "      <td>0.0</td>\n",
              "      <td>H</td>\n",
              "      <td>3.27</td>\n",
              "      <td>3.21</td>\n",
              "      <td>2.41</td>\n",
              "      <td>3.27</td>\n",
              "      <td>3.21</td>\n",
              "      <td>2.50</td>\n",
              "      <td>3.06</td>\n",
              "      <td>3.09</td>\n",
              "      <td>2.41</td>\n",
              "    </tr>\n",
              "    <tr>\n",
              "      <th>3464</th>\n",
              "      <td>Brazil</td>\n",
              "      <td>Serie A</td>\n",
              "      <td>2021</td>\n",
              "      <td>21/06/2021</td>\n",
              "      <td>00:30</td>\n",
              "      <td>Juventude</td>\n",
              "      <td>Sport Recife</td>\n",
              "      <td>1.0</td>\n",
              "      <td>0.0</td>\n",
              "      <td>H</td>\n",
              "      <td>2.48</td>\n",
              "      <td>2.97</td>\n",
              "      <td>3.41</td>\n",
              "      <td>2.55</td>\n",
              "      <td>3.10</td>\n",
              "      <td>3.49</td>\n",
              "      <td>2.42</td>\n",
              "      <td>2.93</td>\n",
              "      <td>3.21</td>\n",
              "    </tr>\n",
              "    <tr>\n",
              "      <th>3465</th>\n",
              "      <td>Brazil</td>\n",
              "      <td>Serie A</td>\n",
              "      <td>2021</td>\n",
              "      <td>22/06/2021</td>\n",
              "      <td>00:00</td>\n",
              "      <td>Atletico-MG</td>\n",
              "      <td>Chapecoense-SC</td>\n",
              "      <td>1.0</td>\n",
              "      <td>1.0</td>\n",
              "      <td>D</td>\n",
              "      <td>1.29</td>\n",
              "      <td>5.79</td>\n",
              "      <td>10.78</td>\n",
              "      <td>1.31</td>\n",
              "      <td>6.03</td>\n",
              "      <td>11.93</td>\n",
              "      <td>1.28</td>\n",
              "      <td>5.43</td>\n",
              "      <td>10.08</td>\n",
              "    </tr>\n",
              "  </tbody>\n",
              "</table>\n",
              "</div>\n",
              "      <button class=\"colab-df-convert\" onclick=\"convertToInteractive('df-30da7d75-e1a0-4f50-925d-c0859684febb')\"\n",
              "              title=\"Convert this dataframe to an interactive table.\"\n",
              "              style=\"display:none;\">\n",
              "        \n",
              "  <svg xmlns=\"http://www.w3.org/2000/svg\" height=\"24px\"viewBox=\"0 0 24 24\"\n",
              "       width=\"24px\">\n",
              "    <path d=\"M0 0h24v24H0V0z\" fill=\"none\"/>\n",
              "    <path d=\"M18.56 5.44l.94 2.06.94-2.06 2.06-.94-2.06-.94-.94-2.06-.94 2.06-2.06.94zm-11 1L8.5 8.5l.94-2.06 2.06-.94-2.06-.94L8.5 2.5l-.94 2.06-2.06.94zm10 10l.94 2.06.94-2.06 2.06-.94-2.06-.94-.94-2.06-.94 2.06-2.06.94z\"/><path d=\"M17.41 7.96l-1.37-1.37c-.4-.4-.92-.59-1.43-.59-.52 0-1.04.2-1.43.59L10.3 9.45l-7.72 7.72c-.78.78-.78 2.05 0 2.83L4 21.41c.39.39.9.59 1.41.59.51 0 1.02-.2 1.41-.59l7.78-7.78 2.81-2.81c.8-.78.8-2.07 0-2.86zM5.41 20L4 18.59l7.72-7.72 1.47 1.35L5.41 20z\"/>\n",
              "  </svg>\n",
              "      </button>\n",
              "      \n",
              "  <style>\n",
              "    .colab-df-container {\n",
              "      display:flex;\n",
              "      flex-wrap:wrap;\n",
              "      gap: 12px;\n",
              "    }\n",
              "\n",
              "    .colab-df-convert {\n",
              "      background-color: #E8F0FE;\n",
              "      border: none;\n",
              "      border-radius: 50%;\n",
              "      cursor: pointer;\n",
              "      display: none;\n",
              "      fill: #1967D2;\n",
              "      height: 32px;\n",
              "      padding: 0 0 0 0;\n",
              "      width: 32px;\n",
              "    }\n",
              "\n",
              "    .colab-df-convert:hover {\n",
              "      background-color: #E2EBFA;\n",
              "      box-shadow: 0px 1px 2px rgba(60, 64, 67, 0.3), 0px 1px 3px 1px rgba(60, 64, 67, 0.15);\n",
              "      fill: #174EA6;\n",
              "    }\n",
              "\n",
              "    [theme=dark] .colab-df-convert {\n",
              "      background-color: #3B4455;\n",
              "      fill: #D2E3FC;\n",
              "    }\n",
              "\n",
              "    [theme=dark] .colab-df-convert:hover {\n",
              "      background-color: #434B5C;\n",
              "      box-shadow: 0px 1px 3px 1px rgba(0, 0, 0, 0.15);\n",
              "      filter: drop-shadow(0px 1px 2px rgba(0, 0, 0, 0.3));\n",
              "      fill: #FFFFFF;\n",
              "    }\n",
              "  </style>\n",
              "\n",
              "      <script>\n",
              "        const buttonEl =\n",
              "          document.querySelector('#df-30da7d75-e1a0-4f50-925d-c0859684febb button.colab-df-convert');\n",
              "        buttonEl.style.display =\n",
              "          google.colab.kernel.accessAllowed ? 'block' : 'none';\n",
              "\n",
              "        async function convertToInteractive(key) {\n",
              "          const element = document.querySelector('#df-30da7d75-e1a0-4f50-925d-c0859684febb');\n",
              "          const dataTable =\n",
              "            await google.colab.kernel.invokeFunction('convertToInteractive',\n",
              "                                                     [key], {});\n",
              "          if (!dataTable) return;\n",
              "\n",
              "          const docLinkHtml = 'Like what you see? Visit the ' +\n",
              "            '<a target=\"_blank\" href=https://colab.research.google.com/notebooks/data_table.ipynb>data table notebook</a>'\n",
              "            + ' to learn more about interactive tables.';\n",
              "          element.innerHTML = '';\n",
              "          dataTable['output_type'] = 'display_data';\n",
              "          await google.colab.output.renderOutput(dataTable, element);\n",
              "          const docLink = document.createElement('div');\n",
              "          docLink.innerHTML = docLinkHtml;\n",
              "          element.appendChild(docLink);\n",
              "        }\n",
              "      </script>\n",
              "    </div>\n",
              "  </div>\n",
              "  "
            ],
            "text/plain": [
              "     Country   League  Season        Date  ...   MaxA  AvgH  AvgD   AvgA\n",
              "3461  Brazil  Serie A    2021  20/06/2021  ...   4.58  2.02  2.99   4.29\n",
              "3462  Brazil  Serie A    2021  20/06/2021  ...   3.70  2.33  2.94   3.40\n",
              "3463  Brazil  Serie A    2021  20/06/2021  ...   2.50  3.06  3.09   2.41\n",
              "3464  Brazil  Serie A    2021  21/06/2021  ...   3.49  2.42  2.93   3.21\n",
              "3465  Brazil  Serie A    2021  22/06/2021  ...  11.93  1.28  5.43  10.08\n",
              "\n",
              "[5 rows x 19 columns]"
            ]
          },
          "metadata": {},
          "execution_count": 6
        }
      ]
    },
    {
      "cell_type": "code",
      "metadata": {
        "colab": {
          "base_uri": "https://localhost:8080/"
        },
        "id": "OnC3Lv_1GUfR",
        "outputId": "e495d09f-892c-4b97-915e-990f889c49f2"
      },
      "source": [
        "dados.isnull().sum()"
      ],
      "execution_count": 7,
      "outputs": [
        {
          "output_type": "execute_result",
          "data": {
            "text/plain": [
              "Country    0\n",
              "League     0\n",
              "Season     0\n",
              "Date       0\n",
              "Time       0\n",
              "Home       0\n",
              "Away       0\n",
              "HG         1\n",
              "AG         1\n",
              "Res        1\n",
              "PH         1\n",
              "PD         1\n",
              "PA         1\n",
              "MaxH       0\n",
              "MaxD       0\n",
              "MaxA       0\n",
              "AvgH       0\n",
              "AvgD       0\n",
              "AvgA       0\n",
              "dtype: int64"
            ]
          },
          "metadata": {},
          "execution_count": 7
        }
      ]
    },
    {
      "cell_type": "code",
      "metadata": {
        "id": "8T99-1WNNqyq"
      },
      "source": [
        "dados = dados.fillna(0)"
      ],
      "execution_count": 8,
      "outputs": []
    },
    {
      "cell_type": "code",
      "metadata": {
        "colab": {
          "base_uri": "https://localhost:8080/"
        },
        "id": "BEqTDfWGqv9i",
        "outputId": "bdc09667-9016-4c40-84f7-8c6aafb1ba60"
      },
      "source": [
        "dados.isnull().sum()"
      ],
      "execution_count": 9,
      "outputs": [
        {
          "output_type": "execute_result",
          "data": {
            "text/plain": [
              "Country    0\n",
              "League     0\n",
              "Season     0\n",
              "Date       0\n",
              "Time       0\n",
              "Home       0\n",
              "Away       0\n",
              "HG         0\n",
              "AG         0\n",
              "Res        0\n",
              "PH         0\n",
              "PD         0\n",
              "PA         0\n",
              "MaxH       0\n",
              "MaxD       0\n",
              "MaxA       0\n",
              "AvgH       0\n",
              "AvgD       0\n",
              "AvgA       0\n",
              "dtype: int64"
            ]
          },
          "metadata": {},
          "execution_count": 9
        }
      ]
    },
    {
      "cell_type": "code",
      "metadata": {
        "colab": {
          "base_uri": "https://localhost:8080/"
        },
        "id": "qNLYBEEUGcLK",
        "outputId": "04a71756-a449-4fd3-b706-ac64e9e6fbba"
      },
      "source": [
        "dados.duplicated().sum()"
      ],
      "execution_count": 10,
      "outputs": [
        {
          "output_type": "execute_result",
          "data": {
            "text/plain": [
              "0"
            ]
          },
          "metadata": {},
          "execution_count": 10
        }
      ]
    },
    {
      "cell_type": "code",
      "metadata": {
        "colab": {
          "base_uri": "https://localhost:8080/"
        },
        "id": "i5qsQGIbGesK",
        "outputId": "3c16b824-6c8a-4a4c-f805-dcc970ce9bd1"
      },
      "source": [
        "dados['Res'].value_counts()"
      ],
      "execution_count": 11,
      "outputs": [
        {
          "output_type": "execute_result",
          "data": {
            "text/plain": [
              "H    1708\n",
              "D     924\n",
              "A     833\n",
              "0       1\n",
              "Name: Res, dtype: int64"
            ]
          },
          "metadata": {},
          "execution_count": 11
        }
      ]
    },
    {
      "cell_type": "code",
      "metadata": {
        "colab": {
          "base_uri": "https://localhost:8080/",
          "height": 81
        },
        "id": "Van5b30OOBB4",
        "outputId": "1fbd7fae-a592-4445-819f-e3429f3c6547"
      },
      "source": [
        "dados[dados['Res'] == 0]"
      ],
      "execution_count": 12,
      "outputs": [
        {
          "output_type": "execute_result",
          "data": {
            "text/html": [
              "\n",
              "  <div id=\"df-08854861-f27e-4cc2-bd7b-68c7de5de50e\">\n",
              "    <div class=\"colab-df-container\">\n",
              "      <div>\n",
              "<style scoped>\n",
              "    .dataframe tbody tr th:only-of-type {\n",
              "        vertical-align: middle;\n",
              "    }\n",
              "\n",
              "    .dataframe tbody tr th {\n",
              "        vertical-align: top;\n",
              "    }\n",
              "\n",
              "    .dataframe thead th {\n",
              "        text-align: right;\n",
              "    }\n",
              "</style>\n",
              "<table border=\"1\" class=\"dataframe\">\n",
              "  <thead>\n",
              "    <tr style=\"text-align: right;\">\n",
              "      <th></th>\n",
              "      <th>Country</th>\n",
              "      <th>League</th>\n",
              "      <th>Season</th>\n",
              "      <th>Date</th>\n",
              "      <th>Time</th>\n",
              "      <th>Home</th>\n",
              "      <th>Away</th>\n",
              "      <th>HG</th>\n",
              "      <th>AG</th>\n",
              "      <th>Res</th>\n",
              "      <th>PH</th>\n",
              "      <th>PD</th>\n",
              "      <th>PA</th>\n",
              "      <th>MaxH</th>\n",
              "      <th>MaxD</th>\n",
              "      <th>MaxA</th>\n",
              "      <th>AvgH</th>\n",
              "      <th>AvgD</th>\n",
              "      <th>AvgA</th>\n",
              "    </tr>\n",
              "  </thead>\n",
              "  <tbody>\n",
              "    <tr>\n",
              "      <th>1891</th>\n",
              "      <td>Brazil</td>\n",
              "      <td>Serie A</td>\n",
              "      <td>2016</td>\n",
              "      <td>11/12/2016</td>\n",
              "      <td>19:00</td>\n",
              "      <td>Chapecoense-SC</td>\n",
              "      <td>Atletico-MG</td>\n",
              "      <td>0.0</td>\n",
              "      <td>0.0</td>\n",
              "      <td>0</td>\n",
              "      <td>0.0</td>\n",
              "      <td>0.0</td>\n",
              "      <td>0.0</td>\n",
              "      <td>2.85</td>\n",
              "      <td>3.3</td>\n",
              "      <td>2.68</td>\n",
              "      <td>2.85</td>\n",
              "      <td>3.3</td>\n",
              "      <td>2.67</td>\n",
              "    </tr>\n",
              "  </tbody>\n",
              "</table>\n",
              "</div>\n",
              "      <button class=\"colab-df-convert\" onclick=\"convertToInteractive('df-08854861-f27e-4cc2-bd7b-68c7de5de50e')\"\n",
              "              title=\"Convert this dataframe to an interactive table.\"\n",
              "              style=\"display:none;\">\n",
              "        \n",
              "  <svg xmlns=\"http://www.w3.org/2000/svg\" height=\"24px\"viewBox=\"0 0 24 24\"\n",
              "       width=\"24px\">\n",
              "    <path d=\"M0 0h24v24H0V0z\" fill=\"none\"/>\n",
              "    <path d=\"M18.56 5.44l.94 2.06.94-2.06 2.06-.94-2.06-.94-.94-2.06-.94 2.06-2.06.94zm-11 1L8.5 8.5l.94-2.06 2.06-.94-2.06-.94L8.5 2.5l-.94 2.06-2.06.94zm10 10l.94 2.06.94-2.06 2.06-.94-2.06-.94-.94-2.06-.94 2.06-2.06.94z\"/><path d=\"M17.41 7.96l-1.37-1.37c-.4-.4-.92-.59-1.43-.59-.52 0-1.04.2-1.43.59L10.3 9.45l-7.72 7.72c-.78.78-.78 2.05 0 2.83L4 21.41c.39.39.9.59 1.41.59.51 0 1.02-.2 1.41-.59l7.78-7.78 2.81-2.81c.8-.78.8-2.07 0-2.86zM5.41 20L4 18.59l7.72-7.72 1.47 1.35L5.41 20z\"/>\n",
              "  </svg>\n",
              "      </button>\n",
              "      \n",
              "  <style>\n",
              "    .colab-df-container {\n",
              "      display:flex;\n",
              "      flex-wrap:wrap;\n",
              "      gap: 12px;\n",
              "    }\n",
              "\n",
              "    .colab-df-convert {\n",
              "      background-color: #E8F0FE;\n",
              "      border: none;\n",
              "      border-radius: 50%;\n",
              "      cursor: pointer;\n",
              "      display: none;\n",
              "      fill: #1967D2;\n",
              "      height: 32px;\n",
              "      padding: 0 0 0 0;\n",
              "      width: 32px;\n",
              "    }\n",
              "\n",
              "    .colab-df-convert:hover {\n",
              "      background-color: #E2EBFA;\n",
              "      box-shadow: 0px 1px 2px rgba(60, 64, 67, 0.3), 0px 1px 3px 1px rgba(60, 64, 67, 0.15);\n",
              "      fill: #174EA6;\n",
              "    }\n",
              "\n",
              "    [theme=dark] .colab-df-convert {\n",
              "      background-color: #3B4455;\n",
              "      fill: #D2E3FC;\n",
              "    }\n",
              "\n",
              "    [theme=dark] .colab-df-convert:hover {\n",
              "      background-color: #434B5C;\n",
              "      box-shadow: 0px 1px 3px 1px rgba(0, 0, 0, 0.15);\n",
              "      filter: drop-shadow(0px 1px 2px rgba(0, 0, 0, 0.3));\n",
              "      fill: #FFFFFF;\n",
              "    }\n",
              "  </style>\n",
              "\n",
              "      <script>\n",
              "        const buttonEl =\n",
              "          document.querySelector('#df-08854861-f27e-4cc2-bd7b-68c7de5de50e button.colab-df-convert');\n",
              "        buttonEl.style.display =\n",
              "          google.colab.kernel.accessAllowed ? 'block' : 'none';\n",
              "\n",
              "        async function convertToInteractive(key) {\n",
              "          const element = document.querySelector('#df-08854861-f27e-4cc2-bd7b-68c7de5de50e');\n",
              "          const dataTable =\n",
              "            await google.colab.kernel.invokeFunction('convertToInteractive',\n",
              "                                                     [key], {});\n",
              "          if (!dataTable) return;\n",
              "\n",
              "          const docLinkHtml = 'Like what you see? Visit the ' +\n",
              "            '<a target=\"_blank\" href=https://colab.research.google.com/notebooks/data_table.ipynb>data table notebook</a>'\n",
              "            + ' to learn more about interactive tables.';\n",
              "          element.innerHTML = '';\n",
              "          dataTable['output_type'] = 'display_data';\n",
              "          await google.colab.output.renderOutput(dataTable, element);\n",
              "          const docLink = document.createElement('div');\n",
              "          docLink.innerHTML = docLinkHtml;\n",
              "          element.appendChild(docLink);\n",
              "        }\n",
              "      </script>\n",
              "    </div>\n",
              "  </div>\n",
              "  "
            ],
            "text/plain": [
              "     Country   League  Season        Date   Time  ... MaxD  MaxA  AvgH  AvgD  AvgA\n",
              "1891  Brazil  Serie A    2016  11/12/2016  19:00  ...  3.3  2.68  2.85   3.3  2.67\n",
              "\n",
              "[1 rows x 19 columns]"
            ]
          },
          "metadata": {},
          "execution_count": 12
        }
      ]
    },
    {
      "cell_type": "code",
      "metadata": {
        "id": "2hfn8xiBOfFQ"
      },
      "source": [
        "dados[dados['Res'] == 0] = 1"
      ],
      "execution_count": 13,
      "outputs": []
    },
    {
      "cell_type": "code",
      "metadata": {
        "colab": {
          "base_uri": "https://localhost:8080/",
          "height": 542
        },
        "id": "vqp-ukUMLM_x",
        "outputId": "5e5b6bde-0aae-461c-9025-427e65d3cdcd"
      },
      "source": [
        "layout = go.Layout(title=\"Resultados das Partidas - H: Vitória time da casa, D: Empate, A: Vitória do visitante\", xaxis= {'title':'Resultados'},\n",
        "                   yaxis=dict(title='Nº de Partidas'), hovermode='closest')\n",
        "fig = go.Figure(data=[go.Histogram(x=dados['Res'], marker_color='#330C73')], layout=layout)\n",
        "\n",
        "fig.show()"
      ],
      "execution_count": 14,
      "outputs": [
        {
          "output_type": "display_data",
          "data": {
            "text/html": [
              "<html>\n",
              "<head><meta charset=\"utf-8\" /></head>\n",
              "<body>\n",
              "    <div>\n",
              "            <script src=\"https://cdnjs.cloudflare.com/ajax/libs/mathjax/2.7.5/MathJax.js?config=TeX-AMS-MML_SVG\"></script><script type=\"text/javascript\">if (window.MathJax) {MathJax.Hub.Config({SVG: {font: \"STIX-Web\"}});}</script>\n",
              "                <script type=\"text/javascript\">window.PlotlyConfig = {MathJaxConfig: 'local'};</script>\n",
              "        <script src=\"https://cdn.plot.ly/plotly-latest.min.js\"></script>    \n",
              "            <div id=\"b5a4aad7-ffa9-41da-b5a3-53b441145622\" class=\"plotly-graph-div\" style=\"height:525px; width:100%;\"></div>\n",
              "            <script type=\"text/javascript\">\n",
              "                \n",
              "                    window.PLOTLYENV=window.PLOTLYENV || {};\n",
              "                    \n",
              "                if (document.getElementById(\"b5a4aad7-ffa9-41da-b5a3-53b441145622\")) {\n",
              "                    Plotly.newPlot(\n",
              "                        'b5a4aad7-ffa9-41da-b5a3-53b441145622',\n",
              "                        [{\"marker\": {\"color\": \"#330C73\"}, \"type\": \"histogram\", \"x\": [\"D\", \"D\", \"H\", \"H\", \"A\", \"H\", \"A\", \"D\", \"D\", \"H\", \"D\", \"D\", \"A\", \"D\", \"H\", \"A\", \"D\", \"H\", \"D\", \"H\", \"A\", \"H\", \"D\", \"H\", \"H\", \"H\", \"D\", \"D\", \"A\", \"D\", \"H\", \"A\", \"H\", \"A\", \"D\", \"H\", \"H\", \"D\", \"H\", \"H\", \"H\", \"A\", \"H\", \"H\", \"H\", \"D\", \"H\", \"H\", \"H\", \"H\", \"H\", \"A\", \"H\", \"H\", \"D\", \"H\", \"A\", \"A\", \"D\", \"A\", \"A\", \"A\", \"H\", \"D\", \"A\", \"D\", \"H\", \"A\", \"H\", \"H\", \"H\", \"A\", \"D\", \"H\", \"H\", \"H\", \"H\", \"H\", \"D\", \"A\", \"H\", \"A\", \"H\", \"A\", \"D\", \"A\", \"D\", \"D\", \"H\", \"H\", \"H\", \"D\", \"H\", \"A\", \"H\", \"A\", \"A\", \"H\", \"D\", \"H\", \"A\", \"H\", \"D\", \"H\", \"A\", \"H\", \"H\", \"D\", \"A\", \"A\", \"A\", \"D\", \"A\", \"H\", \"H\", \"H\", \"H\", \"H\", \"D\", \"A\", \"H\", \"D\", \"H\", \"D\", \"D\", \"H\", \"D\", \"H\", \"H\", \"H\", \"A\", \"A\", \"H\", \"A\", \"H\", \"H\", \"D\", \"A\", \"H\", \"D\", \"A\", \"D\", \"D\", \"A\", \"A\", \"H\", \"H\", \"H\", \"D\", \"A\", \"D\", \"A\", \"H\", \"H\", \"A\", \"H\", \"A\", \"H\", \"D\", \"D\", \"A\", \"D\", \"A\", \"H\", \"H\", \"H\", \"H\", \"A\", \"D\", \"H\", \"H\", \"H\", \"H\", \"H\", \"H\", \"H\", \"H\", \"H\", \"D\", \"A\", \"A\", \"H\", \"D\", \"A\", \"H\", \"A\", \"D\", \"D\", \"D\", \"H\", \"A\", \"D\", \"H\", \"H\", \"A\", \"D\", \"H\", \"D\", \"H\", \"D\", \"D\", \"H\", \"H\", \"H\", \"H\", \"H\", \"H\", \"H\", \"H\", \"D\", \"A\", \"D\", \"H\", \"H\", \"A\", \"H\", \"D\", \"H\", \"H\", \"H\", \"D\", \"H\", \"H\", \"A\", \"D\", \"D\", \"H\", \"H\", \"A\", \"D\", \"H\", \"A\", \"A\", \"D\", \"H\", \"H\", \"H\", \"D\", \"H\", \"H\", \"A\", \"H\", \"A\", \"D\", \"H\", \"A\", \"D\", \"D\", \"D\", \"A\", \"H\", \"A\", \"A\", \"D\", \"D\", \"H\", \"D\", \"H\", \"H\", \"H\", \"D\", \"H\", \"D\", \"H\", \"H\", \"H\", \"H\", \"D\", \"A\", \"D\", \"H\", \"D\", \"H\", \"H\", \"A\", \"H\", \"D\", \"H\", \"H\", \"H\", \"A\", \"A\", \"H\", \"H\", \"H\", \"H\", \"H\", \"A\", \"A\", \"A\", \"H\", \"D\", \"D\", \"H\", \"H\", \"H\", \"H\", \"H\", \"H\", \"D\", \"A\", \"H\", \"D\", \"A\", \"H\", \"D\", \"D\", \"H\", \"H\", \"H\", \"D\", \"D\", \"H\", \"H\", \"H\", \"D\", \"A\", \"H\", \"A\", \"A\", \"H\", \"H\", \"D\", \"H\", \"H\", \"D\", \"H\", \"D\", \"A\", \"D\", \"A\", \"H\", \"H\", \"A\", \"D\", \"D\", \"A\", \"H\", \"H\", \"A\", \"H\", \"H\", \"H\", \"H\", \"A\", \"D\", \"H\", \"D\", \"A\", \"H\", \"A\", \"H\", \"D\", \"H\", \"D\", \"A\", \"H\", \"A\", \"D\", \"H\", \"D\", \"D\", \"D\", \"A\", \"H\", \"A\", \"A\", \"A\", \"D\", \"D\", \"D\", \"H\", \"A\", \"H\", \"H\", \"A\", \"D\", \"H\", \"D\", \"H\", \"H\", \"D\", \"D\", \"H\", \"H\", \"A\", \"D\", \"H\", \"H\", \"H\", \"D\", \"H\", \"H\", \"D\", \"A\", \"A\", \"D\", \"H\", \"D\", \"H\", \"D\", \"D\", \"H\", \"H\", \"D\", \"H\", \"A\", \"D\", \"H\", \"D\", \"A\", \"H\", \"A\", \"H\", \"H\", \"H\", \"A\", \"H\", \"A\", \"D\", \"D\", \"D\", \"A\", \"H\", \"H\", \"H\", \"H\", \"H\", \"D\", \"H\", \"D\", \"D\", \"A\", \"D\", \"A\", \"H\", \"H\", \"A\", \"H\", \"H\", \"A\", \"A\", \"H\", \"D\", \"A\", \"H\", \"H\", \"H\", \"D\", \"H\", \"A\", \"H\", \"H\", \"A\", \"D\", \"H\", \"D\", \"D\", \"A\", \"H\", \"A\", \"A\", \"H\", \"H\", \"D\", \"H\", \"H\", \"H\", \"H\", \"D\", \"D\", \"A\", \"H\", \"D\", \"H\", \"H\", \"H\", \"H\", \"D\", \"H\", \"H\", \"A\", \"H\", \"D\", \"D\", \"A\", \"H\", \"A\", \"D\", \"H\", \"D\", \"D\", \"H\", \"D\", \"A\", \"D\", \"D\", \"D\", \"H\", \"A\", \"D\", \"A\", \"A\", \"D\", \"H\", \"H\", \"H\", \"H\", \"D\", \"D\", \"H\", \"D\", \"D\", \"H\", \"D\", \"D\", \"H\", \"A\", \"A\", \"H\", \"D\", \"A\", \"A\", \"H\", \"D\", \"D\", \"A\", \"A\", \"H\", \"H\", \"H\", \"H\", \"H\", \"D\", \"H\", \"D\", \"D\", \"H\", \"A\", \"H\", \"A\", \"D\", \"H\", \"D\", \"A\", \"H\", \"H\", \"A\", \"H\", \"H\", \"H\", \"D\", \"A\", \"H\", \"H\", \"A\", \"A\", \"H\", \"A\", \"H\", \"D\", \"H\", \"D\", \"H\", \"H\", \"A\", \"D\", \"A\", \"D\", \"D\", \"A\", \"H\", \"A\", \"H\", \"D\", \"H\", \"H\", \"H\", \"H\", \"H\", \"A\", \"D\", \"A\", \"D\", \"A\", \"A\", \"A\", \"H\", \"D\", \"A\", \"D\", \"A\", \"H\", \"H\", \"H\", \"A\", \"H\", \"H\", \"D\", \"D\", \"A\", \"D\", \"H\", \"A\", \"D\", \"H\", \"H\", \"H\", \"D\", \"D\", \"A\", \"H\", \"A\", \"D\", \"H\", \"H\", \"A\", \"H\", \"A\", \"A\", \"A\", \"H\", \"H\", \"D\", \"H\", \"H\", \"A\", \"H\", \"H\", \"H\", \"A\", \"H\", \"D\", \"H\", \"D\", \"H\", \"A\", \"D\", \"D\", \"H\", \"H\", \"A\", \"H\", \"H\", \"D\", \"A\", \"A\", \"H\", \"A\", \"H\", \"D\", \"H\", \"H\", \"H\", \"H\", \"H\", \"D\", \"H\", \"H\", \"H\", \"H\", \"D\", \"A\", \"H\", \"H\", \"H\", \"H\", \"H\", \"A\", \"H\", \"D\", \"A\", \"H\", \"H\", \"A\", \"H\", \"D\", \"D\", \"H\", \"D\", \"H\", \"H\", \"D\", \"D\", \"A\", \"H\", \"D\", \"H\", \"A\", \"A\", \"H\", \"H\", \"H\", \"H\", \"D\", \"A\", \"D\", \"H\", \"D\", \"H\", \"D\", \"D\", \"D\", \"H\", \"H\", \"H\", \"A\", \"H\", \"A\", \"D\", \"H\", \"H\", \"D\", \"H\", \"A\", \"H\", \"A\", \"H\", \"H\", \"H\", \"H\", \"A\", \"D\", \"D\", \"H\", \"H\", \"H\", \"H\", \"A\", \"H\", \"D\", \"H\", \"H\", \"H\", \"H\", \"D\", \"H\", \"H\", \"D\", \"D\", \"D\", \"D\", \"H\", \"H\", \"A\", \"A\", \"H\", \"H\", \"H\", \"H\", \"D\", \"H\", \"D\", \"H\", \"A\", \"H\", \"A\", \"D\", \"D\", \"A\", \"H\", \"H\", \"D\", \"D\", \"H\", \"A\", \"H\", \"A\", \"D\", \"D\", \"D\", \"A\", \"D\", \"H\", \"D\", \"D\", \"A\", \"H\", \"H\", \"H\", \"A\", \"D\", \"D\", \"A\", \"H\", \"H\", \"H\", \"H\", \"A\", \"A\", \"H\", \"H\", \"H\", \"H\", \"A\", \"H\", \"D\", \"D\", \"A\", \"A\", \"H\", \"H\", \"D\", \"A\", \"A\", \"H\", \"D\", \"A\", \"A\", \"D\", \"D\", \"H\", \"H\", \"D\", \"H\", \"H\", \"D\", \"H\", \"A\", \"A\", \"H\", \"H\", \"A\", \"D\", \"A\", \"D\", \"D\", \"H\", \"A\", \"H\", \"A\", \"D\", \"D\", \"H\", \"H\", \"D\", \"H\", \"D\", \"A\", \"H\", \"H\", \"A\", \"H\", \"D\", \"H\", \"D\", \"A\", \"D\", \"H\", \"H\", \"A\", \"D\", \"H\", \"A\", \"H\", \"A\", \"H\", \"H\", \"H\", \"D\", \"A\", \"A\", \"H\", \"H\", \"A\", \"D\", \"H\", \"H\", \"D\", \"A\", \"H\", \"H\", \"A\", \"A\", \"H\", \"H\", \"H\", \"H\", \"A\", \"D\", \"D\", \"H\", \"H\", \"D\", \"H\", \"D\", \"H\", \"H\", \"H\", \"D\", \"H\", \"D\", \"D\", \"H\", \"H\", \"H\", \"A\", \"H\", \"A\", \"H\", \"A\", \"D\", \"A\", \"H\", \"H\", \"A\", \"D\", \"H\", \"D\", \"D\", \"H\", \"H\", \"H\", \"D\", \"H\", \"H\", \"H\", \"A\", \"H\", \"H\", \"H\", \"H\", \"H\", \"A\", \"H\", \"H\", \"H\", \"A\", \"D\", \"A\", \"H\", \"A\", \"H\", \"D\", \"D\", \"D\", \"H\", \"H\", \"H\", \"A\", \"A\", \"H\", \"D\", \"H\", \"D\", \"D\", \"H\", \"D\", \"D\", \"A\", \"D\", \"H\", \"H\", \"H\", \"H\", \"A\", \"H\", \"H\", \"H\", \"H\", \"H\", \"H\", \"H\", \"H\", \"H\", \"H\", \"H\", \"D\", \"H\", \"H\", \"H\", \"H\", \"D\", \"D\", \"A\", \"H\", \"D\", \"D\", \"A\", \"D\", \"A\", \"D\", \"H\", \"A\", \"D\", \"H\", \"H\", \"H\", \"H\", \"H\", \"A\", \"H\", \"H\", \"H\", \"H\", \"D\", \"D\", \"H\", \"H\", \"H\", \"D\", \"D\", \"A\", \"H\", \"H\", \"H\", \"A\", \"H\", \"H\", \"H\", \"H\", \"H\", \"A\", \"D\", \"A\", \"H\", \"H\", \"H\", \"H\", \"H\", \"A\", \"H\", \"H\", \"D\", \"A\", \"A\", \"H\", \"D\", \"H\", \"H\", \"H\", \"H\", \"H\", \"H\", \"A\", \"H\", \"H\", \"H\", \"H\", \"A\", \"H\", \"D\", \"H\", \"H\", \"H\", \"H\", \"A\", \"A\", \"D\", \"A\", \"D\", \"H\", \"A\", \"D\", \"H\", \"H\", \"H\", \"D\", \"A\", \"A\", \"D\", \"H\", \"D\", \"H\", \"D\", \"D\", \"H\", \"H\", \"H\", \"H\", \"A\", \"H\", \"D\", \"A\", \"H\", \"A\", \"H\", \"H\", \"H\", \"A\", \"H\", \"A\", \"A\", \"H\", \"H\", \"D\", \"A\", \"H\", \"H\", \"H\", \"D\", \"A\", \"H\", \"A\", \"A\", \"H\", \"H\", \"A\", \"D\", \"A\", \"H\", \"D\", \"A\", \"A\", \"A\", \"D\", \"H\", \"A\", \"A\", \"A\", \"H\", \"A\", \"H\", \"H\", \"D\", \"A\", \"D\", \"H\", \"H\", \"H\", \"D\", \"H\", \"H\", \"D\", \"H\", \"H\", \"D\", \"A\", \"H\", \"H\", \"H\", \"A\", \"D\", \"H\", \"H\", \"H\", \"D\", \"D\", \"H\", \"A\", \"H\", \"D\", \"H\", \"D\", \"H\", \"A\", \"H\", \"H\", \"D\", \"D\", \"H\", \"H\", \"H\", \"D\", \"H\", \"D\", \"H\", \"H\", \"D\", \"H\", \"H\", \"D\", \"H\", \"A\", \"H\", \"H\", \"H\", \"D\", \"D\", \"H\", \"A\", \"H\", \"A\", \"D\", \"H\", \"A\", \"D\", \"D\", \"H\", \"A\", \"H\", \"H\", \"A\", \"H\", \"A\", \"H\", \"H\", \"H\", \"D\", \"H\", \"A\", \"H\", \"D\", \"H\", \"A\", \"H\", \"H\", \"H\", \"D\", \"A\", \"D\", \"A\", \"H\", \"A\", \"H\", \"A\", \"D\", \"D\", \"H\", \"H\", \"D\", \"A\", \"H\", \"H\", \"H\", \"A\", \"D\", \"H\", \"D\", \"H\", \"A\", \"D\", \"H\", \"H\", \"H\", \"A\", \"H\", \"H\", \"H\", \"H\", \"H\", \"H\", \"H\", \"H\", \"H\", \"H\", \"A\", \"H\", \"H\", \"H\", \"D\", \"H\", \"H\", \"D\", \"D\", \"A\", \"D\", \"A\", \"A\", \"A\", \"H\", \"D\", \"H\", \"A\", \"H\", \"H\", \"A\", \"A\", \"H\", \"H\", \"H\", \"H\", \"A\", \"H\", \"A\", \"H\", \"A\", \"A\", \"H\", \"D\", \"H\", \"H\", \"H\", \"H\", \"D\", \"A\", \"H\", \"H\", \"D\", \"D\", \"A\", \"D\", \"H\", \"H\", \"H\", \"D\", \"A\", \"D\", \"H\", \"A\", \"H\", \"H\", \"H\", \"D\", \"A\", \"H\", \"D\", \"D\", \"H\", \"D\", \"H\", \"H\", \"D\", \"D\", \"H\", \"D\", \"H\", \"D\", \"D\", \"H\", \"H\", \"H\", \"D\", \"H\", \"H\", \"A\", \"H\", \"H\", \"A\", \"H\", \"D\", \"A\", \"A\", \"H\", \"A\", \"D\", \"H\", \"D\", \"H\", \"H\", \"H\", \"H\", \"H\", \"H\", \"D\", \"H\", \"H\", \"H\", \"H\", \"H\", \"A\", \"H\", \"H\", \"D\", \"A\", \"A\", \"H\", \"A\", \"H\", \"A\", \"H\", \"D\", \"A\", \"A\", \"H\", \"H\", \"D\", \"H\", \"H\", \"A\", \"H\", \"A\", \"D\", \"D\", \"H\", \"A\", \"A\", \"H\", \"D\", \"D\", \"H\", \"H\", \"A\", \"D\", \"D\", \"D\", \"H\", \"H\", \"H\", \"D\", \"A\", \"H\", \"H\", \"H\", \"A\", \"D\", \"A\", \"H\", \"H\", \"H\", \"A\", \"A\", \"D\", \"A\", \"A\", \"D\", \"H\", \"H\", \"D\", \"A\", \"D\", \"H\", \"H\", \"H\", \"H\", \"H\", \"H\", \"H\", \"A\", \"H\", \"H\", \"H\", \"A\", \"H\", \"A\", \"A\", \"D\", \"D\", \"H\", \"H\", \"A\", \"H\", \"H\", \"D\", \"H\", \"D\", \"A\", \"D\", \"H\", \"H\", \"H\", \"H\", \"H\", \"H\", \"A\", \"D\", \"H\", \"H\", \"D\", \"H\", \"A\", \"H\", \"H\", \"H\", \"A\", \"A\", \"D\", \"A\", \"H\", \"H\", \"A\", \"D\", \"H\", \"A\", \"D\", \"H\", \"A\", \"D\", \"A\", \"H\", \"H\", \"D\", \"H\", \"D\", \"A\", \"D\", \"H\", \"H\", \"A\", \"H\", \"H\", \"H\", \"H\", \"A\", \"H\", \"A\", \"H\", \"A\", \"D\", \"H\", \"H\", \"A\", \"D\", \"H\", \"A\", \"H\", \"H\", \"D\", \"H\", \"D\", \"D\", \"D\", \"H\", \"D\", \"H\", \"A\", \"D\", \"H\", \"H\", \"D\", \"H\", \"D\", \"H\", \"H\", \"H\", \"H\", \"A\", \"A\", \"H\", \"H\", \"H\", \"D\", \"D\", \"H\", \"A\", \"A\", \"H\", \"A\", \"A\", \"H\", \"H\", \"H\", \"H\", \"H\", \"A\", \"H\", \"A\", \"D\", \"D\", \"D\", \"H\", \"D\", \"D\", \"D\", \"H\", \"H\", \"H\", \"A\", \"H\", \"D\", \"H\", \"D\", \"D\", \"D\", \"D\", \"H\", \"H\", \"H\", \"H\", \"A\", \"D\", \"H\", \"D\", \"A\", \"A\", \"H\", \"H\", \"D\", \"H\", \"A\", \"H\", \"H\", \"A\", \"A\", \"D\", \"A\", \"H\", \"A\", \"H\", \"H\", \"H\", \"D\", \"H\", \"H\", \"H\", \"A\", \"H\", \"D\", \"H\", \"A\", \"H\", \"H\", \"D\", \"A\", \"D\", \"H\", \"A\", \"H\", \"H\", \"A\", \"D\", \"H\", \"H\", \"H\", \"H\", \"H\", \"D\", \"A\", \"H\", \"H\", \"H\", \"H\", \"H\", \"H\", \"A\", \"H\", \"H\", \"D\", \"H\", \"H\", \"H\", \"A\", \"D\", \"A\", \"H\", \"A\", \"D\", \"A\", \"D\", \"D\", \"H\", \"H\", \"A\", \"H\", \"A\", \"A\", \"H\", \"D\", \"D\", \"H\", \"H\", \"H\", \"H\", \"H\", \"H\", \"A\", \"H\", \"H\", \"A\", \"H\", \"D\", \"H\", \"D\", \"A\", \"H\", \"H\", \"H\", \"H\", \"D\", \"A\", \"A\", \"D\", \"H\", \"H\", \"H\", \"H\", \"H\", \"D\", \"A\", \"D\", \"D\", \"H\", \"A\", \"D\", \"D\", \"D\", \"H\", \"A\", \"H\", \"H\", \"D\", \"A\", \"A\", \"D\", \"H\", \"H\", \"A\", \"H\", \"A\", \"H\", \"H\", \"H\", \"H\", \"H\", \"D\", \"A\", \"A\", \"H\", \"D\", \"H\", \"D\", \"H\", \"H\", \"D\", \"H\", \"D\", \"A\", \"H\", \"D\", \"H\", \"H\", \"H\", \"H\", \"D\", \"A\", \"D\", \"H\", \"D\", \"H\", \"H\", \"H\", \"H\", \"D\", \"H\", \"D\", \"A\", \"A\", \"H\", \"A\", \"H\", \"H\", \"H\", \"D\", \"D\", \"A\", \"H\", \"A\", \"H\", \"H\", \"H\", \"A\", \"A\", \"A\", \"D\", \"D\", \"D\", \"H\", \"H\", \"H\", \"H\", \"H\", \"H\", \"D\", \"H\", \"H\", \"H\", \"H\", \"H\", \"A\", \"H\", \"A\", \"H\", \"H\", \"H\", \"A\", \"H\", \"H\", \"D\", \"D\", \"H\", \"A\", \"D\", \"H\", \"H\", \"D\", \"D\", \"H\", \"A\", \"A\", \"H\", \"A\", \"H\", \"H\", \"D\", \"D\", \"A\", \"A\", \"H\", \"A\", \"H\", \"H\", \"H\", \"H\", \"H\", \"H\", \"A\", \"H\", \"H\", \"H\", \"H\", \"H\", \"A\", \"H\", \"D\", \"H\", \"A\", \"H\", \"H\", \"A\", \"H\", \"H\", \"A\", \"D\", \"H\", \"D\", \"H\", \"H\", \"A\", \"A\", \"H\", \"H\", \"D\", \"H\", \"A\", \"H\", \"D\", \"H\", \"A\", \"H\", \"A\", \"H\", \"H\", \"D\", \"A\", \"H\", \"H\", \"H\", \"D\", \"H\", \"A\", \"A\", \"H\", \"D\", \"D\", \"H\", \"A\", \"D\", \"H\", \"A\", \"H\", \"H\", \"D\", \"D\", \"H\", \"D\", \"D\", \"D\", \"D\", \"H\", \"H\", \"D\", \"H\", \"A\", \"H\", \"H\", \"H\", \"H\", \"H\", \"H\", \"A\", \"D\", \"A\", \"H\", \"A\", \"D\", \"A\", \"H\", \"D\", \"D\", \"D\", \"H\", \"D\", \"H\", \"H\", \"H\", \"H\", \"H\", \"D\", \"D\", \"H\", \"D\", \"D\", \"D\", \"A\", \"H\", \"H\", \"H\", \"H\", \"H\", \"A\", \"D\", 1, \"H\", \"D\", \"A\", \"H\", \"H\", \"H\", \"H\", \"A\", \"D\", \"D\", \"H\", \"D\", \"H\", \"H\", \"H\", \"H\", \"H\", \"H\", \"H\", \"A\", \"H\", \"H\", \"A\", \"A\", \"A\", \"H\", \"D\", \"H\", \"H\", \"H\", \"A\", \"D\", \"A\", \"D\", \"A\", \"H\", \"H\", \"H\", \"H\", \"H\", \"H\", \"H\", \"D\", \"H\", \"D\", \"H\", \"A\", \"H\", \"D\", \"H\", \"H\", \"H\", \"H\", \"A\", \"H\", \"H\", \"A\", \"H\", \"H\", \"H\", \"D\", \"D\", \"H\", \"H\", \"H\", \"H\", \"A\", \"H\", \"H\", \"A\", \"D\", \"D\", \"H\", \"H\", \"H\", \"H\", \"D\", \"A\", \"A\", \"H\", \"D\", \"D\", \"A\", \"A\", \"D\", \"A\", \"A\", \"D\", \"A\", \"H\", \"H\", \"D\", \"H\", \"A\", \"H\", \"H\", \"H\", \"H\", \"A\", \"H\", \"H\", \"H\", \"A\", \"A\", \"D\", \"A\", \"A\", \"A\", \"H\", \"D\", \"H\", \"H\", \"H\", \"H\", \"D\", \"D\", \"D\", \"D\", \"A\", \"A\", \"H\", \"D\", \"D\", \"H\", \"A\", \"D\", \"H\", \"A\", \"A\", \"A\", \"A\", \"A\", \"A\", \"A\", \"A\", \"D\", \"H\", \"A\", \"D\", \"H\", \"A\", \"H\", \"D\", \"H\", \"D\", \"D\", \"A\", \"H\", \"H\", \"A\", \"D\", \"H\", \"A\", \"D\", \"H\", \"D\", \"H\", \"D\", \"A\", \"H\", \"H\", \"H\", \"A\", \"A\", \"D\", \"A\", \"A\", \"D\", \"A\", \"H\", \"A\", \"A\", \"D\", \"A\", \"D\", \"D\", \"A\", \"D\", \"D\", \"A\", \"H\", \"A\", \"A\", \"H\", \"H\", \"A\", \"A\", \"H\", \"H\", \"A\", \"H\", \"H\", \"D\", \"H\", \"A\", \"D\", \"D\", \"D\", \"H\", \"A\", \"H\", \"H\", \"D\", \"D\", \"H\", \"H\", \"D\", \"A\", \"H\", \"D\", \"D\", \"H\", \"H\", \"H\", \"D\", \"A\", \"H\", \"A\", \"A\", \"A\", \"A\", \"H\", \"H\", \"A\", \"H\", \"D\", \"A\", \"H\", \"D\", \"H\", \"D\", \"D\", \"H\", \"A\", \"D\", \"H\", \"A\", \"D\", \"H\", \"A\", \"D\", \"H\", \"H\", \"H\", \"A\", \"A\", \"H\", \"H\", \"D\", \"H\", \"D\", \"A\", \"H\", \"A\", \"A\", \"A\", \"H\", \"D\", \"D\", \"D\", \"A\", \"A\", \"A\", \"D\", \"H\", \"H\", \"A\", \"H\", \"H\", \"D\", \"H\", \"H\", \"H\", \"A\", \"A\", \"D\", \"D\", \"A\", \"D\", \"H\", \"H\", \"A\", \"A\", \"H\", \"D\", \"H\", \"A\", \"D\", \"A\", \"H\", \"A\", \"D\", \"D\", \"H\", \"H\", \"A\", \"H\", \"D\", \"D\", \"H\", \"H\", \"A\", \"A\", \"H\", \"H\", \"H\", \"A\", \"H\", \"H\", \"D\", \"D\", \"D\", \"D\", \"H\", \"A\", \"D\", \"D\", \"D\", \"H\", \"A\", \"A\", \"H\", \"H\", \"H\", \"H\", \"H\", \"D\", \"D\", \"A\", \"A\", \"A\", \"A\", \"H\", \"A\", \"H\", \"H\", \"D\", \"D\", \"A\", \"H\", \"H\", \"D\", \"H\", \"D\", \"D\", \"D\", \"H\", \"H\", \"H\", \"D\", \"H\", \"H\", \"D\", \"A\", \"H\", \"H\", \"H\", \"H\", \"D\", \"H\", \"D\", \"H\", \"D\", \"H\", \"H\", \"H\", \"H\", \"H\", \"A\", \"H\", \"D\", \"A\", \"A\", \"D\", \"A\", \"A\", \"A\", \"H\", \"D\", \"H\", \"H\", \"D\", \"H\", \"D\", \"D\", \"H\", \"H\", \"A\", \"A\", \"D\", \"H\", \"H\", \"H\", \"H\", \"H\", \"H\", \"D\", \"H\", \"H\", \"H\", \"A\", \"H\", \"D\", \"D\", \"H\", \"H\", \"D\", \"D\", \"H\", \"H\", \"D\", \"A\", \"D\", \"D\", \"A\", \"D\", \"H\", \"D\", \"H\", \"D\", \"A\", \"H\", \"H\", \"A\", \"H\", \"H\", \"D\", \"D\", \"H\", \"A\", \"D\", \"H\", \"H\", \"A\", \"H\", \"H\", \"D\", \"H\", \"D\", \"H\", \"H\", \"H\", \"D\", \"H\", \"D\", \"H\", \"H\", \"H\", \"A\", \"A\", \"D\", \"H\", \"D\", \"H\", \"A\", \"A\", \"A\", \"H\", \"H\", \"A\", \"H\", \"H\", \"H\", \"D\", \"H\", \"H\", \"H\", \"D\", \"D\", \"A\", \"H\", \"H\", \"A\", \"H\", \"H\", \"A\", \"H\", \"D\", \"D\", \"H\", \"D\", \"H\", \"D\", \"A\", \"A\", \"H\", \"A\", \"A\", \"H\", \"H\", \"D\", \"H\", \"D\", \"D\", \"H\", \"H\", \"A\", \"H\", \"D\", \"A\", \"D\", \"D\", \"H\", \"D\", \"H\", \"H\", \"H\", \"H\", \"H\", \"H\", \"A\", \"H\", \"D\", \"H\", \"D\", \"D\", \"D\", \"H\", \"H\", \"H\", \"H\", \"H\", \"A\", \"H\", \"D\", \"H\", \"H\", \"H\", \"H\", \"H\", \"D\", \"H\", \"H\", \"H\", \"H\", \"H\", \"H\", \"A\", \"H\", \"A\", \"H\", \"H\", \"D\", \"A\", \"D\", \"D\", \"H\", \"D\", \"D\", \"A\", \"H\", \"D\", \"D\", \"D\", \"A\", \"D\", \"D\", \"H\", \"H\", \"D\", \"H\", \"H\", \"A\", \"H\", \"H\", \"A\", \"H\", \"A\", \"H\", \"H\", \"A\", \"D\", \"A\", \"D\", \"H\", \"D\", \"A\", \"D\", \"H\", \"A\", \"H\", \"D\", \"H\", \"D\", \"H\", \"H\", \"H\", \"H\", \"H\", \"H\", \"D\", \"D\", \"H\", \"H\", \"H\", \"A\", \"H\", \"H\", \"A\", \"D\", \"A\", \"H\", \"D\", \"H\", \"A\", \"D\", \"H\", \"D\", \"H\", \"H\", \"D\", \"H\", \"H\", \"D\", \"D\", \"H\", \"D\", \"H\", \"H\", \"D\", \"H\", \"H\", \"H\", \"A\", \"H\", \"H\", \"H\", \"H\", \"H\", \"D\", \"H\", \"H\", \"D\", \"D\", \"D\", \"H\", \"H\", \"D\", \"H\", \"H\", \"D\", \"H\", \"A\", \"A\", \"H\", \"A\", \"H\", \"D\", \"A\", \"D\", \"D\", \"H\", \"H\", \"D\", \"H\", \"H\", \"H\", \"D\", \"H\", \"A\", \"A\", \"H\", \"H\", \"A\", \"D\", \"H\", \"D\", \"H\", \"H\", \"H\", \"A\", \"H\", \"H\", \"H\", \"D\", \"H\", \"D\", \"D\", \"A\", \"D\", \"H\", \"H\", \"H\", \"D\", \"H\", \"A\", \"D\", \"A\", \"A\", \"D\", \"A\", \"H\", \"H\", \"H\", \"D\", \"H\", \"H\", \"H\", \"A\", \"A\", \"H\", \"A\", \"H\", \"D\", \"D\", \"H\", \"H\", \"H\", \"A\", \"D\", \"H\", \"H\", \"D\", \"D\", \"H\", \"D\", \"D\", \"A\", \"D\", \"H\", \"A\", \"H\", \"H\", \"D\", \"A\", \"H\", \"D\", \"H\", \"H\", \"A\", \"H\", \"H\", \"H\", \"D\", \"A\", \"H\", \"H\", \"D\", \"A\", \"D\", \"H\", \"H\", \"H\", \"H\", \"H\", \"H\", \"H\", \"H\", \"H\", \"D\", \"A\", \"A\", \"D\", \"H\", \"D\", \"H\", \"H\", \"D\", \"H\", \"A\", \"D\", \"D\", \"H\", \"H\", \"H\", \"H\", \"D\", \"H\", \"H\", \"H\", \"H\", \"H\", \"A\", \"H\", \"H\", \"H\", \"A\", \"H\", \"H\", \"D\", \"H\", \"D\", \"H\", \"H\", \"A\", \"A\", \"H\", \"H\", \"H\", \"D\", \"A\", \"D\", \"H\", \"H\", \"D\", \"D\", \"H\", \"A\", \"A\", \"D\", \"H\", \"H\", \"A\", \"H\", \"H\", \"H\", \"D\", \"A\", \"H\", \"H\", \"H\", \"D\", \"A\", \"A\", \"H\", \"H\", \"H\", \"D\", \"A\", \"H\", \"H\", \"D\", \"H\", \"H\", \"A\", \"D\", \"A\", \"H\", \"H\", \"H\", \"H\", \"H\", \"A\", \"D\", \"H\", \"A\", \"H\", \"H\", \"H\", \"D\", \"H\", \"D\", \"D\", \"A\", \"D\", \"H\", \"H\", \"A\", \"H\", \"A\", \"H\", \"H\", \"H\", \"D\", \"D\", \"H\", \"H\", \"H\", \"H\", \"A\", \"D\", \"H\", \"H\", \"H\", \"D\", \"A\", \"D\", \"H\", \"D\", \"H\", \"A\", \"D\", \"A\", \"D\", \"D\", \"D\", \"H\", \"D\", \"A\", \"A\", \"H\", \"D\", \"H\", \"H\", \"A\", \"D\", \"D\", \"H\", \"H\", \"H\", \"A\", \"H\", \"H\", \"D\", \"D\", \"D\", \"H\", \"H\", \"H\", \"H\", \"H\", \"D\", \"D\", \"H\", \"D\", \"A\", \"A\", \"H\", \"A\", \"H\", \"A\", \"D\", \"D\", \"H\", \"A\", \"H\", \"H\", \"A\", \"A\", \"H\", \"H\", \"D\", \"H\", \"D\", \"A\", \"D\", \"D\", \"D\", \"H\", \"H\", \"A\", \"H\", \"H\", \"H\", \"H\", \"H\", \"A\", \"D\", \"A\", \"A\", \"A\", \"H\", \"A\", \"A\", \"H\", \"D\", \"H\", \"H\", \"H\", \"A\", \"H\", \"D\", \"A\", \"A\", \"D\", \"H\", \"H\", \"D\", \"A\", \"A\", \"H\", \"A\", \"H\", \"H\", \"A\", \"D\", \"H\", \"H\", \"D\", \"H\", \"H\", \"A\", \"H\", \"D\", \"H\", \"H\", \"D\", \"H\", \"H\", \"D\", \"H\", \"D\", \"H\", \"A\", \"H\", \"H\", \"A\", \"A\", \"H\", \"A\", \"A\", \"D\", \"D\", \"A\", \"A\", \"A\", \"D\", \"H\", \"H\", \"H\", \"H\", \"D\", \"H\", \"D\", \"H\", \"D\", \"D\", \"H\", \"H\", \"H\", \"H\", \"A\", \"H\", \"D\", \"H\", \"H\", \"A\", \"D\", \"D\", \"A\", \"A\", \"H\", \"H\", \"D\", \"H\", \"A\", \"H\", \"A\", \"H\", \"A\", \"H\", \"A\", \"H\", \"H\", \"D\", \"D\", \"A\", \"H\", \"D\", \"D\", \"A\", \"D\", \"D\", \"H\", \"H\", \"H\", \"A\", \"H\", \"A\", \"A\", \"H\", \"H\", \"H\", \"A\", \"H\", \"D\", \"A\", \"D\", \"D\", \"D\", \"H\", \"A\", \"H\", \"H\", \"H\", \"D\", \"H\", \"H\", \"H\", \"H\", \"A\", \"D\", \"D\", \"A\", \"H\", \"A\", \"A\", \"H\", \"A\", \"D\", \"D\", \"H\", \"A\", \"H\", \"A\", \"A\", \"H\", \"H\", \"D\", \"D\", \"D\", \"D\", \"A\", \"H\", \"H\", \"D\", \"H\", \"D\", \"D\", \"H\", \"A\", \"H\", \"A\", \"H\", \"A\", \"D\", \"D\", \"A\", \"A\", \"A\", \"D\", \"H\", \"H\", \"H\", \"H\", \"H\", \"H\", \"A\", \"A\", \"D\", \"D\", \"A\", \"A\", \"H\", \"A\", \"H\", \"H\", \"H\", \"H\", \"H\", \"A\", \"H\", \"D\", \"H\", \"D\", \"H\", \"H\", \"H\", \"D\", \"D\", \"A\", \"A\", \"A\", \"H\", \"H\", \"H\", \"H\", \"D\", \"A\", \"A\", \"H\", \"A\", \"D\", \"H\", \"H\", \"H\", \"D\", \"H\", \"H\", \"D\", \"D\", \"H\", \"H\", \"H\", \"D\", \"A\", \"D\", \"H\", \"H\", \"H\", \"H\", \"D\", \"D\", \"H\", \"H\", \"D\", \"A\", \"A\", \"H\", \"H\", \"H\", \"A\", \"A\", \"D\", \"A\", \"H\", \"H\", \"D\", \"A\", \"H\", \"D\", \"A\", \"H\", \"H\", \"D\", \"A\", \"D\", \"H\", \"H\", \"H\", \"H\", \"A\", \"A\", \"H\", \"D\", \"A\", \"D\", \"A\", \"D\", \"D\", \"D\", \"A\", \"H\", \"H\", \"D\", \"A\", \"A\", \"D\", \"H\", \"H\", \"D\", \"A\", \"H\", \"D\", \"H\", \"D\", \"D\", \"A\", \"H\", \"A\", \"A\", \"H\", \"A\", \"H\", \"D\", \"H\", \"D\", \"H\", \"A\", \"H\", \"H\", \"D\", \"A\", \"H\", \"H\", \"H\", \"A\", \"H\", \"D\", \"D\", \"H\", \"H\", \"H\", \"D\", \"H\", \"D\", \"D\", \"D\", \"D\", \"D\", \"H\", \"A\", \"D\", \"D\", \"H\", \"D\", \"D\", \"D\", \"H\", \"A\", \"D\", \"A\", \"H\", \"D\", \"H\", \"H\", \"H\", \"A\", \"H\", \"H\", \"H\", \"D\", \"A\", \"A\", \"D\", \"A\", \"H\", \"H\", \"H\", \"H\", \"A\", \"H\", \"H\", \"H\", \"A\", \"H\", \"A\", \"A\", \"D\", \"A\", \"D\", \"D\", \"D\", \"A\", \"D\", \"D\", \"A\", \"H\", \"H\", \"H\", \"H\", \"D\", \"A\", \"H\", \"H\", \"D\", \"A\", \"H\", \"A\", \"D\", \"D\", \"H\", \"H\", \"A\", \"A\", \"H\", \"H\", \"D\", \"H\", \"H\", \"H\", \"H\", \"D\", \"D\", \"A\", \"H\", \"H\", \"D\", \"D\", \"A\", \"H\", \"H\", \"A\", \"A\", \"A\", \"A\", \"H\", \"D\", \"H\", \"A\", \"A\", \"A\", \"D\", \"H\", \"H\", \"H\", \"H\", \"D\", \"D\", \"A\", \"A\", \"D\", \"A\", \"D\", \"H\", \"A\", \"D\", \"H\", \"H\", \"A\", \"D\", \"H\", \"A\", \"D\", \"D\", \"A\", \"A\", \"D\", \"A\", \"H\", \"D\", \"H\", \"H\", \"D\", \"A\", \"H\", \"A\", \"H\", \"H\", \"H\", \"A\", \"D\", \"H\", \"H\", \"H\", \"D\", \"H\", \"H\", \"D\", \"A\", \"H\", \"A\", \"H\", \"H\", \"A\", \"H\", \"H\", \"D\", \"H\", \"A\", \"A\", \"A\", \"H\", \"H\", \"D\", \"H\", \"A\", \"H\", \"A\", \"H\", \"H\", \"A\", \"A\", \"D\", \"D\", \"A\", \"D\", \"A\", \"A\", \"D\", \"H\", \"H\", \"D\", \"H\", \"D\", \"H\", \"A\", \"D\", \"H\", \"H\", \"A\", \"H\", \"H\", \"A\", \"A\", \"H\", \"D\", \"D\", \"H\", \"A\", \"H\", \"H\", \"A\", \"H\", \"D\", \"H\", \"H\", \"H\", \"H\", \"H\", \"A\", \"H\", \"H\", \"A\", \"H\", \"D\", \"H\", \"A\", \"H\", \"A\", \"D\", \"D\", \"H\", \"H\", \"H\", \"A\", \"D\", \"D\", \"H\", \"A\", \"H\", \"H\", \"H\", \"D\", \"H\", \"A\", \"D\", \"D\", \"D\", \"A\", \"A\", \"H\", \"D\", \"D\", \"D\", \"H\", \"D\", \"H\", \"H\", \"A\", \"H\", \"H\", \"A\", \"A\", \"D\", \"H\", \"H\", \"D\", \"A\", \"A\", \"D\", \"H\", \"A\", \"H\", \"D\", \"D\", \"D\", \"H\", \"H\", \"H\", \"H\", \"H\", \"H\", \"H\", \"H\", \"D\", \"H\", \"H\", \"D\", \"H\", \"D\", \"A\", \"H\", \"H\", \"H\", \"A\", \"A\", \"D\", \"H\", \"D\", \"H\", \"H\", \"A\", \"H\", \"A\", \"H\", \"A\", \"D\", \"D\", \"H\", \"H\", \"A\", \"A\", \"D\", \"D\", \"H\", \"A\", \"D\", \"A\", \"A\", \"D\", \"A\", \"D\", \"H\", \"H\", \"A\", \"H\", \"D\", \"D\", \"H\", \"D\", \"H\", \"H\", \"D\"]}],\n",
              "                        {\"hovermode\": \"closest\", \"template\": {\"data\": {\"bar\": [{\"error_x\": {\"color\": \"#2a3f5f\"}, \"error_y\": {\"color\": \"#2a3f5f\"}, \"marker\": {\"line\": {\"color\": \"#E5ECF6\", \"width\": 0.5}}, \"type\": \"bar\"}], \"barpolar\": [{\"marker\": {\"line\": {\"color\": \"#E5ECF6\", \"width\": 0.5}}, \"type\": \"barpolar\"}], \"carpet\": [{\"aaxis\": {\"endlinecolor\": \"#2a3f5f\", \"gridcolor\": \"white\", \"linecolor\": \"white\", \"minorgridcolor\": \"white\", \"startlinecolor\": \"#2a3f5f\"}, \"baxis\": {\"endlinecolor\": \"#2a3f5f\", \"gridcolor\": \"white\", \"linecolor\": \"white\", \"minorgridcolor\": \"white\", \"startlinecolor\": \"#2a3f5f\"}, \"type\": \"carpet\"}], \"choropleth\": [{\"colorbar\": {\"outlinewidth\": 0, \"ticks\": \"\"}, \"type\": \"choropleth\"}], \"contour\": [{\"colorbar\": {\"outlinewidth\": 0, \"ticks\": \"\"}, \"colorscale\": [[0.0, \"#0d0887\"], [0.1111111111111111, \"#46039f\"], [0.2222222222222222, \"#7201a8\"], [0.3333333333333333, \"#9c179e\"], [0.4444444444444444, \"#bd3786\"], [0.5555555555555556, \"#d8576b\"], [0.6666666666666666, \"#ed7953\"], [0.7777777777777778, \"#fb9f3a\"], [0.8888888888888888, \"#fdca26\"], [1.0, \"#f0f921\"]], \"type\": \"contour\"}], \"contourcarpet\": [{\"colorbar\": {\"outlinewidth\": 0, \"ticks\": \"\"}, \"type\": \"contourcarpet\"}], \"heatmap\": [{\"colorbar\": {\"outlinewidth\": 0, \"ticks\": \"\"}, \"colorscale\": [[0.0, \"#0d0887\"], [0.1111111111111111, \"#46039f\"], [0.2222222222222222, \"#7201a8\"], [0.3333333333333333, \"#9c179e\"], [0.4444444444444444, \"#bd3786\"], [0.5555555555555556, \"#d8576b\"], [0.6666666666666666, \"#ed7953\"], [0.7777777777777778, \"#fb9f3a\"], [0.8888888888888888, \"#fdca26\"], [1.0, \"#f0f921\"]], \"type\": \"heatmap\"}], \"heatmapgl\": [{\"colorbar\": {\"outlinewidth\": 0, \"ticks\": \"\"}, \"colorscale\": [[0.0, \"#0d0887\"], [0.1111111111111111, \"#46039f\"], [0.2222222222222222, \"#7201a8\"], [0.3333333333333333, \"#9c179e\"], [0.4444444444444444, \"#bd3786\"], [0.5555555555555556, \"#d8576b\"], [0.6666666666666666, \"#ed7953\"], [0.7777777777777778, \"#fb9f3a\"], [0.8888888888888888, \"#fdca26\"], [1.0, \"#f0f921\"]], \"type\": \"heatmapgl\"}], \"histogram\": [{\"marker\": {\"colorbar\": {\"outlinewidth\": 0, \"ticks\": \"\"}}, \"type\": \"histogram\"}], \"histogram2d\": [{\"colorbar\": {\"outlinewidth\": 0, \"ticks\": \"\"}, \"colorscale\": [[0.0, \"#0d0887\"], [0.1111111111111111, \"#46039f\"], [0.2222222222222222, \"#7201a8\"], [0.3333333333333333, \"#9c179e\"], [0.4444444444444444, \"#bd3786\"], [0.5555555555555556, \"#d8576b\"], [0.6666666666666666, \"#ed7953\"], [0.7777777777777778, \"#fb9f3a\"], [0.8888888888888888, \"#fdca26\"], [1.0, \"#f0f921\"]], \"type\": \"histogram2d\"}], \"histogram2dcontour\": [{\"colorbar\": {\"outlinewidth\": 0, \"ticks\": \"\"}, \"colorscale\": [[0.0, \"#0d0887\"], [0.1111111111111111, \"#46039f\"], [0.2222222222222222, \"#7201a8\"], [0.3333333333333333, \"#9c179e\"], [0.4444444444444444, \"#bd3786\"], [0.5555555555555556, \"#d8576b\"], [0.6666666666666666, \"#ed7953\"], [0.7777777777777778, \"#fb9f3a\"], [0.8888888888888888, \"#fdca26\"], [1.0, \"#f0f921\"]], \"type\": \"histogram2dcontour\"}], \"mesh3d\": [{\"colorbar\": {\"outlinewidth\": 0, \"ticks\": \"\"}, \"type\": \"mesh3d\"}], \"parcoords\": [{\"line\": {\"colorbar\": {\"outlinewidth\": 0, \"ticks\": \"\"}}, \"type\": \"parcoords\"}], \"pie\": [{\"automargin\": true, \"type\": \"pie\"}], \"scatter\": [{\"marker\": {\"colorbar\": {\"outlinewidth\": 0, \"ticks\": \"\"}}, \"type\": \"scatter\"}], \"scatter3d\": [{\"line\": {\"colorbar\": {\"outlinewidth\": 0, \"ticks\": \"\"}}, \"marker\": {\"colorbar\": {\"outlinewidth\": 0, \"ticks\": \"\"}}, \"type\": \"scatter3d\"}], \"scattercarpet\": [{\"marker\": {\"colorbar\": {\"outlinewidth\": 0, \"ticks\": \"\"}}, \"type\": \"scattercarpet\"}], \"scattergeo\": [{\"marker\": {\"colorbar\": {\"outlinewidth\": 0, \"ticks\": \"\"}}, \"type\": \"scattergeo\"}], \"scattergl\": [{\"marker\": {\"colorbar\": {\"outlinewidth\": 0, \"ticks\": \"\"}}, \"type\": \"scattergl\"}], \"scattermapbox\": [{\"marker\": {\"colorbar\": {\"outlinewidth\": 0, \"ticks\": \"\"}}, \"type\": \"scattermapbox\"}], \"scatterpolar\": [{\"marker\": {\"colorbar\": {\"outlinewidth\": 0, \"ticks\": \"\"}}, \"type\": \"scatterpolar\"}], \"scatterpolargl\": [{\"marker\": {\"colorbar\": {\"outlinewidth\": 0, \"ticks\": \"\"}}, \"type\": \"scatterpolargl\"}], \"scatterternary\": [{\"marker\": {\"colorbar\": {\"outlinewidth\": 0, \"ticks\": \"\"}}, \"type\": \"scatterternary\"}], \"surface\": [{\"colorbar\": {\"outlinewidth\": 0, \"ticks\": \"\"}, \"colorscale\": [[0.0, \"#0d0887\"], [0.1111111111111111, \"#46039f\"], [0.2222222222222222, \"#7201a8\"], [0.3333333333333333, \"#9c179e\"], [0.4444444444444444, \"#bd3786\"], [0.5555555555555556, \"#d8576b\"], [0.6666666666666666, \"#ed7953\"], [0.7777777777777778, \"#fb9f3a\"], [0.8888888888888888, \"#fdca26\"], [1.0, \"#f0f921\"]], \"type\": \"surface\"}], \"table\": [{\"cells\": {\"fill\": {\"color\": \"#EBF0F8\"}, \"line\": {\"color\": \"white\"}}, \"header\": {\"fill\": {\"color\": \"#C8D4E3\"}, \"line\": {\"color\": \"white\"}}, \"type\": \"table\"}]}, \"layout\": {\"annotationdefaults\": {\"arrowcolor\": \"#2a3f5f\", \"arrowhead\": 0, \"arrowwidth\": 1}, \"coloraxis\": {\"colorbar\": {\"outlinewidth\": 0, \"ticks\": \"\"}}, \"colorscale\": {\"diverging\": [[0, \"#8e0152\"], [0.1, \"#c51b7d\"], [0.2, \"#de77ae\"], [0.3, \"#f1b6da\"], [0.4, \"#fde0ef\"], [0.5, \"#f7f7f7\"], [0.6, \"#e6f5d0\"], [0.7, \"#b8e186\"], [0.8, \"#7fbc41\"], [0.9, \"#4d9221\"], [1, \"#276419\"]], \"sequential\": [[0.0, \"#0d0887\"], [0.1111111111111111, \"#46039f\"], [0.2222222222222222, \"#7201a8\"], [0.3333333333333333, \"#9c179e\"], [0.4444444444444444, \"#bd3786\"], [0.5555555555555556, \"#d8576b\"], [0.6666666666666666, \"#ed7953\"], [0.7777777777777778, \"#fb9f3a\"], [0.8888888888888888, \"#fdca26\"], [1.0, \"#f0f921\"]], \"sequentialminus\": [[0.0, \"#0d0887\"], [0.1111111111111111, \"#46039f\"], [0.2222222222222222, \"#7201a8\"], [0.3333333333333333, \"#9c179e\"], [0.4444444444444444, \"#bd3786\"], [0.5555555555555556, \"#d8576b\"], [0.6666666666666666, \"#ed7953\"], [0.7777777777777778, \"#fb9f3a\"], [0.8888888888888888, \"#fdca26\"], [1.0, \"#f0f921\"]]}, \"colorway\": [\"#636efa\", \"#EF553B\", \"#00cc96\", \"#ab63fa\", \"#FFA15A\", \"#19d3f3\", \"#FF6692\", \"#B6E880\", \"#FF97FF\", \"#FECB52\"], \"font\": {\"color\": \"#2a3f5f\"}, \"geo\": {\"bgcolor\": \"white\", \"lakecolor\": \"white\", \"landcolor\": \"#E5ECF6\", \"showlakes\": true, \"showland\": true, \"subunitcolor\": \"white\"}, \"hoverlabel\": {\"align\": \"left\"}, \"hovermode\": \"closest\", \"mapbox\": {\"style\": \"light\"}, \"paper_bgcolor\": \"white\", \"plot_bgcolor\": \"#E5ECF6\", \"polar\": {\"angularaxis\": {\"gridcolor\": \"white\", \"linecolor\": \"white\", \"ticks\": \"\"}, \"bgcolor\": \"#E5ECF6\", \"radialaxis\": {\"gridcolor\": \"white\", \"linecolor\": \"white\", \"ticks\": \"\"}}, \"scene\": {\"xaxis\": {\"backgroundcolor\": \"#E5ECF6\", \"gridcolor\": \"white\", \"gridwidth\": 2, \"linecolor\": \"white\", \"showbackground\": true, \"ticks\": \"\", \"zerolinecolor\": \"white\"}, \"yaxis\": {\"backgroundcolor\": \"#E5ECF6\", \"gridcolor\": \"white\", \"gridwidth\": 2, \"linecolor\": \"white\", \"showbackground\": true, \"ticks\": \"\", \"zerolinecolor\": \"white\"}, \"zaxis\": {\"backgroundcolor\": \"#E5ECF6\", \"gridcolor\": \"white\", \"gridwidth\": 2, \"linecolor\": \"white\", \"showbackground\": true, \"ticks\": \"\", \"zerolinecolor\": \"white\"}}, \"shapedefaults\": {\"line\": {\"color\": \"#2a3f5f\"}}, \"ternary\": {\"aaxis\": {\"gridcolor\": \"white\", \"linecolor\": \"white\", \"ticks\": \"\"}, \"baxis\": {\"gridcolor\": \"white\", \"linecolor\": \"white\", \"ticks\": \"\"}, \"bgcolor\": \"#E5ECF6\", \"caxis\": {\"gridcolor\": \"white\", \"linecolor\": \"white\", \"ticks\": \"\"}}, \"title\": {\"x\": 0.05}, \"xaxis\": {\"automargin\": true, \"gridcolor\": \"white\", \"linecolor\": \"white\", \"ticks\": \"\", \"title\": {\"standoff\": 15}, \"zerolinecolor\": \"white\", \"zerolinewidth\": 2}, \"yaxis\": {\"automargin\": true, \"gridcolor\": \"white\", \"linecolor\": \"white\", \"ticks\": \"\", \"title\": {\"standoff\": 15}, \"zerolinecolor\": \"white\", \"zerolinewidth\": 2}}}, \"title\": {\"text\": \"Resultados das Partidas - H: Vit\\u00f3ria time da casa, D: Empate, A: Vit\\u00f3ria do visitante\"}, \"xaxis\": {\"title\": {\"text\": \"Resultados\"}}, \"yaxis\": {\"title\": {\"text\": \"N\\u00ba de Partidas\"}}},\n",
              "                        {\"responsive\": true}\n",
              "                    ).then(function(){\n",
              "                            \n",
              "var gd = document.getElementById('b5a4aad7-ffa9-41da-b5a3-53b441145622');\n",
              "var x = new MutationObserver(function (mutations, observer) {{\n",
              "        var display = window.getComputedStyle(gd).display;\n",
              "        if (!display || display === 'none') {{\n",
              "            console.log([gd, 'removed!']);\n",
              "            Plotly.purge(gd);\n",
              "            observer.disconnect();\n",
              "        }}\n",
              "}});\n",
              "\n",
              "// Listen for the removal of the full notebook cells\n",
              "var notebookContainer = gd.closest('#notebook-container');\n",
              "if (notebookContainer) {{\n",
              "    x.observe(notebookContainer, {childList: true});\n",
              "}}\n",
              "\n",
              "// Listen for the clearing of the current output cell\n",
              "var outputEl = gd.closest('.output');\n",
              "if (outputEl) {{\n",
              "    x.observe(outputEl, {childList: true});\n",
              "}}\n",
              "\n",
              "                        })\n",
              "                };\n",
              "                \n",
              "            </script>\n",
              "        </div>\n",
              "</body>\n",
              "</html>"
            ]
          },
          "metadata": {}
        }
      ]
    },
    {
      "cell_type": "code",
      "metadata": {
        "id": "Xf7cInt9ImIc"
      },
      "source": [
        "def transforma_resultado(resultado):\n",
        "  if resultado == \"H\":\n",
        "    return 1\n",
        "  elif resultado == \"D\":\n",
        "    return 0 \n",
        "  elif resultado == 1:\n",
        "    return 1\n",
        "  else:\n",
        "    return 2"
      ],
      "execution_count": 15,
      "outputs": []
    },
    {
      "cell_type": "code",
      "metadata": {
        "colab": {
          "base_uri": "https://localhost:8080/",
          "height": 206
        },
        "id": "ISW_9w4BJuFl",
        "outputId": "1f8d5874-3e83-48ea-9caa-b334d1a3863a"
      },
      "source": [
        "dados['Res'] = dados['Res'].map(transforma_resultado)\n",
        "dados.head()"
      ],
      "execution_count": 16,
      "outputs": [
        {
          "output_type": "execute_result",
          "data": {
            "text/html": [
              "\n",
              "  <div id=\"df-2d78b73e-52ef-42af-b1a4-6428bbb41b2e\">\n",
              "    <div class=\"colab-df-container\">\n",
              "      <div>\n",
              "<style scoped>\n",
              "    .dataframe tbody tr th:only-of-type {\n",
              "        vertical-align: middle;\n",
              "    }\n",
              "\n",
              "    .dataframe tbody tr th {\n",
              "        vertical-align: top;\n",
              "    }\n",
              "\n",
              "    .dataframe thead th {\n",
              "        text-align: right;\n",
              "    }\n",
              "</style>\n",
              "<table border=\"1\" class=\"dataframe\">\n",
              "  <thead>\n",
              "    <tr style=\"text-align: right;\">\n",
              "      <th></th>\n",
              "      <th>Country</th>\n",
              "      <th>League</th>\n",
              "      <th>Season</th>\n",
              "      <th>Date</th>\n",
              "      <th>Time</th>\n",
              "      <th>Home</th>\n",
              "      <th>Away</th>\n",
              "      <th>HG</th>\n",
              "      <th>AG</th>\n",
              "      <th>Res</th>\n",
              "      <th>PH</th>\n",
              "      <th>PD</th>\n",
              "      <th>PA</th>\n",
              "      <th>MaxH</th>\n",
              "      <th>MaxD</th>\n",
              "      <th>MaxA</th>\n",
              "      <th>AvgH</th>\n",
              "      <th>AvgD</th>\n",
              "      <th>AvgA</th>\n",
              "    </tr>\n",
              "  </thead>\n",
              "  <tbody>\n",
              "    <tr>\n",
              "      <th>0</th>\n",
              "      <td>Brazil</td>\n",
              "      <td>Serie A</td>\n",
              "      <td>2012</td>\n",
              "      <td>19/05/2012</td>\n",
              "      <td>22:30</td>\n",
              "      <td>Palmeiras</td>\n",
              "      <td>Portuguesa</td>\n",
              "      <td>1.0</td>\n",
              "      <td>1.0</td>\n",
              "      <td>0</td>\n",
              "      <td>1.75</td>\n",
              "      <td>3.86</td>\n",
              "      <td>5.25</td>\n",
              "      <td>1.76</td>\n",
              "      <td>3.87</td>\n",
              "      <td>5.31</td>\n",
              "      <td>1.69</td>\n",
              "      <td>3.50</td>\n",
              "      <td>4.90</td>\n",
              "    </tr>\n",
              "    <tr>\n",
              "      <th>1</th>\n",
              "      <td>Brazil</td>\n",
              "      <td>Serie A</td>\n",
              "      <td>2012</td>\n",
              "      <td>19/05/2012</td>\n",
              "      <td>22:30</td>\n",
              "      <td>Sport Recife</td>\n",
              "      <td>Flamengo RJ</td>\n",
              "      <td>1.0</td>\n",
              "      <td>1.0</td>\n",
              "      <td>0</td>\n",
              "      <td>2.83</td>\n",
              "      <td>3.39</td>\n",
              "      <td>2.68</td>\n",
              "      <td>2.83</td>\n",
              "      <td>3.42</td>\n",
              "      <td>2.70</td>\n",
              "      <td>2.59</td>\n",
              "      <td>3.23</td>\n",
              "      <td>2.58</td>\n",
              "    </tr>\n",
              "    <tr>\n",
              "      <th>2</th>\n",
              "      <td>Brazil</td>\n",
              "      <td>Serie A</td>\n",
              "      <td>2012</td>\n",
              "      <td>20/05/2012</td>\n",
              "      <td>01:00</td>\n",
              "      <td>Figueirense</td>\n",
              "      <td>Nautico</td>\n",
              "      <td>2.0</td>\n",
              "      <td>1.0</td>\n",
              "      <td>1</td>\n",
              "      <td>1.60</td>\n",
              "      <td>4.04</td>\n",
              "      <td>6.72</td>\n",
              "      <td>1.67</td>\n",
              "      <td>4.05</td>\n",
              "      <td>7.22</td>\n",
              "      <td>1.59</td>\n",
              "      <td>3.67</td>\n",
              "      <td>5.64</td>\n",
              "    </tr>\n",
              "    <tr>\n",
              "      <th>3</th>\n",
              "      <td>Brazil</td>\n",
              "      <td>Serie A</td>\n",
              "      <td>2012</td>\n",
              "      <td>20/05/2012</td>\n",
              "      <td>20:00</td>\n",
              "      <td>Botafogo RJ</td>\n",
              "      <td>Sao Paulo</td>\n",
              "      <td>4.0</td>\n",
              "      <td>2.0</td>\n",
              "      <td>1</td>\n",
              "      <td>2.49</td>\n",
              "      <td>3.35</td>\n",
              "      <td>3.15</td>\n",
              "      <td>2.49</td>\n",
              "      <td>3.39</td>\n",
              "      <td>3.15</td>\n",
              "      <td>2.35</td>\n",
              "      <td>3.26</td>\n",
              "      <td>2.84</td>\n",
              "    </tr>\n",
              "    <tr>\n",
              "      <th>4</th>\n",
              "      <td>Brazil</td>\n",
              "      <td>Serie A</td>\n",
              "      <td>2012</td>\n",
              "      <td>20/05/2012</td>\n",
              "      <td>20:00</td>\n",
              "      <td>Corinthians</td>\n",
              "      <td>Fluminense</td>\n",
              "      <td>0.0</td>\n",
              "      <td>1.0</td>\n",
              "      <td>2</td>\n",
              "      <td>1.96</td>\n",
              "      <td>3.53</td>\n",
              "      <td>4.41</td>\n",
              "      <td>1.96</td>\n",
              "      <td>3.53</td>\n",
              "      <td>4.41</td>\n",
              "      <td>1.89</td>\n",
              "      <td>3.33</td>\n",
              "      <td>3.89</td>\n",
              "    </tr>\n",
              "  </tbody>\n",
              "</table>\n",
              "</div>\n",
              "      <button class=\"colab-df-convert\" onclick=\"convertToInteractive('df-2d78b73e-52ef-42af-b1a4-6428bbb41b2e')\"\n",
              "              title=\"Convert this dataframe to an interactive table.\"\n",
              "              style=\"display:none;\">\n",
              "        \n",
              "  <svg xmlns=\"http://www.w3.org/2000/svg\" height=\"24px\"viewBox=\"0 0 24 24\"\n",
              "       width=\"24px\">\n",
              "    <path d=\"M0 0h24v24H0V0z\" fill=\"none\"/>\n",
              "    <path d=\"M18.56 5.44l.94 2.06.94-2.06 2.06-.94-2.06-.94-.94-2.06-.94 2.06-2.06.94zm-11 1L8.5 8.5l.94-2.06 2.06-.94-2.06-.94L8.5 2.5l-.94 2.06-2.06.94zm10 10l.94 2.06.94-2.06 2.06-.94-2.06-.94-.94-2.06-.94 2.06-2.06.94z\"/><path d=\"M17.41 7.96l-1.37-1.37c-.4-.4-.92-.59-1.43-.59-.52 0-1.04.2-1.43.59L10.3 9.45l-7.72 7.72c-.78.78-.78 2.05 0 2.83L4 21.41c.39.39.9.59 1.41.59.51 0 1.02-.2 1.41-.59l7.78-7.78 2.81-2.81c.8-.78.8-2.07 0-2.86zM5.41 20L4 18.59l7.72-7.72 1.47 1.35L5.41 20z\"/>\n",
              "  </svg>\n",
              "      </button>\n",
              "      \n",
              "  <style>\n",
              "    .colab-df-container {\n",
              "      display:flex;\n",
              "      flex-wrap:wrap;\n",
              "      gap: 12px;\n",
              "    }\n",
              "\n",
              "    .colab-df-convert {\n",
              "      background-color: #E8F0FE;\n",
              "      border: none;\n",
              "      border-radius: 50%;\n",
              "      cursor: pointer;\n",
              "      display: none;\n",
              "      fill: #1967D2;\n",
              "      height: 32px;\n",
              "      padding: 0 0 0 0;\n",
              "      width: 32px;\n",
              "    }\n",
              "\n",
              "    .colab-df-convert:hover {\n",
              "      background-color: #E2EBFA;\n",
              "      box-shadow: 0px 1px 2px rgba(60, 64, 67, 0.3), 0px 1px 3px 1px rgba(60, 64, 67, 0.15);\n",
              "      fill: #174EA6;\n",
              "    }\n",
              "\n",
              "    [theme=dark] .colab-df-convert {\n",
              "      background-color: #3B4455;\n",
              "      fill: #D2E3FC;\n",
              "    }\n",
              "\n",
              "    [theme=dark] .colab-df-convert:hover {\n",
              "      background-color: #434B5C;\n",
              "      box-shadow: 0px 1px 3px 1px rgba(0, 0, 0, 0.15);\n",
              "      filter: drop-shadow(0px 1px 2px rgba(0, 0, 0, 0.3));\n",
              "      fill: #FFFFFF;\n",
              "    }\n",
              "  </style>\n",
              "\n",
              "      <script>\n",
              "        const buttonEl =\n",
              "          document.querySelector('#df-2d78b73e-52ef-42af-b1a4-6428bbb41b2e button.colab-df-convert');\n",
              "        buttonEl.style.display =\n",
              "          google.colab.kernel.accessAllowed ? 'block' : 'none';\n",
              "\n",
              "        async function convertToInteractive(key) {\n",
              "          const element = document.querySelector('#df-2d78b73e-52ef-42af-b1a4-6428bbb41b2e');\n",
              "          const dataTable =\n",
              "            await google.colab.kernel.invokeFunction('convertToInteractive',\n",
              "                                                     [key], {});\n",
              "          if (!dataTable) return;\n",
              "\n",
              "          const docLinkHtml = 'Like what you see? Visit the ' +\n",
              "            '<a target=\"_blank\" href=https://colab.research.google.com/notebooks/data_table.ipynb>data table notebook</a>'\n",
              "            + ' to learn more about interactive tables.';\n",
              "          element.innerHTML = '';\n",
              "          dataTable['output_type'] = 'display_data';\n",
              "          await google.colab.output.renderOutput(dataTable, element);\n",
              "          const docLink = document.createElement('div');\n",
              "          docLink.innerHTML = docLinkHtml;\n",
              "          element.appendChild(docLink);\n",
              "        }\n",
              "      </script>\n",
              "    </div>\n",
              "  </div>\n",
              "  "
            ],
            "text/plain": [
              "  Country   League  Season        Date   Time  ...  MaxD  MaxA  AvgH  AvgD  AvgA\n",
              "0  Brazil  Serie A    2012  19/05/2012  22:30  ...  3.87  5.31  1.69  3.50  4.90\n",
              "1  Brazil  Serie A    2012  19/05/2012  22:30  ...  3.42  2.70  2.59  3.23  2.58\n",
              "2  Brazil  Serie A    2012  20/05/2012  01:00  ...  4.05  7.22  1.59  3.67  5.64\n",
              "3  Brazil  Serie A    2012  20/05/2012  20:00  ...  3.39  3.15  2.35  3.26  2.84\n",
              "4  Brazil  Serie A    2012  20/05/2012  20:00  ...  3.53  4.41  1.89  3.33  3.89\n",
              "\n",
              "[5 rows x 19 columns]"
            ]
          },
          "metadata": {},
          "execution_count": 16
        }
      ]
    },
    {
      "cell_type": "code",
      "metadata": {
        "colab": {
          "base_uri": "https://localhost:8080/"
        },
        "id": "e2CVgZXGKSip",
        "outputId": "6167d865-a500-4527-ad90-66eef305026f"
      },
      "source": [
        "dados['Res'].value_counts(normalize=True)*100"
      ],
      "execution_count": 17,
      "outputs": [
        {
          "output_type": "execute_result",
          "data": {
            "text/plain": [
              "1    49.307559\n",
              "0    26.658973\n",
              "2    24.033468\n",
              "Name: Res, dtype: float64"
            ]
          },
          "metadata": {},
          "execution_count": 17
        }
      ]
    },
    {
      "cell_type": "code",
      "metadata": {
        "colab": {
          "base_uri": "https://localhost:8080/",
          "height": 206
        },
        "id": "IlMKwYg-KfGk",
        "outputId": "a4d9c34a-65e7-4ed5-93b7-e8cb3bef1b45"
      },
      "source": [
        "novos_dados = dados.drop(columns=['Country', 'League', 'Season', 'Date',\n",
        "'Time', 'Home', 'Away'])\n",
        "\n",
        "novos_dados.head()"
      ],
      "execution_count": 18,
      "outputs": [
        {
          "output_type": "execute_result",
          "data": {
            "text/html": [
              "\n",
              "  <div id=\"df-75295169-9f48-42cd-8b9f-2bef48ae7231\">\n",
              "    <div class=\"colab-df-container\">\n",
              "      <div>\n",
              "<style scoped>\n",
              "    .dataframe tbody tr th:only-of-type {\n",
              "        vertical-align: middle;\n",
              "    }\n",
              "\n",
              "    .dataframe tbody tr th {\n",
              "        vertical-align: top;\n",
              "    }\n",
              "\n",
              "    .dataframe thead th {\n",
              "        text-align: right;\n",
              "    }\n",
              "</style>\n",
              "<table border=\"1\" class=\"dataframe\">\n",
              "  <thead>\n",
              "    <tr style=\"text-align: right;\">\n",
              "      <th></th>\n",
              "      <th>HG</th>\n",
              "      <th>AG</th>\n",
              "      <th>Res</th>\n",
              "      <th>PH</th>\n",
              "      <th>PD</th>\n",
              "      <th>PA</th>\n",
              "      <th>MaxH</th>\n",
              "      <th>MaxD</th>\n",
              "      <th>MaxA</th>\n",
              "      <th>AvgH</th>\n",
              "      <th>AvgD</th>\n",
              "      <th>AvgA</th>\n",
              "    </tr>\n",
              "  </thead>\n",
              "  <tbody>\n",
              "    <tr>\n",
              "      <th>0</th>\n",
              "      <td>1.0</td>\n",
              "      <td>1.0</td>\n",
              "      <td>0</td>\n",
              "      <td>1.75</td>\n",
              "      <td>3.86</td>\n",
              "      <td>5.25</td>\n",
              "      <td>1.76</td>\n",
              "      <td>3.87</td>\n",
              "      <td>5.31</td>\n",
              "      <td>1.69</td>\n",
              "      <td>3.50</td>\n",
              "      <td>4.90</td>\n",
              "    </tr>\n",
              "    <tr>\n",
              "      <th>1</th>\n",
              "      <td>1.0</td>\n",
              "      <td>1.0</td>\n",
              "      <td>0</td>\n",
              "      <td>2.83</td>\n",
              "      <td>3.39</td>\n",
              "      <td>2.68</td>\n",
              "      <td>2.83</td>\n",
              "      <td>3.42</td>\n",
              "      <td>2.70</td>\n",
              "      <td>2.59</td>\n",
              "      <td>3.23</td>\n",
              "      <td>2.58</td>\n",
              "    </tr>\n",
              "    <tr>\n",
              "      <th>2</th>\n",
              "      <td>2.0</td>\n",
              "      <td>1.0</td>\n",
              "      <td>1</td>\n",
              "      <td>1.60</td>\n",
              "      <td>4.04</td>\n",
              "      <td>6.72</td>\n",
              "      <td>1.67</td>\n",
              "      <td>4.05</td>\n",
              "      <td>7.22</td>\n",
              "      <td>1.59</td>\n",
              "      <td>3.67</td>\n",
              "      <td>5.64</td>\n",
              "    </tr>\n",
              "    <tr>\n",
              "      <th>3</th>\n",
              "      <td>4.0</td>\n",
              "      <td>2.0</td>\n",
              "      <td>1</td>\n",
              "      <td>2.49</td>\n",
              "      <td>3.35</td>\n",
              "      <td>3.15</td>\n",
              "      <td>2.49</td>\n",
              "      <td>3.39</td>\n",
              "      <td>3.15</td>\n",
              "      <td>2.35</td>\n",
              "      <td>3.26</td>\n",
              "      <td>2.84</td>\n",
              "    </tr>\n",
              "    <tr>\n",
              "      <th>4</th>\n",
              "      <td>0.0</td>\n",
              "      <td>1.0</td>\n",
              "      <td>2</td>\n",
              "      <td>1.96</td>\n",
              "      <td>3.53</td>\n",
              "      <td>4.41</td>\n",
              "      <td>1.96</td>\n",
              "      <td>3.53</td>\n",
              "      <td>4.41</td>\n",
              "      <td>1.89</td>\n",
              "      <td>3.33</td>\n",
              "      <td>3.89</td>\n",
              "    </tr>\n",
              "  </tbody>\n",
              "</table>\n",
              "</div>\n",
              "      <button class=\"colab-df-convert\" onclick=\"convertToInteractive('df-75295169-9f48-42cd-8b9f-2bef48ae7231')\"\n",
              "              title=\"Convert this dataframe to an interactive table.\"\n",
              "              style=\"display:none;\">\n",
              "        \n",
              "  <svg xmlns=\"http://www.w3.org/2000/svg\" height=\"24px\"viewBox=\"0 0 24 24\"\n",
              "       width=\"24px\">\n",
              "    <path d=\"M0 0h24v24H0V0z\" fill=\"none\"/>\n",
              "    <path d=\"M18.56 5.44l.94 2.06.94-2.06 2.06-.94-2.06-.94-.94-2.06-.94 2.06-2.06.94zm-11 1L8.5 8.5l.94-2.06 2.06-.94-2.06-.94L8.5 2.5l-.94 2.06-2.06.94zm10 10l.94 2.06.94-2.06 2.06-.94-2.06-.94-.94-2.06-.94 2.06-2.06.94z\"/><path d=\"M17.41 7.96l-1.37-1.37c-.4-.4-.92-.59-1.43-.59-.52 0-1.04.2-1.43.59L10.3 9.45l-7.72 7.72c-.78.78-.78 2.05 0 2.83L4 21.41c.39.39.9.59 1.41.59.51 0 1.02-.2 1.41-.59l7.78-7.78 2.81-2.81c.8-.78.8-2.07 0-2.86zM5.41 20L4 18.59l7.72-7.72 1.47 1.35L5.41 20z\"/>\n",
              "  </svg>\n",
              "      </button>\n",
              "      \n",
              "  <style>\n",
              "    .colab-df-container {\n",
              "      display:flex;\n",
              "      flex-wrap:wrap;\n",
              "      gap: 12px;\n",
              "    }\n",
              "\n",
              "    .colab-df-convert {\n",
              "      background-color: #E8F0FE;\n",
              "      border: none;\n",
              "      border-radius: 50%;\n",
              "      cursor: pointer;\n",
              "      display: none;\n",
              "      fill: #1967D2;\n",
              "      height: 32px;\n",
              "      padding: 0 0 0 0;\n",
              "      width: 32px;\n",
              "    }\n",
              "\n",
              "    .colab-df-convert:hover {\n",
              "      background-color: #E2EBFA;\n",
              "      box-shadow: 0px 1px 2px rgba(60, 64, 67, 0.3), 0px 1px 3px 1px rgba(60, 64, 67, 0.15);\n",
              "      fill: #174EA6;\n",
              "    }\n",
              "\n",
              "    [theme=dark] .colab-df-convert {\n",
              "      background-color: #3B4455;\n",
              "      fill: #D2E3FC;\n",
              "    }\n",
              "\n",
              "    [theme=dark] .colab-df-convert:hover {\n",
              "      background-color: #434B5C;\n",
              "      box-shadow: 0px 1px 3px 1px rgba(0, 0, 0, 0.15);\n",
              "      filter: drop-shadow(0px 1px 2px rgba(0, 0, 0, 0.3));\n",
              "      fill: #FFFFFF;\n",
              "    }\n",
              "  </style>\n",
              "\n",
              "      <script>\n",
              "        const buttonEl =\n",
              "          document.querySelector('#df-75295169-9f48-42cd-8b9f-2bef48ae7231 button.colab-df-convert');\n",
              "        buttonEl.style.display =\n",
              "          google.colab.kernel.accessAllowed ? 'block' : 'none';\n",
              "\n",
              "        async function convertToInteractive(key) {\n",
              "          const element = document.querySelector('#df-75295169-9f48-42cd-8b9f-2bef48ae7231');\n",
              "          const dataTable =\n",
              "            await google.colab.kernel.invokeFunction('convertToInteractive',\n",
              "                                                     [key], {});\n",
              "          if (!dataTable) return;\n",
              "\n",
              "          const docLinkHtml = 'Like what you see? Visit the ' +\n",
              "            '<a target=\"_blank\" href=https://colab.research.google.com/notebooks/data_table.ipynb>data table notebook</a>'\n",
              "            + ' to learn more about interactive tables.';\n",
              "          element.innerHTML = '';\n",
              "          dataTable['output_type'] = 'display_data';\n",
              "          await google.colab.output.renderOutput(dataTable, element);\n",
              "          const docLink = document.createElement('div');\n",
              "          docLink.innerHTML = docLinkHtml;\n",
              "          element.appendChild(docLink);\n",
              "        }\n",
              "      </script>\n",
              "    </div>\n",
              "  </div>\n",
              "  "
            ],
            "text/plain": [
              "    HG   AG  Res    PH    PD    PA  MaxH  MaxD  MaxA  AvgH  AvgD  AvgA\n",
              "0  1.0  1.0    0  1.75  3.86  5.25  1.76  3.87  5.31  1.69  3.50  4.90\n",
              "1  1.0  1.0    0  2.83  3.39  2.68  2.83  3.42  2.70  2.59  3.23  2.58\n",
              "2  2.0  1.0    1  1.60  4.04  6.72  1.67  4.05  7.22  1.59  3.67  5.64\n",
              "3  4.0  2.0    1  2.49  3.35  3.15  2.49  3.39  3.15  2.35  3.26  2.84\n",
              "4  0.0  1.0    2  1.96  3.53  4.41  1.96  3.53  4.41  1.89  3.33  3.89"
            ]
          },
          "metadata": {},
          "execution_count": 18
        }
      ]
    },
    {
      "cell_type": "code",
      "metadata": {
        "colab": {
          "base_uri": "https://localhost:8080/"
        },
        "id": "eDxjnPtuLEob",
        "outputId": "712dc920-97bf-4800-a748-e21d2ec63ea5"
      },
      "source": [
        "x = novos_dados.drop(columns=['Res'])\n",
        "y = novos_dados['Res']\n",
        "\n",
        "print(x.shape)\n",
        "print(y.shape)"
      ],
      "execution_count": 19,
      "outputs": [
        {
          "output_type": "stream",
          "name": "stdout",
          "text": [
            "(3466, 11)\n",
            "(3466,)\n"
          ]
        }
      ]
    },
    {
      "cell_type": "code",
      "metadata": {
        "colab": {
          "base_uri": "https://localhost:8080/"
        },
        "id": "zFRJ54c2Mna1",
        "outputId": "3e7bf4ca-0ab6-413c-98d9-52fdbd4685c9"
      },
      "source": [
        "lista_features = ('HG', 'AG', 'PH', 'PD', 'PA', 'MaxH', 'MaxD', 'AvgH', 'AvgD', 'AvgA')\n",
        "\n",
        "best_features = SelectKBest(k='all')\n",
        "best_features.fit_transform(x,y)\n",
        "best_features_score = best_features.scores_\n",
        "#print(best_features_score)\n",
        "\n",
        "teste = zip(lista_features[1:], best_features_score)\n",
        "teste_arrumado = list(reversed(sorted(teste, key=lambda x: x[1])))\n",
        "\n",
        "final = dict(teste_arrumado[:15])\n",
        "melhores = final.keys()\n",
        "print(final)\n"
      ],
      "execution_count": 20,
      "outputs": [
        {
          "output_type": "stream",
          "name": "stdout",
          "text": [
            "{'AG': 1134.5211457592575, 'PH': 1111.101426807077, 'PD': 138.0469864123361, 'AvgA': 132.98661455422308, 'MaxH': 122.80448839697155, 'AvgD': 122.44715949541417, 'MaxD': 119.00167038292666, 'AvgH': 62.48760003014739, 'PA': 60.4808169815533}\n"
          ]
        }
      ]
    },
    {
      "cell_type": "code",
      "metadata": {
        "colab": {
          "base_uri": "https://localhost:8080/"
        },
        "id": "QHv84aykNIP6",
        "outputId": "16993515-10c0-4505-8d45-e29bcd221c88"
      },
      "source": [
        "x = novos_dados.drop(columns=['Res', 'AG', 'PD', 'PH'])\n",
        "print(x.shape)"
      ],
      "execution_count": 21,
      "outputs": [
        {
          "output_type": "stream",
          "name": "stdout",
          "text": [
            "(3466, 8)\n"
          ]
        }
      ]
    },
    {
      "cell_type": "markdown",
      "source": [
        "###Normalizando"
      ],
      "metadata": {
        "id": "ZL0sylV1_Wsa"
      }
    },
    {
      "cell_type": "code",
      "metadata": {
        "colab": {
          "base_uri": "https://localhost:8080/"
        },
        "id": "0QGclGrfSspn",
        "outputId": "f92a7468-70d2-4546-8d83-73fd7b98dd88"
      },
      "source": [
        "scaler = MinMaxScaler()\n",
        "x = scaler.fit_transform(x)\n",
        "\n",
        "print(x)"
      ],
      "execution_count": 22,
      "outputs": [
        {
          "output_type": "stream",
          "name": "stdout",
          "text": [
            "[[0.16666667 0.14870539 0.02714286 ... 0.03588144 0.25458248 0.15246286]\n",
            " [0.16666667 0.05878237 0.06535714 ... 0.08268331 0.22708758 0.06176701]\n",
            " [0.33333333 0.20013996 0.02392857 ... 0.03068123 0.27189409 0.18139171]\n",
            " ...\n",
            " [0.33333333 0.0493352  0.08107143 ... 0.10712428 0.21283096 0.05512119]\n",
            " [0.16666667 0.0843247  0.05535714 ... 0.07384295 0.19653768 0.08639562]\n",
            " [0.16666667 0.34219734 0.01107143 ... 0.01456058 0.45112016 0.35496482]]\n"
          ]
        }
      ]
    },
    {
      "cell_type": "markdown",
      "source": [
        "###Separando dados"
      ],
      "metadata": {
        "id": "cr1laqWS_dna"
      }
    },
    {
      "cell_type": "code",
      "metadata": {
        "colab": {
          "base_uri": "https://localhost:8080/"
        },
        "id": "qmMhOZRAS_1g",
        "outputId": "c091c8ea-d1fb-4d54-d0fb-27547e80a3e7"
      },
      "source": [
        "x_treino = x[:2426]\n",
        "x_teste = x[2426:3460]\n",
        "y_treino = y[:2426]\n",
        "y_teste = y[2426:3460]\n",
        "\n",
        "print(len(x_treino))\n",
        "print(len(x_teste))"
      ],
      "execution_count": 23,
      "outputs": [
        {
          "output_type": "stream",
          "name": "stdout",
          "text": [
            "2426\n",
            "1034\n"
          ]
        }
      ]
    },
    {
      "cell_type": "markdown",
      "metadata": {
        "id": "LKm-c_PDrCDL"
      },
      "source": [
        "#Decision Tree"
      ]
    },
    {
      "cell_type": "code",
      "metadata": {
        "colab": {
          "base_uri": "https://localhost:8080/"
        },
        "id": "M3xQOT4gUbWZ",
        "outputId": "bebdee0b-01ce-4f38-8b19-05fc07a36524"
      },
      "source": [
        "resultados = []\n",
        "\n",
        "for i in range(30):\n",
        "  kfold = KFold(n_splits=10, shuffle=True, random_state=i)\n",
        "  arvore = DecisionTreeClassifier()\n",
        "  scores = cross_val_score(arvore.fit(x_treino, y_treino), x_treino, y_treino, cv=kfold)\n",
        "  #arvore.fit(x_treino, y_treino)\n",
        "  resultados.append(scores.mean())\n",
        "\n",
        "print(np.mean(resultados))"
      ],
      "execution_count": 24,
      "outputs": [
        {
          "output_type": "stream",
          "name": "stdout",
          "text": [
            "0.5414607919826775\n"
          ]
        }
      ]
    },
    {
      "cell_type": "code",
      "metadata": {
        "colab": {
          "base_uri": "https://localhost:8080/"
        },
        "id": "EVj5GaogU4nY",
        "outputId": "836f711b-e33c-4551-f2db-0d1f62621773"
      },
      "source": [
        "arvore.feature_importances_"
      ],
      "execution_count": 25,
      "outputs": [
        {
          "output_type": "execute_result",
          "data": {
            "text/plain": [
              "array([0.26692536, 0.13107402, 0.08684367, 0.11571968, 0.1001984 ,\n",
              "       0.07352274, 0.11682262, 0.10889353])"
            ]
          },
          "metadata": {},
          "execution_count": 25
        }
      ]
    },
    {
      "cell_type": "code",
      "metadata": {
        "colab": {
          "base_uri": "https://localhost:8080/"
        },
        "id": "lLoblevOU7ao",
        "outputId": "0cce8ad8-8ff6-4f9f-80a5-289c75eb5b37"
      },
      "source": [
        "previsao = arvore.predict(x_teste)\n",
        "previsao"
      ],
      "execution_count": 26,
      "outputs": [
        {
          "output_type": "execute_result",
          "data": {
            "text/plain": [
              "array([1, 1, 1, ..., 1, 1, 0])"
            ]
          },
          "metadata": {},
          "execution_count": 26
        }
      ]
    },
    {
      "cell_type": "markdown",
      "source": [
        "###Métricas"
      ],
      "metadata": {
        "id": "tWaYVKKD-50q"
      }
    },
    {
      "cell_type": "code",
      "metadata": {
        "colab": {
          "base_uri": "https://localhost:8080/"
        },
        "id": "bLEu98k8VAug",
        "outputId": "51970be9-02de-4db3-f2b4-092b021cc193"
      },
      "source": [
        "acuracia = accuracy_score(y_teste, previsao)\n",
        "f1 = f1_score(y_teste, previsao, average='micro')\n",
        "print(\"Acurácia: {}\" .format(acuracia*100))\n",
        "print(\"F1-Score: {}\".format(f1*100))"
      ],
      "execution_count": 27,
      "outputs": [
        {
          "output_type": "stream",
          "name": "stdout",
          "text": [
            "Acurácia: 56.38297872340425\n",
            "F1-Score: 56.38297872340425\n"
          ]
        }
      ]
    },
    {
      "cell_type": "code",
      "source": [
        "score_roc_auc = roc_auc_score(y_teste, arvore.predict_proba(x_teste), multi_class='ovr')\n",
        "print(\"ROC AUC Score: {}\".format(score_roc_auc*100))"
      ],
      "metadata": {
        "colab": {
          "base_uri": "https://localhost:8080/"
        },
        "id": "eetyObuz0Z7j",
        "outputId": "21a926f3-90ca-47ff-b6b4-f16716adba75"
      },
      "execution_count": 32,
      "outputs": [
        {
          "output_type": "stream",
          "name": "stdout",
          "text": [
            "ROC AUC Score: 65.45350161368908\n"
          ]
        }
      ]
    },
    {
      "cell_type": "code",
      "source": [
        "probas = arvore.predict_proba(x_teste)\n",
        "skplt.metrics.plot_precision_recall(y_teste, probas)"
      ],
      "metadata": {
        "colab": {
          "base_uri": "https://localhost:8080/",
          "height": 311
        },
        "id": "Zz0Ef9du6GsP",
        "outputId": "05b30cc5-22ee-4957-f8f6-e4157a3ccb01"
      },
      "execution_count": 55,
      "outputs": [
        {
          "output_type": "execute_result",
          "data": {
            "text/plain": [
              "<matplotlib.axes._subplots.AxesSubplot at 0x7f7188a0b090>"
            ]
          },
          "metadata": {},
          "execution_count": 55
        },
        {
          "output_type": "display_data",
          "data": {
            "image/png": "[encoded data removed]",
            "text/plain": [
              "<Figure size 432x288 with 1 Axes>"
            ]
          },
          "metadata": {
            "needs_background": "light"
          }
        }
      ]
    },
    {
      "cell_type": "code",
      "source": [
        "skplt.metrics.plot_roc(y_teste, probas)"
      ],
      "metadata": {
        "colab": {
          "base_uri": "https://localhost:8080/",
          "height": 311
        },
        "id": "-ZE-Ei8_63Xj",
        "outputId": "469ebcfb-6af6-48b6-b287-2581d43dcbe6"
      },
      "execution_count": 56,
      "outputs": [
        {
          "output_type": "execute_result",
          "data": {
            "text/plain": [
              "<matplotlib.axes._subplots.AxesSubplot at 0x7f718816a0d0>"
            ]
          },
          "metadata": {},
          "execution_count": 56
        },
        {
          "output_type": "display_data",
          "data": {
            "image/png": "[encoded data removed]",
            "text/plain": [
              "<Figure size 432x288 with 1 Axes>"
            ]
          },
          "metadata": {
            "needs_background": "light"
          }
        }
      ]
    },
    {
      "cell_type": "markdown",
      "metadata": {
        "id": "0SUSztQgcefi"
      },
      "source": [
        "###Grid Search"
      ]
    },
    {
      "cell_type": "code",
      "metadata": {
        "colab": {
          "base_uri": "https://localhost:8080/"
        },
        "id": "S3oJDiO1cgnz",
        "outputId": "08748bc3-cd32-4fcd-b750-c77aeb7b26b0"
      },
      "source": [
        "parametros = {\"criterion\":[\"gini\", \"entropy\"],\n",
        "              \"splitter\":['best', 'random'], \n",
        "              \"min_samples_split\":[2,4,10],\n",
        "              \"max_features\":[2,3],\n",
        "              \"min_samples_leaf\":[3,4,5],\n",
        "              \"max_depth\":[80,90,100,110]}\n",
        "\n",
        "gridS_arvore = GridSearchCV(arvore, parametros)\n",
        "gridS_arvore.fit(x_treino, y_treino)"
      ],
      "execution_count": 38,
      "outputs": [
        {
          "output_type": "execute_result",
          "data": {
            "text/plain": [
              "GridSearchCV(estimator=DecisionTreeClassifier(),\n",
              "             param_grid={'criterion': ['gini', 'entropy'],\n",
              "                         'max_depth': [80, 90, 100, 110],\n",
              "                         'max_features': [2, 3], 'min_samples_leaf': [3, 4, 5],\n",
              "                         'min_samples_split': [2, 4, 10],\n",
              "                         'splitter': ['best', 'random']})"
            ]
          },
          "metadata": {},
          "execution_count": 38
        }
      ]
    },
    {
      "cell_type": "code",
      "metadata": {
        "colab": {
          "base_uri": "https://localhost:8080/"
        },
        "id": "WEjBkWgsdOYA",
        "outputId": "b48520c1-3435-4cc1-a85a-c465ebe64a85"
      },
      "source": [
        "gridS_arvore.best_estimator_"
      ],
      "execution_count": 39,
      "outputs": [
        {
          "output_type": "execute_result",
          "data": {
            "text/plain": [
              "DecisionTreeClassifier(max_depth=100, max_features=3, min_samples_leaf=5,\n",
              "                       min_samples_split=4, splitter='random')"
            ]
          },
          "metadata": {},
          "execution_count": 39
        }
      ]
    },
    {
      "cell_type": "code",
      "metadata": {
        "colab": {
          "base_uri": "https://localhost:8080/"
        },
        "id": "F__QDxQIerlT",
        "outputId": "a7d22b15-68e3-4801-a78a-768ede85cbe9"
      },
      "source": [
        "gridS_arvore.best_score_"
      ],
      "execution_count": 40,
      "outputs": [
        {
          "output_type": "execute_result",
          "data": {
            "text/plain": [
              "0.6104721904034619"
            ]
          },
          "metadata": {},
          "execution_count": 40
        }
      ]
    },
    {
      "cell_type": "markdown",
      "source": [
        "###Métricas"
      ],
      "metadata": {
        "id": "QPTuqdGz-kcv"
      }
    },
    {
      "cell_type": "code",
      "metadata": {
        "colab": {
          "base_uri": "https://localhost:8080/"
        },
        "id": "3D72MC60dhXC",
        "outputId": "0b507f61-f208-4909-e2a0-1ef2336e14ad"
      },
      "source": [
        "nova_previsao = gridS_arvore.predict(x_teste)\n",
        "acuracia = accuracy_score(y_teste, nova_previsao)\n",
        "f1 = f1_score(y_teste, nova_previsao, average='micro')\n",
        "score_roc_auc = roc_auc_score(y_teste, gridS_arvore.predict_proba(x_teste), multi_class='ovr')\n",
        "print(\"Acurácia: {}\" .format(acuracia*100))\n",
        "print(\"F1-Score: {}\".format(f1*100))\n",
        "print(\"ROC AUC Score: {}\".format(score_roc_auc*100))"
      ],
      "execution_count": 42,
      "outputs": [
        {
          "output_type": "stream",
          "name": "stdout",
          "text": [
            "Acurácia: 61.50870406189555\n",
            "F1-Score: 61.50870406189555\n",
            "ROC AUC Score: 74.231076206673\n"
          ]
        }
      ]
    },
    {
      "cell_type": "code",
      "source": [
        "probas_arvore = gridS_arvore.predict_proba(x_teste)\n",
        "skplt.metrics.plot_precision_recall(y_teste, probas_arvore)"
      ],
      "metadata": {
        "colab": {
          "base_uri": "https://localhost:8080/",
          "height": 311
        },
        "id": "gzuuB1tA7H2z",
        "outputId": "f66cc323-4fbf-4650-f69d-eb6c4ae3d776"
      },
      "execution_count": 74,
      "outputs": [
        {
          "output_type": "execute_result",
          "data": {
            "text/plain": [
              "<matplotlib.axes._subplots.AxesSubplot at 0x7f7183d8a790>"
            ]
          },
          "metadata": {},
          "execution_count": 74
        },
        {
          "output_type": "display_data",
          "data": {
            "image/png": "[encoded data removed]",
            "text/plain": [
              "<Figure size 432x288 with 1 Axes>"
            ]
          },
          "metadata": {
            "needs_background": "light"
          }
        }
      ]
    },
    {
      "cell_type": "code",
      "source": [
        "skplt.metrics.plot_roc(y_teste, probas_arvore)"
      ],
      "metadata": {
        "colab": {
          "base_uri": "https://localhost:8080/",
          "height": 311
        },
        "id": "kx-Otlqm7M9S",
        "outputId": "c397577d-7d72-466c-9c9e-51774659ada5"
      },
      "execution_count": 77,
      "outputs": [
        {
          "output_type": "execute_result",
          "data": {
            "text/plain": [
              "<matplotlib.axes._subplots.AxesSubplot at 0x7f7183d71c90>"
            ]
          },
          "metadata": {},
          "execution_count": 77
        },
        {
          "output_type": "display_data",
          "data": {
            "image/png": "[encoded data removed]",
            "text/plain": [
              "<Figure size 432x288 with 1 Axes>"
            ]
          },
          "metadata": {
            "needs_background": "light"
          }
        }
      ]
    },
    {
      "cell_type": "code",
      "metadata": {
        "colab": {
          "base_uri": "https://localhost:8080/"
        },
        "id": "6p1tlr0kfWJo",
        "outputId": "8c366894-9fdd-4ffe-c313-41b2cb2809e9"
      },
      "source": [
        "print(classification_report(y_teste, nova_previsao))"
      ],
      "execution_count": 43,
      "outputs": [
        {
          "output_type": "stream",
          "name": "stdout",
          "text": [
            "              precision    recall  f1-score   support\n",
            "\n",
            "           0       0.44      0.24      0.31       287\n",
            "           1       0.69      0.84      0.76       492\n",
            "           2       0.55      0.61      0.58       255\n",
            "\n",
            "    accuracy                           0.62      1034\n",
            "   macro avg       0.56      0.56      0.55      1034\n",
            "weighted avg       0.59      0.62      0.59      1034\n",
            "\n"
          ]
        }
      ]
    },
    {
      "cell_type": "code",
      "metadata": {
        "colab": {
          "base_uri": "https://localhost:8080/",
          "height": 278
        },
        "id": "oBoqjTX_e2Cs",
        "outputId": "9dff94f5-5a36-4216-9334-d69345236114"
      },
      "source": [
        "cm = ConfusionMatrix(gridS_arvore)\n",
        "cm.fit(x_treino, y_treino)\n",
        "cm.score(x_teste, y_teste)"
      ],
      "execution_count": 44,
      "outputs": [
        {
          "output_type": "execute_result",
          "data": {
            "text/plain": [
              "0.6150870406189555"
            ]
          },
          "metadata": {},
          "execution_count": 44
        },
        {
          "output_type": "display_data",
          "data": {
            "image/png": "[encoded data removed]",
            "text/plain": [
              "<Figure size 432x288 with 1 Axes>"
            ]
          },
          "metadata": {
            "needs_background": "light"
          }
        }
      ]
    },
    {
      "cell_type": "markdown",
      "metadata": {
        "id": "F-LJHj6UcEgn"
      },
      "source": [
        "#Random Forest"
      ]
    },
    {
      "cell_type": "code",
      "metadata": {
        "colab": {
          "base_uri": "https://localhost:8080/"
        },
        "id": "PCn1naNSVJdZ",
        "outputId": "386a0a4a-9777-4a93-a85c-74ade9547ac5"
      },
      "source": [
        "resultados = []\n",
        "\n",
        "for i in range(30):\n",
        "  kfold = KFold(n_splits=10, shuffle=True, random_state=i)\n",
        "  floresta = RandomForestClassifier()\n",
        "  scores = cross_val_score(floresta.fit(x_treino, y_treino), x_treino, y_treino, cv=kfold)\n",
        "  resultados.append(scores.mean())\n",
        "\n",
        "print(np.mean(resultados))"
      ],
      "execution_count": 45,
      "outputs": [
        {
          "output_type": "stream",
          "name": "stdout",
          "text": [
            "0.6059346551939145\n"
          ]
        }
      ]
    },
    {
      "cell_type": "code",
      "metadata": {
        "colab": {
          "base_uri": "https://localhost:8080/"
        },
        "id": "MqGa0qOwrSg6",
        "outputId": "f56f3593-d5ff-4688-cdd4-92c47bc8f484"
      },
      "source": [
        "floresta.feature_importances_"
      ],
      "execution_count": 46,
      "outputs": [
        {
          "output_type": "execute_result",
          "data": {
            "text/plain": [
              "array([0.2359134 , 0.12322368, 0.09989314, 0.10195654, 0.1153798 ,\n",
              "       0.09961978, 0.10599526, 0.1180184 ])"
            ]
          },
          "metadata": {},
          "execution_count": 46
        }
      ]
    },
    {
      "cell_type": "markdown",
      "source": [
        "###GridSearch"
      ],
      "metadata": {
        "id": "auLUohUQ-rKw"
      }
    },
    {
      "cell_type": "code",
      "metadata": {
        "colab": {
          "base_uri": "https://localhost:8080/"
        },
        "id": "YDcbmM2Hf-vN",
        "outputId": "fdb31462-611b-4c6a-9c2e-a56739e66865"
      },
      "source": [
        "parametros_floresta = {\"max_depth\": [3, 5, 10],\n",
        "              \"max_features\": [\"auto\", \"sqrt\", \"log2\"],\n",
        "              \"min_samples_split\": [2, 3, 5, 10],\n",
        "              \"criterion\": [\"gini\", \"entropy\"],\n",
        "              \"max_leaf_nodes\": [5, 10, 20]}\n",
        "\n",
        "gridS_floresta = GridSearchCV(floresta, parametros_floresta)\n",
        "gridS_floresta.fit(x_treino, y_treino)"
      ],
      "execution_count": 47,
      "outputs": [
        {
          "output_type": "execute_result",
          "data": {
            "text/plain": [
              "GridSearchCV(estimator=RandomForestClassifier(),\n",
              "             param_grid={'criterion': ['gini', 'entropy'],\n",
              "                         'max_depth': [3, 5, 10],\n",
              "                         'max_features': ['auto', 'sqrt', 'log2'],\n",
              "                         'max_leaf_nodes': [5, 10, 20],\n",
              "                         'min_samples_split': [2, 3, 5, 10]})"
            ]
          },
          "metadata": {},
          "execution_count": 47
        }
      ]
    },
    {
      "cell_type": "code",
      "metadata": {
        "colab": {
          "base_uri": "https://localhost:8080/"
        },
        "id": "9vvVw2GYkBPo",
        "outputId": "0b9ad0dc-924f-42b6-f1c2-35fc08d9cae1"
      },
      "source": [
        "gridS_floresta.best_params_"
      ],
      "execution_count": 71,
      "outputs": [
        {
          "output_type": "execute_result",
          "data": {
            "text/plain": [
              "{'criterion': 'entropy',\n",
              " 'max_depth': 5,\n",
              " 'max_features': 'log2',\n",
              " 'max_leaf_nodes': 10,\n",
              " 'min_samples_split': 5}"
            ]
          },
          "metadata": {},
          "execution_count": 71
        }
      ]
    },
    {
      "cell_type": "code",
      "metadata": {
        "colab": {
          "base_uri": "https://localhost:8080/"
        },
        "id": "Cr1vMv4-kFhf",
        "outputId": "19467cec-3737-4cf7-bf1e-b5600cb7f6e1"
      },
      "source": [
        "gridS_floresta.best_score_"
      ],
      "execution_count": 72,
      "outputs": [
        {
          "output_type": "execute_result",
          "data": {
            "text/plain": [
              "0.6405642526833821"
            ]
          },
          "metadata": {},
          "execution_count": 72
        }
      ]
    },
    {
      "cell_type": "markdown",
      "source": [
        "###Métricas"
      ],
      "metadata": {
        "id": "16OK-YDy-vqe"
      }
    },
    {
      "cell_type": "code",
      "metadata": {
        "colab": {
          "base_uri": "https://localhost:8080/"
        },
        "id": "qH6gTVgtkN0J",
        "outputId": "07342c27-9505-4fb3-fbba-9de23e1da5d0"
      },
      "source": [
        "nova_previsao = gridS_floresta.predict(x_teste)\n",
        "acuracia = accuracy_score(y_teste, nova_previsao)\n",
        "f1 = f1_score(y_teste, nova_previsao, average='micro')\n",
        "score_roc_auc = roc_auc_score(y_teste, gridS_floresta.predict_proba(x_teste), multi_class='ovr')\n",
        "print(\"Acurácia: {}\" .format(acuracia*100))\n",
        "print(\"F1-Score: {}\".format(f1*100))\n",
        "print(\"ROC AUC Score: {}\".format(score_roc_auc*100))"
      ],
      "execution_count": 59,
      "outputs": [
        {
          "output_type": "stream",
          "name": "stdout",
          "text": [
            "Acurácia: 62.475822050290134\n",
            "F1-Score: 62.475822050290134\n",
            "ROC AUC Score: 80.46445936659978\n"
          ]
        }
      ]
    },
    {
      "cell_type": "code",
      "source": [
        "probas_floresta = gridS_floresta.predict_proba(x_teste)\n",
        "skplt.metrics.plot_precision_recall(y_teste, probas_floresta)"
      ],
      "metadata": {
        "colab": {
          "base_uri": "https://localhost:8080/",
          "height": 311
        },
        "id": "NflOOAXN7lBI",
        "outputId": "e8f880f9-c513-4a6b-aced-ddee3e2ab3d9"
      },
      "execution_count": 73,
      "outputs": [
        {
          "output_type": "execute_result",
          "data": {
            "text/plain": [
              "<matplotlib.axes._subplots.AxesSubplot at 0x7f7187d173d0>"
            ]
          },
          "metadata": {},
          "execution_count": 73
        },
        {
          "output_type": "display_data",
          "data": {
            "image/png": "[encoded data removed]",
            "text/plain": [
              "<Figure size 432x288 with 1 Axes>"
            ]
          },
          "metadata": {
            "needs_background": "light"
          }
        }
      ]
    },
    {
      "cell_type": "code",
      "source": [
        "skplt.metrics.plot_roc(y_teste, probas_floresta)"
      ],
      "metadata": {
        "colab": {
          "base_uri": "https://localhost:8080/",
          "height": 311
        },
        "id": "zQqPiphw7pnI",
        "outputId": "82d9a42e-d601-4e20-f280-5b2525032176"
      },
      "execution_count": 76,
      "outputs": [
        {
          "output_type": "execute_result",
          "data": {
            "text/plain": [
              "<matplotlib.axes._subplots.AxesSubplot at 0x7f71890c9950>"
            ]
          },
          "metadata": {},
          "execution_count": 76
        },
        {
          "output_type": "display_data",
          "data": {
            "image/png": "[encoded data removed]",
            "text/plain": [
              "<Figure size 432x288 with 1 Axes>"
            ]
          },
          "metadata": {
            "needs_background": "light"
          }
        }
      ]
    },
    {
      "cell_type": "code",
      "metadata": {
        "colab": {
          "base_uri": "https://localhost:8080/"
        },
        "id": "tzt4Nvh4kV2p",
        "outputId": "5c4af166-e571-462b-9cb9-f6190d21847a"
      },
      "source": [
        "print(classification_report(y_teste, nova_previsao))"
      ],
      "execution_count": 63,
      "outputs": [
        {
          "output_type": "stream",
          "name": "stdout",
          "text": [
            "              precision    recall  f1-score   support\n",
            "\n",
            "           0       0.00      0.00      0.00       287\n",
            "           1       0.65      0.97      0.78       492\n",
            "           2       0.56      0.66      0.61       255\n",
            "\n",
            "    accuracy                           0.62      1034\n",
            "   macro avg       0.40      0.54      0.46      1034\n",
            "weighted avg       0.45      0.62      0.52      1034\n",
            "\n"
          ]
        },
        {
          "output_type": "stream",
          "name": "stderr",
          "text": [
            "/usr/local/lib/python3.7/dist-packages/sklearn/metrics/_classification.py:1308: UndefinedMetricWarning:\n",
            "\n",
            "Precision and F-score are ill-defined and being set to 0.0 in labels with no predicted samples. Use `zero_division` parameter to control this behavior.\n",
            "\n",
            "/usr/local/lib/python3.7/dist-packages/sklearn/metrics/_classification.py:1308: UndefinedMetricWarning:\n",
            "\n",
            "Precision and F-score are ill-defined and being set to 0.0 in labels with no predicted samples. Use `zero_division` parameter to control this behavior.\n",
            "\n",
            "/usr/local/lib/python3.7/dist-packages/sklearn/metrics/_classification.py:1308: UndefinedMetricWarning:\n",
            "\n",
            "Precision and F-score are ill-defined and being set to 0.0 in labels with no predicted samples. Use `zero_division` parameter to control this behavior.\n",
            "\n"
          ]
        }
      ]
    },
    {
      "cell_type": "code",
      "metadata": {
        "colab": {
          "base_uri": "https://localhost:8080/",
          "height": 278
        },
        "id": "rVx1SoK4kWuc",
        "outputId": "574c0e98-89dc-482a-872a-cf630e6d304c"
      },
      "source": [
        "cm = ConfusionMatrix(gridS_floresta)\n",
        "cm.fit(x_treino, y_treino)\n",
        "cm.score(x_teste, y_teste)"
      ],
      "execution_count": 64,
      "outputs": [
        {
          "output_type": "execute_result",
          "data": {
            "text/plain": [
              "0.6247582205029013"
            ]
          },
          "metadata": {},
          "execution_count": 64
        },
        {
          "output_type": "display_data",
          "data": {
            "image/png": "[encoded data removed]",
            "text/plain": [
              "<Figure size 432x288 with 1 Axes>"
            ]
          },
          "metadata": {
            "needs_background": "light"
          }
        }
      ]
    },
    {
      "cell_type": "markdown",
      "metadata": {
        "id": "W5BBlMlPj1Xe"
      },
      "source": [
        "#Previsões"
      ]
    },
    {
      "cell_type": "code",
      "metadata": {
        "colab": {
          "base_uri": "https://localhost:8080/",
          "height": 250
        },
        "id": "ssFXYp9ZnT2p",
        "outputId": "8a9d81fe-7405-4e40-f6a5-e3004f999038"
      },
      "source": [
        "vetor = list(range(3466))\n",
        "dados['id_jogo'] = vetor\n",
        "dados.head()"
      ],
      "execution_count": 65,
      "outputs": [
        {
          "output_type": "execute_result",
          "data": {
            "text/html": [
              "\n",
              "  <div id=\"df-3928da62-1f38-4123-ac70-5f11746b4351\">\n",
              "    <div class=\"colab-df-container\">\n",
              "      <div>\n",
              "<style scoped>\n",
              "    .dataframe tbody tr th:only-of-type {\n",
              "        vertical-align: middle;\n",
              "    }\n",
              "\n",
              "    .dataframe tbody tr th {\n",
              "        vertical-align: top;\n",
              "    }\n",
              "\n",
              "    .dataframe thead th {\n",
              "        text-align: right;\n",
              "    }\n",
              "</style>\n",
              "<table border=\"1\" class=\"dataframe\">\n",
              "  <thead>\n",
              "    <tr style=\"text-align: right;\">\n",
              "      <th></th>\n",
              "      <th>Country</th>\n",
              "      <th>League</th>\n",
              "      <th>Season</th>\n",
              "      <th>Date</th>\n",
              "      <th>Time</th>\n",
              "      <th>Home</th>\n",
              "      <th>Away</th>\n",
              "      <th>HG</th>\n",
              "      <th>AG</th>\n",
              "      <th>Res</th>\n",
              "      <th>PH</th>\n",
              "      <th>PD</th>\n",
              "      <th>PA</th>\n",
              "      <th>MaxH</th>\n",
              "      <th>MaxD</th>\n",
              "      <th>MaxA</th>\n",
              "      <th>AvgH</th>\n",
              "      <th>AvgD</th>\n",
              "      <th>AvgA</th>\n",
              "      <th>id_jogo</th>\n",
              "    </tr>\n",
              "  </thead>\n",
              "  <tbody>\n",
              "    <tr>\n",
              "      <th>0</th>\n",
              "      <td>Brazil</td>\n",
              "      <td>Serie A</td>\n",
              "      <td>2012</td>\n",
              "      <td>19/05/2012</td>\n",
              "      <td>22:30</td>\n",
              "      <td>Palmeiras</td>\n",
              "      <td>Portuguesa</td>\n",
              "      <td>1.0</td>\n",
              "      <td>1.0</td>\n",
              "      <td>0</td>\n",
              "      <td>1.75</td>\n",
              "      <td>3.86</td>\n",
              "      <td>5.25</td>\n",
              "      <td>1.76</td>\n",
              "      <td>3.87</td>\n",
              "      <td>5.31</td>\n",
              "      <td>1.69</td>\n",
              "      <td>3.50</td>\n",
              "      <td>4.90</td>\n",
              "      <td>0</td>\n",
              "    </tr>\n",
              "    <tr>\n",
              "      <th>1</th>\n",
              "      <td>Brazil</td>\n",
              "      <td>Serie A</td>\n",
              "      <td>2012</td>\n",
              "      <td>19/05/2012</td>\n",
              "      <td>22:30</td>\n",
              "      <td>Sport Recife</td>\n",
              "      <td>Flamengo RJ</td>\n",
              "      <td>1.0</td>\n",
              "      <td>1.0</td>\n",
              "      <td>0</td>\n",
              "      <td>2.83</td>\n",
              "      <td>3.39</td>\n",
              "      <td>2.68</td>\n",
              "      <td>2.83</td>\n",
              "      <td>3.42</td>\n",
              "      <td>2.70</td>\n",
              "      <td>2.59</td>\n",
              "      <td>3.23</td>\n",
              "      <td>2.58</td>\n",
              "      <td>1</td>\n",
              "    </tr>\n",
              "    <tr>\n",
              "      <th>2</th>\n",
              "      <td>Brazil</td>\n",
              "      <td>Serie A</td>\n",
              "      <td>2012</td>\n",
              "      <td>20/05/2012</td>\n",
              "      <td>01:00</td>\n",
              "      <td>Figueirense</td>\n",
              "      <td>Nautico</td>\n",
              "      <td>2.0</td>\n",
              "      <td>1.0</td>\n",
              "      <td>1</td>\n",
              "      <td>1.60</td>\n",
              "      <td>4.04</td>\n",
              "      <td>6.72</td>\n",
              "      <td>1.67</td>\n",
              "      <td>4.05</td>\n",
              "      <td>7.22</td>\n",
              "      <td>1.59</td>\n",
              "      <td>3.67</td>\n",
              "      <td>5.64</td>\n",
              "      <td>2</td>\n",
              "    </tr>\n",
              "    <tr>\n",
              "      <th>3</th>\n",
              "      <td>Brazil</td>\n",
              "      <td>Serie A</td>\n",
              "      <td>2012</td>\n",
              "      <td>20/05/2012</td>\n",
              "      <td>20:00</td>\n",
              "      <td>Botafogo RJ</td>\n",
              "      <td>Sao Paulo</td>\n",
              "      <td>4.0</td>\n",
              "      <td>2.0</td>\n",
              "      <td>1</td>\n",
              "      <td>2.49</td>\n",
              "      <td>3.35</td>\n",
              "      <td>3.15</td>\n",
              "      <td>2.49</td>\n",
              "      <td>3.39</td>\n",
              "      <td>3.15</td>\n",
              "      <td>2.35</td>\n",
              "      <td>3.26</td>\n",
              "      <td>2.84</td>\n",
              "      <td>3</td>\n",
              "    </tr>\n",
              "    <tr>\n",
              "      <th>4</th>\n",
              "      <td>Brazil</td>\n",
              "      <td>Serie A</td>\n",
              "      <td>2012</td>\n",
              "      <td>20/05/2012</td>\n",
              "      <td>20:00</td>\n",
              "      <td>Corinthians</td>\n",
              "      <td>Fluminense</td>\n",
              "      <td>0.0</td>\n",
              "      <td>1.0</td>\n",
              "      <td>2</td>\n",
              "      <td>1.96</td>\n",
              "      <td>3.53</td>\n",
              "      <td>4.41</td>\n",
              "      <td>1.96</td>\n",
              "      <td>3.53</td>\n",
              "      <td>4.41</td>\n",
              "      <td>1.89</td>\n",
              "      <td>3.33</td>\n",
              "      <td>3.89</td>\n",
              "      <td>4</td>\n",
              "    </tr>\n",
              "  </tbody>\n",
              "</table>\n",
              "</div>\n",
              "      <button class=\"colab-df-convert\" onclick=\"convertToInteractive('df-3928da62-1f38-4123-ac70-5f11746b4351')\"\n",
              "              title=\"Convert this dataframe to an interactive table.\"\n",
              "              style=\"display:none;\">\n",
              "        \n",
              "  <svg xmlns=\"http://www.w3.org/2000/svg\" height=\"24px\"viewBox=\"0 0 24 24\"\n",
              "       width=\"24px\">\n",
              "    <path d=\"M0 0h24v24H0V0z\" fill=\"none\"/>\n",
              "    <path d=\"M18.56 5.44l.94 2.06.94-2.06 2.06-.94-2.06-.94-.94-2.06-.94 2.06-2.06.94zm-11 1L8.5 8.5l.94-2.06 2.06-.94-2.06-.94L8.5 2.5l-.94 2.06-2.06.94zm10 10l.94 2.06.94-2.06 2.06-.94-2.06-.94-.94-2.06-.94 2.06-2.06.94z\"/><path d=\"M17.41 7.96l-1.37-1.37c-.4-.4-.92-.59-1.43-.59-.52 0-1.04.2-1.43.59L10.3 9.45l-7.72 7.72c-.78.78-.78 2.05 0 2.83L4 21.41c.39.39.9.59 1.41.59.51 0 1.02-.2 1.41-.59l7.78-7.78 2.81-2.81c.8-.78.8-2.07 0-2.86zM5.41 20L4 18.59l7.72-7.72 1.47 1.35L5.41 20z\"/>\n",
              "  </svg>\n",
              "      </button>\n",
              "      \n",
              "  <style>\n",
              "    .colab-df-container {\n",
              "      display:flex;\n",
              "      flex-wrap:wrap;\n",
              "      gap: 12px;\n",
              "    }\n",
              "\n",
              "    .colab-df-convert {\n",
              "      background-color: #E8F0FE;\n",
              "      border: none;\n",
              "      border-radius: 50%;\n",
              "      cursor: pointer;\n",
              "      display: none;\n",
              "      fill: #1967D2;\n",
              "      height: 32px;\n",
              "      padding: 0 0 0 0;\n",
              "      width: 32px;\n",
              "    }\n",
              "\n",
              "    .colab-df-convert:hover {\n",
              "      background-color: #E2EBFA;\n",
              "      box-shadow: 0px 1px 2px rgba(60, 64, 67, 0.3), 0px 1px 3px 1px rgba(60, 64, 67, 0.15);\n",
              "      fill: #174EA6;\n",
              "    }\n",
              "\n",
              "    [theme=dark] .colab-df-convert {\n",
              "      background-color: #3B4455;\n",
              "      fill: #D2E3FC;\n",
              "    }\n",
              "\n",
              "    [theme=dark] .colab-df-convert:hover {\n",
              "      background-color: #434B5C;\n",
              "      box-shadow: 0px 1px 3px 1px rgba(0, 0, 0, 0.15);\n",
              "      filter: drop-shadow(0px 1px 2px rgba(0, 0, 0, 0.3));\n",
              "      fill: #FFFFFF;\n",
              "    }\n",
              "  </style>\n",
              "\n",
              "      <script>\n",
              "        const buttonEl =\n",
              "          document.querySelector('#df-3928da62-1f38-4123-ac70-5f11746b4351 button.colab-df-convert');\n",
              "        buttonEl.style.display =\n",
              "          google.colab.kernel.accessAllowed ? 'block' : 'none';\n",
              "\n",
              "        async function convertToInteractive(key) {\n",
              "          const element = document.querySelector('#df-3928da62-1f38-4123-ac70-5f11746b4351');\n",
              "          const dataTable =\n",
              "            await google.colab.kernel.invokeFunction('convertToInteractive',\n",
              "                                                     [key], {});\n",
              "          if (!dataTable) return;\n",
              "\n",
              "          const docLinkHtml = 'Like what you see? Visit the ' +\n",
              "            '<a target=\"_blank\" href=https://colab.research.google.com/notebooks/data_table.ipynb>data table notebook</a>'\n",
              "            + ' to learn more about interactive tables.';\n",
              "          element.innerHTML = '';\n",
              "          dataTable['output_type'] = 'display_data';\n",
              "          await google.colab.output.renderOutput(dataTable, element);\n",
              "          const docLink = document.createElement('div');\n",
              "          docLink.innerHTML = docLinkHtml;\n",
              "          element.appendChild(docLink);\n",
              "        }\n",
              "      </script>\n",
              "    </div>\n",
              "  </div>\n",
              "  "
            ],
            "text/plain": [
              "  Country   League  Season        Date   Time  ...  MaxA  AvgH  AvgD  AvgA  id_jogo\n",
              "0  Brazil  Serie A    2012  19/05/2012  22:30  ...  5.31  1.69  3.50  4.90        0\n",
              "1  Brazil  Serie A    2012  19/05/2012  22:30  ...  2.70  2.59  3.23  2.58        1\n",
              "2  Brazil  Serie A    2012  20/05/2012  01:00  ...  7.22  1.59  3.67  5.64        2\n",
              "3  Brazil  Serie A    2012  20/05/2012  20:00  ...  3.15  2.35  3.26  2.84        3\n",
              "4  Brazil  Serie A    2012  20/05/2012  20:00  ...  4.41  1.89  3.33  3.89        4\n",
              "\n",
              "[5 rows x 20 columns]"
            ]
          },
          "metadata": {},
          "execution_count": 65
        }
      ]
    },
    {
      "cell_type": "code",
      "metadata": {
        "colab": {
          "base_uri": "https://localhost:8080/",
          "height": 285
        },
        "id": "sTpSiQd9pACs",
        "outputId": "124a2064-8184-47c7-8277-826c7568cd35"
      },
      "source": [
        "dados.tail()"
      ],
      "execution_count": 66,
      "outputs": [
        {
          "output_type": "execute_result",
          "data": {
            "text/html": [
              "\n",
              "  <div id=\"df-43fa68cb-5014-4d0d-9b1f-2a3d001c05c0\">\n",
              "    <div class=\"colab-df-container\">\n",
              "      <div>\n",
              "<style scoped>\n",
              "    .dataframe tbody tr th:only-of-type {\n",
              "        vertical-align: middle;\n",
              "    }\n",
              "\n",
              "    .dataframe tbody tr th {\n",
              "        vertical-align: top;\n",
              "    }\n",
              "\n",
              "    .dataframe thead th {\n",
              "        text-align: right;\n",
              "    }\n",
              "</style>\n",
              "<table border=\"1\" class=\"dataframe\">\n",
              "  <thead>\n",
              "    <tr style=\"text-align: right;\">\n",
              "      <th></th>\n",
              "      <th>Country</th>\n",
              "      <th>League</th>\n",
              "      <th>Season</th>\n",
              "      <th>Date</th>\n",
              "      <th>Time</th>\n",
              "      <th>Home</th>\n",
              "      <th>Away</th>\n",
              "      <th>HG</th>\n",
              "      <th>AG</th>\n",
              "      <th>Res</th>\n",
              "      <th>PH</th>\n",
              "      <th>PD</th>\n",
              "      <th>PA</th>\n",
              "      <th>MaxH</th>\n",
              "      <th>MaxD</th>\n",
              "      <th>MaxA</th>\n",
              "      <th>AvgH</th>\n",
              "      <th>AvgD</th>\n",
              "      <th>AvgA</th>\n",
              "      <th>id_jogo</th>\n",
              "    </tr>\n",
              "  </thead>\n",
              "  <tbody>\n",
              "    <tr>\n",
              "      <th>3461</th>\n",
              "      <td>Brazil</td>\n",
              "      <td>Serie A</td>\n",
              "      <td>2021</td>\n",
              "      <td>20/06/2021</td>\n",
              "      <td>22:15</td>\n",
              "      <td>Athletico-PR</td>\n",
              "      <td>Atletico GO</td>\n",
              "      <td>2.0</td>\n",
              "      <td>1.0</td>\n",
              "      <td>1</td>\n",
              "      <td>2.04</td>\n",
              "      <td>3.12</td>\n",
              "      <td>4.47</td>\n",
              "      <td>2.07</td>\n",
              "      <td>3.25</td>\n",
              "      <td>4.58</td>\n",
              "      <td>2.02</td>\n",
              "      <td>2.99</td>\n",
              "      <td>4.29</td>\n",
              "      <td>3461</td>\n",
              "    </tr>\n",
              "    <tr>\n",
              "      <th>3462</th>\n",
              "      <td>Brazil</td>\n",
              "      <td>Serie A</td>\n",
              "      <td>2021</td>\n",
              "      <td>20/06/2021</td>\n",
              "      <td>22:15</td>\n",
              "      <td>Fortaleza</td>\n",
              "      <td>Fluminense</td>\n",
              "      <td>1.0</td>\n",
              "      <td>1.0</td>\n",
              "      <td>0</td>\n",
              "      <td>2.39</td>\n",
              "      <td>2.97</td>\n",
              "      <td>3.59</td>\n",
              "      <td>2.40</td>\n",
              "      <td>3.08</td>\n",
              "      <td>3.70</td>\n",
              "      <td>2.33</td>\n",
              "      <td>2.94</td>\n",
              "      <td>3.40</td>\n",
              "      <td>3462</td>\n",
              "    </tr>\n",
              "    <tr>\n",
              "      <th>3463</th>\n",
              "      <td>Brazil</td>\n",
              "      <td>Serie A</td>\n",
              "      <td>2021</td>\n",
              "      <td>20/06/2021</td>\n",
              "      <td>22:15</td>\n",
              "      <td>Santos</td>\n",
              "      <td>Sao Paulo</td>\n",
              "      <td>2.0</td>\n",
              "      <td>0.0</td>\n",
              "      <td>1</td>\n",
              "      <td>3.27</td>\n",
              "      <td>3.21</td>\n",
              "      <td>2.41</td>\n",
              "      <td>3.27</td>\n",
              "      <td>3.21</td>\n",
              "      <td>2.50</td>\n",
              "      <td>3.06</td>\n",
              "      <td>3.09</td>\n",
              "      <td>2.41</td>\n",
              "      <td>3463</td>\n",
              "    </tr>\n",
              "    <tr>\n",
              "      <th>3464</th>\n",
              "      <td>Brazil</td>\n",
              "      <td>Serie A</td>\n",
              "      <td>2021</td>\n",
              "      <td>21/06/2021</td>\n",
              "      <td>00:30</td>\n",
              "      <td>Juventude</td>\n",
              "      <td>Sport Recife</td>\n",
              "      <td>1.0</td>\n",
              "      <td>0.0</td>\n",
              "      <td>1</td>\n",
              "      <td>2.48</td>\n",
              "      <td>2.97</td>\n",
              "      <td>3.41</td>\n",
              "      <td>2.55</td>\n",
              "      <td>3.10</td>\n",
              "      <td>3.49</td>\n",
              "      <td>2.42</td>\n",
              "      <td>2.93</td>\n",
              "      <td>3.21</td>\n",
              "      <td>3464</td>\n",
              "    </tr>\n",
              "    <tr>\n",
              "      <th>3465</th>\n",
              "      <td>Brazil</td>\n",
              "      <td>Serie A</td>\n",
              "      <td>2021</td>\n",
              "      <td>22/06/2021</td>\n",
              "      <td>00:00</td>\n",
              "      <td>Atletico-MG</td>\n",
              "      <td>Chapecoense-SC</td>\n",
              "      <td>1.0</td>\n",
              "      <td>1.0</td>\n",
              "      <td>0</td>\n",
              "      <td>1.29</td>\n",
              "      <td>5.79</td>\n",
              "      <td>10.78</td>\n",
              "      <td>1.31</td>\n",
              "      <td>6.03</td>\n",
              "      <td>11.93</td>\n",
              "      <td>1.28</td>\n",
              "      <td>5.43</td>\n",
              "      <td>10.08</td>\n",
              "      <td>3465</td>\n",
              "    </tr>\n",
              "  </tbody>\n",
              "</table>\n",
              "</div>\n",
              "      <button class=\"colab-df-convert\" onclick=\"convertToInteractive('df-43fa68cb-5014-4d0d-9b1f-2a3d001c05c0')\"\n",
              "              title=\"Convert this dataframe to an interactive table.\"\n",
              "              style=\"display:none;\">\n",
              "        \n",
              "  <svg xmlns=\"http://www.w3.org/2000/svg\" height=\"24px\"viewBox=\"0 0 24 24\"\n",
              "       width=\"24px\">\n",
              "    <path d=\"M0 0h24v24H0V0z\" fill=\"none\"/>\n",
              "    <path d=\"M18.56 5.44l.94 2.06.94-2.06 2.06-.94-2.06-.94-.94-2.06-.94 2.06-2.06.94zm-11 1L8.5 8.5l.94-2.06 2.06-.94-2.06-.94L8.5 2.5l-.94 2.06-2.06.94zm10 10l.94 2.06.94-2.06 2.06-.94-2.06-.94-.94-2.06-.94 2.06-2.06.94z\"/><path d=\"M17.41 7.96l-1.37-1.37c-.4-.4-.92-.59-1.43-.59-.52 0-1.04.2-1.43.59L10.3 9.45l-7.72 7.72c-.78.78-.78 2.05 0 2.83L4 21.41c.39.39.9.59 1.41.59.51 0 1.02-.2 1.41-.59l7.78-7.78 2.81-2.81c.8-.78.8-2.07 0-2.86zM5.41 20L4 18.59l7.72-7.72 1.47 1.35L5.41 20z\"/>\n",
              "  </svg>\n",
              "      </button>\n",
              "      \n",
              "  <style>\n",
              "    .colab-df-container {\n",
              "      display:flex;\n",
              "      flex-wrap:wrap;\n",
              "      gap: 12px;\n",
              "    }\n",
              "\n",
              "    .colab-df-convert {\n",
              "      background-color: #E8F0FE;\n",
              "      border: none;\n",
              "      border-radius: 50%;\n",
              "      cursor: pointer;\n",
              "      display: none;\n",
              "      fill: #1967D2;\n",
              "      height: 32px;\n",
              "      padding: 0 0 0 0;\n",
              "      width: 32px;\n",
              "    }\n",
              "\n",
              "    .colab-df-convert:hover {\n",
              "      background-color: #E2EBFA;\n",
              "      box-shadow: 0px 1px 2px rgba(60, 64, 67, 0.3), 0px 1px 3px 1px rgba(60, 64, 67, 0.15);\n",
              "      fill: #174EA6;\n",
              "    }\n",
              "\n",
              "    [theme=dark] .colab-df-convert {\n",
              "      background-color: #3B4455;\n",
              "      fill: #D2E3FC;\n",
              "    }\n",
              "\n",
              "    [theme=dark] .colab-df-convert:hover {\n",
              "      background-color: #434B5C;\n",
              "      box-shadow: 0px 1px 3px 1px rgba(0, 0, 0, 0.15);\n",
              "      filter: drop-shadow(0px 1px 2px rgba(0, 0, 0, 0.3));\n",
              "      fill: #FFFFFF;\n",
              "    }\n",
              "  </style>\n",
              "\n",
              "      <script>\n",
              "        const buttonEl =\n",
              "          document.querySelector('#df-43fa68cb-5014-4d0d-9b1f-2a3d001c05c0 button.colab-df-convert');\n",
              "        buttonEl.style.display =\n",
              "          google.colab.kernel.accessAllowed ? 'block' : 'none';\n",
              "\n",
              "        async function convertToInteractive(key) {\n",
              "          const element = document.querySelector('#df-43fa68cb-5014-4d0d-9b1f-2a3d001c05c0');\n",
              "          const dataTable =\n",
              "            await google.colab.kernel.invokeFunction('convertToInteractive',\n",
              "                                                     [key], {});\n",
              "          if (!dataTable) return;\n",
              "\n",
              "          const docLinkHtml = 'Like what you see? Visit the ' +\n",
              "            '<a target=\"_blank\" href=https://colab.research.google.com/notebooks/data_table.ipynb>data table notebook</a>'\n",
              "            + ' to learn more about interactive tables.';\n",
              "          element.innerHTML = '';\n",
              "          dataTable['output_type'] = 'display_data';\n",
              "          await google.colab.output.renderOutput(dataTable, element);\n",
              "          const docLink = document.createElement('div');\n",
              "          docLink.innerHTML = docLinkHtml;\n",
              "          element.appendChild(docLink);\n",
              "        }\n",
              "      </script>\n",
              "    </div>\n",
              "  </div>\n",
              "  "
            ],
            "text/plain": [
              "     Country   League  Season        Date  ...  AvgH  AvgD   AvgA  id_jogo\n",
              "3461  Brazil  Serie A    2021  20/06/2021  ...  2.02  2.99   4.29     3461\n",
              "3462  Brazil  Serie A    2021  20/06/2021  ...  2.33  2.94   3.40     3462\n",
              "3463  Brazil  Serie A    2021  20/06/2021  ...  3.06  3.09   2.41     3463\n",
              "3464  Brazil  Serie A    2021  21/06/2021  ...  2.42  2.93   3.21     3464\n",
              "3465  Brazil  Serie A    2021  22/06/2021  ...  1.28  5.43  10.08     3465\n",
              "\n",
              "[5 rows x 20 columns]"
            ]
          },
          "metadata": {},
          "execution_count": 66
        }
      ]
    },
    {
      "cell_type": "code",
      "metadata": {
        "id": "3rLuNGZ1gvwq"
      },
      "source": [
        "previsoes = x[3460:]\n",
        "jogos = dados['id_jogo']\n",
        "id_jogo = jogos[3460:]\n",
        "\n",
        "resultado_cheio = dados['Res']\n",
        "resultado = resultado_cheio[3460:]\n",
        "\n",
        "pred = (gridS_floresta.predict(previsoes))\n",
        "novo = pd.DataFrame({'id_jogo':id_jogo, 'real':resultado, 'previsao':pred})"
      ],
      "execution_count": 67,
      "outputs": []
    },
    {
      "cell_type": "code",
      "metadata": {
        "colab": {
          "base_uri": "https://localhost:8080/",
          "height": 238
        },
        "id": "_dlkQn9sl0zy",
        "outputId": "9c675fc6-ac7c-4127-8d70-4553e5b57ff7"
      },
      "source": [
        "novo"
      ],
      "execution_count": 68,
      "outputs": [
        {
          "output_type": "execute_result",
          "data": {
            "text/html": [
              "\n",
              "  <div id=\"df-0f2ead59-a27c-4e18-9ba7-7defa6fba623\">\n",
              "    <div class=\"colab-df-container\">\n",
              "      <div>\n",
              "<style scoped>\n",
              "    .dataframe tbody tr th:only-of-type {\n",
              "        vertical-align: middle;\n",
              "    }\n",
              "\n",
              "    .dataframe tbody tr th {\n",
              "        vertical-align: top;\n",
              "    }\n",
              "\n",
              "    .dataframe thead th {\n",
              "        text-align: right;\n",
              "    }\n",
              "</style>\n",
              "<table border=\"1\" class=\"dataframe\">\n",
              "  <thead>\n",
              "    <tr style=\"text-align: right;\">\n",
              "      <th></th>\n",
              "      <th>id_jogo</th>\n",
              "      <th>real</th>\n",
              "      <th>previsao</th>\n",
              "    </tr>\n",
              "  </thead>\n",
              "  <tbody>\n",
              "    <tr>\n",
              "      <th>3460</th>\n",
              "      <td>3460</td>\n",
              "      <td>0</td>\n",
              "      <td>1</td>\n",
              "    </tr>\n",
              "    <tr>\n",
              "      <th>3461</th>\n",
              "      <td>3461</td>\n",
              "      <td>1</td>\n",
              "      <td>1</td>\n",
              "    </tr>\n",
              "    <tr>\n",
              "      <th>3462</th>\n",
              "      <td>3462</td>\n",
              "      <td>0</td>\n",
              "      <td>1</td>\n",
              "    </tr>\n",
              "    <tr>\n",
              "      <th>3463</th>\n",
              "      <td>3463</td>\n",
              "      <td>1</td>\n",
              "      <td>1</td>\n",
              "    </tr>\n",
              "    <tr>\n",
              "      <th>3464</th>\n",
              "      <td>3464</td>\n",
              "      <td>1</td>\n",
              "      <td>1</td>\n",
              "    </tr>\n",
              "    <tr>\n",
              "      <th>3465</th>\n",
              "      <td>3465</td>\n",
              "      <td>0</td>\n",
              "      <td>1</td>\n",
              "    </tr>\n",
              "  </tbody>\n",
              "</table>\n",
              "</div>\n",
              "      <button class=\"colab-df-convert\" onclick=\"convertToInteractive('df-0f2ead59-a27c-4e18-9ba7-7defa6fba623')\"\n",
              "              title=\"Convert this dataframe to an interactive table.\"\n",
              "              style=\"display:none;\">\n",
              "        \n",
              "  <svg xmlns=\"http://www.w3.org/2000/svg\" height=\"24px\"viewBox=\"0 0 24 24\"\n",
              "       width=\"24px\">\n",
              "    <path d=\"M0 0h24v24H0V0z\" fill=\"none\"/>\n",
              "    <path d=\"M18.56 5.44l.94 2.06.94-2.06 2.06-.94-2.06-.94-.94-2.06-.94 2.06-2.06.94zm-11 1L8.5 8.5l.94-2.06 2.06-.94-2.06-.94L8.5 2.5l-.94 2.06-2.06.94zm10 10l.94 2.06.94-2.06 2.06-.94-2.06-.94-.94-2.06-.94 2.06-2.06.94z\"/><path d=\"M17.41 7.96l-1.37-1.37c-.4-.4-.92-.59-1.43-.59-.52 0-1.04.2-1.43.59L10.3 9.45l-7.72 7.72c-.78.78-.78 2.05 0 2.83L4 21.41c.39.39.9.59 1.41.59.51 0 1.02-.2 1.41-.59l7.78-7.78 2.81-2.81c.8-.78.8-2.07 0-2.86zM5.41 20L4 18.59l7.72-7.72 1.47 1.35L5.41 20z\"/>\n",
              "  </svg>\n",
              "      </button>\n",
              "      \n",
              "  <style>\n",
              "    .colab-df-container {\n",
              "      display:flex;\n",
              "      flex-wrap:wrap;\n",
              "      gap: 12px;\n",
              "    }\n",
              "\n",
              "    .colab-df-convert {\n",
              "      background-color: #E8F0FE;\n",
              "      border: none;\n",
              "      border-radius: 50%;\n",
              "      cursor: pointer;\n",
              "      display: none;\n",
              "      fill: #1967D2;\n",
              "      height: 32px;\n",
              "      padding: 0 0 0 0;\n",
              "      width: 32px;\n",
              "    }\n",
              "\n",
              "    .colab-df-convert:hover {\n",
              "      background-color: #E2EBFA;\n",
              "      box-shadow: 0px 1px 2px rgba(60, 64, 67, 0.3), 0px 1px 3px 1px rgba(60, 64, 67, 0.15);\n",
              "      fill: #174EA6;\n",
              "    }\n",
              "\n",
              "    [theme=dark] .colab-df-convert {\n",
              "      background-color: #3B4455;\n",
              "      fill: #D2E3FC;\n",
              "    }\n",
              "\n",
              "    [theme=dark] .colab-df-convert:hover {\n",
              "      background-color: #434B5C;\n",
              "      box-shadow: 0px 1px 3px 1px rgba(0, 0, 0, 0.15);\n",
              "      filter: drop-shadow(0px 1px 2px rgba(0, 0, 0, 0.3));\n",
              "      fill: #FFFFFF;\n",
              "    }\n",
              "  </style>\n",
              "\n",
              "      <script>\n",
              "        const buttonEl =\n",
              "          document.querySelector('#df-0f2ead59-a27c-4e18-9ba7-7defa6fba623 button.colab-df-convert');\n",
              "        buttonEl.style.display =\n",
              "          google.colab.kernel.accessAllowed ? 'block' : 'none';\n",
              "\n",
              "        async function convertToInteractive(key) {\n",
              "          const element = document.querySelector('#df-0f2ead59-a27c-4e18-9ba7-7defa6fba623');\n",
              "          const dataTable =\n",
              "            await google.colab.kernel.invokeFunction('convertToInteractive',\n",
              "                                                     [key], {});\n",
              "          if (!dataTable) return;\n",
              "\n",
              "          const docLinkHtml = 'Like what you see? Visit the ' +\n",
              "            '<a target=\"_blank\" href=https://colab.research.google.com/notebooks/data_table.ipynb>data table notebook</a>'\n",
              "            + ' to learn more about interactive tables.';\n",
              "          element.innerHTML = '';\n",
              "          dataTable['output_type'] = 'display_data';\n",
              "          await google.colab.output.renderOutput(dataTable, element);\n",
              "          const docLink = document.createElement('div');\n",
              "          docLink.innerHTML = docLinkHtml;\n",
              "          element.appendChild(docLink);\n",
              "        }\n",
              "      </script>\n",
              "    </div>\n",
              "  </div>\n",
              "  "
            ],
            "text/plain": [
              "      id_jogo  real  previsao\n",
              "3460     3460     0         1\n",
              "3461     3461     1         1\n",
              "3462     3462     0         1\n",
              "3463     3463     1         1\n",
              "3464     3464     1         1\n",
              "3465     3465     0         1"
            ]
          },
          "metadata": {},
          "execution_count": 68
        }
      ]
    },
    {
      "cell_type": "code",
      "metadata": {
        "colab": {
          "base_uri": "https://localhost:8080/",
          "height": 278
        },
        "id": "NN_D-cSbosB4",
        "outputId": "3a544b7c-69f5-46bb-baf9-819651a74521"
      },
      "source": [
        "cm = ConfusionMatrix(gridS_arvore)\n",
        "cm.fit(x_treino, y_treino)\n",
        "cm.score(previsoes, resultado)"
      ],
      "execution_count": 69,
      "outputs": [
        {
          "output_type": "execute_result",
          "data": {
            "text/plain": [
              "0.5"
            ]
          },
          "metadata": {},
          "execution_count": 69
        },
        {
          "output_type": "display_data",
          "data": {
            "image/png": "[encoded data removed]",
            "text/plain": [
              "<Figure size 432x288 with 1 Axes>"
            ]
          },
          "metadata": {
            "needs_background": "light"
          }
        }
      ]
    }
  ]
}